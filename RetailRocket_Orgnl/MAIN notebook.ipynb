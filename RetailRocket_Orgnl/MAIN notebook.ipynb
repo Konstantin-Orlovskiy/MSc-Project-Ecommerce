{
 "cells": [
  {
   "cell_type": "markdown",
   "metadata": {},
   "source": [
    "# Preprocessing"
   ]
  },
  {
   "cell_type": "code",
   "execution_count": 1,
   "metadata": {},
   "outputs": [
    {
     "name": "stderr",
     "output_type": "stream",
     "text": [
      "/Users/konstantinorlovskiy/opt/anaconda3/lib/python3.7/site-packages/lightfm/_lightfm_fast.py:9: UserWarning: LightFM was compiled without OpenMP support. Only a single thread will be used.\n",
      "  warnings.warn('LightFM was compiled without OpenMP support. '\n"
     ]
    }
   ],
   "source": [
    "import numpy as np # linear algebra\n",
    "import pandas as pd # data processing, CSV file I/O (e.g. pd.read_csv)\n",
    "import time\n",
    "\n",
    "from scipy.sparse import csr_matrix\n",
    "\n",
    "from lightfm import LightFM\n",
    "from lightfm.evaluation import auc_score\n",
    "from sklearn.metrics import roc_auc_score\n",
    "from lightfm.data import Dataset"
   ]
  },
  {
   "cell_type": "markdown",
   "metadata": {},
   "source": [
    "### Import data"
   ]
  },
  {
   "cell_type": "code",
   "execution_count": 2,
   "metadata": {
    "scrolled": true
   },
   "outputs": [],
   "source": [
    "# Importing Events data and sorting by timestamp column which corresponds the historical order of events.\n",
    "\n",
    "df_events = pd.read_csv(\"events.csv\")\n",
    "df_events = df_events.sort_values(by=['timestamp'], ascending=True).reset_index(drop=True)"
   ]
  },
  {
   "cell_type": "code",
   "execution_count": 3,
   "metadata": {
    "scrolled": true
   },
   "outputs": [
    {
     "data": {
      "text/html": [
       "<div>\n",
       "<style scoped>\n",
       "    .dataframe tbody tr th:only-of-type {\n",
       "        vertical-align: middle;\n",
       "    }\n",
       "\n",
       "    .dataframe tbody tr th {\n",
       "        vertical-align: top;\n",
       "    }\n",
       "\n",
       "    .dataframe thead th {\n",
       "        text-align: right;\n",
       "    }\n",
       "</style>\n",
       "<table border=\"1\" class=\"dataframe\">\n",
       "  <thead>\n",
       "    <tr style=\"text-align: right;\">\n",
       "      <th></th>\n",
       "      <th>timestamp</th>\n",
       "      <th>visitorid</th>\n",
       "      <th>event</th>\n",
       "      <th>itemid</th>\n",
       "      <th>transactionid</th>\n",
       "    </tr>\n",
       "  </thead>\n",
       "  <tbody>\n",
       "    <tr>\n",
       "      <td>0</td>\n",
       "      <td>1430622004384</td>\n",
       "      <td>693516</td>\n",
       "      <td>addtocart</td>\n",
       "      <td>297662</td>\n",
       "      <td>NaN</td>\n",
       "    </tr>\n",
       "    <tr>\n",
       "      <td>1</td>\n",
       "      <td>1430622011289</td>\n",
       "      <td>829044</td>\n",
       "      <td>view</td>\n",
       "      <td>60987</td>\n",
       "      <td>NaN</td>\n",
       "    </tr>\n",
       "    <tr>\n",
       "      <td>2</td>\n",
       "      <td>1430622013048</td>\n",
       "      <td>652699</td>\n",
       "      <td>view</td>\n",
       "      <td>252860</td>\n",
       "      <td>NaN</td>\n",
       "    </tr>\n",
       "    <tr>\n",
       "      <td>3</td>\n",
       "      <td>1430622024154</td>\n",
       "      <td>1125936</td>\n",
       "      <td>view</td>\n",
       "      <td>33661</td>\n",
       "      <td>NaN</td>\n",
       "    </tr>\n",
       "    <tr>\n",
       "      <td>4</td>\n",
       "      <td>1430622026228</td>\n",
       "      <td>693516</td>\n",
       "      <td>view</td>\n",
       "      <td>297662</td>\n",
       "      <td>NaN</td>\n",
       "    </tr>\n",
       "  </tbody>\n",
       "</table>\n",
       "</div>"
      ],
      "text/plain": [
       "       timestamp  visitorid      event  itemid  transactionid\n",
       "0  1430622004384     693516  addtocart  297662            NaN\n",
       "1  1430622011289     829044       view   60987            NaN\n",
       "2  1430622013048     652699       view  252860            NaN\n",
       "3  1430622024154    1125936       view   33661            NaN\n",
       "4  1430622026228     693516       view  297662            NaN"
      ]
     },
     "execution_count": 3,
     "metadata": {},
     "output_type": "execute_result"
    }
   ],
   "source": [
    "df_events.head()"
   ]
  },
  {
   "cell_type": "code",
   "execution_count": 4,
   "metadata": {},
   "outputs": [
    {
     "data": {
      "text/plain": [
       "array(['addtocart', 'view', 'transaction'], dtype=object)"
      ]
     },
     "execution_count": 4,
     "metadata": {},
     "output_type": "execute_result"
    }
   ],
   "source": [
    "df_events.event.unique()"
   ]
  },
  {
   "cell_type": "code",
   "execution_count": 5,
   "metadata": {},
   "outputs": [],
   "source": [
    "# Events types “view”, “addtocart”, “transaction” are the implicit customer feedback.\n",
    "# They can be considered as rating and will be transformed from categorical to numerical format.\n",
    "\n",
    "# The weights are subject to tuning together with hyperparameters to achieve better performance.\n",
    "# Initial weights: view=1, add to cart=2, purchase=3.\n",
    "\n",
    "weight_view = 1\n",
    "weight_addtocart = 2\n",
    "weight_transaction = 3\n",
    "\n",
    "df_events.event.replace(to_replace=dict(\n",
    "    view=weight_view, addtocart=weight_addtocart, transaction=weight_transaction), inplace=True)"
   ]
  },
  {
   "cell_type": "code",
   "execution_count": 6,
   "metadata": {
    "scrolled": true
   },
   "outputs": [
    {
     "data": {
      "text/plain": [
       "array([2, 1, 3])"
      ]
     },
     "execution_count": 6,
     "metadata": {},
     "output_type": "execute_result"
    }
   ],
   "source": [
    "# Now the events replaced with corresponding weights.\n",
    "df_events.event.unique()"
   ]
  },
  {
   "cell_type": "code",
   "execution_count": 7,
   "metadata": {},
   "outputs": [
    {
     "name": "stdout",
     "output_type": "stream",
     "text": [
      "<class 'pandas.core.frame.DataFrame'>\n",
      "RangeIndex: 2756101 entries, 0 to 2756100\n",
      "Data columns (total 5 columns):\n",
      "timestamp        int64\n",
      "visitorid        int64\n",
      "event            int64\n",
      "itemid           int64\n",
      "transactionid    float64\n",
      "dtypes: float64(1), int64(4)\n",
      "memory usage: 105.1 MB\n"
     ]
    }
   ],
   "source": [
    "df_events.info()"
   ]
  },
  {
   "cell_type": "code",
   "execution_count": 8,
   "metadata": {
    "scrolled": true
   },
   "outputs": [
    {
     "data": {
      "text/html": [
       "<div>\n",
       "<style scoped>\n",
       "    .dataframe tbody tr th:only-of-type {\n",
       "        vertical-align: middle;\n",
       "    }\n",
       "\n",
       "    .dataframe tbody tr th {\n",
       "        vertical-align: top;\n",
       "    }\n",
       "\n",
       "    .dataframe thead th {\n",
       "        text-align: right;\n",
       "    }\n",
       "</style>\n",
       "<table border=\"1\" class=\"dataframe\">\n",
       "  <thead>\n",
       "    <tr style=\"text-align: right;\">\n",
       "      <th></th>\n",
       "      <th>categoryid</th>\n",
       "      <th>parentid</th>\n",
       "    </tr>\n",
       "  </thead>\n",
       "  <tbody>\n",
       "    <tr>\n",
       "      <td>0</td>\n",
       "      <td>1016</td>\n",
       "      <td>213.0</td>\n",
       "    </tr>\n",
       "    <tr>\n",
       "      <td>1</td>\n",
       "      <td>809</td>\n",
       "      <td>169.0</td>\n",
       "    </tr>\n",
       "    <tr>\n",
       "      <td>2</td>\n",
       "      <td>570</td>\n",
       "      <td>9.0</td>\n",
       "    </tr>\n",
       "    <tr>\n",
       "      <td>3</td>\n",
       "      <td>1691</td>\n",
       "      <td>885.0</td>\n",
       "    </tr>\n",
       "    <tr>\n",
       "      <td>4</td>\n",
       "      <td>536</td>\n",
       "      <td>1691.0</td>\n",
       "    </tr>\n",
       "  </tbody>\n",
       "</table>\n",
       "</div>"
      ],
      "text/plain": [
       "   categoryid  parentid\n",
       "0        1016     213.0\n",
       "1         809     169.0\n",
       "2         570       9.0\n",
       "3        1691     885.0\n",
       "4         536    1691.0"
      ]
     },
     "execution_count": 8,
     "metadata": {},
     "output_type": "execute_result"
    }
   ],
   "source": [
    "# Import Categories data\n",
    "\n",
    "df_categories = pd.read_csv(\"category_tree.csv\")\n",
    "df_categories.head()"
   ]
  },
  {
   "cell_type": "code",
   "execution_count": 9,
   "metadata": {},
   "outputs": [
    {
     "name": "stdout",
     "output_type": "stream",
     "text": [
      "<class 'pandas.core.frame.DataFrame'>\n",
      "RangeIndex: 1669 entries, 0 to 1668\n",
      "Data columns (total 2 columns):\n",
      "categoryid    1669 non-null int64\n",
      "parentid      1644 non-null float64\n",
      "dtypes: float64(1), int64(1)\n",
      "memory usage: 26.2 KB\n"
     ]
    }
   ],
   "source": [
    "df_categories.info()"
   ]
  },
  {
   "cell_type": "code",
   "execution_count": 10,
   "metadata": {
    "scrolled": true
   },
   "outputs": [
    {
     "data": {
      "text/html": [
       "<div>\n",
       "<style scoped>\n",
       "    .dataframe tbody tr th:only-of-type {\n",
       "        vertical-align: middle;\n",
       "    }\n",
       "\n",
       "    .dataframe tbody tr th {\n",
       "        vertical-align: top;\n",
       "    }\n",
       "\n",
       "    .dataframe thead th {\n",
       "        text-align: right;\n",
       "    }\n",
       "</style>\n",
       "<table border=\"1\" class=\"dataframe\">\n",
       "  <thead>\n",
       "    <tr style=\"text-align: right;\">\n",
       "      <th></th>\n",
       "      <th>timestamp</th>\n",
       "      <th>itemid</th>\n",
       "      <th>property</th>\n",
       "      <th>value</th>\n",
       "    </tr>\n",
       "  </thead>\n",
       "  <tbody>\n",
       "    <tr>\n",
       "      <td>0</td>\n",
       "      <td>1431226800000</td>\n",
       "      <td>317951</td>\n",
       "      <td>790</td>\n",
       "      <td>n32880.000</td>\n",
       "    </tr>\n",
       "    <tr>\n",
       "      <td>1</td>\n",
       "      <td>1431226800000</td>\n",
       "      <td>422842</td>\n",
       "      <td>480</td>\n",
       "      <td>1133979</td>\n",
       "    </tr>\n",
       "    <tr>\n",
       "      <td>2</td>\n",
       "      <td>1431226800000</td>\n",
       "      <td>310185</td>\n",
       "      <td>776</td>\n",
       "      <td>103591</td>\n",
       "    </tr>\n",
       "    <tr>\n",
       "      <td>3</td>\n",
       "      <td>1431226800000</td>\n",
       "      <td>110973</td>\n",
       "      <td>112</td>\n",
       "      <td>679677</td>\n",
       "    </tr>\n",
       "    <tr>\n",
       "      <td>4</td>\n",
       "      <td>1431226800000</td>\n",
       "      <td>179597</td>\n",
       "      <td>available</td>\n",
       "      <td>0</td>\n",
       "    </tr>\n",
       "    <tr>\n",
       "      <td>5</td>\n",
       "      <td>1431226800000</td>\n",
       "      <td>260136</td>\n",
       "      <td>available</td>\n",
       "      <td>1</td>\n",
       "    </tr>\n",
       "    <tr>\n",
       "      <td>6</td>\n",
       "      <td>1431226800000</td>\n",
       "      <td>138592</td>\n",
       "      <td>764</td>\n",
       "      <td>1285872</td>\n",
       "    </tr>\n",
       "    <tr>\n",
       "      <td>7</td>\n",
       "      <td>1431226800000</td>\n",
       "      <td>216269</td>\n",
       "      <td>364</td>\n",
       "      <td>336749</td>\n",
       "    </tr>\n",
       "    <tr>\n",
       "      <td>8</td>\n",
       "      <td>1431226800000</td>\n",
       "      <td>299944</td>\n",
       "      <td>764</td>\n",
       "      <td>1285872</td>\n",
       "    </tr>\n",
       "    <tr>\n",
       "      <td>9</td>\n",
       "      <td>1431226800000</td>\n",
       "      <td>146103</td>\n",
       "      <td>112</td>\n",
       "      <td>679677</td>\n",
       "    </tr>\n",
       "  </tbody>\n",
       "</table>\n",
       "</div>"
      ],
      "text/plain": [
       "       timestamp  itemid   property       value\n",
       "0  1431226800000  317951        790  n32880.000\n",
       "1  1431226800000  422842        480     1133979\n",
       "2  1431226800000  310185        776      103591\n",
       "3  1431226800000  110973        112      679677\n",
       "4  1431226800000  179597  available           0\n",
       "5  1431226800000  260136  available           1\n",
       "6  1431226800000  138592        764     1285872\n",
       "7  1431226800000  216269        364      336749\n",
       "8  1431226800000  299944        764     1285872\n",
       "9  1431226800000  146103        112      679677"
      ]
     },
     "execution_count": 10,
     "metadata": {},
     "output_type": "execute_result"
    }
   ],
   "source": [
    "# Import Properties data\n",
    "\n",
    "df_properties1 = pd.DataFrame(pd.read_csv(\"item_properties_part1.csv\"))\n",
    "df_properties2 = pd.DataFrame(pd.read_csv(\"item_properties_part2.csv\"))\n",
    "df_properties = pd.concat([df_properties1, df_properties2])\n",
    "\n",
    "# data to be sorted by timestamp to reflect the historical change log.\n",
    "df_properties = df_properties.sort_values(by=['timestamp'], ascending=True).reset_index(drop=True)\n",
    "\n",
    "df_properties.head(10)"
   ]
  },
  {
   "cell_type": "code",
   "execution_count": 11,
   "metadata": {},
   "outputs": [
    {
     "name": "stdout",
     "output_type": "stream",
     "text": [
      "<class 'pandas.core.frame.DataFrame'>\n",
      "RangeIndex: 20275902 entries, 0 to 20275901\n",
      "Data columns (total 4 columns):\n",
      "timestamp    int64\n",
      "itemid       int64\n",
      "property     object\n",
      "value        object\n",
      "dtypes: int64(2), object(2)\n",
      "memory usage: 618.8+ MB\n"
     ]
    }
   ],
   "source": [
    "df_properties.info()"
   ]
  },
  {
   "cell_type": "markdown",
   "metadata": {},
   "source": [
    "### Train / Test split"
   ]
  },
  {
   "cell_type": "code",
   "execution_count": 12,
   "metadata": {},
   "outputs": [],
   "source": [
    "# Use timestamps for split which mimics the real-life case as the events are sorted in historical order.\n",
    "# Split ratio is 80% for train set, and 20% for test set.\n",
    "\n",
    "split_point = int(np.ceil(len(df_events)*0.8))\n",
    "df_events_train = df_events.loc[0:split_point]\n",
    "df_events_test = df_events.loc[split_point+1:]"
   ]
  },
  {
   "cell_type": "code",
   "execution_count": 13,
   "metadata": {},
   "outputs": [
    {
     "name": "stdout",
     "output_type": "stream",
     "text": [
      "<class 'pandas.core.frame.DataFrame'>\n",
      "RangeIndex: 2204882 entries, 0 to 2204881\n",
      "Data columns (total 5 columns):\n",
      "timestamp        int64\n",
      "visitorid        int64\n",
      "event            int64\n",
      "itemid           int64\n",
      "transactionid    float64\n",
      "dtypes: float64(1), int64(4)\n",
      "memory usage: 84.1 MB\n"
     ]
    }
   ],
   "source": [
    "df_events_train.info()"
   ]
  },
  {
   "cell_type": "code",
   "execution_count": 14,
   "metadata": {
    "scrolled": true
   },
   "outputs": [
    {
     "name": "stdout",
     "output_type": "stream",
     "text": [
      "<class 'pandas.core.frame.DataFrame'>\n",
      "RangeIndex: 551219 entries, 2204882 to 2756100\n",
      "Data columns (total 5 columns):\n",
      "timestamp        551219 non-null int64\n",
      "visitorid        551219 non-null int64\n",
      "event            551219 non-null int64\n",
      "itemid           551219 non-null int64\n",
      "transactionid    4593 non-null float64\n",
      "dtypes: float64(1), int64(4)\n",
      "memory usage: 21.0 MB\n"
     ]
    }
   ],
   "source": [
    "df_events_test.info()"
   ]
  },
  {
   "cell_type": "markdown",
   "metadata": {},
   "source": [
    "### Interaction matrices"
   ]
  },
  {
   "cell_type": "code",
   "execution_count": 15,
   "metadata": {},
   "outputs": [],
   "source": [
    "# Train set. Create sparse matrix of visitor-item iterations.\n",
    "# The events are coded as numbers reflecting the level of implicit feedback (the higher the better).\\\n",
    "# For the interaction matrix the highest feedback will be used.\n",
    "\n",
    "df_events_train = df_events_train.sort_values('event').drop_duplicates(\n",
    "    subset=['visitorid', 'itemid'], \n",
    "    keep='last').sort_values('timestamp').reset_index(drop=True)"
   ]
  },
  {
   "cell_type": "code",
   "execution_count": 16,
   "metadata": {
    "scrolled": true
   },
   "outputs": [
    {
     "name": "stdout",
     "output_type": "stream",
     "text": [
      "<class 'pandas.core.frame.DataFrame'>\n",
      "RangeIndex: 1713176 entries, 0 to 1713175\n",
      "Data columns (total 5 columns):\n",
      "timestamp        int64\n",
      "visitorid        int64\n",
      "event            int64\n",
      "itemid           int64\n",
      "transactionid    float64\n",
      "dtypes: float64(1), int64(4)\n",
      "memory usage: 65.4 MB\n"
     ]
    }
   ],
   "source": [
    "df_events_train.info()"
   ]
  },
  {
   "cell_type": "code",
   "execution_count": 17,
   "metadata": {},
   "outputs": [],
   "source": [
    "# Create a sparse matrix for Train set interactions.\n",
    "\n",
    "row = df_events_train['visitorid'].astype(int)\n",
    "col = df_events_train['itemid'].astype(int)\n",
    "data = df_events_train['event'].astype(int)\n",
    "interactions_grid_train = csr_matrix((data, (row, col)), shape=None)"
   ]
  },
  {
   "cell_type": "code",
   "execution_count": 18,
   "metadata": {},
   "outputs": [
    {
     "data": {
      "text/plain": [
       "<1407580x466868 sparse matrix of type '<class 'numpy.int64'>'\n",
       "\twith 1713176 stored elements in Compressed Sparse Row format>"
      ]
     },
     "execution_count": 18,
     "metadata": {},
     "output_type": "execute_result"
    }
   ],
   "source": [
    "interactions_grid_train"
   ]
  },
  {
   "cell_type": "code",
   "execution_count": 19,
   "metadata": {},
   "outputs": [],
   "source": [
    "# Test set. Same approach.\n",
    "\n",
    "df_events_test = df_events_test.sort_values('event').drop_duplicates(\n",
    "    subset=['visitorid', 'itemid'], \n",
    "    keep='last').sort_values('timestamp').reset_index(drop=True)\n",
    "\n",
    "#create a sparse matrix\n",
    "row = df_events_test['visitorid'].astype(int)\n",
    "col = df_events_test['itemid'].astype(int)\n",
    "data = df_events_test['event'].astype(int)\n",
    "interactions_grid_test = csr_matrix((data, (row, col)), shape=None)"
   ]
  },
  {
   "cell_type": "code",
   "execution_count": 20,
   "metadata": {},
   "outputs": [
    {
     "name": "stdout",
     "output_type": "stream",
     "text": [
      "<class 'pandas.core.frame.DataFrame'>\n",
      "RangeIndex: 438134 entries, 0 to 438133\n",
      "Data columns (total 5 columns):\n",
      "timestamp        438134 non-null int64\n",
      "visitorid        438134 non-null int64\n",
      "event            438134 non-null int64\n",
      "itemid           438134 non-null int64\n",
      "transactionid    4382 non-null float64\n",
      "dtypes: float64(1), int64(4)\n",
      "memory usage: 16.7 MB\n"
     ]
    }
   ],
   "source": [
    "df_events_test.info()"
   ]
  },
  {
   "cell_type": "code",
   "execution_count": 21,
   "metadata": {},
   "outputs": [
    {
     "data": {
      "text/plain": [
       "<1407572x466865 sparse matrix of type '<class 'numpy.int64'>'\n",
       "\twith 438134 stored elements in Compressed Sparse Row format>"
      ]
     },
     "execution_count": 21,
     "metadata": {},
     "output_type": "execute_result"
    }
   ],
   "source": [
    "interactions_grid_test"
   ]
  },
  {
   "cell_type": "markdown",
   "metadata": {},
   "source": [
    "### Item properties matrix"
   ]
  },
  {
   "cell_type": "code",
   "execution_count": 53,
   "metadata": {},
   "outputs": [
    {
     "name": "stdout",
     "output_type": "stream",
     "text": [
      "<class 'pandas.core.frame.DataFrame'>\n",
      "RangeIndex: 20275902 entries, 0 to 20275901\n",
      "Data columns (total 4 columns):\n",
      "timestamp    int64\n",
      "itemid       int64\n",
      "property     object\n",
      "value        object\n",
      "dtypes: int64(2), object(2)\n",
      "memory usage: 618.8+ MB\n"
     ]
    }
   ],
   "source": [
    "df_properties.info()"
   ]
  },
  {
   "cell_type": "code",
   "execution_count": 54,
   "metadata": {},
   "outputs": [
    {
     "name": "stdout",
     "output_type": "stream",
     "text": [
      "<class 'pandas.core.frame.DataFrame'>\n",
      "RangeIndex: 12003814 entries, 0 to 12003813\n",
      "Data columns (total 4 columns):\n",
      "timestamp    int64\n",
      "itemid       int64\n",
      "property     object\n",
      "value        object\n",
      "dtypes: int64(2), object(2)\n",
      "memory usage: 366.3+ MB\n"
     ]
    }
   ],
   "source": [
    "# Item properties are historical log of changes. No way to feed timestamps to model.\n",
    "# Need to simplify, so the latest property value will be used for each item.\n",
    "\n",
    "df_properties_short = df_properties.sort_values('timestamp').drop_duplicates(\n",
    "    subset=['itemid', 'property' ], \n",
    "    keep='last').reset_index(drop=True)\n",
    "\n",
    "df_properties_short.info()"
   ]
  },
  {
   "cell_type": "code",
   "execution_count": 55,
   "metadata": {},
   "outputs": [
    {
     "name": "stdout",
     "output_type": "stream",
     "text": [
      "<class 'pandas.core.frame.DataFrame'>\n",
      "Int64Index: 11278509 entries, 0 to 11278508\n",
      "Data columns (total 4 columns):\n",
      "timestamp    int64\n",
      "itemid       int64\n",
      "property     object\n",
      "value        object\n",
      "dtypes: int64(2), object(2)\n",
      "memory usage: 430.2+ MB\n"
     ]
    }
   ],
   "source": [
    "# The item_features matrix is to be used for training.\n",
    "# Therefore, rows within train/test split point timestamp are to be used.\n",
    "split_point_time = int(df_events.loc[split_point]['timestamp'])\n",
    "df_properties_short = df_properties_short[df_properties_short.timestamp <= split_point_time]\n",
    "\n",
    "df_properties_short.info()"
   ]
  },
  {
   "cell_type": "code",
   "execution_count": 56,
   "metadata": {},
   "outputs": [
    {
     "ename": "AttributeError",
     "evalue": "'int' object has no attribute 'loc'",
     "output_type": "error",
     "traceback": [
      "\u001b[0;31m---------------------------------------------------------------------------\u001b[0m",
      "\u001b[0;31mAttributeError\u001b[0m                            Traceback (most recent call last)",
      "\u001b[0;32m<ipython-input-56-021013a62383>\u001b[0m in \u001b[0;36m<module>\u001b[0;34m\u001b[0m\n\u001b[1;32m      3\u001b[0m \u001b[0;34m\u001b[0m\u001b[0m\n\u001b[1;32m      4\u001b[0m \u001b[0;31m# Code 'categoryid' property as number\u001b[0m\u001b[0;34m\u001b[0m\u001b[0;34m\u001b[0m\u001b[0;34m\u001b[0m\u001b[0m\n\u001b[0;32m----> 5\u001b[0;31m \u001b[0mdf_properties_short\u001b[0m \u001b[0;34m=\u001b[0m \u001b[0mdf_properties_short\u001b[0m\u001b[0;34m.\u001b[0m\u001b[0mloc\u001b[0m\u001b[0;34m[\u001b[0m\u001b[0mdf_properties_short\u001b[0m\u001b[0;34m[\u001b[0m\u001b[0;34m'property'\u001b[0m\u001b[0;34m]\u001b[0m \u001b[0;34m==\u001b[0m \u001b[0;34m'categoryid'\u001b[0m\u001b[0;34m,\u001b[0m \u001b[0;34m'property'\u001b[0m\u001b[0;34m]\u001b[0m \u001b[0;34m=\u001b[0m \u001b[0;36m2020\u001b[0m\u001b[0;34m\u001b[0m\u001b[0;34m\u001b[0m\u001b[0m\n\u001b[0m\u001b[1;32m      6\u001b[0m \u001b[0;34m\u001b[0m\u001b[0m\n\u001b[1;32m      7\u001b[0m \u001b[0mdf_properties_short\u001b[0m\u001b[0;34m.\u001b[0m\u001b[0minfo\u001b[0m\u001b[0;34m(\u001b[0m\u001b[0;34m)\u001b[0m\u001b[0;34m\u001b[0m\u001b[0;34m\u001b[0m\u001b[0m\n",
      "\u001b[0;31mAttributeError\u001b[0m: 'int' object has no attribute 'loc'"
     ]
    }
   ],
   "source": [
    "# The 'available' property is to be removed as it is critical for making purchase and changing over time.\n",
    "df_properties_short = df_properties_short[df_properties_short.property != 'available']\n",
    "\n",
    "# Code 'categoryid' property as number\n",
    "df_properties_short = df_properties_short.loc[df_properties_short['property'] == 'categoryid', 'property'] = 2020\n",
    "\n",
    "df_properties_short.info()"
   ]
  },
  {
   "cell_type": "code",
   "execution_count": 45,
   "metadata": {},
   "outputs": [
    {
     "data": {
      "text/html": [
       "<div>\n",
       "<style scoped>\n",
       "    .dataframe tbody tr th:only-of-type {\n",
       "        vertical-align: middle;\n",
       "    }\n",
       "\n",
       "    .dataframe tbody tr th {\n",
       "        vertical-align: top;\n",
       "    }\n",
       "\n",
       "    .dataframe thead th {\n",
       "        text-align: right;\n",
       "    }\n",
       "</style>\n",
       "<table border=\"1\" class=\"dataframe\">\n",
       "  <thead>\n",
       "    <tr style=\"text-align: right;\">\n",
       "      <th></th>\n",
       "      <th>timestamp</th>\n",
       "      <th>itemid</th>\n",
       "      <th>property</th>\n",
       "      <th>value</th>\n",
       "    </tr>\n",
       "  </thead>\n",
       "  <tbody>\n",
       "    <tr>\n",
       "      <td>0</td>\n",
       "      <td>1431226800000</td>\n",
       "      <td>402818</td>\n",
       "      <td>888</td>\n",
       "      <td>194803 1159932</td>\n",
       "    </tr>\n",
       "    <tr>\n",
       "      <td>1</td>\n",
       "      <td>1431226800000</td>\n",
       "      <td>404154</td>\n",
       "      <td>364</td>\n",
       "      <td>33823</td>\n",
       "    </tr>\n",
       "    <tr>\n",
       "      <td>2</td>\n",
       "      <td>1431226800000</td>\n",
       "      <td>230056</td>\n",
       "      <td>364</td>\n",
       "      <td>668001</td>\n",
       "    </tr>\n",
       "    <tr>\n",
       "      <td>3</td>\n",
       "      <td>1431226800000</td>\n",
       "      <td>123723</td>\n",
       "      <td>283</td>\n",
       "      <td>911724 1101877 477366 911724 1101877 327014 13...</td>\n",
       "    </tr>\n",
       "    <tr>\n",
       "      <td>4</td>\n",
       "      <td>1431226800000</td>\n",
       "      <td>363281</td>\n",
       "      <td>678</td>\n",
       "      <td>597054</td>\n",
       "    </tr>\n",
       "    <tr>\n",
       "      <td>...</td>\n",
       "      <td>...</td>\n",
       "      <td>...</td>\n",
       "      <td>...</td>\n",
       "      <td>...</td>\n",
       "    </tr>\n",
       "    <tr>\n",
       "      <td>11278504</td>\n",
       "      <td>1439694000000</td>\n",
       "      <td>360990</td>\n",
       "      <td>839</td>\n",
       "      <td>143241</td>\n",
       "    </tr>\n",
       "    <tr>\n",
       "      <td>11278505</td>\n",
       "      <td>1439694000000</td>\n",
       "      <td>427144</td>\n",
       "      <td>960</td>\n",
       "      <td>769062</td>\n",
       "    </tr>\n",
       "    <tr>\n",
       "      <td>11278506</td>\n",
       "      <td>1439694000000</td>\n",
       "      <td>153708</td>\n",
       "      <td>698</td>\n",
       "      <td>283006 812080</td>\n",
       "    </tr>\n",
       "    <tr>\n",
       "      <td>11278507</td>\n",
       "      <td>1439694000000</td>\n",
       "      <td>376190</td>\n",
       "      <td>935</td>\n",
       "      <td>769062</td>\n",
       "    </tr>\n",
       "    <tr>\n",
       "      <td>11278508</td>\n",
       "      <td>1439694000000</td>\n",
       "      <td>366300</td>\n",
       "      <td>839</td>\n",
       "      <td>662786</td>\n",
       "    </tr>\n",
       "  </tbody>\n",
       "</table>\n",
       "<p>10932656 rows × 4 columns</p>\n",
       "</div>"
      ],
      "text/plain": [
       "              timestamp  itemid property  \\\n",
       "0         1431226800000  402818      888   \n",
       "1         1431226800000  404154      364   \n",
       "2         1431226800000  230056      364   \n",
       "3         1431226800000  123723      283   \n",
       "4         1431226800000  363281      678   \n",
       "...                 ...     ...      ...   \n",
       "11278504  1439694000000  360990      839   \n",
       "11278505  1439694000000  427144      960   \n",
       "11278506  1439694000000  153708      698   \n",
       "11278507  1439694000000  376190      935   \n",
       "11278508  1439694000000  366300      839   \n",
       "\n",
       "                                                      value  \n",
       "0                                            194803 1159932  \n",
       "1                                                     33823  \n",
       "2                                                    668001  \n",
       "3         911724 1101877 477366 911724 1101877 327014 13...  \n",
       "4                                                    597054  \n",
       "...                                                     ...  \n",
       "11278504                                             143241  \n",
       "11278505                                             769062  \n",
       "11278506                                      283006 812080  \n",
       "11278507                                             769062  \n",
       "11278508                                             662786  \n",
       "\n",
       "[10932656 rows x 4 columns]"
      ]
     },
     "execution_count": 45,
     "metadata": {},
     "output_type": "execute_result"
    }
   ],
   "source": [
    "df_properties_short"
   ]
  },
  {
   "cell_type": "code",
   "execution_count": 46,
   "metadata": {},
   "outputs": [
    {
     "data": {
      "text/html": [
       "<div>\n",
       "<style scoped>\n",
       "    .dataframe tbody tr th:only-of-type {\n",
       "        vertical-align: middle;\n",
       "    }\n",
       "\n",
       "    .dataframe tbody tr th {\n",
       "        vertical-align: top;\n",
       "    }\n",
       "\n",
       "    .dataframe thead th {\n",
       "        text-align: right;\n",
       "    }\n",
       "</style>\n",
       "<table border=\"1\" class=\"dataframe\">\n",
       "  <thead>\n",
       "    <tr style=\"text-align: right;\">\n",
       "      <th></th>\n",
       "      <th>itemid</th>\n",
       "      <th>property</th>\n",
       "      <th>value</th>\n",
       "    </tr>\n",
       "  </thead>\n",
       "  <tbody>\n",
       "    <tr>\n",
       "      <td>0</td>\n",
       "      <td>402818</td>\n",
       "      <td>888</td>\n",
       "      <td>194803 1159932</td>\n",
       "    </tr>\n",
       "    <tr>\n",
       "      <td>1</td>\n",
       "      <td>404154</td>\n",
       "      <td>364</td>\n",
       "      <td>33823</td>\n",
       "    </tr>\n",
       "    <tr>\n",
       "      <td>2</td>\n",
       "      <td>230056</td>\n",
       "      <td>364</td>\n",
       "      <td>668001</td>\n",
       "    </tr>\n",
       "    <tr>\n",
       "      <td>3</td>\n",
       "      <td>123723</td>\n",
       "      <td>283</td>\n",
       "      <td>911724 1101877 477366 911724 1101877 327014 13...</td>\n",
       "    </tr>\n",
       "    <tr>\n",
       "      <td>4</td>\n",
       "      <td>363281</td>\n",
       "      <td>678</td>\n",
       "      <td>597054</td>\n",
       "    </tr>\n",
       "    <tr>\n",
       "      <td>...</td>\n",
       "      <td>...</td>\n",
       "      <td>...</td>\n",
       "      <td>...</td>\n",
       "    </tr>\n",
       "    <tr>\n",
       "      <td>11278504</td>\n",
       "      <td>360990</td>\n",
       "      <td>839</td>\n",
       "      <td>143241</td>\n",
       "    </tr>\n",
       "    <tr>\n",
       "      <td>11278505</td>\n",
       "      <td>427144</td>\n",
       "      <td>960</td>\n",
       "      <td>769062</td>\n",
       "    </tr>\n",
       "    <tr>\n",
       "      <td>11278506</td>\n",
       "      <td>153708</td>\n",
       "      <td>698</td>\n",
       "      <td>283006 812080</td>\n",
       "    </tr>\n",
       "    <tr>\n",
       "      <td>11278507</td>\n",
       "      <td>376190</td>\n",
       "      <td>935</td>\n",
       "      <td>769062</td>\n",
       "    </tr>\n",
       "    <tr>\n",
       "      <td>11278508</td>\n",
       "      <td>366300</td>\n",
       "      <td>839</td>\n",
       "      <td>662786</td>\n",
       "    </tr>\n",
       "  </tbody>\n",
       "</table>\n",
       "<p>10932656 rows × 3 columns</p>\n",
       "</div>"
      ],
      "text/plain": [
       "          itemid property                                              value\n",
       "0         402818      888                                     194803 1159932\n",
       "1         404154      364                                              33823\n",
       "2         230056      364                                             668001\n",
       "3         123723      283  911724 1101877 477366 911724 1101877 327014 13...\n",
       "4         363281      678                                             597054\n",
       "...          ...      ...                                                ...\n",
       "11278504  360990      839                                             143241\n",
       "11278505  427144      960                                             769062\n",
       "11278506  153708      698                                      283006 812080\n",
       "11278507  376190      935                                             769062\n",
       "11278508  366300      839                                             662786\n",
       "\n",
       "[10932656 rows x 3 columns]"
      ]
     },
     "execution_count": 46,
     "metadata": {},
     "output_type": "execute_result"
    }
   ],
   "source": [
    "# Drop timestamps column\n",
    "df_properties_short.drop(['timestamp'], axis=1, inplace=True)\n",
    "df_properties_short"
   ]
  },
  {
   "cell_type": "code",
   "execution_count": 49,
   "metadata": {},
   "outputs": [
    {
     "ename": "ValueError",
     "evalue": "invalid literal for int() with base 10: 'categoryid'",
     "output_type": "error",
     "traceback": [
      "\u001b[0;31m---------------------------------------------------------------------------\u001b[0m",
      "\u001b[0;31mValueError\u001b[0m                                Traceback (most recent call last)",
      "\u001b[0;32m<ipython-input-49-1e018d177801>\u001b[0m in \u001b[0;36m<module>\u001b[0;34m\u001b[0m\n\u001b[1;32m      1\u001b[0m \u001b[0;31m#create a sparse matrix\u001b[0m\u001b[0;34m\u001b[0m\u001b[0;34m\u001b[0m\u001b[0;34m\u001b[0m\u001b[0m\n\u001b[1;32m      2\u001b[0m \u001b[0mrow\u001b[0m \u001b[0;34m=\u001b[0m \u001b[0mdf_properties_short\u001b[0m\u001b[0;34m[\u001b[0m\u001b[0;34m'itemid'\u001b[0m\u001b[0;34m]\u001b[0m\u001b[0;34m.\u001b[0m\u001b[0mastype\u001b[0m\u001b[0;34m(\u001b[0m\u001b[0mint\u001b[0m\u001b[0;34m)\u001b[0m\u001b[0;34m\u001b[0m\u001b[0;34m\u001b[0m\u001b[0m\n\u001b[0;32m----> 3\u001b[0;31m \u001b[0mcol\u001b[0m \u001b[0;34m=\u001b[0m \u001b[0mdf_properties_short\u001b[0m\u001b[0;34m[\u001b[0m\u001b[0;34m'property'\u001b[0m\u001b[0;34m]\u001b[0m\u001b[0;34m.\u001b[0m\u001b[0mastype\u001b[0m\u001b[0;34m(\u001b[0m\u001b[0mint\u001b[0m\u001b[0;34m)\u001b[0m\u001b[0;34m\u001b[0m\u001b[0;34m\u001b[0m\u001b[0m\n\u001b[0m\u001b[1;32m      4\u001b[0m \u001b[0mdata\u001b[0m \u001b[0;34m=\u001b[0m \u001b[0mdf_properties_short\u001b[0m\u001b[0;34m[\u001b[0m\u001b[0;34m'value'\u001b[0m\u001b[0;34m]\u001b[0m\u001b[0;34m.\u001b[0m\u001b[0mastype\u001b[0m\u001b[0;34m(\u001b[0m\u001b[0mstr\u001b[0m\u001b[0;34m)\u001b[0m\u001b[0;34m\u001b[0m\u001b[0;34m\u001b[0m\u001b[0m\n\u001b[1;32m      5\u001b[0m \u001b[0mitem_features_grid\u001b[0m \u001b[0;34m=\u001b[0m \u001b[0mcsr_matrix\u001b[0m\u001b[0;34m(\u001b[0m\u001b[0;34m(\u001b[0m\u001b[0mdata\u001b[0m\u001b[0;34m,\u001b[0m \u001b[0;34m(\u001b[0m\u001b[0mrow\u001b[0m\u001b[0;34m,\u001b[0m \u001b[0mcol\u001b[0m\u001b[0;34m)\u001b[0m\u001b[0;34m)\u001b[0m\u001b[0;34m,\u001b[0m \u001b[0mshape\u001b[0m\u001b[0;34m=\u001b[0m\u001b[0;32mNone\u001b[0m\u001b[0;34m)\u001b[0m\u001b[0;34m\u001b[0m\u001b[0;34m\u001b[0m\u001b[0m\n",
      "\u001b[0;32m~/opt/anaconda3/lib/python3.7/site-packages/pandas/core/generic.py\u001b[0m in \u001b[0;36mastype\u001b[0;34m(self, dtype, copy, errors, **kwargs)\u001b[0m\n\u001b[1;32m   5880\u001b[0m             \u001b[0;31m# else, only a single dtype is given\u001b[0m\u001b[0;34m\u001b[0m\u001b[0;34m\u001b[0m\u001b[0;34m\u001b[0m\u001b[0m\n\u001b[1;32m   5881\u001b[0m             new_data = self._data.astype(\n\u001b[0;32m-> 5882\u001b[0;31m                 \u001b[0mdtype\u001b[0m\u001b[0;34m=\u001b[0m\u001b[0mdtype\u001b[0m\u001b[0;34m,\u001b[0m \u001b[0mcopy\u001b[0m\u001b[0;34m=\u001b[0m\u001b[0mcopy\u001b[0m\u001b[0;34m,\u001b[0m \u001b[0merrors\u001b[0m\u001b[0;34m=\u001b[0m\u001b[0merrors\u001b[0m\u001b[0;34m,\u001b[0m \u001b[0;34m**\u001b[0m\u001b[0mkwargs\u001b[0m\u001b[0;34m\u001b[0m\u001b[0;34m\u001b[0m\u001b[0m\n\u001b[0m\u001b[1;32m   5883\u001b[0m             )\n\u001b[1;32m   5884\u001b[0m             \u001b[0;32mreturn\u001b[0m \u001b[0mself\u001b[0m\u001b[0;34m.\u001b[0m\u001b[0m_constructor\u001b[0m\u001b[0;34m(\u001b[0m\u001b[0mnew_data\u001b[0m\u001b[0;34m)\u001b[0m\u001b[0;34m.\u001b[0m\u001b[0m__finalize__\u001b[0m\u001b[0;34m(\u001b[0m\u001b[0mself\u001b[0m\u001b[0;34m)\u001b[0m\u001b[0;34m\u001b[0m\u001b[0;34m\u001b[0m\u001b[0m\n",
      "\u001b[0;32m~/opt/anaconda3/lib/python3.7/site-packages/pandas/core/internals/managers.py\u001b[0m in \u001b[0;36mastype\u001b[0;34m(self, dtype, **kwargs)\u001b[0m\n\u001b[1;32m    579\u001b[0m \u001b[0;34m\u001b[0m\u001b[0m\n\u001b[1;32m    580\u001b[0m     \u001b[0;32mdef\u001b[0m \u001b[0mastype\u001b[0m\u001b[0;34m(\u001b[0m\u001b[0mself\u001b[0m\u001b[0;34m,\u001b[0m \u001b[0mdtype\u001b[0m\u001b[0;34m,\u001b[0m \u001b[0;34m**\u001b[0m\u001b[0mkwargs\u001b[0m\u001b[0;34m)\u001b[0m\u001b[0;34m:\u001b[0m\u001b[0;34m\u001b[0m\u001b[0;34m\u001b[0m\u001b[0m\n\u001b[0;32m--> 581\u001b[0;31m         \u001b[0;32mreturn\u001b[0m \u001b[0mself\u001b[0m\u001b[0;34m.\u001b[0m\u001b[0mapply\u001b[0m\u001b[0;34m(\u001b[0m\u001b[0;34m\"astype\"\u001b[0m\u001b[0;34m,\u001b[0m \u001b[0mdtype\u001b[0m\u001b[0;34m=\u001b[0m\u001b[0mdtype\u001b[0m\u001b[0;34m,\u001b[0m \u001b[0;34m**\u001b[0m\u001b[0mkwargs\u001b[0m\u001b[0;34m)\u001b[0m\u001b[0;34m\u001b[0m\u001b[0;34m\u001b[0m\u001b[0m\n\u001b[0m\u001b[1;32m    582\u001b[0m \u001b[0;34m\u001b[0m\u001b[0m\n\u001b[1;32m    583\u001b[0m     \u001b[0;32mdef\u001b[0m \u001b[0mconvert\u001b[0m\u001b[0;34m(\u001b[0m\u001b[0mself\u001b[0m\u001b[0;34m,\u001b[0m \u001b[0;34m**\u001b[0m\u001b[0mkwargs\u001b[0m\u001b[0;34m)\u001b[0m\u001b[0;34m:\u001b[0m\u001b[0;34m\u001b[0m\u001b[0;34m\u001b[0m\u001b[0m\n",
      "\u001b[0;32m~/opt/anaconda3/lib/python3.7/site-packages/pandas/core/internals/managers.py\u001b[0m in \u001b[0;36mapply\u001b[0;34m(self, f, axes, filter, do_integrity_check, consolidate, **kwargs)\u001b[0m\n\u001b[1;32m    436\u001b[0m                     \u001b[0mkwargs\u001b[0m\u001b[0;34m[\u001b[0m\u001b[0mk\u001b[0m\u001b[0;34m]\u001b[0m \u001b[0;34m=\u001b[0m \u001b[0mobj\u001b[0m\u001b[0;34m.\u001b[0m\u001b[0mreindex\u001b[0m\u001b[0;34m(\u001b[0m\u001b[0mb_items\u001b[0m\u001b[0;34m,\u001b[0m \u001b[0maxis\u001b[0m\u001b[0;34m=\u001b[0m\u001b[0maxis\u001b[0m\u001b[0;34m,\u001b[0m \u001b[0mcopy\u001b[0m\u001b[0;34m=\u001b[0m\u001b[0malign_copy\u001b[0m\u001b[0;34m)\u001b[0m\u001b[0;34m\u001b[0m\u001b[0;34m\u001b[0m\u001b[0m\n\u001b[1;32m    437\u001b[0m \u001b[0;34m\u001b[0m\u001b[0m\n\u001b[0;32m--> 438\u001b[0;31m             \u001b[0mapplied\u001b[0m \u001b[0;34m=\u001b[0m \u001b[0mgetattr\u001b[0m\u001b[0;34m(\u001b[0m\u001b[0mb\u001b[0m\u001b[0;34m,\u001b[0m \u001b[0mf\u001b[0m\u001b[0;34m)\u001b[0m\u001b[0;34m(\u001b[0m\u001b[0;34m**\u001b[0m\u001b[0mkwargs\u001b[0m\u001b[0;34m)\u001b[0m\u001b[0;34m\u001b[0m\u001b[0;34m\u001b[0m\u001b[0m\n\u001b[0m\u001b[1;32m    439\u001b[0m             \u001b[0mresult_blocks\u001b[0m \u001b[0;34m=\u001b[0m \u001b[0m_extend_blocks\u001b[0m\u001b[0;34m(\u001b[0m\u001b[0mapplied\u001b[0m\u001b[0;34m,\u001b[0m \u001b[0mresult_blocks\u001b[0m\u001b[0;34m)\u001b[0m\u001b[0;34m\u001b[0m\u001b[0;34m\u001b[0m\u001b[0m\n\u001b[1;32m    440\u001b[0m \u001b[0;34m\u001b[0m\u001b[0m\n",
      "\u001b[0;32m~/opt/anaconda3/lib/python3.7/site-packages/pandas/core/internals/blocks.py\u001b[0m in \u001b[0;36mastype\u001b[0;34m(self, dtype, copy, errors, values, **kwargs)\u001b[0m\n\u001b[1;32m    557\u001b[0m \u001b[0;34m\u001b[0m\u001b[0m\n\u001b[1;32m    558\u001b[0m     \u001b[0;32mdef\u001b[0m \u001b[0mastype\u001b[0m\u001b[0;34m(\u001b[0m\u001b[0mself\u001b[0m\u001b[0;34m,\u001b[0m \u001b[0mdtype\u001b[0m\u001b[0;34m,\u001b[0m \u001b[0mcopy\u001b[0m\u001b[0;34m=\u001b[0m\u001b[0;32mFalse\u001b[0m\u001b[0;34m,\u001b[0m \u001b[0merrors\u001b[0m\u001b[0;34m=\u001b[0m\u001b[0;34m\"raise\"\u001b[0m\u001b[0;34m,\u001b[0m \u001b[0mvalues\u001b[0m\u001b[0;34m=\u001b[0m\u001b[0;32mNone\u001b[0m\u001b[0;34m,\u001b[0m \u001b[0;34m**\u001b[0m\u001b[0mkwargs\u001b[0m\u001b[0;34m)\u001b[0m\u001b[0;34m:\u001b[0m\u001b[0;34m\u001b[0m\u001b[0;34m\u001b[0m\u001b[0m\n\u001b[0;32m--> 559\u001b[0;31m         \u001b[0;32mreturn\u001b[0m \u001b[0mself\u001b[0m\u001b[0;34m.\u001b[0m\u001b[0m_astype\u001b[0m\u001b[0;34m(\u001b[0m\u001b[0mdtype\u001b[0m\u001b[0;34m,\u001b[0m \u001b[0mcopy\u001b[0m\u001b[0;34m=\u001b[0m\u001b[0mcopy\u001b[0m\u001b[0;34m,\u001b[0m \u001b[0merrors\u001b[0m\u001b[0;34m=\u001b[0m\u001b[0merrors\u001b[0m\u001b[0;34m,\u001b[0m \u001b[0mvalues\u001b[0m\u001b[0;34m=\u001b[0m\u001b[0mvalues\u001b[0m\u001b[0;34m,\u001b[0m \u001b[0;34m**\u001b[0m\u001b[0mkwargs\u001b[0m\u001b[0;34m)\u001b[0m\u001b[0;34m\u001b[0m\u001b[0;34m\u001b[0m\u001b[0m\n\u001b[0m\u001b[1;32m    560\u001b[0m \u001b[0;34m\u001b[0m\u001b[0m\n\u001b[1;32m    561\u001b[0m     \u001b[0;32mdef\u001b[0m \u001b[0m_astype\u001b[0m\u001b[0;34m(\u001b[0m\u001b[0mself\u001b[0m\u001b[0;34m,\u001b[0m \u001b[0mdtype\u001b[0m\u001b[0;34m,\u001b[0m \u001b[0mcopy\u001b[0m\u001b[0;34m=\u001b[0m\u001b[0;32mFalse\u001b[0m\u001b[0;34m,\u001b[0m \u001b[0merrors\u001b[0m\u001b[0;34m=\u001b[0m\u001b[0;34m\"raise\"\u001b[0m\u001b[0;34m,\u001b[0m \u001b[0mvalues\u001b[0m\u001b[0;34m=\u001b[0m\u001b[0;32mNone\u001b[0m\u001b[0;34m,\u001b[0m \u001b[0;34m**\u001b[0m\u001b[0mkwargs\u001b[0m\u001b[0;34m)\u001b[0m\u001b[0;34m:\u001b[0m\u001b[0;34m\u001b[0m\u001b[0;34m\u001b[0m\u001b[0m\n",
      "\u001b[0;32m~/opt/anaconda3/lib/python3.7/site-packages/pandas/core/internals/blocks.py\u001b[0m in \u001b[0;36m_astype\u001b[0;34m(self, dtype, copy, errors, values, **kwargs)\u001b[0m\n\u001b[1;32m    641\u001b[0m                     \u001b[0;31m# _astype_nansafe works fine with 1-d only\u001b[0m\u001b[0;34m\u001b[0m\u001b[0;34m\u001b[0m\u001b[0;34m\u001b[0m\u001b[0m\n\u001b[1;32m    642\u001b[0m                     \u001b[0mvals1d\u001b[0m \u001b[0;34m=\u001b[0m \u001b[0mvalues\u001b[0m\u001b[0;34m.\u001b[0m\u001b[0mravel\u001b[0m\u001b[0;34m(\u001b[0m\u001b[0;34m)\u001b[0m\u001b[0;34m\u001b[0m\u001b[0;34m\u001b[0m\u001b[0m\n\u001b[0;32m--> 643\u001b[0;31m                     \u001b[0mvalues\u001b[0m \u001b[0;34m=\u001b[0m \u001b[0mastype_nansafe\u001b[0m\u001b[0;34m(\u001b[0m\u001b[0mvals1d\u001b[0m\u001b[0;34m,\u001b[0m \u001b[0mdtype\u001b[0m\u001b[0;34m,\u001b[0m \u001b[0mcopy\u001b[0m\u001b[0;34m=\u001b[0m\u001b[0;32mTrue\u001b[0m\u001b[0;34m,\u001b[0m \u001b[0;34m**\u001b[0m\u001b[0mkwargs\u001b[0m\u001b[0;34m)\u001b[0m\u001b[0;34m\u001b[0m\u001b[0;34m\u001b[0m\u001b[0m\n\u001b[0m\u001b[1;32m    644\u001b[0m \u001b[0;34m\u001b[0m\u001b[0m\n\u001b[1;32m    645\u001b[0m                 \u001b[0;31m# TODO(extension)\u001b[0m\u001b[0;34m\u001b[0m\u001b[0;34m\u001b[0m\u001b[0;34m\u001b[0m\u001b[0m\n",
      "\u001b[0;32m~/opt/anaconda3/lib/python3.7/site-packages/pandas/core/dtypes/cast.py\u001b[0m in \u001b[0;36mastype_nansafe\u001b[0;34m(arr, dtype, copy, skipna)\u001b[0m\n\u001b[1;32m    705\u001b[0m         \u001b[0;31m# work around NumPy brokenness, #1987\u001b[0m\u001b[0;34m\u001b[0m\u001b[0;34m\u001b[0m\u001b[0;34m\u001b[0m\u001b[0m\n\u001b[1;32m    706\u001b[0m         \u001b[0;32mif\u001b[0m \u001b[0mnp\u001b[0m\u001b[0;34m.\u001b[0m\u001b[0missubdtype\u001b[0m\u001b[0;34m(\u001b[0m\u001b[0mdtype\u001b[0m\u001b[0;34m.\u001b[0m\u001b[0mtype\u001b[0m\u001b[0;34m,\u001b[0m \u001b[0mnp\u001b[0m\u001b[0;34m.\u001b[0m\u001b[0minteger\u001b[0m\u001b[0;34m)\u001b[0m\u001b[0;34m:\u001b[0m\u001b[0;34m\u001b[0m\u001b[0;34m\u001b[0m\u001b[0m\n\u001b[0;32m--> 707\u001b[0;31m             \u001b[0;32mreturn\u001b[0m \u001b[0mlib\u001b[0m\u001b[0;34m.\u001b[0m\u001b[0mastype_intsafe\u001b[0m\u001b[0;34m(\u001b[0m\u001b[0marr\u001b[0m\u001b[0;34m.\u001b[0m\u001b[0mravel\u001b[0m\u001b[0;34m(\u001b[0m\u001b[0;34m)\u001b[0m\u001b[0;34m,\u001b[0m \u001b[0mdtype\u001b[0m\u001b[0;34m)\u001b[0m\u001b[0;34m.\u001b[0m\u001b[0mreshape\u001b[0m\u001b[0;34m(\u001b[0m\u001b[0marr\u001b[0m\u001b[0;34m.\u001b[0m\u001b[0mshape\u001b[0m\u001b[0;34m)\u001b[0m\u001b[0;34m\u001b[0m\u001b[0;34m\u001b[0m\u001b[0m\n\u001b[0m\u001b[1;32m    708\u001b[0m \u001b[0;34m\u001b[0m\u001b[0m\n\u001b[1;32m    709\u001b[0m         \u001b[0;31m# if we have a datetime/timedelta array of objects\u001b[0m\u001b[0;34m\u001b[0m\u001b[0;34m\u001b[0m\u001b[0;34m\u001b[0m\u001b[0m\n",
      "\u001b[0;32mpandas/_libs/lib.pyx\u001b[0m in \u001b[0;36mpandas._libs.lib.astype_intsafe\u001b[0;34m()\u001b[0m\n",
      "\u001b[0;31mValueError\u001b[0m: invalid literal for int() with base 10: 'categoryid'"
     ]
    }
   ],
   "source": [
    "#create a sparse matrix\n",
    "row = df_properties_short['itemid'].astype(int)\n",
    "col = df_properties_short['property'].astype(int)\n",
    "data = df_properties_short['value'].astype(str)\n",
    "item_features_grid = csr_matrix((data, (row, col)), shape=None)"
   ]
  },
  {
   "cell_type": "markdown",
   "metadata": {},
   "source": [
    "# LightFM model training"
   ]
  },
  {
   "cell_type": "code",
   "execution_count": null,
   "metadata": {},
   "outputs": [],
   "source": [
    "# !!!! dd item_features to have a hybrid model.\n",
    "# Otherwise, it is item based recommender, which is not solving the cold start problem.\n",
    "\n",
    "start_time = time.time()\n",
    "\n",
    "model = LightFM(no_components=30, loss='warp')\n",
    "model.fit(interactions_grid_train, epochs=20, num_threads=4)\n",
    "\n",
    "print('Model trained in: ', round((time.time()-start_time)/60, 2), \" minutes\")"
   ]
  },
  {
   "cell_type": "markdown",
   "metadata": {
    "scrolled": true
   },
   "source": [
    "start_time = time.time()\n",
    "auc_train = auc_score(model, interactions_grid_train).mean()\n",
    "print(\"Train AUC score: \", auc_train)\n",
    "print('Calculated in: ', round((time.time()-start_time)/60, 2), \" minutes\")"
   ]
  },
  {
   "cell_type": "markdown",
   "metadata": {
    "scrolled": true
   },
   "source": [
    "start_time = time.time()\n",
    "auc_test = auc_score(model, interactions_grid_test).mean()\n",
    "print(\"Test AUC score: \", auc_test)\n",
    "print('Calculated in: ', round((time.time()-start_time)/60, 2), \" minutes\")"
   ]
  },
  {
   "cell_type": "code",
   "execution_count": null,
   "metadata": {},
   "outputs": [],
   "source": []
  }
 ],
 "metadata": {
  "kernelspec": {
   "display_name": "Python 3",
   "language": "python",
   "name": "python3"
  },
  "language_info": {
   "codemirror_mode": {
    "name": "ipython",
    "version": 3
   },
   "file_extension": ".py",
   "mimetype": "text/x-python",
   "name": "python",
   "nbconvert_exporter": "python",
   "pygments_lexer": "ipython3",
   "version": "3.7.4"
  }
 },
 "nbformat": 4,
 "nbformat_minor": 2
}
