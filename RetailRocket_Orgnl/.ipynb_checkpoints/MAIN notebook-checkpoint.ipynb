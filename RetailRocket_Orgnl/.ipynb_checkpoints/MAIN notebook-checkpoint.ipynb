{
 "cells": [
  {
   "cell_type": "markdown",
   "metadata": {},
   "source": [
    "# Preprocessing"
   ]
  },
  {
   "cell_type": "code",
   "execution_count": 1,
   "metadata": {},
   "outputs": [
    {
     "name": "stderr",
     "output_type": "stream",
     "text": [
      "/Users/konstantinorlovskiy/opt/anaconda3/lib/python3.7/site-packages/lightfm/_lightfm_fast.py:9: UserWarning: LightFM was compiled without OpenMP support. Only a single thread will be used.\n",
      "  warnings.warn('LightFM was compiled without OpenMP support. '\n"
     ]
    }
   ],
   "source": [
    "import numpy as np # linear algebra\n",
    "import pandas as pd # data processing, CSV file I/O (e.g. pd.read_csv)\n",
    "import time\n",
    "import seaborn as sns\n",
    "import matplotlib.pyplot as plt\n",
    "\n",
    "from scipy.sparse import coo_matrix  # LightFM fit method requires coo matrix format as input.\n",
    "\n",
    "from lightfm import LightFM\n",
    "from lightfm.evaluation import auc_score\n",
    "from lightfm.evaluation import precision_at_k\n",
    "from sklearn.metrics import roc_auc_score\n",
    "from lightfm.data import Dataset"
   ]
  },
  {
   "cell_type": "markdown",
   "metadata": {},
   "source": [
    "### Data Import and Cleaning - Events"
   ]
  },
  {
   "cell_type": "code",
   "execution_count": 2,
   "metadata": {
    "scrolled": true
   },
   "outputs": [],
   "source": [
    "# Importing Events data and sorting by timestamp column which corresponds the historical order of events.\n",
    "\n",
    "df_events = pd.read_csv(\"events.csv\")\n",
    "df_events = df_events.sort_values(by=['timestamp'], ascending=True).reset_index(drop=True)"
   ]
  },
  {
   "cell_type": "code",
   "execution_count": 3,
   "metadata": {
    "scrolled": false
   },
   "outputs": [
    {
     "data": {
      "text/html": [
       "<div>\n",
       "<style scoped>\n",
       "    .dataframe tbody tr th:only-of-type {\n",
       "        vertical-align: middle;\n",
       "    }\n",
       "\n",
       "    .dataframe tbody tr th {\n",
       "        vertical-align: top;\n",
       "    }\n",
       "\n",
       "    .dataframe thead th {\n",
       "        text-align: right;\n",
       "    }\n",
       "</style>\n",
       "<table border=\"1\" class=\"dataframe\">\n",
       "  <thead>\n",
       "    <tr style=\"text-align: right;\">\n",
       "      <th></th>\n",
       "      <th>timestamp</th>\n",
       "      <th>visitorid</th>\n",
       "      <th>event</th>\n",
       "      <th>itemid</th>\n",
       "      <th>transactionid</th>\n",
       "    </tr>\n",
       "  </thead>\n",
       "  <tbody>\n",
       "    <tr>\n",
       "      <td>0</td>\n",
       "      <td>1430622004384</td>\n",
       "      <td>693516</td>\n",
       "      <td>addtocart</td>\n",
       "      <td>297662</td>\n",
       "      <td>NaN</td>\n",
       "    </tr>\n",
       "    <tr>\n",
       "      <td>1</td>\n",
       "      <td>1430622011289</td>\n",
       "      <td>829044</td>\n",
       "      <td>view</td>\n",
       "      <td>60987</td>\n",
       "      <td>NaN</td>\n",
       "    </tr>\n",
       "    <tr>\n",
       "      <td>2</td>\n",
       "      <td>1430622013048</td>\n",
       "      <td>652699</td>\n",
       "      <td>view</td>\n",
       "      <td>252860</td>\n",
       "      <td>NaN</td>\n",
       "    </tr>\n",
       "    <tr>\n",
       "      <td>3</td>\n",
       "      <td>1430622024154</td>\n",
       "      <td>1125936</td>\n",
       "      <td>view</td>\n",
       "      <td>33661</td>\n",
       "      <td>NaN</td>\n",
       "    </tr>\n",
       "    <tr>\n",
       "      <td>4</td>\n",
       "      <td>1430622026228</td>\n",
       "      <td>693516</td>\n",
       "      <td>view</td>\n",
       "      <td>297662</td>\n",
       "      <td>NaN</td>\n",
       "    </tr>\n",
       "  </tbody>\n",
       "</table>\n",
       "</div>"
      ],
      "text/plain": [
       "       timestamp  visitorid      event  itemid  transactionid\n",
       "0  1430622004384     693516  addtocart  297662            NaN\n",
       "1  1430622011289     829044       view   60987            NaN\n",
       "2  1430622013048     652699       view  252860            NaN\n",
       "3  1430622024154    1125936       view   33661            NaN\n",
       "4  1430622026228     693516       view  297662            NaN"
      ]
     },
     "execution_count": 3,
     "metadata": {},
     "output_type": "execute_result"
    }
   ],
   "source": [
    "df_events.head()"
   ]
  },
  {
   "cell_type": "code",
   "execution_count": 4,
   "metadata": {},
   "outputs": [
    {
     "data": {
      "text/plain": [
       "<matplotlib.axes._subplots.AxesSubplot at 0x7fa378d36190>"
      ]
     },
     "execution_count": 4,
     "metadata": {},
     "output_type": "execute_result"
    },
    {
     "data": {
      "image/png": "[encoded data removed]",
      "text/plain": [
       "<Figure size 432x288 with 1 Axes>"
      ]
     },
     "metadata": {
      "needs_background": "light"
     },
     "output_type": "display_data"
    }
   ],
   "source": [
    "# View on the ratio between different types of events.\n",
    "sns.countplot(x='event', data=df_events)"
   ]
  },
  {
   "cell_type": "code",
   "execution_count": 5,
   "metadata": {},
   "outputs": [
    {
     "data": {
      "text/plain": [
       "array(['addtocart', 'view', 'transaction'], dtype=object)"
      ]
     },
     "execution_count": 5,
     "metadata": {},
     "output_type": "execute_result"
    }
   ],
   "source": [
    "df_events.event.unique()"
   ]
  },
  {
   "cell_type": "code",
   "execution_count": 6,
   "metadata": {},
   "outputs": [],
   "source": [
    "# Events types “view”, “addtocart”, “transaction” are the implicit customer feedback.\n",
    "# They can be considered as rating and will be transformed from categorical to numerical format.\n",
    "\n",
    "# The weights are subject to tuning together with hyperparameters to achieve better performance.\n",
    "# Initial weights: view=1, add to cart=2, purchase=3.\n",
    "\n",
    "weight_view = 1\n",
    "weight_addtocart = 2\n",
    "weight_transaction = 3\n",
    "\n",
    "df_events.event.replace(to_replace=dict(\n",
    "    view=weight_view, addtocart=weight_addtocart, transaction=weight_transaction), inplace=True)"
   ]
  },
  {
   "cell_type": "code",
   "execution_count": 7,
   "metadata": {
    "scrolled": true
   },
   "outputs": [
    {
     "data": {
      "text/plain": [
       "array([2, 1, 3])"
      ]
     },
     "execution_count": 7,
     "metadata": {},
     "output_type": "execute_result"
    }
   ],
   "source": [
    "# Now the events replaced with corresponding weights.\n",
    "df_events.event.unique()"
   ]
  },
  {
   "cell_type": "code",
   "execution_count": 8,
   "metadata": {
    "scrolled": true
   },
   "outputs": [
    {
     "name": "stdout",
     "output_type": "stream",
     "text": [
      "<class 'pandas.core.frame.DataFrame'>\n",
      "RangeIndex: 2756101 entries, 0 to 2756100\n",
      "Data columns (total 5 columns):\n",
      "timestamp        int64\n",
      "visitorid        int64\n",
      "event            int64\n",
      "itemid           int64\n",
      "transactionid    float64\n",
      "dtypes: float64(1), int64(4)\n",
      "memory usage: 105.1 MB\n"
     ]
    }
   ],
   "source": [
    "df_events.info()"
   ]
  },
  {
   "cell_type": "code",
   "execution_count": 9,
   "metadata": {},
   "outputs": [
    {
     "name": "stdout",
     "output_type": "stream",
     "text": [
      "Sparsity level:  99.99999580600476  %\n"
     ]
    }
   ],
   "source": [
    "# Check sparsity level of interactions matrix for the whole dataset.\n",
    "# Collaborative filtering acceptable sparsity should be lower than 99.5%\n",
    "\n",
    "# Create iterations sparse matrix\n",
    "row = df_events['visitorid'].astype(int)\n",
    "col = df_events['itemid'].astype(int)\n",
    "data = df_events['event'].astype(int)\n",
    "interactions_grid = coo_matrix((data, (row, col)), shape=None)\n",
    "\n",
    "\n",
    "# Check the current matrix sparsity.\n",
    "size = interactions_grid.shape[0]*interactions_grid.shape[1]\n",
    "values = len(interactions_grid.nonzero()[0])\n",
    "sparsity = 100 - values/size\n",
    "print('Sparsity level: ', sparsity, ' %')"
   ]
  },
  {
   "cell_type": "code",
   "execution_count": 10,
   "metadata": {
    "scrolled": false
   },
   "outputs": [],
   "source": [
    "# Since the sparsity level is too high for performing collaborative filtering, there's a need in data cleaning.\n",
    "# For this purpose visitor and item activity needs to be reviewed to remove the noise.\n",
    "\n",
    "# Firstly, need to understand the occurency of each user in the events dataframe.\n",
    "visitor_occurencies = df_events['visitorid'].value_counts().rename_axis('visitorid').reset_index(name='occurencies')"
   ]
  },
  {
   "cell_type": "code",
   "execution_count": 11,
   "metadata": {
    "scrolled": true
   },
   "outputs": [
    {
     "data": {
      "text/html": [
       "<div>\n",
       "<style scoped>\n",
       "    .dataframe tbody tr th:only-of-type {\n",
       "        vertical-align: middle;\n",
       "    }\n",
       "\n",
       "    .dataframe tbody tr th {\n",
       "        vertical-align: top;\n",
       "    }\n",
       "\n",
       "    .dataframe thead th {\n",
       "        text-align: right;\n",
       "    }\n",
       "</style>\n",
       "<table border=\"1\" class=\"dataframe\">\n",
       "  <thead>\n",
       "    <tr style=\"text-align: right;\">\n",
       "      <th></th>\n",
       "      <th>visitorid</th>\n",
       "      <th>occurencies</th>\n",
       "    </tr>\n",
       "  </thead>\n",
       "  <tbody>\n",
       "    <tr>\n",
       "      <td>0</td>\n",
       "      <td>1150086</td>\n",
       "      <td>7757</td>\n",
       "    </tr>\n",
       "    <tr>\n",
       "      <td>1</td>\n",
       "      <td>530559</td>\n",
       "      <td>4328</td>\n",
       "    </tr>\n",
       "    <tr>\n",
       "      <td>2</td>\n",
       "      <td>152963</td>\n",
       "      <td>3024</td>\n",
       "    </tr>\n",
       "    <tr>\n",
       "      <td>3</td>\n",
       "      <td>895999</td>\n",
       "      <td>2474</td>\n",
       "    </tr>\n",
       "    <tr>\n",
       "      <td>4</td>\n",
       "      <td>163561</td>\n",
       "      <td>2410</td>\n",
       "    </tr>\n",
       "    <tr>\n",
       "      <td>...</td>\n",
       "      <td>...</td>\n",
       "      <td>...</td>\n",
       "    </tr>\n",
       "    <tr>\n",
       "      <td>1407575</td>\n",
       "      <td>1027348</td>\n",
       "      <td>1</td>\n",
       "    </tr>\n",
       "    <tr>\n",
       "      <td>1407576</td>\n",
       "      <td>1021203</td>\n",
       "      <td>1</td>\n",
       "    </tr>\n",
       "    <tr>\n",
       "      <td>1407577</td>\n",
       "      <td>1023250</td>\n",
       "      <td>1</td>\n",
       "    </tr>\n",
       "    <tr>\n",
       "      <td>1407578</td>\n",
       "      <td>1017105</td>\n",
       "      <td>1</td>\n",
       "    </tr>\n",
       "    <tr>\n",
       "      <td>1407579</td>\n",
       "      <td>619217</td>\n",
       "      <td>1</td>\n",
       "    </tr>\n",
       "  </tbody>\n",
       "</table>\n",
       "<p>1407580 rows × 2 columns</p>\n",
       "</div>"
      ],
      "text/plain": [
       "         visitorid  occurencies\n",
       "0          1150086         7757\n",
       "1           530559         4328\n",
       "2           152963         3024\n",
       "3           895999         2474\n",
       "4           163561         2410\n",
       "...            ...          ...\n",
       "1407575    1027348            1\n",
       "1407576    1021203            1\n",
       "1407577    1023250            1\n",
       "1407578    1017105            1\n",
       "1407579     619217            1\n",
       "\n",
       "[1407580 rows x 2 columns]"
      ]
     },
     "execution_count": 11,
     "metadata": {},
     "output_type": "execute_result"
    }
   ],
   "source": [
    "visitor_occurencies"
   ]
  },
  {
   "cell_type": "code",
   "execution_count": 39,
   "metadata": {},
   "outputs": [],
   "source": [
    "# Drop the rows with USERS having only one occurance.\n",
    "df_events_cleaned = df_events.groupby('visitorid').filter(lambda x : len(x)>1).reset_index(drop=True)"
   ]
  },
  {
   "cell_type": "code",
   "execution_count": 35,
   "metadata": {},
   "outputs": [
    {
     "data": {
      "text/html": [
       "<div>\n",
       "<style scoped>\n",
       "    .dataframe tbody tr th:only-of-type {\n",
       "        vertical-align: middle;\n",
       "    }\n",
       "\n",
       "    .dataframe tbody tr th {\n",
       "        vertical-align: top;\n",
       "    }\n",
       "\n",
       "    .dataframe thead th {\n",
       "        text-align: right;\n",
       "    }\n",
       "</style>\n",
       "<table border=\"1\" class=\"dataframe\">\n",
       "  <thead>\n",
       "    <tr style=\"text-align: right;\">\n",
       "      <th></th>\n",
       "      <th>timestamp</th>\n",
       "      <th>visitorid</th>\n",
       "      <th>event</th>\n",
       "      <th>itemid</th>\n",
       "      <th>transactionid</th>\n",
       "    </tr>\n",
       "  </thead>\n",
       "  <tbody>\n",
       "    <tr>\n",
       "      <td>0</td>\n",
       "      <td>1430622004384</td>\n",
       "      <td>693516</td>\n",
       "      <td>2</td>\n",
       "      <td>297662</td>\n",
       "      <td>NaN</td>\n",
       "    </tr>\n",
       "    <tr>\n",
       "      <td>1</td>\n",
       "      <td>1430622026228</td>\n",
       "      <td>693516</td>\n",
       "      <td>1</td>\n",
       "      <td>297662</td>\n",
       "      <td>NaN</td>\n",
       "    </tr>\n",
       "    <tr>\n",
       "      <td>2</td>\n",
       "      <td>1430622029427</td>\n",
       "      <td>693516</td>\n",
       "      <td>2</td>\n",
       "      <td>297662</td>\n",
       "      <td>NaN</td>\n",
       "    </tr>\n",
       "    <tr>\n",
       "      <td>3</td>\n",
       "      <td>1430622033686</td>\n",
       "      <td>181106</td>\n",
       "      <td>1</td>\n",
       "      <td>278445</td>\n",
       "      <td>NaN</td>\n",
       "    </tr>\n",
       "    <tr>\n",
       "      <td>4</td>\n",
       "      <td>1430622040988</td>\n",
       "      <td>1399056</td>\n",
       "      <td>1</td>\n",
       "      <td>197200</td>\n",
       "      <td>NaN</td>\n",
       "    </tr>\n",
       "    <tr>\n",
       "      <td>...</td>\n",
       "      <td>...</td>\n",
       "      <td>...</td>\n",
       "      <td>...</td>\n",
       "      <td>...</td>\n",
       "      <td>...</td>\n",
       "    </tr>\n",
       "    <tr>\n",
       "      <td>1703223</td>\n",
       "      <td>1442545090353</td>\n",
       "      <td>1233986</td>\n",
       "      <td>1</td>\n",
       "      <td>277762</td>\n",
       "      <td>NaN</td>\n",
       "    </tr>\n",
       "    <tr>\n",
       "      <td>1703224</td>\n",
       "      <td>1442545116506</td>\n",
       "      <td>1162044</td>\n",
       "      <td>1</td>\n",
       "      <td>371573</td>\n",
       "      <td>NaN</td>\n",
       "    </tr>\n",
       "    <tr>\n",
       "      <td>1703225</td>\n",
       "      <td>1442545138914</td>\n",
       "      <td>1265892</td>\n",
       "      <td>1</td>\n",
       "      <td>102605</td>\n",
       "      <td>NaN</td>\n",
       "    </tr>\n",
       "    <tr>\n",
       "      <td>1703226</td>\n",
       "      <td>1442545151261</td>\n",
       "      <td>1249751</td>\n",
       "      <td>1</td>\n",
       "      <td>404734</td>\n",
       "      <td>NaN</td>\n",
       "    </tr>\n",
       "    <tr>\n",
       "      <td>1703227</td>\n",
       "      <td>1442545187788</td>\n",
       "      <td>1287495</td>\n",
       "      <td>1</td>\n",
       "      <td>98299</td>\n",
       "      <td>NaN</td>\n",
       "    </tr>\n",
       "  </tbody>\n",
       "</table>\n",
       "<p>1703228 rows × 5 columns</p>\n",
       "</div>"
      ],
      "text/plain": [
       "             timestamp  visitorid  event  itemid  transactionid\n",
       "0        1430622004384     693516      2  297662            NaN\n",
       "1        1430622026228     693516      1  297662            NaN\n",
       "2        1430622029427     693516      2  297662            NaN\n",
       "3        1430622033686     181106      1  278445            NaN\n",
       "4        1430622040988    1399056      1  197200            NaN\n",
       "...                ...        ...    ...     ...            ...\n",
       "1703223  1442545090353    1233986      1  277762            NaN\n",
       "1703224  1442545116506    1162044      1  371573            NaN\n",
       "1703225  1442545138914    1265892      1  102605            NaN\n",
       "1703226  1442545151261    1249751      1  404734            NaN\n",
       "1703227  1442545187788    1287495      1   98299            NaN\n",
       "\n",
       "[1703228 rows x 5 columns]"
      ]
     },
     "execution_count": 35,
     "metadata": {},
     "output_type": "execute_result"
    }
   ],
   "source": [
    "df_events_cleaned"
   ]
  },
  {
   "cell_type": "code",
   "execution_count": 36,
   "metadata": {
    "scrolled": true
   },
   "outputs": [
    {
     "name": "stdout",
     "output_type": "stream",
     "text": [
      "Cleaned set ratio to original set:  61.8 %\n"
     ]
    }
   ],
   "source": [
    "print('Cleaned set ratio to original set: ',round(len(df_events_cleaned)/len(df_events)*100,2), '%')"
   ]
  },
  {
   "cell_type": "code",
   "execution_count": 38,
   "metadata": {},
   "outputs": [
    {
     "name": "stdout",
     "output_type": "stream",
     "text": [
      "Sparsity level:  99.99999740816443  %\n"
     ]
    }
   ],
   "source": [
    "# Check sparsity level of interactions matrix for the CLEANED dataset.\n",
    "# Collaborative filtering acceptable sparsity should be lower than 99.5%\n",
    "\n",
    "# Create iterations sparse matrix\n",
    "row = df_events_cleaned['visitorid'].astype(int)\n",
    "col = df_events_cleaned['itemid'].astype(int)\n",
    "data = df_events_cleaned['event'].astype(int)\n",
    "interactions_grid = coo_matrix((data, (row, col)), shape=None)\n",
    "\n",
    "\n",
    "# Check the current matrix sparsity.\n",
    "size = interactions_grid.shape[0]*interactions_grid.shape[1]\n",
    "values = len(interactions_grid.nonzero()[0])\n",
    "sparsity = 100 - values/size\n",
    "print('Sparsity level: ', sparsity, ' %')"
   ]
  },
  {
   "cell_type": "markdown",
   "metadata": {},
   "source": [
    "### Data Import and Cleaning - Categories"
   ]
  },
  {
   "cell_type": "code",
   "execution_count": 15,
   "metadata": {
    "scrolled": true
   },
   "outputs": [
    {
     "data": {
      "text/html": [
       "<div>\n",
       "<style scoped>\n",
       "    .dataframe tbody tr th:only-of-type {\n",
       "        vertical-align: middle;\n",
       "    }\n",
       "\n",
       "    .dataframe tbody tr th {\n",
       "        vertical-align: top;\n",
       "    }\n",
       "\n",
       "    .dataframe thead th {\n",
       "        text-align: right;\n",
       "    }\n",
       "</style>\n",
       "<table border=\"1\" class=\"dataframe\">\n",
       "  <thead>\n",
       "    <tr style=\"text-align: right;\">\n",
       "      <th></th>\n",
       "      <th>categoryid</th>\n",
       "      <th>parentid</th>\n",
       "    </tr>\n",
       "  </thead>\n",
       "  <tbody>\n",
       "    <tr>\n",
       "      <td>0</td>\n",
       "      <td>1016</td>\n",
       "      <td>213.0</td>\n",
       "    </tr>\n",
       "    <tr>\n",
       "      <td>1</td>\n",
       "      <td>809</td>\n",
       "      <td>169.0</td>\n",
       "    </tr>\n",
       "    <tr>\n",
       "      <td>2</td>\n",
       "      <td>570</td>\n",
       "      <td>9.0</td>\n",
       "    </tr>\n",
       "    <tr>\n",
       "      <td>3</td>\n",
       "      <td>1691</td>\n",
       "      <td>885.0</td>\n",
       "    </tr>\n",
       "    <tr>\n",
       "      <td>4</td>\n",
       "      <td>536</td>\n",
       "      <td>1691.0</td>\n",
       "    </tr>\n",
       "  </tbody>\n",
       "</table>\n",
       "</div>"
      ],
      "text/plain": [
       "   categoryid  parentid\n",
       "0        1016     213.0\n",
       "1         809     169.0\n",
       "2         570       9.0\n",
       "3        1691     885.0\n",
       "4         536    1691.0"
      ]
     },
     "execution_count": 15,
     "metadata": {},
     "output_type": "execute_result"
    }
   ],
   "source": [
    "# Import Categories data\n",
    "\n",
    "df_categories = pd.read_csv(\"category_tree.csv\")\n",
    "df_categories.head()"
   ]
  },
  {
   "cell_type": "code",
   "execution_count": 16,
   "metadata": {},
   "outputs": [
    {
     "name": "stdout",
     "output_type": "stream",
     "text": [
      "<class 'pandas.core.frame.DataFrame'>\n",
      "RangeIndex: 1669 entries, 0 to 1668\n",
      "Data columns (total 2 columns):\n",
      "categoryid    1669 non-null int64\n",
      "parentid      1644 non-null float64\n",
      "dtypes: float64(1), int64(1)\n",
      "memory usage: 26.2 KB\n"
     ]
    }
   ],
   "source": [
    "df_categories.info()"
   ]
  },
  {
   "cell_type": "markdown",
   "metadata": {},
   "source": [
    "### Data Import and Cleaning - Properties"
   ]
  },
  {
   "cell_type": "code",
   "execution_count": 17,
   "metadata": {
    "scrolled": true
   },
   "outputs": [
    {
     "data": {
      "text/html": [
       "<div>\n",
       "<style scoped>\n",
       "    .dataframe tbody tr th:only-of-type {\n",
       "        vertical-align: middle;\n",
       "    }\n",
       "\n",
       "    .dataframe tbody tr th {\n",
       "        vertical-align: top;\n",
       "    }\n",
       "\n",
       "    .dataframe thead th {\n",
       "        text-align: right;\n",
       "    }\n",
       "</style>\n",
       "<table border=\"1\" class=\"dataframe\">\n",
       "  <thead>\n",
       "    <tr style=\"text-align: right;\">\n",
       "      <th></th>\n",
       "      <th>timestamp</th>\n",
       "      <th>itemid</th>\n",
       "      <th>property</th>\n",
       "      <th>value</th>\n",
       "    </tr>\n",
       "  </thead>\n",
       "  <tbody>\n",
       "    <tr>\n",
       "      <td>0</td>\n",
       "      <td>1431226800000</td>\n",
       "      <td>317951</td>\n",
       "      <td>790</td>\n",
       "      <td>n32880.000</td>\n",
       "    </tr>\n",
       "    <tr>\n",
       "      <td>1</td>\n",
       "      <td>1431226800000</td>\n",
       "      <td>422842</td>\n",
       "      <td>480</td>\n",
       "      <td>1133979</td>\n",
       "    </tr>\n",
       "    <tr>\n",
       "      <td>2</td>\n",
       "      <td>1431226800000</td>\n",
       "      <td>310185</td>\n",
       "      <td>776</td>\n",
       "      <td>103591</td>\n",
       "    </tr>\n",
       "    <tr>\n",
       "      <td>3</td>\n",
       "      <td>1431226800000</td>\n",
       "      <td>110973</td>\n",
       "      <td>112</td>\n",
       "      <td>679677</td>\n",
       "    </tr>\n",
       "    <tr>\n",
       "      <td>4</td>\n",
       "      <td>1431226800000</td>\n",
       "      <td>179597</td>\n",
       "      <td>available</td>\n",
       "      <td>0</td>\n",
       "    </tr>\n",
       "    <tr>\n",
       "      <td>5</td>\n",
       "      <td>1431226800000</td>\n",
       "      <td>260136</td>\n",
       "      <td>available</td>\n",
       "      <td>1</td>\n",
       "    </tr>\n",
       "    <tr>\n",
       "      <td>6</td>\n",
       "      <td>1431226800000</td>\n",
       "      <td>138592</td>\n",
       "      <td>764</td>\n",
       "      <td>1285872</td>\n",
       "    </tr>\n",
       "    <tr>\n",
       "      <td>7</td>\n",
       "      <td>1431226800000</td>\n",
       "      <td>216269</td>\n",
       "      <td>364</td>\n",
       "      <td>336749</td>\n",
       "    </tr>\n",
       "    <tr>\n",
       "      <td>8</td>\n",
       "      <td>1431226800000</td>\n",
       "      <td>299944</td>\n",
       "      <td>764</td>\n",
       "      <td>1285872</td>\n",
       "    </tr>\n",
       "    <tr>\n",
       "      <td>9</td>\n",
       "      <td>1431226800000</td>\n",
       "      <td>146103</td>\n",
       "      <td>112</td>\n",
       "      <td>679677</td>\n",
       "    </tr>\n",
       "  </tbody>\n",
       "</table>\n",
       "</div>"
      ],
      "text/plain": [
       "       timestamp  itemid   property       value\n",
       "0  1431226800000  317951        790  n32880.000\n",
       "1  1431226800000  422842        480     1133979\n",
       "2  1431226800000  310185        776      103591\n",
       "3  1431226800000  110973        112      679677\n",
       "4  1431226800000  179597  available           0\n",
       "5  1431226800000  260136  available           1\n",
       "6  1431226800000  138592        764     1285872\n",
       "7  1431226800000  216269        364      336749\n",
       "8  1431226800000  299944        764     1285872\n",
       "9  1431226800000  146103        112      679677"
      ]
     },
     "execution_count": 17,
     "metadata": {},
     "output_type": "execute_result"
    }
   ],
   "source": [
    "# Import Properties ### Data Import and Cleaning - Eventsdata\n",
    "\n",
    "df_properties1 = pd.DataFrame(pd.read_csv(\"item_properties_part1.csv\"))\n",
    "df_properties2 = pd.DataFrame(pd.read_csv(\"item_properties_part2.csv\"))\n",
    "df_properties = pd.concat([df_properties1, df_properties2])\n",
    "\n",
    "# data to be sorted by timestamp to reflect the historical change log.\n",
    "df_properties = df_properties.sort_values(by=['timestamp'], ascending=True).reset_index(drop=True)\n",
    "\n",
    "df_properties.head(10)"
   ]
  },
  {
   "cell_type": "code",
   "execution_count": 18,
   "metadata": {},
   "outputs": [
    {
     "name": "stdout",
     "output_type": "stream",
     "text": [
      "<class 'pandas.core.frame.DataFrame'>\n",
      "RangeIndex: 20275902 entries, 0 to 20275901\n",
      "Data columns (total 4 columns):\n",
      "timestamp    int64\n",
      "itemid       int64\n",
      "property     object\n",
      "value        object\n",
      "dtypes: int64(2), object(2)\n",
      "memory usage: 618.8+ MB\n"
     ]
    }
   ],
   "source": [
    "df_properties.info()"
   ]
  },
  {
   "cell_type": "markdown",
   "metadata": {},
   "source": [
    "### Train / Test split"
   ]
  },
  {
   "cell_type": "code",
   "execution_count": 19,
   "metadata": {},
   "outputs": [],
   "source": [
    "# Use timestamps for split which mimics the real-life case as the events are sorted in historical order.\n",
    "# Split ratio is 80% for train set, and 20% for test set.\n",
    "\n",
    "split_point = int(np.ceil(len(df_events_cleaned)*0.8))  # Index of split point.\n",
    "split_point_time = int(df_events_cleaned.loc[split_point]['timestamp'])  # Timestamp of split point.\n",
    "\n",
    "df_events_train = df_events_cleaned.loc[0:split_point]\n",
    "df_events_test = df_events_cleaned.loc[split_point+1:]"
   ]
  },
  {
   "cell_type": "code",
   "execution_count": 20,
   "metadata": {},
   "outputs": [
    {
     "name": "stdout",
     "output_type": "stream",
     "text": [
      "<class 'pandas.core.frame.DataFrame'>\n",
      "RangeIndex: 1403634 entries, 0 to 1403633\n",
      "Data columns (total 5 columns):\n",
      "timestamp        1403634 non-null int64\n",
      "visitorid        1403634 non-null int64\n",
      "event            1403634 non-null int64\n",
      "itemid           1403634 non-null int64\n",
      "transactionid    17626 non-null float64\n",
      "dtypes: float64(1), int64(4)\n",
      "memory usage: 53.5 MB\n"
     ]
    }
   ],
   "source": [
    "df_events_train.info()"
   ]
  },
  {
   "cell_type": "code",
   "execution_count": 21,
   "metadata": {
    "scrolled": true
   },
   "outputs": [
    {
     "name": "stdout",
     "output_type": "stream",
     "text": [
      "<class 'pandas.core.frame.DataFrame'>\n",
      "RangeIndex: 350907 entries, 1403634 to 1754540\n",
      "Data columns (total 5 columns):\n",
      "timestamp        350907 non-null int64\n",
      "visitorid        350907 non-null int64\n",
      "event            350907 non-null int64\n",
      "itemid           350907 non-null int64\n",
      "transactionid    4761 non-null float64\n",
      "dtypes: float64(1), int64(4)\n",
      "memory usage: 13.4 MB\n"
     ]
    }
   ],
   "source": [
    "df_events_test.info()"
   ]
  },
  {
   "cell_type": "markdown",
   "metadata": {},
   "source": [
    "### Interaction matrices"
   ]
  },
  {
   "cell_type": "code",
   "execution_count": 22,
   "metadata": {},
   "outputs": [],
   "source": [
    "# Train set. Create sparse matrix of visitor-item iterations.\n",
    "# The events are coded as numbers reflecting the level of implicit feedback (the higher the better).\\\n",
    "# For the interaction matrix the highest feedback will be used.\n",
    "\n",
    "df_events_train = df_events_train.sort_values('event').drop_duplicates(\n",
    "    subset=['visitorid', 'itemid'], \n",
    "    keep='last').sort_values('timestamp').reset_index(drop=True)"
   ]
  },
  {
   "cell_type": "code",
   "execution_count": 23,
   "metadata": {
    "scrolled": true
   },
   "outputs": [
    {
     "name": "stdout",
     "output_type": "stream",
     "text": [
      "<class 'pandas.core.frame.DataFrame'>\n",
      "RangeIndex: 915866 entries, 0 to 915865\n",
      "Data columns (total 5 columns):\n",
      "timestamp        915866 non-null int64\n",
      "visitorid        915866 non-null int64\n",
      "event            915866 non-null int64\n",
      "itemid           915866 non-null int64\n",
      "transactionid    16702 non-null float64\n",
      "dtypes: float64(1), int64(4)\n",
      "memory usage: 34.9 MB\n"
     ]
    }
   ],
   "source": [
    "df_events_train.info()"
   ]
  },
  {
   "cell_type": "code",
   "execution_count": 24,
   "metadata": {
    "scrolled": true
   },
   "outputs": [],
   "source": [
    "# Create a sparse matrix for Train set interactions.\n",
    "\n",
    "row = df_events_train['visitorid'].astype(int)\n",
    "col = df_events_train['itemid'].astype(int)\n",
    "data = df_events_train['event'].astype(int)\n",
    "interactions_grid_train = coo_matrix((data, (row, col)), shape=None)"
   ]
  },
  {
   "cell_type": "code",
   "execution_count": 25,
   "metadata": {},
   "outputs": [
    {
     "data": {
      "text/plain": [
       "<1407574x466868 sparse matrix of type '<class 'numpy.int64'>'\n",
       "\twith 915866 stored elements in COOrdinate format>"
      ]
     },
     "execution_count": 25,
     "metadata": {},
     "output_type": "execute_result"
    }
   ],
   "source": [
    "interactions_grid_train"
   ]
  },
  {
   "cell_type": "code",
   "execution_count": 26,
   "metadata": {},
   "outputs": [
    {
     "name": "stdout",
     "output_type": "stream",
     "text": [
      "Sparsity level:  99.99986063086868  %\n"
     ]
    }
   ],
   "source": [
    "# Collaborative filtering maximum sparsity can be around 99.5%\n",
    "# Check the current matrix sparsity.\n",
    "\n",
    "size = interactions_grid_train.shape[0]*interactions_grid_train.shape[1]\n",
    "values = len(interactions_grid_train.nonzero()[0])\n",
    "sparsity = 100*(1 - (values/size))\n",
    "print('Sparsity level: ', sparsity, ' %')"
   ]
  },
  {
   "cell_type": "code",
   "execution_count": 27,
   "metadata": {
    "scrolled": true
   },
   "outputs": [
    {
     "name": "stdout",
     "output_type": "stream",
     "text": [
      "Coo matrix size:  7.326928  Megabytes\n"
     ]
    }
   ],
   "source": [
    "print(\"Coo matrix size: \", interactions_grid_train.data.nbytes/1000000, ' Megabytes')"
   ]
  },
  {
   "cell_type": "code",
   "execution_count": 28,
   "metadata": {},
   "outputs": [],
   "source": [
    "# Test set. Same approach.\n",
    "\n",
    "df_events_test = df_events_test.sort_values('event').drop_duplicates(\n",
    "    subset=['visitorid', 'itemid'], \n",
    "    keep='last').sort_values('timestamp').reset_index(drop=True)\n",
    "\n",
    "#create a sparse matrix\n",
    "row = df_events_test['visitorid'].astype(int)\n",
    "col = df_events_test['itemid'].astype(int)\n",
    "data = df_events_test['event'].astype(int)\n",
    "interactions_grid_test = coo_matrix((data, (row, col)), shape=None)"
   ]
  },
  {
   "cell_type": "code",
   "execution_count": 29,
   "metadata": {},
   "outputs": [
    {
     "name": "stdout",
     "output_type": "stream",
     "text": [
      "<class 'pandas.core.frame.DataFrame'>\n",
      "RangeIndex: 233898 entries, 0 to 233897\n",
      "Data columns (total 5 columns):\n",
      "timestamp        233898 non-null int64\n",
      "visitorid        233898 non-null int64\n",
      "event            233898 non-null int64\n",
      "itemid           233898 non-null int64\n",
      "transactionid    4540 non-null float64\n",
      "dtypes: float64(1), int64(4)\n",
      "memory usage: 8.9 MB\n"
     ]
    }
   ],
   "source": [
    "df_events_test.info()"
   ]
  },
  {
   "cell_type": "code",
   "execution_count": 30,
   "metadata": {
    "scrolled": true
   },
   "outputs": [
    {
     "data": {
      "text/plain": [
       "<1407529x466865 sparse matrix of type '<class 'numpy.int64'>'\n",
       "\twith 233898 stored elements in COOrdinate format>"
      ]
     },
     "execution_count": 30,
     "metadata": {},
     "output_type": "execute_result"
    }
   ],
   "source": [
    "interactions_grid_test"
   ]
  },
  {
   "cell_type": "code",
   "execution_count": 31,
   "metadata": {},
   "outputs": [
    {
     "name": "stdout",
     "output_type": "stream",
     "text": [
      "Sparsity level:  99.99996440591447  %\n"
     ]
    }
   ],
   "source": [
    "size = interactions_grid_test.shape[0]*interactions_grid_test.shape[1]\n",
    "values = len(interactions_grid_test.nonzero()[0])\n",
    "sparsity = 100*(1 - (values/size))\n",
    "print('Sparsity level: ', sparsity, ' %')"
   ]
  },
  {
   "cell_type": "code",
   "execution_count": null,
   "metadata": {},
   "outputs": [],
   "source": [
    "print(\"Coo matrix size: \", interactions_grid_test.data.nbytes/1000000, ' Megabytes')"
   ]
  },
  {
   "cell_type": "markdown",
   "metadata": {},
   "source": [
    "# LightFM model training (no item_features)"
   ]
  },
  {
   "cell_type": "code",
   "execution_count": null,
   "metadata": {
    "scrolled": true
   },
   "outputs": [],
   "source": [
    "# Building model without item features first. This will mean collaboration based predictions.\n",
    "\n",
    "start_time = time.time()\n",
    "\n",
    "model = LightFM(no_components=50, loss='warp')\n",
    "model.fit(interactions_grid_train, epochs=20, num_threads=4)\n",
    "\n",
    "print('Model trained in: ', round((time.time()-start_time)/60, 2), \" minutes\")"
   ]
  },
  {
   "cell_type": "code",
   "execution_count": null,
   "metadata": {},
   "outputs": [],
   "source": [
    "start_time = time.time()\n",
    "# train_auc = auc_score(model, interactions_grid_train).mean()\n",
    "train_auc = auc_score(model = model,\n",
    "                      test_interactions = None,\n",
    "                      train_interactions = interactions_grid_train,\n",
    "                      user_features=None,\n",
    "                      item_features=None,\n",
    "                      preserve_rows=False,\n",
    "                      num_threads=4,\n",
    "                      check_intersections=True\n",
    "                     ).mean()\n",
    "print('Train AUC score: ', train_auc)\n",
    "print('Calculated in: ', round((time.time()-start_time)/60, 2), \" minutes\")"
   ]
  },
  {
   "cell_type": "code",
   "execution_count": null,
   "metadata": {},
   "outputs": [],
   "source": [
    "start_time = time.time()\n",
    "test_auc = auc_score(model, interactions_grid_test).mean()\n",
    "print('Calculated in: ', round((time.time()-start_time)/60, 2), \" minutes\")"
   ]
  },
  {
   "cell_type": "code",
   "execution_count": null,
   "metadata": {},
   "outputs": [],
   "source": [
    "start_time = time.time()\n",
    "train_precision = precision_at_k(model, interactions_grid_train, k=10).mean()\n",
    "print('Calculated in: ', round((time.time()-start_time)/60, 2), \" minutes\")"
   ]
  },
  {
   "cell_type": "code",
   "execution_count": null,
   "metadata": {},
   "outputs": [],
   "source": [
    "start_time = time.time()\n",
    "test_precision = precision_at_k(model, interactions_grid_test, k=10).mean()\n",
    "print('Calculated in: ', round((time.time()-start_time)/60, 2), \" minutes\")"
   ]
  },
  {
   "cell_type": "markdown",
   "metadata": {},
   "source": [
    "# LightFM model training (with item_features)"
   ]
  },
  {
   "cell_type": "code",
   "execution_count": null,
   "metadata": {},
   "outputs": [],
   "source": [
    "### Item properties matrix"
   ]
  },
  {
   "cell_type": "code",
   "execution_count": null,
   "metadata": {},
   "outputs": [],
   "source": [
    "df_properties.info()"
   ]
  },
  {
   "cell_type": "code",
   "execution_count": null,
   "metadata": {},
   "outputs": [],
   "source": [
    "# Item properties are historical log of changes. No way to feed timestamps to model.\n",
    "# Need to simplify, so the latest property value will be used for each item.\n",
    "\n",
    "df_properties_short = df_properties.sort_values('timestamp').drop_duplicates(\n",
    "    subset=['itemid', 'property' ], \n",
    "    keep='last').reset_index(drop=True)\n",
    "\n",
    "df_properties_short.info()"
   ]
  },
  {
   "cell_type": "code",
   "execution_count": null,
   "metadata": {},
   "outputs": [],
   "source": [
    "# The item_features matrix is to be used for training.\n",
    "# Therefore, rows within train/test split point timestamp are to be used.\n",
    "df_properties_short = df_properties_short[df_properties_short.timestamp <= split_point_time]\n",
    "\n",
    "df_properties_short.info()"
   ]
  },
  {
   "cell_type": "code",
   "execution_count": null,
   "metadata": {},
   "outputs": [],
   "source": [
    "# The 'available' property is to be removed as it is critical for making purchase and changing over time.\n",
    "df_properties_short = df_properties_short[df_properties_short.property != 'available']\n",
    "\n",
    "# Code 'categoryid' property as number\n",
    "df_properties_short = df_properties_short.loc[df_properties_short['property'] == 'categoryid', 'property'] = 2020\n",
    "\n",
    "df_properties_short.info()"
   ]
  },
  {
   "cell_type": "code",
   "execution_count": null,
   "metadata": {},
   "outputs": [],
   "source": [
    "df_properties_short"
   ]
  },
  {
   "cell_type": "code",
   "execution_count": null,
   "metadata": {},
   "outputs": [],
   "source": [
    "# Drop timestamps column\n",
    "df_properties_short.drop(['timestamp'], axis=1, inplace=True)\n",
    "df_properties_short"
   ]
  },
  {
   "cell_type": "code",
   "execution_count": null,
   "metadata": {},
   "outputs": [],
   "source": [
    "#create a sparse matrix\n",
    "row = df_properties_short['itemid'].astype(int)\n",
    "col = df_properties_short['property'].astype(int)\n",
    "data = df_properties_short['value'].astype(str)\n",
    "item_features_grid = csr_matrix((data, (row, col)), shape=None)"
   ]
  },
  {
   "cell_type": "code",
   "execution_count": null,
   "metadata": {},
   "outputs": [],
   "source": []
  },
  {
   "cell_type": "code",
   "execution_count": null,
   "metadata": {},
   "outputs": [],
   "source": []
  }
 ],
 "metadata": {
  "kernelspec": {
   "display_name": "Python 3",
   "language": "python",
   "name": "python3"
  },
  "language_info": {
   "codemirror_mode": {
    "name": "ipython",
    "version": 3
   },
   "file_extension": ".py",
   "mimetype": "text/x-python",
   "name": "python",
   "nbconvert_exporter": "python",
   "pygments_lexer": "ipython3",
   "version": "3.7.4"
  }
 },
 "nbformat": 4,
 "nbformat_minor": 2
}
