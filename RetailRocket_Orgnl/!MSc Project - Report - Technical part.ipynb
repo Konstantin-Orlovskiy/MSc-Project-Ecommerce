{
 "cells": [
  {
   "cell_type": "markdown",
   "metadata": {},
   "source": [
    "# Technical part of MSc project solution\n",
    "## by Konstantin Orlovskiy\n",
    "### student ID 13157188"
   ]
  },
  {
   "cell_type": "markdown",
   "metadata": {},
   "source": [
    "# Import libraries"
   ]
  },
  {
   "cell_type": "code",
   "execution_count": 1,
   "metadata": {
    "scrolled": true
   },
   "outputs": [
    {
     "name": "stderr",
     "output_type": "stream",
     "text": [
      "/Users/konstantinorlovskiy/opt/anaconda3/lib/python3.7/site-packages/lightfm/_lightfm_fast.py:9: UserWarning: LightFM was compiled without OpenMP support. Only a single thread will be used.\n",
      "  warnings.warn('LightFM was compiled without OpenMP support. '\n"
     ]
    }
   ],
   "source": [
    "import numpy as np # linear algebra\n",
    "import pandas as pd # data processing, CSV file I/O (e.g. pd.read_csv)\n",
    "import time\n",
    "import seaborn as sns\n",
    "import matplotlib.pyplot as plt\n",
    "import csv\n",
    "import json\n",
    "\n",
    "from itertools import islice\n",
    "from itertools import combinations\n",
    "\n",
    "from scipy.sparse import coo_matrix  # LightFM fit method requires coo matrix format as input.\n",
    "from scipy.sparse import csr_matrix\n",
    "\n",
    "from lightfm import LightFM\n",
    "from lightfm.evaluation import auc_score\n",
    "from lightfm.evaluation import precision_at_k\n",
    "from lightfm.cross_validation import random_train_test_split\n",
    "from sklearn.model_selection import train_test_split\n",
    "from lightfm.data import Dataset"
   ]
  },
  {
   "cell_type": "code",
   "execution_count": 2,
   "metadata": {},
   "outputs": [],
   "source": [
    "# Save start point to calculate the full code run time.\n",
    "\n",
    "full_cycle_time_start = time.time()"
   ]
  },
  {
   "cell_type": "markdown",
   "metadata": {},
   "source": [
    "# Data"
   ]
  },
  {
   "cell_type": "code",
   "execution_count": 3,
   "metadata": {},
   "outputs": [],
   "source": [
    "# Source of data for this project is available via url:\n",
    "# https://www.kaggle.com/retailrocket/ecommerce-dataset"
   ]
  },
  {
   "cell_type": "markdown",
   "metadata": {},
   "source": [
    "# Preprocessing\n",
    "## Data Import and Cleaning - Events"
   ]
  },
  {
   "cell_type": "code",
   "execution_count": 4,
   "metadata": {
    "scrolled": true
   },
   "outputs": [],
   "source": [
    "# Importing Events data and sorting by timestamp column which corresponds the historical order of events.\n",
    "\n",
    "df_events = pd.read_csv(\"events.csv\")\n",
    "df_events = df_events.sort_values(by=['timestamp'], ascending=True).reset_index(drop=True)"
   ]
  },
  {
   "cell_type": "code",
   "execution_count": 5,
   "metadata": {
    "scrolled": false
   },
   "outputs": [
    {
     "data": {
      "text/html": [
       "<div>\n",
       "<style scoped>\n",
       "    .dataframe tbody tr th:only-of-type {\n",
       "        vertical-align: middle;\n",
       "    }\n",
       "\n",
       "    .dataframe tbody tr th {\n",
       "        vertical-align: top;\n",
       "    }\n",
       "\n",
       "    .dataframe thead th {\n",
       "        text-align: right;\n",
       "    }\n",
       "</style>\n",
       "<table border=\"1\" class=\"dataframe\">\n",
       "  <thead>\n",
       "    <tr style=\"text-align: right;\">\n",
       "      <th></th>\n",
       "      <th>timestamp</th>\n",
       "      <th>visitorid</th>\n",
       "      <th>event</th>\n",
       "      <th>itemid</th>\n",
       "      <th>transactionid</th>\n",
       "    </tr>\n",
       "  </thead>\n",
       "  <tbody>\n",
       "    <tr>\n",
       "      <td>0</td>\n",
       "      <td>1430622004384</td>\n",
       "      <td>693516</td>\n",
       "      <td>addtocart</td>\n",
       "      <td>297662</td>\n",
       "      <td>NaN</td>\n",
       "    </tr>\n",
       "    <tr>\n",
       "      <td>1</td>\n",
       "      <td>1430622011289</td>\n",
       "      <td>829044</td>\n",
       "      <td>view</td>\n",
       "      <td>60987</td>\n",
       "      <td>NaN</td>\n",
       "    </tr>\n",
       "    <tr>\n",
       "      <td>2</td>\n",
       "      <td>1430622013048</td>\n",
       "      <td>652699</td>\n",
       "      <td>view</td>\n",
       "      <td>252860</td>\n",
       "      <td>NaN</td>\n",
       "    </tr>\n",
       "    <tr>\n",
       "      <td>3</td>\n",
       "      <td>1430622024154</td>\n",
       "      <td>1125936</td>\n",
       "      <td>view</td>\n",
       "      <td>33661</td>\n",
       "      <td>NaN</td>\n",
       "    </tr>\n",
       "    <tr>\n",
       "      <td>4</td>\n",
       "      <td>1430622026228</td>\n",
       "      <td>693516</td>\n",
       "      <td>view</td>\n",
       "      <td>297662</td>\n",
       "      <td>NaN</td>\n",
       "    </tr>\n",
       "  </tbody>\n",
       "</table>\n",
       "</div>"
      ],
      "text/plain": [
       "       timestamp  visitorid      event  itemid  transactionid\n",
       "0  1430622004384     693516  addtocart  297662            NaN\n",
       "1  1430622011289     829044       view   60987            NaN\n",
       "2  1430622013048     652699       view  252860            NaN\n",
       "3  1430622024154    1125936       view   33661            NaN\n",
       "4  1430622026228     693516       view  297662            NaN"
      ]
     },
     "execution_count": 5,
     "metadata": {},
     "output_type": "execute_result"
    }
   ],
   "source": [
    "df_events.head()"
   ]
  },
  {
   "cell_type": "code",
   "execution_count": 6,
   "metadata": {
    "scrolled": true
   },
   "outputs": [
    {
     "name": "stdout",
     "output_type": "stream",
     "text": [
      "<class 'pandas.core.frame.DataFrame'>\n",
      "RangeIndex: 2756101 entries, 0 to 2756100\n",
      "Data columns (total 5 columns):\n",
      "timestamp        int64\n",
      "visitorid        int64\n",
      "event            object\n",
      "itemid           int64\n",
      "transactionid    float64\n",
      "dtypes: float64(1), int64(3), object(1)\n",
      "memory usage: 105.1+ MB\n"
     ]
    }
   ],
   "source": [
    "df_events.info()"
   ]
  },
  {
   "cell_type": "code",
   "execution_count": 7,
   "metadata": {
    "scrolled": true
   },
   "outputs": [
    {
     "name": "stdout",
     "output_type": "stream",
     "text": [
      "Original number of users: 1407580\n",
      "Original number of items: 235061\n",
      "Original number of interactions: 2756101\n",
      "Original sparsity: 99.999167 %\n"
     ]
    }
   ],
   "source": [
    "# Save original dataframe count of users, items, interactions.\n",
    "# Calculate the sparsity of original dataframe.\n",
    "\n",
    "qty_all_users_original = len(df_events.visitorid.unique())\n",
    "qty_all_items_original = len(df_events.itemid.unique())\n",
    "qty_all_interactions_original = len(df_events)\n",
    "sparsity_original = 1-qty_all_interactions_original/(qty_all_users_original*qty_all_items_original)\n",
    "\n",
    "print('Original number of users:', qty_all_users_original)\n",
    "print('Original number of items:', qty_all_items_original)\n",
    "print('Original number of interactions:', qty_all_interactions_original)\n",
    "print('Original sparsity:', round(sparsity_original*100,6), '%')"
   ]
  },
  {
   "cell_type": "code",
   "execution_count": 8,
   "metadata": {},
   "outputs": [],
   "source": [
    "# Events types “view”, “addtocart”, “transaction” cannot be considered as rating (explicit feedback).\n",
    "# This information is implicit feedback and lightFM library was designed to deal with it.\n",
    "# Transform events from categorical to numerical format for further processing.\n",
    "\n",
    "weight_view = 1\n",
    "weight_addtocart = 2\n",
    "weight_transaction = 3\n",
    "\n",
    "df_events.event.replace(to_replace=dict(\n",
    "    view=weight_view, addtocart=weight_addtocart, transaction=weight_transaction), inplace=True)"
   ]
  },
  {
   "cell_type": "code",
   "execution_count": 9,
   "metadata": {
    "scrolled": true
   },
   "outputs": [
    {
     "data": {
      "text/plain": [
       "array([2, 1, 3])"
      ]
     },
     "execution_count": 9,
     "metadata": {},
     "output_type": "execute_result"
    }
   ],
   "source": [
    "# Now the events replaced with corresponding weights.\n",
    "df_events.event.unique()"
   ]
  },
  {
   "cell_type": "code",
   "execution_count": 10,
   "metadata": {
    "scrolled": false
   },
   "outputs": [
    {
     "data": {
      "text/html": [
       "<div>\n",
       "<style scoped>\n",
       "    .dataframe tbody tr th:only-of-type {\n",
       "        vertical-align: middle;\n",
       "    }\n",
       "\n",
       "    .dataframe tbody tr th {\n",
       "        vertical-align: top;\n",
       "    }\n",
       "\n",
       "    .dataframe thead th {\n",
       "        text-align: right;\n",
       "    }\n",
       "</style>\n",
       "<table border=\"1\" class=\"dataframe\">\n",
       "  <thead>\n",
       "    <tr style=\"text-align: right;\">\n",
       "      <th></th>\n",
       "      <th>timestamp</th>\n",
       "      <th>visitorid</th>\n",
       "      <th>event</th>\n",
       "      <th>itemid</th>\n",
       "      <th>transactionid</th>\n",
       "    </tr>\n",
       "  </thead>\n",
       "  <tbody>\n",
       "    <tr>\n",
       "      <td>0</td>\n",
       "      <td>1430622004384</td>\n",
       "      <td>693516</td>\n",
       "      <td>2</td>\n",
       "      <td>297662</td>\n",
       "      <td>NaN</td>\n",
       "    </tr>\n",
       "    <tr>\n",
       "      <td>1</td>\n",
       "      <td>1430622011289</td>\n",
       "      <td>829044</td>\n",
       "      <td>1</td>\n",
       "      <td>60987</td>\n",
       "      <td>NaN</td>\n",
       "    </tr>\n",
       "    <tr>\n",
       "      <td>2</td>\n",
       "      <td>1430622013048</td>\n",
       "      <td>652699</td>\n",
       "      <td>1</td>\n",
       "      <td>252860</td>\n",
       "      <td>NaN</td>\n",
       "    </tr>\n",
       "    <tr>\n",
       "      <td>3</td>\n",
       "      <td>1430622024154</td>\n",
       "      <td>1125936</td>\n",
       "      <td>1</td>\n",
       "      <td>33661</td>\n",
       "      <td>NaN</td>\n",
       "    </tr>\n",
       "    <tr>\n",
       "      <td>4</td>\n",
       "      <td>1430622026228</td>\n",
       "      <td>693516</td>\n",
       "      <td>1</td>\n",
       "      <td>297662</td>\n",
       "      <td>NaN</td>\n",
       "    </tr>\n",
       "  </tbody>\n",
       "</table>\n",
       "</div>"
      ],
      "text/plain": [
       "       timestamp  visitorid  event  itemid  transactionid\n",
       "0  1430622004384     693516      2  297662            NaN\n",
       "1  1430622011289     829044      1   60987            NaN\n",
       "2  1430622013048     652699      1  252860            NaN\n",
       "3  1430622024154    1125936      1   33661            NaN\n",
       "4  1430622026228     693516      1  297662            NaN"
      ]
     },
     "execution_count": 10,
     "metadata": {},
     "output_type": "execute_result"
    }
   ],
   "source": [
    "df_events.head()"
   ]
  },
  {
   "cell_type": "code",
   "execution_count": 11,
   "metadata": {
    "scrolled": true
   },
   "outputs": [],
   "source": [
    "# The user may have interacted with item multiple times which is now stored in dataframe.\n",
    "# For current purpose of recommendation we're interested in the highest level of user interest to the item.\n",
    "# Therefore, the data can be further cleaned.\n",
    "\n",
    "df_events = df_events.sort_values('event').drop_duplicates(\n",
    "    subset=['visitorid', 'itemid'], \n",
    "    keep='last').sort_values(by=['timestamp'], ascending=True).reset_index(drop=True)"
   ]
  },
  {
   "cell_type": "code",
   "execution_count": 12,
   "metadata": {
    "scrolled": true
   },
   "outputs": [
    {
     "name": "stdout",
     "output_type": "stream",
     "text": [
      "<class 'pandas.core.frame.DataFrame'>\n",
      "RangeIndex: 2145179 entries, 0 to 2145178\n",
      "Data columns (total 5 columns):\n",
      "timestamp        int64\n",
      "visitorid        int64\n",
      "event            int64\n",
      "itemid           int64\n",
      "transactionid    float64\n",
      "dtypes: float64(1), int64(4)\n",
      "memory usage: 81.8 MB\n"
     ]
    }
   ],
   "source": [
    "df_events.info()"
   ]
  },
  {
   "cell_type": "code",
   "execution_count": 13,
   "metadata": {
    "scrolled": false
   },
   "outputs": [
    {
     "data": {
      "text/plain": [
       "<matplotlib.axes._subplots.AxesSubplot at 0x7fa483d04290>"
      ]
     },
     "execution_count": 13,
     "metadata": {},
     "output_type": "execute_result"
    },
    {
     "data": {
      "image/png": "[encoded data removed]",
      "text/plain": [
       "<Figure size 432x288 with 1 Axes>"
      ]
     },
     "metadata": {
      "needs_background": "light"
     },
     "output_type": "display_data"
    }
   ],
   "source": [
    "# View on the ratio between different types of events.\n",
    "sns.countplot(x='event', data=df_events)"
   ]
  },
  {
   "cell_type": "code",
   "execution_count": 14,
   "metadata": {
    "scrolled": true
   },
   "outputs": [
    {
     "data": {
      "text/html": [
       "<div>\n",
       "<style scoped>\n",
       "    .dataframe tbody tr th:only-of-type {\n",
       "        vertical-align: middle;\n",
       "    }\n",
       "\n",
       "    .dataframe tbody tr th {\n",
       "        vertical-align: top;\n",
       "    }\n",
       "\n",
       "    .dataframe thead th {\n",
       "        text-align: right;\n",
       "    }\n",
       "</style>\n",
       "<table border=\"1\" class=\"dataframe\">\n",
       "  <thead>\n",
       "    <tr style=\"text-align: right;\">\n",
       "      <th></th>\n",
       "      <th>activity_count</th>\n",
       "    </tr>\n",
       "    <tr>\n",
       "      <th>visitorid</th>\n",
       "      <th></th>\n",
       "    </tr>\n",
       "  </thead>\n",
       "  <tbody>\n",
       "    <tr>\n",
       "      <td>0</td>\n",
       "      <td>3</td>\n",
       "    </tr>\n",
       "    <tr>\n",
       "      <td>1</td>\n",
       "      <td>1</td>\n",
       "    </tr>\n",
       "    <tr>\n",
       "      <td>2</td>\n",
       "      <td>4</td>\n",
       "    </tr>\n",
       "    <tr>\n",
       "      <td>3</td>\n",
       "      <td>1</td>\n",
       "    </tr>\n",
       "    <tr>\n",
       "      <td>4</td>\n",
       "      <td>1</td>\n",
       "    </tr>\n",
       "  </tbody>\n",
       "</table>\n",
       "</div>"
      ],
      "text/plain": [
       "           activity_count\n",
       "visitorid                \n",
       "0                       3\n",
       "1                       1\n",
       "2                       4\n",
       "3                       1\n",
       "4                       1"
      ]
     },
     "execution_count": 14,
     "metadata": {},
     "output_type": "execute_result"
    }
   ],
   "source": [
    "# Count activities by user.\n",
    "users_activity = df_events.groupby('visitorid').visitorid.count().to_frame(name='activity_count')\n",
    "users_activity.head()"
   ]
  },
  {
   "cell_type": "code",
   "execution_count": 15,
   "metadata": {
    "scrolled": false
   },
   "outputs": [
    {
     "data": {
      "text/html": [
       "<div>\n",
       "<style scoped>\n",
       "    .dataframe tbody tr th:only-of-type {\n",
       "        vertical-align: middle;\n",
       "    }\n",
       "\n",
       "    .dataframe tbody tr th {\n",
       "        vertical-align: top;\n",
       "    }\n",
       "\n",
       "    .dataframe thead th {\n",
       "        text-align: right;\n",
       "    }\n",
       "</style>\n",
       "<table border=\"1\" class=\"dataframe\">\n",
       "  <thead>\n",
       "    <tr style=\"text-align: right;\">\n",
       "      <th></th>\n",
       "      <th>activity_count</th>\n",
       "    </tr>\n",
       "    <tr>\n",
       "      <th>visitorid</th>\n",
       "      <th></th>\n",
       "    </tr>\n",
       "  </thead>\n",
       "  <tbody>\n",
       "    <tr>\n",
       "      <td>1150086</td>\n",
       "      <td>3814</td>\n",
       "    </tr>\n",
       "    <tr>\n",
       "      <td>530559</td>\n",
       "      <td>2209</td>\n",
       "    </tr>\n",
       "    <tr>\n",
       "      <td>892013</td>\n",
       "      <td>1738</td>\n",
       "    </tr>\n",
       "    <tr>\n",
       "      <td>895999</td>\n",
       "      <td>1641</td>\n",
       "    </tr>\n",
       "    <tr>\n",
       "      <td>152963</td>\n",
       "      <td>1622</td>\n",
       "    </tr>\n",
       "    <tr>\n",
       "      <td>371606</td>\n",
       "      <td>1399</td>\n",
       "    </tr>\n",
       "    <tr>\n",
       "      <td>163561</td>\n",
       "      <td>1314</td>\n",
       "    </tr>\n",
       "    <tr>\n",
       "      <td>79627</td>\n",
       "      <td>1257</td>\n",
       "    </tr>\n",
       "    <tr>\n",
       "      <td>286616</td>\n",
       "      <td>1230</td>\n",
       "    </tr>\n",
       "    <tr>\n",
       "      <td>684514</td>\n",
       "      <td>1187</td>\n",
       "    </tr>\n",
       "  </tbody>\n",
       "</table>\n",
       "</div>"
      ],
      "text/plain": [
       "           activity_count\n",
       "visitorid                \n",
       "1150086              3814\n",
       "530559               2209\n",
       "892013               1738\n",
       "895999               1641\n",
       "152963               1622\n",
       "371606               1399\n",
       "163561               1314\n",
       "79627                1257\n",
       "286616               1230\n",
       "684514               1187"
      ]
     },
     "execution_count": 15,
     "metadata": {},
     "output_type": "execute_result"
    }
   ],
   "source": [
    "# View on the most active users\n",
    "users_activity.loc[users_activity['activity_count'] > 1000].sort_values(\n",
    "    by='activity_count', ascending=False).head(10)"
   ]
  },
  {
   "cell_type": "code",
   "execution_count": 16,
   "metadata": {
    "scrolled": true
   },
   "outputs": [
    {
     "data": {
      "text/html": [
       "<div>\n",
       "<style scoped>\n",
       "    .dataframe tbody tr th:only-of-type {\n",
       "        vertical-align: middle;\n",
       "    }\n",
       "\n",
       "    .dataframe tbody tr th {\n",
       "        vertical-align: top;\n",
       "    }\n",
       "\n",
       "    .dataframe thead th {\n",
       "        text-align: right;\n",
       "    }\n",
       "</style>\n",
       "<table border=\"1\" class=\"dataframe\">\n",
       "  <thead>\n",
       "    <tr style=\"text-align: right;\">\n",
       "      <th></th>\n",
       "      <th>timestamp</th>\n",
       "      <th>visitorid</th>\n",
       "      <th>event</th>\n",
       "      <th>itemid</th>\n",
       "      <th>transactionid</th>\n",
       "    </tr>\n",
       "  </thead>\n",
       "  <tbody>\n",
       "    <tr>\n",
       "      <td>628771</td>\n",
       "      <td>1434034517389</td>\n",
       "      <td>1150086</td>\n",
       "      <td>1</td>\n",
       "      <td>133542</td>\n",
       "      <td>NaN</td>\n",
       "    </tr>\n",
       "    <tr>\n",
       "      <td>629008</td>\n",
       "      <td>1434035735608</td>\n",
       "      <td>1150086</td>\n",
       "      <td>1</td>\n",
       "      <td>167873</td>\n",
       "      <td>NaN</td>\n",
       "    </tr>\n",
       "    <tr>\n",
       "      <td>629054</td>\n",
       "      <td>1434036006651</td>\n",
       "      <td>1150086</td>\n",
       "      <td>1</td>\n",
       "      <td>231726</td>\n",
       "      <td>NaN</td>\n",
       "    </tr>\n",
       "    <tr>\n",
       "      <td>629104</td>\n",
       "      <td>1434036288806</td>\n",
       "      <td>1150086</td>\n",
       "      <td>1</td>\n",
       "      <td>427777</td>\n",
       "      <td>NaN</td>\n",
       "    </tr>\n",
       "    <tr>\n",
       "      <td>629170</td>\n",
       "      <td>1434036525614</td>\n",
       "      <td>1150086</td>\n",
       "      <td>3</td>\n",
       "      <td>398115</td>\n",
       "      <td>7510.0</td>\n",
       "    </tr>\n",
       "    <tr>\n",
       "      <td>629208</td>\n",
       "      <td>1434036727711</td>\n",
       "      <td>1150086</td>\n",
       "      <td>1</td>\n",
       "      <td>203425</td>\n",
       "      <td>NaN</td>\n",
       "    </tr>\n",
       "    <tr>\n",
       "      <td>629246</td>\n",
       "      <td>1434036891672</td>\n",
       "      <td>1150086</td>\n",
       "      <td>1</td>\n",
       "      <td>458489</td>\n",
       "      <td>NaN</td>\n",
       "    </tr>\n",
       "    <tr>\n",
       "      <td>629369</td>\n",
       "      <td>1434037348016</td>\n",
       "      <td>1150086</td>\n",
       "      <td>3</td>\n",
       "      <td>375955</td>\n",
       "      <td>6495.0</td>\n",
       "    </tr>\n",
       "    <tr>\n",
       "      <td>629421</td>\n",
       "      <td>1434037596453</td>\n",
       "      <td>1150086</td>\n",
       "      <td>3</td>\n",
       "      <td>357133</td>\n",
       "      <td>5235.0</td>\n",
       "    </tr>\n",
       "    <tr>\n",
       "      <td>629625</td>\n",
       "      <td>1434038553908</td>\n",
       "      <td>1150086</td>\n",
       "      <td>2</td>\n",
       "      <td>368244</td>\n",
       "      <td>NaN</td>\n",
       "    </tr>\n",
       "  </tbody>\n",
       "</table>\n",
       "</div>"
      ],
      "text/plain": [
       "            timestamp  visitorid  event  itemid  transactionid\n",
       "628771  1434034517389    1150086      1  133542            NaN\n",
       "629008  1434035735608    1150086      1  167873            NaN\n",
       "629054  1434036006651    1150086      1  231726            NaN\n",
       "629104  1434036288806    1150086      1  427777            NaN\n",
       "629170  1434036525614    1150086      3  398115         7510.0\n",
       "629208  1434036727711    1150086      1  203425            NaN\n",
       "629246  1434036891672    1150086      1  458489            NaN\n",
       "629369  1434037348016    1150086      3  375955         6495.0\n",
       "629421  1434037596453    1150086      3  357133         5235.0\n",
       "629625  1434038553908    1150086      2  368244            NaN"
      ]
     },
     "execution_count": 16,
     "metadata": {},
     "output_type": "execute_result"
    }
   ],
   "source": [
    "# View on historical behaviour of one user 1150086.\n",
    "\n",
    "df_events.loc[df_events['visitorid'] == 1150086].head(10)"
   ]
  },
  {
   "cell_type": "code",
   "execution_count": 17,
   "metadata": {},
   "outputs": [],
   "source": [
    "# Check the hypothesys: the more interactions the user had, the more likely addtocart/purchase was made.\n",
    "# Based on this hypothesys the users can be divided into two groups.\n",
    "\n",
    "# First group is 'low activity' users - this group is mostly browsing and not making many purchases.\n",
    "# The ratio of addtocart/purchase is low so it is harder to understand what they really like.\n",
    "# These users will create a noise for the pool of more active users having higher conversion.\n",
    "# All types of interactions (view/addtocart/purchase) can be counted as positive for 'low activity' users.\n",
    "# This will lead at least to improvement of customer experience and users are more likely to find the needed item.\n",
    "# For the purposes of this project 'low activity' group will be left aside as the goal is basket value, not UX.\n",
    "# This will allow to get rid of noise.\n",
    "\n",
    "# Second group is 'high activity' users - this group has higher ratio of purchases.\n",
    "# Addtocart interaction type is considered to be positive as purchase.\n",
    "# The item can be added to cart and purchased later, or customer purchased similar item somewhere else.\n",
    "# All in all, the fact of adding to cart means high interest to the item.\n",
    "# Ratio of addtocart and purchase to view is relatively similar which proves this assumption.\n",
    "# So, interactions types addtocart/purchase can be considered as positive, and predictions be made on them.\n",
    "# View interactions are not considered since the user has not proceeded so this means there's low interest.\n",
    "# For the purposes of this project 'high activity' group will be used.\n",
    "\n",
    "# To summarize, using this split resolves several issues:\n",
    "# 1. The low activity users represent the noise which will affect the model performance. So they are not considered.\n",
    "# 2. The size of dataframe used for the further steps will be significantly smaller saving computational cost."
   ]
  },
  {
   "cell_type": "code",
   "execution_count": 18,
   "metadata": {},
   "outputs": [],
   "source": [
    "# Develop the function to see how the number of interactions impacts conversion.\n",
    "# Conversion is a ratio of positive interactions(cart, purchase) to total number of interactions.\n",
    "\n",
    "def activity_counter(data, max_interaction_threshold):\n",
    "    \n",
    "    df_events = data\n",
    "    users_activity = df_events.groupby('visitorid').visitorid.count().to_frame(name='activity_count')\n",
    "    count_aggregated = pd.DataFrame(columns = ['interaction_threshold', \n",
    "                                               'view', 'addtocart', 'purchase', \n",
    "                                               'conversion', \n",
    "                                               'total_interactions'])\n",
    "    \n",
    "    for interaction_threshold in range(max_interaction_threshold):\n",
    "        users_activity_low = users_activity.loc[users_activity['activity_count'] <= interaction_threshold]\n",
    "        users_to_remove = users_activity_low.index.tolist()\n",
    "        df_events = df_events[~df_events.visitorid.isin(users_to_remove)].reset_index(drop=True)\n",
    "        \n",
    "        count = df_events['event'].value_counts()\n",
    "        count_aggregated = count_aggregated.append({\n",
    "            'interaction_threshold': int(interaction_threshold), \n",
    "            'view': int(count[weight_view]), \n",
    "            'addtocart': int(count[weight_addtocart]), \n",
    "            'purchase': int(count[weight_transaction]), \n",
    "            'conversion': (count[weight_addtocart] + count[weight_transaction])/len(df_events),\n",
    "            'total_interactions': len(df_events)\n",
    "        }, \n",
    "            ignore_index=True)\n",
    "        \n",
    "    return(count_aggregated)"
   ]
  },
  {
   "cell_type": "code",
   "execution_count": 19,
   "metadata": {
    "scrolled": false
   },
   "outputs": [
    {
     "data": {
      "text/html": [
       "<div>\n",
       "<style scoped>\n",
       "    .dataframe tbody tr th:only-of-type {\n",
       "        vertical-align: middle;\n",
       "    }\n",
       "\n",
       "    .dataframe tbody tr th {\n",
       "        vertical-align: top;\n",
       "    }\n",
       "\n",
       "    .dataframe thead th {\n",
       "        text-align: right;\n",
       "    }\n",
       "</style>\n",
       "<table border=\"1\" class=\"dataframe\">\n",
       "  <thead>\n",
       "    <tr style=\"text-align: right;\">\n",
       "      <th></th>\n",
       "      <th>interaction_threshold</th>\n",
       "      <th>view</th>\n",
       "      <th>addtocart</th>\n",
       "      <th>purchase</th>\n",
       "      <th>conversion</th>\n",
       "      <th>total_interactions</th>\n",
       "    </tr>\n",
       "  </thead>\n",
       "  <tbody>\n",
       "    <tr>\n",
       "      <td>0</td>\n",
       "      <td>0.0</td>\n",
       "      <td>2080929.0</td>\n",
       "      <td>42980.0</td>\n",
       "      <td>21270.0</td>\n",
       "      <td>0.029951</td>\n",
       "      <td>2145179.0</td>\n",
       "    </tr>\n",
       "    <tr>\n",
       "      <td>1</td>\n",
       "      <td>1.0</td>\n",
       "      <td>978187.0</td>\n",
       "      <td>30775.0</td>\n",
       "      <td>16717.0</td>\n",
       "      <td>0.046303</td>\n",
       "      <td>1025679.0</td>\n",
       "    </tr>\n",
       "    <tr>\n",
       "      <td>2</td>\n",
       "      <td>2.0</td>\n",
       "      <td>645875.0</td>\n",
       "      <td>24367.0</td>\n",
       "      <td>14335.0</td>\n",
       "      <td>0.056534</td>\n",
       "      <td>684577.0</td>\n",
       "    </tr>\n",
       "    <tr>\n",
       "      <td>3</td>\n",
       "      <td>3.0</td>\n",
       "      <td>488582.0</td>\n",
       "      <td>20490.0</td>\n",
       "      <td>12800.0</td>\n",
       "      <td>0.063790</td>\n",
       "      <td>521872.0</td>\n",
       "    </tr>\n",
       "    <tr>\n",
       "      <td>4</td>\n",
       "      <td>4.0</td>\n",
       "      <td>397669.0</td>\n",
       "      <td>17758.0</td>\n",
       "      <td>11809.0</td>\n",
       "      <td>0.069205</td>\n",
       "      <td>427236.0</td>\n",
       "    </tr>\n",
       "    <tr>\n",
       "      <td>5</td>\n",
       "      <td>5.0</td>\n",
       "      <td>337186.0</td>\n",
       "      <td>15840.0</td>\n",
       "      <td>10960.0</td>\n",
       "      <td>0.073629</td>\n",
       "      <td>363986.0</td>\n",
       "    </tr>\n",
       "    <tr>\n",
       "      <td>6</td>\n",
       "      <td>6.0</td>\n",
       "      <td>294957.0</td>\n",
       "      <td>14365.0</td>\n",
       "      <td>10264.0</td>\n",
       "      <td>0.077065</td>\n",
       "      <td>319586.0</td>\n",
       "    </tr>\n",
       "    <tr>\n",
       "      <td>7</td>\n",
       "      <td>7.0</td>\n",
       "      <td>264109.0</td>\n",
       "      <td>13083.0</td>\n",
       "      <td>9809.0</td>\n",
       "      <td>0.079763</td>\n",
       "      <td>287001.0</td>\n",
       "    </tr>\n",
       "    <tr>\n",
       "      <td>8</td>\n",
       "      <td>8.0</td>\n",
       "      <td>239898.0</td>\n",
       "      <td>12078.0</td>\n",
       "      <td>9441.0</td>\n",
       "      <td>0.082317</td>\n",
       "      <td>261417.0</td>\n",
       "    </tr>\n",
       "    <tr>\n",
       "      <td>9</td>\n",
       "      <td>9.0</td>\n",
       "      <td>220596.0</td>\n",
       "      <td>11162.0</td>\n",
       "      <td>9085.0</td>\n",
       "      <td>0.084067</td>\n",
       "      <td>240843.0</td>\n",
       "    </tr>\n",
       "  </tbody>\n",
       "</table>\n",
       "</div>"
      ],
      "text/plain": [
       "   interaction_threshold       view  addtocart  purchase  conversion  \\\n",
       "0                    0.0  2080929.0    42980.0   21270.0    0.029951   \n",
       "1                    1.0   978187.0    30775.0   16717.0    0.046303   \n",
       "2                    2.0   645875.0    24367.0   14335.0    0.056534   \n",
       "3                    3.0   488582.0    20490.0   12800.0    0.063790   \n",
       "4                    4.0   397669.0    17758.0   11809.0    0.069205   \n",
       "5                    5.0   337186.0    15840.0   10960.0    0.073629   \n",
       "6                    6.0   294957.0    14365.0   10264.0    0.077065   \n",
       "7                    7.0   264109.0    13083.0    9809.0    0.079763   \n",
       "8                    8.0   239898.0    12078.0    9441.0    0.082317   \n",
       "9                    9.0   220596.0    11162.0    9085.0    0.084067   \n",
       "\n",
       "   total_interactions  \n",
       "0           2145179.0  \n",
       "1           1025679.0  \n",
       "2            684577.0  \n",
       "3            521872.0  \n",
       "4            427236.0  \n",
       "5            363986.0  \n",
       "6            319586.0  \n",
       "7            287001.0  \n",
       "8            261417.0  \n",
       "9            240843.0  "
      ]
     },
     "execution_count": 19,
     "metadata": {},
     "output_type": "execute_result"
    }
   ],
   "source": [
    "# Run fuction.\n",
    "activities = activity_counter(df_events, 100)\n",
    "activities.head(10)"
   ]
  },
  {
   "cell_type": "code",
   "execution_count": 20,
   "metadata": {},
   "outputs": [
    {
     "data": {
      "text/plain": [
       "Text(0.5, 0, 'Interactions per user')"
      ]
     },
     "execution_count": 20,
     "metadata": {},
     "output_type": "execute_result"
    },
    {
     "data": {
      "image/png": "[encoded data removed]",
      "text/plain": [
       "<Figure size 432x288 with 2 Axes>"
      ]
     },
     "metadata": {
      "needs_background": "light"
     },
     "output_type": "display_data"
    }
   ],
   "source": [
    "figure, (axis_1, axis_2) = plt.subplots(2)\n",
    "figure.suptitle('User activity visualization')\n",
    "\n",
    "axis_1.plot(activities['interaction_threshold'], activities['conversion'], 'r')\n",
    "axis_1.set_ylabel('Conversion')\n",
    "\n",
    "axis_2.plot(activities['interaction_threshold'], activities['total_interactions'], 'g')\n",
    "axis_2.plot(activities['interaction_threshold'], activities['total_interactions'], 'g')\n",
    "axis_2.set_ylabel('Total interactions')\n",
    "axis_2.set_xlabel('Interactions per user')"
   ]
  },
  {
   "cell_type": "code",
   "execution_count": 21,
   "metadata": {},
   "outputs": [],
   "source": [
    "# The plot above shows that positive ratio improvement slows down significantly at 20 interactions threshold.\n",
    "# Plateau is at conversion rate ~0.1 (10%) which is good in comparison to eCommerce industry standard 3%.\n",
    "# It makes sense since the part of less active users was removed.\n",
    "\n",
    "# Hypothesis is now proved. \n",
    "\n",
    "# Split point to divide users into two groups:\n",
    "# 'low activity' users with 20 and less interactions.\n",
    "# 'high activity' users with more than 20 interactions."
   ]
  },
  {
   "cell_type": "code",
   "execution_count": 22,
   "metadata": {},
   "outputs": [],
   "source": [
    "# Set interactions threshold and remove 'low activity' users.\n",
    "\n",
    "interaction_threshold = 20\n",
    "\n",
    "# Create list of users that need to be removed from events data.\n",
    "users_activity_low = users_activity.loc[users_activity['activity_count'] <= interaction_threshold]\n",
    "users_to_remove = users_activity_low.index.tolist()\n",
    "\n",
    "# Remove low activity users from dataframe.\n",
    "df_events = df_events[~df_events.visitorid.isin(users_to_remove)].reset_index(drop=True)"
   ]
  },
  {
   "cell_type": "code",
   "execution_count": 23,
   "metadata": {},
   "outputs": [
    {
     "data": {
      "text/plain": [
       "<matplotlib.axes._subplots.AxesSubplot at 0x7fa483d4f290>"
      ]
     },
     "execution_count": 23,
     "metadata": {},
     "output_type": "execute_result"
    },
    {
     "data": {
      "image/png": "[encoded data removed]",
      "text/plain": [
       "<Figure size 432x288 with 1 Axes>"
      ]
     },
     "metadata": {
      "needs_background": "light"
     },
     "output_type": "display_data"
    }
   ],
   "source": [
    "# View on the ratio between different types of events after cleaning.\n",
    "sns.countplot(x='event', data=df_events)"
   ]
  },
  {
   "cell_type": "code",
   "execution_count": 24,
   "metadata": {
    "scrolled": true
   },
   "outputs": [
    {
     "name": "stdout",
     "output_type": "stream",
     "text": [
      "<class 'pandas.core.frame.DataFrame'>\n",
      "RangeIndex: 13675 entries, 0 to 13674\n",
      "Data columns (total 5 columns):\n",
      "timestamp        13675 non-null int64\n",
      "visitorid        13675 non-null int64\n",
      "event            13675 non-null int64\n",
      "itemid           13675 non-null int64\n",
      "transactionid    7271 non-null float64\n",
      "dtypes: float64(1), int64(4)\n",
      "memory usage: 534.3 KB\n"
     ]
    }
   ],
   "source": [
    "# Select which types of interaction to be used: weight_view / weight_addtocart / weight_transaction.\n",
    "# View interactions are not considered since the user has not proceeded so this means there's low interest.\n",
    "\n",
    "df_events = df_events.loc[df_events['event'].isin(\n",
    "    [weight_addtocart, \n",
    "     weight_transaction])].reset_index(drop=True)\n",
    "\n",
    "df_events.info()"
   ]
  },
  {
   "cell_type": "code",
   "execution_count": 25,
   "metadata": {
    "scrolled": true
   },
   "outputs": [
    {
     "name": "stdout",
     "output_type": "stream",
     "text": [
      "Original number of users: 1407580\n",
      "Cleaned dataset number of users:  1015\n",
      "Cleaned portion: 0.07 %\n",
      "\n",
      "Original number of items: 235061\n",
      "Cleaned dataset number of items:  9490\n",
      "Cleaned portion: 4.04 %\n",
      "\n",
      "Original number of interactions: 2756101\n",
      "Cleaned dataset number of interactions:  13675\n",
      "Cleaned portion: 0.5 %\n",
      "\n",
      "Original sparsity:  99.999167 %\n",
      "Cleaned sparsity:  99.85803 %\n"
     ]
    }
   ],
   "source": [
    "# Final view on users and items participating in model training and testing. \n",
    "\n",
    "qty_all_users = len(df_events['visitorid'].unique())\n",
    "print('Original number of users:', qty_all_users_original)\n",
    "print('Cleaned dataset number of users: ', qty_all_users)\n",
    "print('Cleaned portion:', round(100*qty_all_users/qty_all_users_original,2), '%')\n",
    "print()\n",
    "\n",
    "qty_all_items = len(df_events['itemid'].unique())\n",
    "print('Original number of items:', qty_all_items_original)\n",
    "print('Cleaned dataset number of items: ', qty_all_items)\n",
    "print('Cleaned portion:', round(100*qty_all_items/qty_all_items_original,2), '%')\n",
    "print()\n",
    "\n",
    "qty_all_interactions = len(df_events)\n",
    "print('Original number of interactions:', qty_all_interactions_original)\n",
    "print('Cleaned dataset number of interactions: ', qty_all_interactions)\n",
    "print('Cleaned portion:', round(100*qty_all_interactions/qty_all_interactions_original,2), '%')\n",
    "print()\n",
    "\n",
    "sparsity = 1-qty_all_interactions/(qty_all_users*qty_all_items)\n",
    "print('Original sparsity: ', round(sparsity_original*100,6), '%')\n",
    "print('Cleaned sparsity: ', round(100*sparsity,6), '%')"
   ]
  },
  {
   "cell_type": "markdown",
   "metadata": {},
   "source": [
    "### Train / Test split"
   ]
  },
  {
   "cell_type": "code",
   "execution_count": 26,
   "metadata": {},
   "outputs": [],
   "source": [
    "# Interactions data may depend on seasonality and specific eCommerce events.\n",
    "# In order to achieve the generalization, the train and test split will be done randomly.\n",
    "\n",
    "df_events_train, df_events_test = train_test_split(df_events, \n",
    "                                                   test_size=0.2, \n",
    "                                                   random_state=np.random.RandomState(2020))"
   ]
  },
  {
   "cell_type": "code",
   "execution_count": 27,
   "metadata": {},
   "outputs": [],
   "source": [
    "# The dataset used for this project does not have any user information (features) available.\n",
    "# Therefore, on the evaluation phase there should be only those users, that used to train the model.\n",
    "# Otherwise the user cold start problem will be faced which will impact the evaluation results.\n",
    "# Meanwhile, this is not the case for items since there's the item features data available.\n",
    "\n",
    "df_events_test = df_events_test[(df_events_test['visitorid'].isin(df_events_train['visitorid'])) & \n",
    "                                (df_events_test['itemid'].isin(df_events_train['itemid']))]"
   ]
  },
  {
   "cell_type": "code",
   "execution_count": 28,
   "metadata": {
    "scrolled": true
   },
   "outputs": [
    {
     "data": {
      "text/html": [
       "<div>\n",
       "<style scoped>\n",
       "    .dataframe tbody tr th:only-of-type {\n",
       "        vertical-align: middle;\n",
       "    }\n",
       "\n",
       "    .dataframe tbody tr th {\n",
       "        vertical-align: top;\n",
       "    }\n",
       "\n",
       "    .dataframe thead th {\n",
       "        text-align: right;\n",
       "    }\n",
       "</style>\n",
       "<table border=\"1\" class=\"dataframe\">\n",
       "  <thead>\n",
       "    <tr style=\"text-align: right;\">\n",
       "      <th></th>\n",
       "      <th>timestamp</th>\n",
       "      <th>visitorid</th>\n",
       "      <th>event</th>\n",
       "      <th>itemid</th>\n",
       "      <th>transactionid</th>\n",
       "    </tr>\n",
       "  </thead>\n",
       "  <tbody>\n",
       "    <tr>\n",
       "      <td>5051</td>\n",
       "      <td>1434737258535</td>\n",
       "      <td>76757</td>\n",
       "      <td>2</td>\n",
       "      <td>338427</td>\n",
       "      <td>NaN</td>\n",
       "    </tr>\n",
       "    <tr>\n",
       "      <td>10544</td>\n",
       "      <td>1439321239415</td>\n",
       "      <td>152963</td>\n",
       "      <td>3</td>\n",
       "      <td>55955</td>\n",
       "      <td>180.0</td>\n",
       "    </tr>\n",
       "    <tr>\n",
       "      <td>8837</td>\n",
       "      <td>1437780903046</td>\n",
       "      <td>861299</td>\n",
       "      <td>3</td>\n",
       "      <td>131034</td>\n",
       "      <td>7162.0</td>\n",
       "    </tr>\n",
       "    <tr>\n",
       "      <td>8628</td>\n",
       "      <td>1437674156662</td>\n",
       "      <td>883745</td>\n",
       "      <td>3</td>\n",
       "      <td>352742</td>\n",
       "      <td>11316.0</td>\n",
       "    </tr>\n",
       "    <tr>\n",
       "      <td>11268</td>\n",
       "      <td>1440017757081</td>\n",
       "      <td>303381</td>\n",
       "      <td>3</td>\n",
       "      <td>162046</td>\n",
       "      <td>13787.0</td>\n",
       "    </tr>\n",
       "  </tbody>\n",
       "</table>\n",
       "</div>"
      ],
      "text/plain": [
       "           timestamp  visitorid  event  itemid  transactionid\n",
       "5051   1434737258535      76757      2  338427            NaN\n",
       "10544  1439321239415     152963      3   55955          180.0\n",
       "8837   1437780903046     861299      3  131034         7162.0\n",
       "8628   1437674156662     883745      3  352742        11316.0\n",
       "11268  1440017757081     303381      3  162046        13787.0"
      ]
     },
     "execution_count": 28,
     "metadata": {},
     "output_type": "execute_result"
    }
   ],
   "source": [
    "df_events_train.head()"
   ]
  },
  {
   "cell_type": "code",
   "execution_count": 29,
   "metadata": {},
   "outputs": [
    {
     "data": {
      "text/html": [
       "<div>\n",
       "<style scoped>\n",
       "    .dataframe tbody tr th:only-of-type {\n",
       "        vertical-align: middle;\n",
       "    }\n",
       "\n",
       "    .dataframe tbody tr th {\n",
       "        vertical-align: top;\n",
       "    }\n",
       "\n",
       "    .dataframe thead th {\n",
       "        text-align: right;\n",
       "    }\n",
       "</style>\n",
       "<table border=\"1\" class=\"dataframe\">\n",
       "  <thead>\n",
       "    <tr style=\"text-align: right;\">\n",
       "      <th></th>\n",
       "      <th>timestamp</th>\n",
       "      <th>visitorid</th>\n",
       "      <th>event</th>\n",
       "      <th>itemid</th>\n",
       "      <th>transactionid</th>\n",
       "    </tr>\n",
       "  </thead>\n",
       "  <tbody>\n",
       "    <tr>\n",
       "      <td>10711</td>\n",
       "      <td>1439484590277</td>\n",
       "      <td>1150086</td>\n",
       "      <td>3</td>\n",
       "      <td>253615</td>\n",
       "      <td>9457.0</td>\n",
       "    </tr>\n",
       "    <tr>\n",
       "      <td>1906</td>\n",
       "      <td>1432165517784</td>\n",
       "      <td>138131</td>\n",
       "      <td>3</td>\n",
       "      <td>176995</td>\n",
       "      <td>6308.0</td>\n",
       "    </tr>\n",
       "    <tr>\n",
       "      <td>5733</td>\n",
       "      <td>1435276573581</td>\n",
       "      <td>706387</td>\n",
       "      <td>2</td>\n",
       "      <td>283492</td>\n",
       "      <td>NaN</td>\n",
       "    </tr>\n",
       "    <tr>\n",
       "      <td>10068</td>\n",
       "      <td>1438827382136</td>\n",
       "      <td>478537</td>\n",
       "      <td>2</td>\n",
       "      <td>207430</td>\n",
       "      <td>NaN</td>\n",
       "    </tr>\n",
       "    <tr>\n",
       "      <td>7711</td>\n",
       "      <td>1436984362651</td>\n",
       "      <td>152693</td>\n",
       "      <td>2</td>\n",
       "      <td>64026</td>\n",
       "      <td>NaN</td>\n",
       "    </tr>\n",
       "  </tbody>\n",
       "</table>\n",
       "</div>"
      ],
      "text/plain": [
       "           timestamp  visitorid  event  itemid  transactionid\n",
       "10711  1439484590277    1150086      3  253615         9457.0\n",
       "1906   1432165517784     138131      3  176995         6308.0\n",
       "5733   1435276573581     706387      2  283492            NaN\n",
       "10068  1438827382136     478537      2  207430            NaN\n",
       "7711   1436984362651     152693      2   64026            NaN"
      ]
     },
     "execution_count": 29,
     "metadata": {},
     "output_type": "execute_result"
    }
   ],
   "source": [
    "df_events_test.head()"
   ]
  },
  {
   "cell_type": "code",
   "execution_count": 30,
   "metadata": {
    "scrolled": true
   },
   "outputs": [
    {
     "name": "stdout",
     "output_type": "stream",
     "text": [
      "Test set represents 10.39 % of Train set.\n",
      "Total number of interactions participating in train: 10940 / test:  1137\n"
     ]
    }
   ],
   "source": [
    "print('Test set represents', round(100*len(df_events_test)/len(df_events_train),2),'% of Train set.')\n",
    "print('Total number of interactions participating in train:',len(df_events_train),'/ test: ', len(df_events_test))"
   ]
  },
  {
   "cell_type": "markdown",
   "metadata": {},
   "source": [
    "### Transforming interactions data into the format acceptable by lightFM model"
   ]
  },
  {
   "cell_type": "code",
   "execution_count": 31,
   "metadata": {},
   "outputs": [
    {
     "name": "stdout",
     "output_type": "stream",
     "text": [
      "Finished in:  0.02  minutes\n"
     ]
    }
   ],
   "source": [
    "# Dataset class of LightFM package has method build_interactions that allows to fill in the interactions matrix.\n",
    "# As the input for this method need to pass the list of tuples (visitorid, itemid, weight).\n",
    "\n",
    "start_time = time.time()\n",
    "\n",
    "# Train set interactions transformed.\n",
    "df_events_train_interactions = []\n",
    "for index, row in df_events_train.iterrows():\n",
    "    df_events_train_interactions.append((int(row['visitorid']), int(row['itemid']), int(row['event'])))\n",
    "    \n",
    "# Test set interactions transformed.\n",
    "df_events_test_interactions = []\n",
    "for index, row in df_events_test.iterrows():\n",
    "    df_events_test_interactions.append((int(row['visitorid']), int(row['itemid']), int(row['event'])))\n",
    "    \n",
    "# Full set of interactions transformed. This will be used for production recommendations.\n",
    "df_events_all_interactions = []\n",
    "for index, row in df_events.iterrows():\n",
    "    df_events_all_interactions.append((int(row['visitorid']), int(row['itemid']), int(row['event'])))\n",
    "    \n",
    "print('Finished in: ', round((time.time()-start_time)/60, 2), \" minutes\")"
   ]
  },
  {
   "cell_type": "code",
   "execution_count": 32,
   "metadata": {},
   "outputs": [
    {
     "name": "stdout",
     "output_type": "stream",
     "text": [
      "Check original VS transformed length TRAIN:  10940 / 10940\n",
      "Check original VS transformed length TEST:  1137 / 1137\n",
      "Check original VS transformed length ALL:  13675 / 13675\n"
     ]
    }
   ],
   "source": [
    "# Check original VS transformed length, should be equal.\n",
    "\n",
    "print('Check original VS transformed length TRAIN: ', \n",
    "     len(df_events_train),\n",
    "     '/',\n",
    "     len(df_events_train_interactions))\n",
    "\n",
    "print('Check original VS transformed length TEST: ', \n",
    "     len(df_events_test),\n",
    "     '/',\n",
    "     len(df_events_test_interactions))\n",
    "\n",
    "print('Check original VS transformed length ALL: ', \n",
    "     len(df_events),\n",
    "     '/',\n",
    "     len(df_events_all_interactions))"
   ]
  },
  {
   "cell_type": "code",
   "execution_count": 33,
   "metadata": {},
   "outputs": [],
   "source": [
    "# Cross check successful."
   ]
  },
  {
   "cell_type": "markdown",
   "metadata": {},
   "source": [
    "# Preprocessing\n",
    "## Data Import and Cleaning - Item Properties"
   ]
  },
  {
   "cell_type": "code",
   "execution_count": 34,
   "metadata": {
    "scrolled": false
   },
   "outputs": [
    {
     "data": {
      "text/html": [
       "<div>\n",
       "<style scoped>\n",
       "    .dataframe tbody tr th:only-of-type {\n",
       "        vertical-align: middle;\n",
       "    }\n",
       "\n",
       "    .dataframe tbody tr th {\n",
       "        vertical-align: top;\n",
       "    }\n",
       "\n",
       "    .dataframe thead th {\n",
       "        text-align: right;\n",
       "    }\n",
       "</style>\n",
       "<table border=\"1\" class=\"dataframe\">\n",
       "  <thead>\n",
       "    <tr style=\"text-align: right;\">\n",
       "      <th></th>\n",
       "      <th>timestamp</th>\n",
       "      <th>itemid</th>\n",
       "      <th>property</th>\n",
       "      <th>value</th>\n",
       "    </tr>\n",
       "  </thead>\n",
       "  <tbody>\n",
       "    <tr>\n",
       "      <td>0</td>\n",
       "      <td>1431226800000</td>\n",
       "      <td>317951</td>\n",
       "      <td>790</td>\n",
       "      <td>n32880.000</td>\n",
       "    </tr>\n",
       "    <tr>\n",
       "      <td>1</td>\n",
       "      <td>1431226800000</td>\n",
       "      <td>422842</td>\n",
       "      <td>480</td>\n",
       "      <td>1133979</td>\n",
       "    </tr>\n",
       "    <tr>\n",
       "      <td>2</td>\n",
       "      <td>1431226800000</td>\n",
       "      <td>310185</td>\n",
       "      <td>776</td>\n",
       "      <td>103591</td>\n",
       "    </tr>\n",
       "    <tr>\n",
       "      <td>3</td>\n",
       "      <td>1431226800000</td>\n",
       "      <td>110973</td>\n",
       "      <td>112</td>\n",
       "      <td>679677</td>\n",
       "    </tr>\n",
       "    <tr>\n",
       "      <td>4</td>\n",
       "      <td>1431226800000</td>\n",
       "      <td>179597</td>\n",
       "      <td>available</td>\n",
       "      <td>0</td>\n",
       "    </tr>\n",
       "    <tr>\n",
       "      <td>5</td>\n",
       "      <td>1431226800000</td>\n",
       "      <td>260136</td>\n",
       "      <td>available</td>\n",
       "      <td>1</td>\n",
       "    </tr>\n",
       "    <tr>\n",
       "      <td>6</td>\n",
       "      <td>1431226800000</td>\n",
       "      <td>138592</td>\n",
       "      <td>764</td>\n",
       "      <td>1285872</td>\n",
       "    </tr>\n",
       "    <tr>\n",
       "      <td>7</td>\n",
       "      <td>1431226800000</td>\n",
       "      <td>216269</td>\n",
       "      <td>364</td>\n",
       "      <td>336749</td>\n",
       "    </tr>\n",
       "    <tr>\n",
       "      <td>8</td>\n",
       "      <td>1431226800000</td>\n",
       "      <td>299944</td>\n",
       "      <td>764</td>\n",
       "      <td>1285872</td>\n",
       "    </tr>\n",
       "    <tr>\n",
       "      <td>9</td>\n",
       "      <td>1431226800000</td>\n",
       "      <td>146103</td>\n",
       "      <td>112</td>\n",
       "      <td>679677</td>\n",
       "    </tr>\n",
       "  </tbody>\n",
       "</table>\n",
       "</div>"
      ],
      "text/plain": [
       "       timestamp  itemid   property       value\n",
       "0  1431226800000  317951        790  n32880.000\n",
       "1  1431226800000  422842        480     1133979\n",
       "2  1431226800000  310185        776      103591\n",
       "3  1431226800000  110973        112      679677\n",
       "4  1431226800000  179597  available           0\n",
       "5  1431226800000  260136  available           1\n",
       "6  1431226800000  138592        764     1285872\n",
       "7  1431226800000  216269        364      336749\n",
       "8  1431226800000  299944        764     1285872\n",
       "9  1431226800000  146103        112      679677"
      ]
     },
     "execution_count": 34,
     "metadata": {},
     "output_type": "execute_result"
    }
   ],
   "source": [
    "# Import Properties\n",
    "\n",
    "df_properties1 = pd.DataFrame(pd.read_csv(\"item_properties_part1.csv\"))\n",
    "df_properties2 = pd.DataFrame(pd.read_csv(\"item_properties_part2.csv\"))\n",
    "df_properties = pd.concat([df_properties1, df_properties2])\n",
    "\n",
    "# data to be sorted by timestamp to reflect the historical change log.\n",
    "df_properties = df_properties.sort_values(by=['timestamp'], ascending=True).reset_index(drop=True)\n",
    "\n",
    "df_properties.head(10)"
   ]
  },
  {
   "cell_type": "code",
   "execution_count": 35,
   "metadata": {
    "scrolled": false
   },
   "outputs": [
    {
     "name": "stdout",
     "output_type": "stream",
     "text": [
      "<class 'pandas.core.frame.DataFrame'>\n",
      "RangeIndex: 20275902 entries, 0 to 20275901\n",
      "Data columns (total 4 columns):\n",
      "timestamp    int64\n",
      "itemid       int64\n",
      "property     object\n",
      "value        object\n",
      "dtypes: int64(2), object(2)\n",
      "memory usage: 618.8+ MB\n"
     ]
    }
   ],
   "source": [
    "df_properties.info()"
   ]
  },
  {
   "cell_type": "code",
   "execution_count": 36,
   "metadata": {},
   "outputs": [],
   "source": [
    "# Store the original size of item features dataframe.\n",
    "\n",
    "df_properties_len_orig = len(df_properties)"
   ]
  },
  {
   "cell_type": "code",
   "execution_count": 37,
   "metadata": {
    "scrolled": false
   },
   "outputs": [
    {
     "data": {
      "text/html": [
       "<div>\n",
       "<style scoped>\n",
       "    .dataframe tbody tr th:only-of-type {\n",
       "        vertical-align: middle;\n",
       "    }\n",
       "\n",
       "    .dataframe tbody tr th {\n",
       "        vertical-align: top;\n",
       "    }\n",
       "\n",
       "    .dataframe thead th {\n",
       "        text-align: right;\n",
       "    }\n",
       "</style>\n",
       "<table border=\"1\" class=\"dataframe\">\n",
       "  <thead>\n",
       "    <tr style=\"text-align: right;\">\n",
       "      <th></th>\n",
       "      <th>timestamp</th>\n",
       "      <th>itemid</th>\n",
       "      <th>property</th>\n",
       "      <th>value</th>\n",
       "    </tr>\n",
       "  </thead>\n",
       "  <tbody>\n",
       "    <tr>\n",
       "      <td>7</td>\n",
       "      <td>1431226800000</td>\n",
       "      <td>216269</td>\n",
       "      <td>364</td>\n",
       "      <td>336749</td>\n",
       "    </tr>\n",
       "    <tr>\n",
       "      <td>517912</td>\n",
       "      <td>1431226800000</td>\n",
       "      <td>216269</td>\n",
       "      <td>categoryid</td>\n",
       "      <td>1029</td>\n",
       "    </tr>\n",
       "    <tr>\n",
       "      <td>820516</td>\n",
       "      <td>1431226800000</td>\n",
       "      <td>216269</td>\n",
       "      <td>917</td>\n",
       "      <td>378110 n18720.000</td>\n",
       "    </tr>\n",
       "    <tr>\n",
       "      <td>873983</td>\n",
       "      <td>1431226800000</td>\n",
       "      <td>216269</td>\n",
       "      <td>available</td>\n",
       "      <td>0</td>\n",
       "    </tr>\n",
       "    <tr>\n",
       "      <td>928887</td>\n",
       "      <td>1431226800000</td>\n",
       "      <td>216269</td>\n",
       "      <td>790</td>\n",
       "      <td>n51900.000</td>\n",
       "    </tr>\n",
       "  </tbody>\n",
       "</table>\n",
       "</div>"
      ],
      "text/plain": [
       "            timestamp  itemid    property              value\n",
       "7       1431226800000  216269         364             336749\n",
       "517912  1431226800000  216269  categoryid               1029\n",
       "820516  1431226800000  216269         917  378110 n18720.000\n",
       "873983  1431226800000  216269   available                  0\n",
       "928887  1431226800000  216269         790         n51900.000"
      ]
     },
     "execution_count": 37,
     "metadata": {},
     "output_type": "execute_result"
    }
   ],
   "source": [
    "# All the categories names and values are hashed excepting \"categoryid\" and \"available\".\n",
    "\n",
    "df_properties.loc[df_properties['itemid'] == 216269].head()"
   ]
  },
  {
   "cell_type": "code",
   "execution_count": 38,
   "metadata": {},
   "outputs": [
    {
     "name": "stdout",
     "output_type": "stream",
     "text": [
      "<class 'pandas.core.frame.DataFrame'>\n",
      "RangeIndex: 12003814 entries, 0 to 12003813\n",
      "Data columns (total 4 columns):\n",
      "timestamp    int64\n",
      "itemid       int64\n",
      "property     object\n",
      "value        object\n",
      "dtypes: int64(2), object(2)\n",
      "memory usage: 366.3+ MB\n"
     ]
    }
   ],
   "source": [
    "# The model is unable to process the historical log so there's a need to trim the properties data.\n",
    "# The latest properties data is considered to be the best to describe items.\n",
    "# Assumption: the ecommerce team was constantly improving the catalogue.\n",
    "# This action should lead to decrease of the dataframe size.\n",
    "\n",
    "df_properties = df_properties.sort_values(by=['timestamp'], ascending=True).drop_duplicates(\n",
    "    subset=['itemid', 'property'], \n",
    "    keep='last').reset_index(drop=True)\n",
    "\n",
    "df_properties.info()"
   ]
  },
  {
   "cell_type": "code",
   "execution_count": 39,
   "metadata": {
    "scrolled": false
   },
   "outputs": [
    {
     "name": "stdout",
     "output_type": "stream",
     "text": [
      "<class 'pandas.core.frame.DataFrame'>\n",
      "RangeIndex: 11586761 entries, 0 to 11586760\n",
      "Data columns (total 4 columns):\n",
      "timestamp    int64\n",
      "itemid       int64\n",
      "property     object\n",
      "value        object\n",
      "dtypes: int64(2), object(2)\n",
      "memory usage: 353.6+ MB\n"
     ]
    }
   ],
   "source": [
    "# Additionally, we can get rid of the 'available' property completely.\n",
    "# It won't make sense to consider any value as fixed (in stock or not in stock) for trainig purposes.\n",
    "# In production this property can be used in real time to filter out unavailable items from prediction.\n",
    "\n",
    "df_properties = df_properties[~df_properties.property.isin(['available'])].reset_index(drop=True)\n",
    "\n",
    "df_properties.info()"
   ]
  },
  {
   "cell_type": "code",
   "execution_count": 40,
   "metadata": {},
   "outputs": [
    {
     "name": "stdout",
     "output_type": "stream",
     "text": [
      "<class 'pandas.core.frame.DataFrame'>\n",
      "RangeIndex: 255722 entries, 0 to 255721\n",
      "Data columns (total 4 columns):\n",
      "timestamp    255722 non-null int64\n",
      "itemid       255722 non-null int64\n",
      "property     255722 non-null object\n",
      "value        255722 non-null object\n",
      "dtypes: int64(2), object(2)\n",
      "memory usage: 7.8+ MB\n"
     ]
    }
   ],
   "source": [
    "# As the next step the items which are not present in the cleaned dataframe can also be removed.\n",
    "\n",
    "df_properties = df_properties[df_properties.itemid.isin(df_events['itemid'])].reset_index(drop=True)\n",
    "\n",
    "df_properties.info()"
   ]
  },
  {
   "cell_type": "code",
   "execution_count": 41,
   "metadata": {},
   "outputs": [],
   "source": [
    "# Timestamp column can also be removed as it is redundant.\n",
    "\n",
    "df_properties = df_properties.drop(['timestamp'], axis=1)"
   ]
  },
  {
   "cell_type": "code",
   "execution_count": 42,
   "metadata": {},
   "outputs": [],
   "source": [
    "# Sort dataframe by itemid.\n",
    "\n",
    "df_properties = df_properties.sort_values(by=['itemid'], ascending=True).reset_index(drop=True)"
   ]
  },
  {
   "cell_type": "code",
   "execution_count": 43,
   "metadata": {},
   "outputs": [
    {
     "name": "stdout",
     "output_type": "stream",
     "text": [
      "Cleaned properties dataframe represents  1.26  % of original dataframe.\n"
     ]
    }
   ],
   "source": [
    "print('Cleaned properties dataframe represents ',\n",
    "      round(100*len(df_properties)/df_properties_len_orig,2),\n",
    "     ' % of original dataframe.')"
   ]
  },
  {
   "cell_type": "code",
   "execution_count": 44,
   "metadata": {
    "scrolled": false
   },
   "outputs": [
    {
     "name": "stdout",
     "output_type": "stream",
     "text": [
      "Cleaned dataset number of properties:  907\n",
      "Cleaned dataset number of properties values:  255722\n",
      "\n",
      "Cleaned dataset number of items:  9490\n",
      "Cleaned dataset number of users:  1015\n",
      "Cleaned dataset number of interactions:  13675\n"
     ]
    }
   ],
   "source": [
    "qty_all_properties = len(df_properties['property'].unique())\n",
    "print('Cleaned dataset number of properties: ', qty_all_properties)\n",
    "print('Cleaned dataset number of properties values: ', len(df_properties))\n",
    "print()\n",
    "print('Cleaned dataset number of items: ', qty_all_items)\n",
    "print('Cleaned dataset number of users: ', qty_all_users)\n",
    "print('Cleaned dataset number of interactions: ', len(df_events))"
   ]
  },
  {
   "cell_type": "code",
   "execution_count": 45,
   "metadata": {
    "scrolled": true
   },
   "outputs": [
    {
     "data": {
      "text/html": [
       "<div>\n",
       "<style scoped>\n",
       "    .dataframe tbody tr th:only-of-type {\n",
       "        vertical-align: middle;\n",
       "    }\n",
       "\n",
       "    .dataframe tbody tr th {\n",
       "        vertical-align: top;\n",
       "    }\n",
       "\n",
       "    .dataframe thead th {\n",
       "        text-align: right;\n",
       "    }\n",
       "</style>\n",
       "<table border=\"1\" class=\"dataframe\">\n",
       "  <thead>\n",
       "    <tr style=\"text-align: right;\">\n",
       "      <th></th>\n",
       "      <th>itemid</th>\n",
       "      <th>property</th>\n",
       "      <th>value</th>\n",
       "    </tr>\n",
       "  </thead>\n",
       "  <tbody>\n",
       "    <tr>\n",
       "      <td>0</td>\n",
       "      <td>15</td>\n",
       "      <td>678</td>\n",
       "      <td>245772</td>\n",
       "    </tr>\n",
       "    <tr>\n",
       "      <td>1</td>\n",
       "      <td>15</td>\n",
       "      <td>915</td>\n",
       "      <td>769062</td>\n",
       "    </tr>\n",
       "    <tr>\n",
       "      <td>2</td>\n",
       "      <td>15</td>\n",
       "      <td>112</td>\n",
       "      <td>679677</td>\n",
       "    </tr>\n",
       "    <tr>\n",
       "      <td>3</td>\n",
       "      <td>15</td>\n",
       "      <td>812</td>\n",
       "      <td>769062</td>\n",
       "    </tr>\n",
       "    <tr>\n",
       "      <td>4</td>\n",
       "      <td>15</td>\n",
       "      <td>764</td>\n",
       "      <td>1285872</td>\n",
       "    </tr>\n",
       "    <tr>\n",
       "      <td>5</td>\n",
       "      <td>15</td>\n",
       "      <td>839</td>\n",
       "      <td>245772</td>\n",
       "    </tr>\n",
       "    <tr>\n",
       "      <td>6</td>\n",
       "      <td>15</td>\n",
       "      <td>616</td>\n",
       "      <td>769062</td>\n",
       "    </tr>\n",
       "    <tr>\n",
       "      <td>7</td>\n",
       "      <td>15</td>\n",
       "      <td>888</td>\n",
       "      <td>789221</td>\n",
       "    </tr>\n",
       "    <tr>\n",
       "      <td>8</td>\n",
       "      <td>15</td>\n",
       "      <td>776</td>\n",
       "      <td>604754</td>\n",
       "    </tr>\n",
       "    <tr>\n",
       "      <td>9</td>\n",
       "      <td>15</td>\n",
       "      <td>917</td>\n",
       "      <td>789221</td>\n",
       "    </tr>\n",
       "  </tbody>\n",
       "</table>\n",
       "</div>"
      ],
      "text/plain": [
       "   itemid property    value\n",
       "0      15      678   245772\n",
       "1      15      915   769062\n",
       "2      15      112   679677\n",
       "3      15      812   769062\n",
       "4      15      764  1285872\n",
       "5      15      839   245772\n",
       "6      15      616   769062\n",
       "7      15      888   789221\n",
       "8      15      776   604754\n",
       "9      15      917   789221"
      ]
     },
     "execution_count": 45,
     "metadata": {},
     "output_type": "execute_result"
    }
   ],
   "source": [
    "df_properties.head(10)"
   ]
  },
  {
   "cell_type": "markdown",
   "metadata": {},
   "source": [
    "### Transforming item features data into the format acceptable by lightFM model."
   ]
  },
  {
   "cell_type": "code",
   "execution_count": 46,
   "metadata": {},
   "outputs": [],
   "source": [
    "# The item features information should be passed to the lightFM model in a format of csr matrix.\n",
    "# This matrix must have mapping of all items related to the train/test process and \n",
    "# all features available in cleaned properties dataframe.\n",
    "# Then the matrix is to be filled in with the properties values.\n",
    "# LightFM model would be then capable to create a latent features vector for each item.\n"
   ]
  },
  {
   "cell_type": "code",
   "execution_count": 47,
   "metadata": {
    "scrolled": false
   },
   "outputs": [
    {
     "data": {
      "text/html": [
       "<div>\n",
       "<style scoped>\n",
       "    .dataframe tbody tr th:only-of-type {\n",
       "        vertical-align: middle;\n",
       "    }\n",
       "\n",
       "    .dataframe tbody tr th {\n",
       "        vertical-align: top;\n",
       "    }\n",
       "\n",
       "    .dataframe thead th {\n",
       "        text-align: right;\n",
       "    }\n",
       "</style>\n",
       "<table border=\"1\" class=\"dataframe\">\n",
       "  <thead>\n",
       "    <tr style=\"text-align: right;\">\n",
       "      <th></th>\n",
       "      <th>itemid</th>\n",
       "      <th>property</th>\n",
       "      <th>value</th>\n",
       "    </tr>\n",
       "  </thead>\n",
       "  <tbody>\n",
       "    <tr>\n",
       "      <td>0</td>\n",
       "      <td>15</td>\n",
       "      <td>678</td>\n",
       "      <td>245772</td>\n",
       "    </tr>\n",
       "    <tr>\n",
       "      <td>1</td>\n",
       "      <td>15</td>\n",
       "      <td>915</td>\n",
       "      <td>769062</td>\n",
       "    </tr>\n",
       "    <tr>\n",
       "      <td>2</td>\n",
       "      <td>15</td>\n",
       "      <td>112</td>\n",
       "      <td>679677</td>\n",
       "    </tr>\n",
       "    <tr>\n",
       "      <td>3</td>\n",
       "      <td>15</td>\n",
       "      <td>812</td>\n",
       "      <td>769062</td>\n",
       "    </tr>\n",
       "    <tr>\n",
       "      <td>4</td>\n",
       "      <td>15</td>\n",
       "      <td>764</td>\n",
       "      <td>1285872</td>\n",
       "    </tr>\n",
       "  </tbody>\n",
       "</table>\n",
       "</div>"
      ],
      "text/plain": [
       "   itemid property    value\n",
       "0      15      678   245772\n",
       "1      15      915   769062\n",
       "2      15      112   679677\n",
       "3      15      812   769062\n",
       "4      15      764  1285872"
      ]
     },
     "execution_count": 47,
     "metadata": {},
     "output_type": "execute_result"
    }
   ],
   "source": [
    "df_properties.loc[df_properties['itemid'] == 15].head()"
   ]
  },
  {
   "cell_type": "code",
   "execution_count": 48,
   "metadata": {
    "scrolled": true
   },
   "outputs": [
    {
     "name": "stdout",
     "output_type": "stream",
     "text": [
      "Properties mapping has: 255722 records\n"
     ]
    }
   ],
   "source": [
    "# Dataset class has the method build_item_features that allows to fill in the properties data using created mapping.\n",
    "# Add feature mapping to the existing dataset using fit_partial method.\n",
    "# Data needs to be transformed to the acceptable format.\n",
    "# https://github.com/lyst/lightfm/issues/393#issuecomment-438237971\n",
    "\n",
    "\n",
    "# Transform item features list to the format required by Dataset class:\n",
    "# ['property:value']\n",
    "\n",
    "item_features_mapping = []\n",
    "for index, row in df_properties.iterrows():\n",
    "    item_features_mapping.append(str(row['property']) + ':' + str(row['value']))\n",
    "    \n",
    "print('Properties mapping has:', len(item_features_mapping), 'records')"
   ]
  },
  {
   "cell_type": "code",
   "execution_count": 49,
   "metadata": {},
   "outputs": [
    {
     "name": "stdout",
     "output_type": "stream",
     "text": [
      "Properties mapping has: 71436 unique records\n"
     ]
    }
   ],
   "source": [
    "# As the next step need to remove duplicates in this list.\n",
    "# So basically the feature mapping length is not equal to the number of features, \n",
    "# but is equal to the number of combinations ['property:value'] available in the dataframe.\n",
    "# There's no need to \"create\" all possible combinations mapping as this is redundant info.\n",
    "# Just need to create mapping for existing combinations.\n",
    "# Additionally, the LightFM package allows to add weight to this combination if needed.\n",
    "\n",
    "item_features_mapping = list( dict.fromkeys(item_features_mapping) )\n",
    "print('Properties mapping has:', len(item_features_mapping), 'unique records')"
   ]
  },
  {
   "cell_type": "code",
   "execution_count": 50,
   "metadata": {},
   "outputs": [
    {
     "name": "stdout",
     "output_type": "stream",
     "text": [
      "Finished in:  0.37  minutes\n"
     ]
    }
   ],
   "source": [
    "# Transform item features values to the format required by Dataset class:\n",
    "# [ (itemid_1, ['property_1:value_1', 'property_2:value_2']) ]\n",
    "\n",
    "start_time = time.time()\n",
    "\n",
    "item_features_values = []\n",
    "current_item = df_properties.itemid[0]\n",
    "current_item_features = []\n",
    "for index, row in df_properties.iterrows():\n",
    "    if row['itemid'] == current_item:\n",
    "        current_item_features.append(str(row['property']) + ':' + str(row['value']))\n",
    "    else:\n",
    "        item_features_values.append((current_item, current_item_features))\n",
    "        current_item = row['itemid']\n",
    "        current_item_features = [str(row['property']) + ':' + str(row['value'])]\n",
    "item_features_values.append((current_item, current_item_features))\n",
    "\n",
    "print('Finished in: ', round((time.time()-start_time)/60, 2), \" minutes\")"
   ]
  },
  {
   "cell_type": "code",
   "execution_count": 51,
   "metadata": {},
   "outputs": [
    {
     "data": {
      "text/plain": [
       "(15,\n",
       " ['678:245772',\n",
       "  '915:769062',\n",
       "  '112:679677',\n",
       "  '812:769062',\n",
       "  '764:1285872',\n",
       "  '839:245772',\n",
       "  '616:769062',\n",
       "  '888:789221',\n",
       "  '776:604754',\n",
       "  '917:789221',\n",
       "  '159:519769',\n",
       "  '364:1047026',\n",
       "  '698:433564',\n",
       "  '283:433564 245772 789221 809278 245772 1213953 429140 1322984 792235 79212 237874 654986 809278 1215254 249416 646928 750061 961877 1152409 780700 1128577 269926 754848 703408 469750 581854 1028919 1124417 484436 1256252 790607',\n",
       "  'categoryid:722',\n",
       "  '790:n8400.000',\n",
       "  '202:789221',\n",
       "  '227:433564',\n",
       "  '591:1116693',\n",
       "  '693:769062'])"
      ]
     },
     "execution_count": 51,
     "metadata": {},
     "output_type": "execute_result"
    }
   ],
   "source": [
    "item_features_values[0]"
   ]
  },
  {
   "cell_type": "markdown",
   "metadata": {},
   "source": [
    "# Preprocessing\n",
    "\n",
    "## Create LightFM dataset mapping"
   ]
  },
  {
   "cell_type": "code",
   "execution_count": 52,
   "metadata": {},
   "outputs": [],
   "source": [
    "# For model evaluation purposes (auc_score) dimensionality of train/test interaction matrices should be the same.\n",
    "# In order to achieve this, need to create mapping for all users and all items.\n",
    "# Then separately for train and test - the interactions will be filled in."
   ]
  },
  {
   "cell_type": "code",
   "execution_count": 53,
   "metadata": {},
   "outputs": [],
   "source": [
    "# Create mapping for users, items and item features.\n",
    "\n",
    "# The fit method of class Dataset takes the list of all the visitors and items.\n",
    "# The implementation allows to ignore duplicates.\n",
    "\n",
    "# Train set mapping.\n",
    "dataset = Dataset()\n",
    "dataset.fit(\n",
    "    users = (x for x in df_events['visitorid']),\n",
    "    items = (x for x in df_events['itemid']), \n",
    "    user_features=None, \n",
    "    item_features=item_features_mapping\n",
    ")\n",
    "\n",
    "dataset_train = dataset\n",
    "dataset_test = dataset\n",
    "dataset_all = dataset  # This will be used for production recommendations."
   ]
  },
  {
   "cell_type": "markdown",
   "metadata": {},
   "source": [
    "## Populate LightFM dataset with data"
   ]
  },
  {
   "cell_type": "code",
   "execution_count": 54,
   "metadata": {
    "scrolled": true
   },
   "outputs": [
    {
     "name": "stdout",
     "output_type": "stream",
     "text": [
      "Finished in:  0.0  minutes\n"
     ]
    }
   ],
   "source": [
    "# Populate interactions matrix for train and test sets.\n",
    "\n",
    "start_time = time.time()\n",
    "\n",
    "(interactions_train, weights_train) = dataset_train.build_interactions(df_events_train_interactions)\n",
    "(interactions_test, weights_test) = dataset_test.build_interactions(df_events_test_interactions)\n",
    "(interactions_all, weights_all) = dataset_all.build_interactions(df_events_all_interactions)\n",
    "\n",
    "\n",
    "# Choose interactions to be used at next stages.\n",
    "# The use of weights did not lead to improvement of model performance even after changing the scale to 1/700/1000.\n",
    "# Reason for that is that the LightFM model does not count in any explicit feedback which the weights can represent.\n",
    "# The idea behind the implementation is to count in the implicit feedback as binary problem, with either\n",
    "# positive or negative interactions. As decided above, addtocart and purchase are considered as positive.\n",
    "# The weights table wil not be needed for the purpose of this project.\n",
    "\n",
    "train = interactions_train\n",
    "test = interactions_test\n",
    "production = interactions_all  # This will be used for production recommendations.\n",
    "\n",
    "print('Finished in: ', round((time.time()-start_time)/60, 2), \" minutes\")"
   ]
  },
  {
   "cell_type": "code",
   "execution_count": 55,
   "metadata": {
    "scrolled": true
   },
   "outputs": [
    {
     "name": "stdout",
     "output_type": "stream",
     "text": [
      "Finished in:  0.01  minutes\n"
     ]
    }
   ],
   "source": [
    "# Populate item features matrix with values.\n",
    "\n",
    "start_time = time.time()\n",
    "\n",
    "item_features = dataset.build_item_features(item_features_values)\n",
    "\n",
    "print('Finished in: ', round((time.time()-start_time)/60, 2), \" minutes\")"
   ]
  },
  {
   "cell_type": "code",
   "execution_count": 56,
   "metadata": {},
   "outputs": [
    {
     "name": "stdout",
     "output_type": "stream",
     "text": [
      "Dataset class cross-check.\n",
      "\n",
      "All users expected: 1015\n",
      "Actual number of users: 1015\n",
      "\n",
      "All items expected: 9490\n",
      "Actual number of items: 9490\n",
      "\n",
      "Item features matrix is expected to be of size: ( 9490 , 80926 )\n",
      "Actual size is: (9490, 80926)\n",
      "\n",
      "Item features matrix number of values is expected to be: 265212\n",
      "Actual number of values is: 265212\n",
      "\n",
      "Interactions matrix is expected to be of the size: ( 1015 , 9490 )\n",
      "Actual size is: (1015, 9490)\n",
      "\n",
      "Interactions matrix number of values is expected to be: 12077\n",
      "Actual number of values is: 12077\n",
      "\n"
     ]
    }
   ],
   "source": [
    "print('Dataset class cross-check.')\n",
    "print()\n",
    "\n",
    "num_users, num_items = dataset.interactions_shape()\n",
    "print('All users expected:', qty_all_users)\n",
    "print('Actual number of users:', num_users)\n",
    "print()\n",
    "print('All items expected:', qty_all_items)\n",
    "print('Actual number of items:', num_items)\n",
    "print()\n",
    "\n",
    "print('Item features matrix is expected to be of size: (', qty_all_items, ',', \n",
    "      qty_all_items+len(item_features_mapping), ')')\n",
    "# Reason for this size is that there's a space for latent vector representation of each item plus all features.\n",
    "print('Actual size is:', dataset.item_features_shape())\n",
    "print()\n",
    "\n",
    "print('Item features matrix number of values is expected to be:', len(df_properties)+qty_all_items)\n",
    "# Reason for this size is that there's a space for latent vector representation of each item plus all features.\n",
    "print('Actual number of values is:', item_features.getnnz())\n",
    "print()\n",
    "\n",
    "print('Interactions matrix is expected to be of the size: (', qty_all_users, ',', qty_all_items, ')')\n",
    "print('Actual size is:', dataset.interactions_shape())\n",
    "print()\n",
    "\n",
    "print('Interactions matrix number of values is expected to be:', len(df_events_train) + len(df_events_test))\n",
    "print('Actual number of values is:', train.getnnz() + test.getnnz())\n",
    "print()"
   ]
  },
  {
   "cell_type": "markdown",
   "metadata": {},
   "source": [
    "# Collaborative LightFM model training"
   ]
  },
  {
   "cell_type": "code",
   "execution_count": 57,
   "metadata": {},
   "outputs": [
    {
     "name": "stdout",
     "output_type": "stream",
     "text": [
      "Model trained in:  0.03  minutes\n"
     ]
    }
   ],
   "source": [
    "# Item features are not passed to the model. This means pure collaborative filtering.\n",
    "\n",
    "start_time = time.time()\n",
    "\n",
    "model_collab = LightFM(no_components=100, loss='warp', random_state=2020)\n",
    "\n",
    "model_collab.fit(train, \n",
    "                 item_features=None, \n",
    "                 epochs=100, \n",
    "                 num_threads=4)\n",
    "\n",
    "print('Model trained in: ', round((time.time()-start_time)/60, 2), \" minutes\")"
   ]
  },
  {
   "cell_type": "code",
   "execution_count": 58,
   "metadata": {},
   "outputs": [
    {
     "data": {
      "text/plain": [
       "{'loss': 'warp',\n",
       " 'learning_schedule': 'adagrad',\n",
       " 'no_components': 100,\n",
       " 'learning_rate': 0.05,\n",
       " 'k': 5,\n",
       " 'n': 10,\n",
       " 'rho': 0.95,\n",
       " 'epsilon': 1e-06,\n",
       " 'max_sampled': 10,\n",
       " 'item_alpha': 0.0,\n",
       " 'user_alpha': 0.0,\n",
       " 'random_state': RandomState(MT19937) at 0x7FA2F1DB6160}"
      ]
     },
     "execution_count": 58,
     "metadata": {},
     "output_type": "execute_result"
    }
   ],
   "source": [
    "model_collab.get_params()"
   ]
  },
  {
   "cell_type": "markdown",
   "metadata": {},
   "source": [
    "# Collaborative LightFM model evaluation"
   ]
  },
  {
   "cell_type": "code",
   "execution_count": 59,
   "metadata": {},
   "outputs": [],
   "source": [
    "# Since the recommendation engine is a ranking problem, AUC and Precision at K will be used for evaluation.\n",
    "# Both of them are measuring the ranking quality, which means for each particular user the items can be sorted \n",
    "# in the order of their fit/interest to the user.\n",
    "\n",
    "\n",
    "# [source: https://making.lyst.com/lightfm/docs/lightfm.evaluation.html]\n",
    "\n",
    "# AUC (area under the curve) shows how well the items are ranked. Perfect ranking means that any random positive\n",
    "# example will be ranked higher than any random negative example. Highest metric's value is 1.0 (100%)\n",
    "\n",
    "# Precision at 'k' shows the ratio of known positive examples in top 'k' ranked items.\n",
    "# Highest metric's value is 1.0 (100%)\n",
    "\n",
    "\n",
    "\n",
    "# Set parameter \"k\" value to check precision at \"k\".\n",
    "# Initially select k=3 as it will allow to have 4 possible combinations (bundles) to offer with discount \n",
    "# to the user and achieve the goal of increasing the basket value.\n",
    "\n",
    "# User won't be offered set of 2 for each item as this is simpler task and can be implemented on all pages if there\n",
    "# is a business need for that. This will lead to better user experience and avoid recommending too much which \n",
    "# can cause FOMO (fear of missing out) when the user gets stuck in front of too wide range of choices.\n",
    "\n",
    "\n",
    "k = 3"
   ]
  },
  {
   "cell_type": "code",
   "execution_count": 60,
   "metadata": {},
   "outputs": [
    {
     "name": "stdout",
     "output_type": "stream",
     "text": [
      "Train AUC score:  0.9999983\n",
      "Calculated in:  0.01  minutes\n"
     ]
    }
   ],
   "source": [
    "start_time = time.time()\n",
    "\n",
    "train_auc = auc_score(model_collab, \n",
    "                      train, \n",
    "                      item_features=None, \n",
    "                      num_threads=4).mean()\n",
    "\n",
    "print('Train AUC score: ', train_auc)\n",
    "print('Calculated in: ', round((time.time()-start_time)/60, 2), \" minutes\")"
   ]
  },
  {
   "cell_type": "code",
   "execution_count": 61,
   "metadata": {},
   "outputs": [
    {
     "name": "stdout",
     "output_type": "stream",
     "text": [
      "Test AUC score:  0.65434647\n",
      "Calculated in:  0.0  minutes\n"
     ]
    }
   ],
   "source": [
    "start_time = time.time()\n",
    "\n",
    "# Train interactions will be also passed to avoid model re-recommending items to users.\n",
    "test_auc = auc_score(model_collab,\n",
    "                     test, \n",
    "                     item_features=None, \n",
    "                     train_interactions = train, \n",
    "                     num_threads=4).mean()\n",
    "\n",
    "print('Test AUC score: ', test_auc)\n",
    "print('Calculated in: ', round((time.time()-start_time)/60, 2), \" minutes\")"
   ]
  },
  {
   "cell_type": "code",
   "execution_count": 62,
   "metadata": {},
   "outputs": [
    {
     "name": "stdout",
     "output_type": "stream",
     "text": [
      "Train precision at k:  0.7899966\n",
      "Calculated in:  0.01  minutes\n"
     ]
    }
   ],
   "source": [
    "start_time = time.time()\n",
    "\n",
    "train_precision = precision_at_k(model_collab, \n",
    "                                 train,\n",
    "                                 item_features=None, \n",
    "                                 num_threads=4, \n",
    "                                 k=k).mean()\n",
    "\n",
    "print('Train precision at k: ', train_precision)\n",
    "print('Calculated in: ', round((time.time()-start_time)/60, 2), \" minutes\")"
   ]
  },
  {
   "cell_type": "code",
   "execution_count": 63,
   "metadata": {
    "scrolled": false
   },
   "outputs": [
    {
     "name": "stdout",
     "output_type": "stream",
     "text": [
      "Test precision at k:  0.012444445\n",
      "Calculated in:  0.0  minutes\n"
     ]
    }
   ],
   "source": [
    "start_time = time.time()\n",
    "\n",
    "test_precision = precision_at_k(model_collab, \n",
    "                                test, \n",
    "                                item_features=None, \n",
    "                                train_interactions = train, \n",
    "                                num_threads=4, \n",
    "                                k=k).mean()\n",
    "\n",
    "print('Test precision at k: ', test_precision)\n",
    "print('Calculated in: ', round((time.time()-start_time)/60, 2), \" minutes\")"
   ]
  },
  {
   "cell_type": "code",
   "execution_count": 64,
   "metadata": {},
   "outputs": [],
   "source": [
    "model_collab_results = {}\n",
    "model_collab_results['AUC train'] = train_auc\n",
    "model_collab_results['AUC test'] = test_auc\n",
    "model_collab_results['Precision @3 train'] = train_precision\n",
    "model_collab_results['Precision @3 test'] = test_precision"
   ]
  },
  {
   "cell_type": "code",
   "execution_count": 65,
   "metadata": {},
   "outputs": [
    {
     "data": {
      "text/plain": [
       "{'AUC train': 0.9999983,\n",
       " 'AUC test': 0.65434647,\n",
       " 'Precision @3 train': 0.7899966,\n",
       " 'Precision @3 test': 0.012444445}"
      ]
     },
     "execution_count": 65,
     "metadata": {},
     "output_type": "execute_result"
    }
   ],
   "source": [
    "model_collab_results"
   ]
  },
  {
   "cell_type": "markdown",
   "metadata": {},
   "source": [
    "# Hybrid LightFM model training "
   ]
  },
  {
   "cell_type": "code",
   "execution_count": 66,
   "metadata": {},
   "outputs": [
    {
     "name": "stdout",
     "output_type": "stream",
     "text": [
      "Model trained in:  0.44  minutes\n"
     ]
    }
   ],
   "source": [
    "# Update the model with item features to drive content based filtering. This will mean hybrid predictions.\n",
    "# Hybrid model is benefiting from collaborative and content based filtering.\n",
    "\n",
    "start_time = time.time()\n",
    "\n",
    "model_hybrid = LightFM(no_components=100, loss='warp', random_state=2020)\n",
    "\n",
    "NUM_EPOCHS = 100  # Initial number of epochs to be set.\n",
    "\n",
    "model_hybrid.fit(train, \n",
    "                 item_features=item_features, \n",
    "                 epochs=NUM_EPOCHS, \n",
    "                 num_threads=4)\n",
    "\n",
    "print('Model trained in: ', round((time.time()-start_time)/60, 2), \" minutes\")"
   ]
  },
  {
   "cell_type": "code",
   "execution_count": 67,
   "metadata": {
    "scrolled": true
   },
   "outputs": [
    {
     "data": {
      "text/plain": [
       "{'loss': 'warp',\n",
       " 'learning_schedule': 'adagrad',\n",
       " 'no_components': 100,\n",
       " 'learning_rate': 0.05,\n",
       " 'k': 5,\n",
       " 'n': 10,\n",
       " 'rho': 0.95,\n",
       " 'epsilon': 1e-06,\n",
       " 'max_sampled': 10,\n",
       " 'item_alpha': 0.0,\n",
       " 'user_alpha': 0.0,\n",
       " 'random_state': RandomState(MT19937) at 0x7FA2F1DB65A0}"
      ]
     },
     "execution_count": 67,
     "metadata": {},
     "output_type": "execute_result"
    }
   ],
   "source": [
    "model_hybrid.get_params()"
   ]
  },
  {
   "cell_type": "markdown",
   "metadata": {},
   "source": [
    "# Hybrid LightFM model evaluation"
   ]
  },
  {
   "cell_type": "code",
   "execution_count": 68,
   "metadata": {},
   "outputs": [
    {
     "name": "stdout",
     "output_type": "stream",
     "text": [
      "Train AUC score:  0.99953717\n",
      "Calculated in:  0.12  minutes\n"
     ]
    }
   ],
   "source": [
    "start_time = time.time()\n",
    "\n",
    "train_auc = auc_score(model_hybrid, \n",
    "                      train, \n",
    "                      item_features=item_features, \n",
    "                      num_threads=4).mean()\n",
    "\n",
    "print('Train AUC score: ', train_auc)\n",
    "print('Calculated in: ', round((time.time()-start_time)/60, 2), \" minutes\")"
   ]
  },
  {
   "cell_type": "code",
   "execution_count": 69,
   "metadata": {},
   "outputs": [
    {
     "name": "stdout",
     "output_type": "stream",
     "text": [
      "Test AUC score:  0.84518975\n",
      "Calculated in:  0.05  minutes\n"
     ]
    }
   ],
   "source": [
    "start_time = time.time()\n",
    "\n",
    "# Train interactions will be also passed to avoid model re-recommending items to users.\n",
    "test_auc = auc_score(model_hybrid,\n",
    "                     test, \n",
    "                     item_features=item_features, \n",
    "                     train_interactions = train, \n",
    "                     num_threads=4).mean()\n",
    "\n",
    "print('Test AUC score: ', test_auc)\n",
    "print('Calculated in: ', round((time.time()-start_time)/60, 2), \" minutes\")"
   ]
  },
  {
   "cell_type": "code",
   "execution_count": 70,
   "metadata": {},
   "outputs": [
    {
     "name": "stdout",
     "output_type": "stream",
     "text": [
      "Train precision at k:  0.5577252\n",
      "Calculated in:  0.12  minutes\n"
     ]
    }
   ],
   "source": [
    "start_time = time.time()\n",
    "\n",
    "train_precision = precision_at_k(model_hybrid, \n",
    "                                 train,\n",
    "                                 item_features=item_features, \n",
    "                                 num_threads=4, \n",
    "                                 k=k).mean()\n",
    "\n",
    "print('Train precision at k: ', train_precision)\n",
    "print('Calculated in: ', round((time.time()-start_time)/60, 2), \" minutes\")"
   ]
  },
  {
   "cell_type": "code",
   "execution_count": 71,
   "metadata": {
    "scrolled": false
   },
   "outputs": [
    {
     "name": "stdout",
     "output_type": "stream",
     "text": [
      "Test precision at k:  0.030222224\n",
      "Calculated in:  0.05  minutes\n"
     ]
    }
   ],
   "source": [
    "start_time = time.time()\n",
    "\n",
    "test_precision = precision_at_k(model_hybrid, \n",
    "                                test, \n",
    "                                item_features=item_features, \n",
    "                                train_interactions = train, \n",
    "                                num_threads=4, \n",
    "                                k=k).mean()\n",
    "\n",
    "print('Test precision at k: ', test_precision)\n",
    "print('Calculated in: ', round((time.time()-start_time)/60, 2), \" minutes\")"
   ]
  },
  {
   "cell_type": "code",
   "execution_count": 72,
   "metadata": {},
   "outputs": [],
   "source": [
    "model_hybrid_results = {}\n",
    "model_hybrid_results['AUC train'] = train_auc\n",
    "model_hybrid_results['AUC test'] = test_auc\n",
    "model_hybrid_results['Precision @3 train'] = train_precision\n",
    "model_hybrid_results['Precision @3 test'] = test_precision"
   ]
  },
  {
   "cell_type": "code",
   "execution_count": 73,
   "metadata": {
    "scrolled": true
   },
   "outputs": [
    {
     "name": "stdout",
     "output_type": "stream",
     "text": [
      "Collaborative filtering results:  {'AUC train': 0.9999983, 'AUC test': 0.65434647, 'Precision @3 train': 0.7899966, 'Precision @3 test': 0.012444445}\n",
      "\n",
      "Hybrid filtering results:  {'AUC train': 0.99953717, 'AUC test': 0.84518975, 'Precision @3 train': 0.5577252, 'Precision @3 test': 0.030222224}\n"
     ]
    }
   ],
   "source": [
    "# Compare results of collaborative and hybrid models\n",
    "print('Collaborative filtering results: ', model_collab_results)\n",
    "print()\n",
    "print('Hybrid filtering results: ', model_hybrid_results)"
   ]
  },
  {
   "cell_type": "code",
   "execution_count": 74,
   "metadata": {},
   "outputs": [],
   "source": [
    "# From the above comparison it's clear that passing item features to the model improves both metrics."
   ]
  },
  {
   "cell_type": "markdown",
   "metadata": {},
   "source": [
    "# Visualize learning process"
   ]
  },
  {
   "cell_type": "code",
   "execution_count": 75,
   "metadata": {},
   "outputs": [],
   "source": [
    "# Visualization of the learning process will show how quickly the model as learning during epochs.\n",
    "# Identifying the point of slowing down or termination of learning will help to improve efficiency by \n",
    "# limiting the number of epochs needed to achieve the result that sufficies."
   ]
  },
  {
   "cell_type": "code",
   "execution_count": 76,
   "metadata": {},
   "outputs": [],
   "source": [
    "# AUC visualization function.\n",
    "\n",
    "def learning_vis_auc(model, train, test, item_features, epochs):\n",
    "    \n",
    "    stats = pd.DataFrame(columns = ['epochs', 'train_auc', 'test_auc', 'runtime_min'])\n",
    "    \n",
    "    total_runtime_min = 0\n",
    "    \n",
    "    for epoch in range(1,epochs+1):\n",
    "        \n",
    "        start_time = time.time()\n",
    "        \n",
    "        model.fit(train, \n",
    "                  item_features=item_features, \n",
    "                  epochs=epoch, \n",
    "                  num_threads=4)\n",
    "        \n",
    "        train_auc = auc_score(model, \n",
    "                              train, \n",
    "                              item_features=item_features, \n",
    "                              num_threads=4).mean()\n",
    "\n",
    "        test_auc = auc_score(model,\n",
    "                             test, \n",
    "                             item_features=item_features, \n",
    "                             train_interactions = train, \n",
    "                             num_threads=4).mean()\n",
    "\n",
    "        runtime_min = round((time.time()-start_time)/60, 6)        \n",
    "        total_runtime_min += runtime_min\n",
    "        \n",
    "        stats = stats.append({\n",
    "            'epochs': int(epoch), \n",
    "            'train_auc': float(train_auc), \n",
    "            'test_auc': float(test_auc),\n",
    "            'runtime_min': float(runtime_min)},\n",
    "            ignore_index=True)\n",
    "        \n",
    "    \n",
    "    import matplotlib.pyplot as plt\n",
    "    figure, axis = plt.subplots()\n",
    "    figure.suptitle('Learning progress: AUC')\n",
    "    axis.plot(stats['epochs'], stats['train_auc'], label='train')\n",
    "    axis.plot(stats['epochs'], stats['test_auc'], label='test')\n",
    "    axis.set_xlabel('Epochs')\n",
    "    axis.set_ylabel('AUC score')\n",
    "    axis.legend()\n",
    "    \n",
    "    return(figure, stats, total_runtime_min)"
   ]
  },
  {
   "cell_type": "code",
   "execution_count": 77,
   "metadata": {},
   "outputs": [
    {
     "name": "stdout",
     "output_type": "stream",
     "text": [
      "Calculated in:  42.84  minutes\n"
     ]
    },
    {
     "data": {
      "image/png": "[encoded data removed]",
      "text/plain": [
       "<Figure size 432x288 with 1 Axes>"
      ]
     },
     "metadata": {
      "needs_background": "light"
     },
     "output_type": "display_data"
    }
   ],
   "source": [
    "start_time = time.time()\n",
    "\n",
    "learning_vis_auc_output = learning_vis_auc(model_hybrid, train, test, item_features, epochs=NUM_EPOCHS)\n",
    "\n",
    "print('Calculated in: ', round((time.time()-start_time)/60, 2), \" minutes\")"
   ]
  },
  {
   "cell_type": "code",
   "execution_count": 78,
   "metadata": {},
   "outputs": [
    {
     "data": {
      "text/html": [
       "<div>\n",
       "<style scoped>\n",
       "    .dataframe tbody tr th:only-of-type {\n",
       "        vertical-align: middle;\n",
       "    }\n",
       "\n",
       "    .dataframe tbody tr th {\n",
       "        vertical-align: top;\n",
       "    }\n",
       "\n",
       "    .dataframe thead th {\n",
       "        text-align: right;\n",
       "    }\n",
       "</style>\n",
       "<table border=\"1\" class=\"dataframe\">\n",
       "  <thead>\n",
       "    <tr style=\"text-align: right;\">\n",
       "      <th></th>\n",
       "      <th>epochs</th>\n",
       "      <th>train_auc</th>\n",
       "      <th>test_auc</th>\n",
       "      <th>runtime_min</th>\n",
       "    </tr>\n",
       "  </thead>\n",
       "  <tbody>\n",
       "    <tr>\n",
       "      <td>0</td>\n",
       "      <td>1.0</td>\n",
       "      <td>0.575920</td>\n",
       "      <td>0.645920</td>\n",
       "      <td>0.193750</td>\n",
       "    </tr>\n",
       "    <tr>\n",
       "      <td>1</td>\n",
       "      <td>2.0</td>\n",
       "      <td>0.665595</td>\n",
       "      <td>0.700700</td>\n",
       "      <td>0.202326</td>\n",
       "    </tr>\n",
       "    <tr>\n",
       "      <td>2</td>\n",
       "      <td>3.0</td>\n",
       "      <td>0.704638</td>\n",
       "      <td>0.723904</td>\n",
       "      <td>0.211005</td>\n",
       "    </tr>\n",
       "    <tr>\n",
       "      <td>3</td>\n",
       "      <td>4.0</td>\n",
       "      <td>0.770477</td>\n",
       "      <td>0.741530</td>\n",
       "      <td>0.218210</td>\n",
       "    </tr>\n",
       "    <tr>\n",
       "      <td>4</td>\n",
       "      <td>5.0</td>\n",
       "      <td>0.818777</td>\n",
       "      <td>0.774045</td>\n",
       "      <td>0.228176</td>\n",
       "    </tr>\n",
       "    <tr>\n",
       "      <td>...</td>\n",
       "      <td>...</td>\n",
       "      <td>...</td>\n",
       "      <td>...</td>\n",
       "      <td>...</td>\n",
       "    </tr>\n",
       "    <tr>\n",
       "      <td>95</td>\n",
       "      <td>96.0</td>\n",
       "      <td>0.999500</td>\n",
       "      <td>0.838356</td>\n",
       "      <td>0.571935</td>\n",
       "    </tr>\n",
       "    <tr>\n",
       "      <td>96</td>\n",
       "      <td>97.0</td>\n",
       "      <td>0.999470</td>\n",
       "      <td>0.836078</td>\n",
       "      <td>0.575037</td>\n",
       "    </tr>\n",
       "    <tr>\n",
       "      <td>97</td>\n",
       "      <td>98.0</td>\n",
       "      <td>0.999505</td>\n",
       "      <td>0.845081</td>\n",
       "      <td>0.575051</td>\n",
       "    </tr>\n",
       "    <tr>\n",
       "      <td>98</td>\n",
       "      <td>99.0</td>\n",
       "      <td>0.999561</td>\n",
       "      <td>0.841411</td>\n",
       "      <td>0.581202</td>\n",
       "    </tr>\n",
       "    <tr>\n",
       "      <td>99</td>\n",
       "      <td>100.0</td>\n",
       "      <td>0.999536</td>\n",
       "      <td>0.845265</td>\n",
       "      <td>0.602118</td>\n",
       "    </tr>\n",
       "  </tbody>\n",
       "</table>\n",
       "<p>100 rows × 4 columns</p>\n",
       "</div>"
      ],
      "text/plain": [
       "    epochs  train_auc  test_auc  runtime_min\n",
       "0      1.0   0.575920  0.645920     0.193750\n",
       "1      2.0   0.665595  0.700700     0.202326\n",
       "2      3.0   0.704638  0.723904     0.211005\n",
       "3      4.0   0.770477  0.741530     0.218210\n",
       "4      5.0   0.818777  0.774045     0.228176\n",
       "..     ...        ...       ...          ...\n",
       "95    96.0   0.999500  0.838356     0.571935\n",
       "96    97.0   0.999470  0.836078     0.575037\n",
       "97    98.0   0.999505  0.845081     0.575051\n",
       "98    99.0   0.999561  0.841411     0.581202\n",
       "99   100.0   0.999536  0.845265     0.602118\n",
       "\n",
       "[100 rows x 4 columns]"
      ]
     },
     "execution_count": 78,
     "metadata": {},
     "output_type": "execute_result"
    }
   ],
   "source": [
    "learning_vis_auc_output[1]"
   ]
  },
  {
   "cell_type": "code",
   "execution_count": 79,
   "metadata": {},
   "outputs": [
    {
     "data": {
      "text/plain": [
       "42.836369000000005"
      ]
     },
     "execution_count": 79,
     "metadata": {},
     "output_type": "execute_result"
    }
   ],
   "source": [
    "learning_vis_auc_output[2]"
   ]
  },
  {
   "cell_type": "code",
   "execution_count": 80,
   "metadata": {},
   "outputs": [],
   "source": [
    "# Precision visualization.\n",
    "\n",
    "def learning_vis_precision(model, train, test, item_features, k, epochs):\n",
    "    \n",
    "    stats = pd.DataFrame(columns = ['epochs', 'train_precision', 'test_precision', '@k' 'runtime_min'])\n",
    "    \n",
    "    total_runtime_min = 0\n",
    "    \n",
    "    for epoch in range(1,epochs+1):\n",
    "        \n",
    "        start_time = time.time()\n",
    "        \n",
    "        model.fit(train, \n",
    "                  item_features=item_features,\n",
    "                  epochs=epoch, \n",
    "                  num_threads=4)\n",
    "        \n",
    "        train_precision = precision_at_k(model,\n",
    "                                         train,\n",
    "                                         item_features=item_features,\n",
    "                                         num_threads=4, \n",
    "                                         k=k).mean()\n",
    "\n",
    "        test_precision = precision_at_k(model, \n",
    "                                        test,\n",
    "                                        item_features=item_features,\n",
    "                                        train_interactions=train,\n",
    "                                        num_threads=4, \n",
    "                                        k=k).mean()\n",
    "\n",
    "        runtime_min = round((time.time()-start_time)/60, 6)\n",
    "        total_runtime_min += runtime_min\n",
    "        \n",
    "        stats = stats.append({\n",
    "            'epochs': int(epoch), \n",
    "            'train_precision': float(train_precision), \n",
    "            'test_precision': float(test_precision),\n",
    "            '@k': int(k), \n",
    "            'runtime_min': float(runtime_min)},\n",
    "            ignore_index=True)\n",
    "        \n",
    "    \n",
    "    import matplotlib.pyplot as plt\n",
    "    figure, axis = plt.subplots()\n",
    "    figure.suptitle('Learning progress: precision @%s' %k)\n",
    "    axis.plot(stats['epochs'], stats['train_precision'], label='train')\n",
    "    axis.plot(stats['epochs'], stats['test_precision'], label='test')\n",
    "    axis.set_xlabel('Epochs')\n",
    "    axis.set_ylabel('Precision')\n",
    "    axis.legend()\n",
    "    \n",
    "    return(figure, stats, total_runtime_min)"
   ]
  },
  {
   "cell_type": "code",
   "execution_count": 81,
   "metadata": {},
   "outputs": [
    {
     "name": "stdout",
     "output_type": "stream",
     "text": [
      "Calculated in:  42.6  minutes\n"
     ]
    },
    {
     "data": {
      "image/png": "[encoded data removed]",
      "text/plain": [
       "<Figure size 432x288 with 1 Axes>"
      ]
     },
     "metadata": {
      "needs_background": "light"
     },
     "output_type": "display_data"
    }
   ],
   "source": [
    "start_time = time.time()\n",
    "\n",
    "prec_at_3 = learning_vis_precision(model_hybrid, train, test, item_features, k=3, epochs=NUM_EPOCHS)\n",
    "\n",
    "print('Calculated in: ', round((time.time()-start_time)/60, 2), \" minutes\")"
   ]
  },
  {
   "cell_type": "code",
   "execution_count": 82,
   "metadata": {},
   "outputs": [
    {
     "data": {
      "text/html": [
       "<div>\n",
       "<style scoped>\n",
       "    .dataframe tbody tr th:only-of-type {\n",
       "        vertical-align: middle;\n",
       "    }\n",
       "\n",
       "    .dataframe tbody tr th {\n",
       "        vertical-align: top;\n",
       "    }\n",
       "\n",
       "    .dataframe thead th {\n",
       "        text-align: right;\n",
       "    }\n",
       "</style>\n",
       "<table border=\"1\" class=\"dataframe\">\n",
       "  <thead>\n",
       "    <tr style=\"text-align: right;\">\n",
       "      <th></th>\n",
       "      <th>epochs</th>\n",
       "      <th>train_precision</th>\n",
       "      <th>test_precision</th>\n",
       "      <th>@kruntime_min</th>\n",
       "      <th>@k</th>\n",
       "      <th>runtime_min</th>\n",
       "    </tr>\n",
       "  </thead>\n",
       "  <tbody>\n",
       "    <tr>\n",
       "      <td>0</td>\n",
       "      <td>1.0</td>\n",
       "      <td>0.003768</td>\n",
       "      <td>0.000000</td>\n",
       "      <td>NaN</td>\n",
       "      <td>3.0</td>\n",
       "      <td>0.188984</td>\n",
       "    </tr>\n",
       "    <tr>\n",
       "      <td>1</td>\n",
       "      <td>2.0</td>\n",
       "      <td>0.008222</td>\n",
       "      <td>0.007111</td>\n",
       "      <td>NaN</td>\n",
       "      <td>3.0</td>\n",
       "      <td>0.195940</td>\n",
       "    </tr>\n",
       "    <tr>\n",
       "      <td>2</td>\n",
       "      <td>3.0</td>\n",
       "      <td>0.008222</td>\n",
       "      <td>0.004444</td>\n",
       "      <td>NaN</td>\n",
       "      <td>3.0</td>\n",
       "      <td>0.201109</td>\n",
       "    </tr>\n",
       "    <tr>\n",
       "      <td>3</td>\n",
       "      <td>4.0</td>\n",
       "      <td>0.013703</td>\n",
       "      <td>0.004444</td>\n",
       "      <td>NaN</td>\n",
       "      <td>3.0</td>\n",
       "      <td>0.208089</td>\n",
       "    </tr>\n",
       "    <tr>\n",
       "      <td>4</td>\n",
       "      <td>5.0</td>\n",
       "      <td>0.026721</td>\n",
       "      <td>0.010667</td>\n",
       "      <td>NaN</td>\n",
       "      <td>3.0</td>\n",
       "      <td>0.215104</td>\n",
       "    </tr>\n",
       "    <tr>\n",
       "      <td>...</td>\n",
       "      <td>...</td>\n",
       "      <td>...</td>\n",
       "      <td>...</td>\n",
       "      <td>...</td>\n",
       "      <td>...</td>\n",
       "      <td>...</td>\n",
       "    </tr>\n",
       "    <tr>\n",
       "      <td>95</td>\n",
       "      <td>96.0</td>\n",
       "      <td>0.539568</td>\n",
       "      <td>0.032889</td>\n",
       "      <td>NaN</td>\n",
       "      <td>3.0</td>\n",
       "      <td>0.574232</td>\n",
       "    </tr>\n",
       "    <tr>\n",
       "      <td>96</td>\n",
       "      <td>97.0</td>\n",
       "      <td>0.551559</td>\n",
       "      <td>0.033778</td>\n",
       "      <td>NaN</td>\n",
       "      <td>3.0</td>\n",
       "      <td>0.574788</td>\n",
       "    </tr>\n",
       "    <tr>\n",
       "      <td>97</td>\n",
       "      <td>98.0</td>\n",
       "      <td>0.551559</td>\n",
       "      <td>0.034667</td>\n",
       "      <td>NaN</td>\n",
       "      <td>3.0</td>\n",
       "      <td>0.574860</td>\n",
       "    </tr>\n",
       "    <tr>\n",
       "      <td>98</td>\n",
       "      <td>99.0</td>\n",
       "      <td>0.561494</td>\n",
       "      <td>0.029333</td>\n",
       "      <td>NaN</td>\n",
       "      <td>3.0</td>\n",
       "      <td>0.579589</td>\n",
       "    </tr>\n",
       "    <tr>\n",
       "      <td>99</td>\n",
       "      <td>100.0</td>\n",
       "      <td>0.553272</td>\n",
       "      <td>0.030222</td>\n",
       "      <td>NaN</td>\n",
       "      <td>3.0</td>\n",
       "      <td>0.580510</td>\n",
       "    </tr>\n",
       "  </tbody>\n",
       "</table>\n",
       "<p>100 rows × 6 columns</p>\n",
       "</div>"
      ],
      "text/plain": [
       "    epochs  train_precision  test_precision  @kruntime_min   @k  runtime_min\n",
       "0      1.0         0.003768        0.000000            NaN  3.0     0.188984\n",
       "1      2.0         0.008222        0.007111            NaN  3.0     0.195940\n",
       "2      3.0         0.008222        0.004444            NaN  3.0     0.201109\n",
       "3      4.0         0.013703        0.004444            NaN  3.0     0.208089\n",
       "4      5.0         0.026721        0.010667            NaN  3.0     0.215104\n",
       "..     ...              ...             ...            ...  ...          ...\n",
       "95    96.0         0.539568        0.032889            NaN  3.0     0.574232\n",
       "96    97.0         0.551559        0.033778            NaN  3.0     0.574788\n",
       "97    98.0         0.551559        0.034667            NaN  3.0     0.574860\n",
       "98    99.0         0.561494        0.029333            NaN  3.0     0.579589\n",
       "99   100.0         0.553272        0.030222            NaN  3.0     0.580510\n",
       "\n",
       "[100 rows x 6 columns]"
      ]
     },
     "execution_count": 82,
     "metadata": {},
     "output_type": "execute_result"
    }
   ],
   "source": [
    "prec_at_3[1]"
   ]
  },
  {
   "cell_type": "code",
   "execution_count": 83,
   "metadata": {},
   "outputs": [
    {
     "data": {
      "text/plain": [
       "42.59934299999999"
      ]
     },
     "execution_count": 83,
     "metadata": {},
     "output_type": "execute_result"
    }
   ],
   "source": [
    "prec_at_3[2]"
   ]
  },
  {
   "cell_type": "code",
   "execution_count": 84,
   "metadata": {},
   "outputs": [],
   "source": [
    "# Conclusion on learning process visualization.\n",
    "\n",
    "# From the plots above it is clear the learning process slows down significantly after 30 epochs.\n",
    "# In order to save the computational costs and optimize the process, set new value for NUM_EPOCHS:\n",
    "\n",
    "NUM_EPOCHS = 30"
   ]
  },
  {
   "cell_type": "markdown",
   "metadata": {},
   "source": [
    "# Hyperparameter tuning"
   ]
  },
  {
   "cell_type": "code",
   "execution_count": 85,
   "metadata": {},
   "outputs": [],
   "source": [
    "# Attempting to regularize model and achieve better results on test set by hyperparameter tuning.\n",
    "\n",
    "# The author of the LightFM package Maciej Kula has also developed the algorythm for hyperparameter tuning.\n",
    "# Original algorythm was posted on GitHub 23 Apr 2018.\n",
    "# Code is available via url https://gist.github.com/maciejkula/29aaf2db2efee5775a7f14dc387f0c0f\n",
    "\n",
    "# For the purposes of this project the original code was modified to meet the needs.\n",
    "\n",
    "# There will be two attempts:\n",
    "# AUC focused tuning - when the best model will be chosen based on the best AUC result.\n",
    "# Precision focused - when the measure of success to chose the best model is precision at 'k'"
   ]
  },
  {
   "cell_type": "code",
   "execution_count": 86,
   "metadata": {},
   "outputs": [],
   "source": [
    "# Split train set into train_train and validate subsets.\n",
    "\n",
    "(train_train, validate) = random_train_test_split(train, \n",
    "                                                  test_percentage=0.2)"
   ]
  },
  {
   "cell_type": "code",
   "execution_count": 87,
   "metadata": {},
   "outputs": [],
   "source": [
    "# The range of hyperparameters needs to be set up manually.\n",
    "# Then function will randomly try various combinations to find the best model depending on goal (AUC/precision).\n",
    "\n",
    "\n",
    "def sample_hyperparameters():\n",
    "    \n",
    "    # Choose the hyperparameters to tune and the range of values.\n",
    "\n",
    "    while True:\n",
    "        yield {\n",
    "            'no_components': np.random.randint(10, 100),\n",
    "            'learning_schedule': np.random.choice(['adagrad', 'adadelta']),\n",
    "            'loss': np.random.choice(['bpr', 'warp', 'warp-kos']),\n",
    "            'k': np.random.randint(1, 10),\n",
    "            'n': np.random.randint(1, 20),\n",
    "            'learning_rate': np.random.exponential(0.005),\n",
    "            'item_alpha': np.random.exponential(1e-10),\n",
    "            'max_sampled': np.random.randint(5, 30),\n",
    "            'num_epochs': np.random.randint(10, 100)\n",
    "        }"
   ]
  },
  {
   "cell_type": "markdown",
   "metadata": {},
   "source": [
    "# AUC focused model - Tuning"
   ]
  },
  {
   "cell_type": "code",
   "execution_count": 88,
   "metadata": {
    "scrolled": true
   },
   "outputs": [
    {
     "name": "stdout",
     "output_type": "stream",
     "text": [
      "Best ranking score 0.5364086031913757 at {'no_components': 63, 'learning_schedule': 'adadelta', 'loss': 'bpr', 'k': 8, 'n': 17, 'learning_rate': 0.0032541544211442037, 'item_alpha': 7.961395805169449e-11, 'max_sampled': 25, 'num_epochs': 33}\n",
      "Calculated in:  1.07  minutes\n"
     ]
    }
   ],
   "source": [
    "# Improving AUC metric.\n",
    "\n",
    "\n",
    "def random_search_auc(train_train, validate, num_samples=50, num_threads=4):\n",
    "    \n",
    "    # Randomly search for various combinations of hyperparameters.\n",
    "\n",
    "\n",
    "    for hyperparams in islice(sample_hyperparameters(), num_samples):\n",
    "        num_epochs = hyperparams.pop('num_epochs')\n",
    "\n",
    "        model_tuned_auc = LightFM(**hyperparams)\n",
    "        model_tuned_auc.fit(train_train, epochs=num_epochs, num_threads=num_threads)\n",
    "\n",
    "        ranking_score = auc_score(model_tuned_auc, \n",
    "                                  validate, train_interactions=train_train, \n",
    "                                  num_threads=num_threads).mean()\n",
    "\n",
    "        hyperparams['num_epochs'] = num_epochs\n",
    "        \n",
    "        yield (ranking_score, hyperparams, model_tuned_auc)\n",
    "        # Returns: generator of (auc score, hyperparameter dict, fitted model)\n",
    "\n",
    "\n",
    "\n",
    "\n",
    "\n",
    "start_time = time.time()\n",
    "\n",
    "if __name__ == '__main__':\n",
    "    \n",
    "    (ranking_score, hyperparams, model_tuned_auc) = max(random_search_auc(train_train, validate), \n",
    "                                                        key=lambda x: x[0])\n",
    "\n",
    "    print('Best ranking score {} at {}'.format(ranking_score, hyperparams))\n",
    "    print('Calculated in: ', round((time.time()-start_time)/60, 2), \" minutes\")"
   ]
  },
  {
   "cell_type": "markdown",
   "metadata": {},
   "source": [
    "# AUC focused model - Training"
   ]
  },
  {
   "cell_type": "code",
   "execution_count": 89,
   "metadata": {},
   "outputs": [
    {
     "name": "stdout",
     "output_type": "stream",
     "text": [
      "Model trained in:  0.25  minutes\n"
     ]
    }
   ],
   "source": [
    "# Use the tuned model.\n",
    "\n",
    "start_time = time.time()\n",
    "\n",
    "model_tuned_auc.fit(train,\n",
    "                    item_features=item_features,\n",
    "                    epochs=hyperparams['num_epochs'],\n",
    "                    num_threads=4)\n",
    "\n",
    "print('Model trained in: ', round((time.time()-start_time)/60, 2), \" minutes\")"
   ]
  },
  {
   "cell_type": "markdown",
   "metadata": {},
   "source": [
    "# AUC focused model - Evaluation"
   ]
  },
  {
   "cell_type": "code",
   "execution_count": 90,
   "metadata": {
    "scrolled": true
   },
   "outputs": [
    {
     "name": "stdout",
     "output_type": "stream",
     "text": [
      "Train AUC score:  0.9620935\n",
      "Calculated in:  0.14  minutes\n"
     ]
    }
   ],
   "source": [
    "start_time = time.time()\n",
    "\n",
    "train_auc = auc_score(model_tuned_auc, \n",
    "                      train, \n",
    "                      item_features=item_features, \n",
    "                      num_threads=4).mean()\n",
    "\n",
    "print('Train AUC score: ', train_auc)\n",
    "print('Calculated in: ', round((time.time()-start_time)/60, 2), \" minutes\")"
   ]
  },
  {
   "cell_type": "code",
   "execution_count": 91,
   "metadata": {
    "scrolled": false
   },
   "outputs": [
    {
     "name": "stdout",
     "output_type": "stream",
     "text": [
      "Test AUC score:  0.8172267\n",
      "Calculated in:  0.06  minutes\n"
     ]
    }
   ],
   "source": [
    "start_time = time.time()\n",
    "\n",
    "# Train interactions will be also passed to avoid model re-recommending items to users.\n",
    "test_auc = auc_score(model_tuned_auc,\n",
    "                     test, \n",
    "                     item_features=item_features, \n",
    "                     train_interactions = train, \n",
    "                     num_threads=4).mean()\n",
    "\n",
    "print('Test AUC score: ', test_auc)\n",
    "print('Calculated in: ', round((time.time()-start_time)/60, 2), \" minutes\")"
   ]
  },
  {
   "cell_type": "code",
   "execution_count": 92,
   "metadata": {},
   "outputs": [
    {
     "name": "stdout",
     "output_type": "stream",
     "text": [
      "Hybrid filtering results:  {'AUC train': 0.99953717, 'AUC test': 0.84518975, 'Precision @3 train': 0.5577252, 'Precision @3 test': 0.030222224}\n"
     ]
    }
   ],
   "source": [
    "# Conclusion:\n",
    "# Achieved test AUC is lower than original hybrid filtering model result.\n",
    "\n",
    "print('Hybrid filtering results: ', model_hybrid_results)"
   ]
  },
  {
   "cell_type": "code",
   "execution_count": 93,
   "metadata": {},
   "outputs": [],
   "source": [
    "# Visualize how the precision changes depending on parameter 'k'.\n",
    "# Since the hyperparameters tuning was not optimized for parameter 'k', the model can be checked at a range of 'k'.\n",
    "\n",
    "def k_vis_precision(model, train, test, item_features, epochs):\n",
    "    \n",
    "    stats = pd.DataFrame(columns = ['@k', 'train_precision', 'test_precision', 'runtime_min'])\n",
    "    \n",
    "    model.fit(train,\n",
    "              item_features=item_features,\n",
    "              epochs=epochs, \n",
    "              num_threads=4)  \n",
    "    \n",
    "    total_runtime_min = 0\n",
    "    \n",
    "    for k in range(1,51):\n",
    "        \n",
    "        start_time = time.time()\n",
    "        \n",
    "        \n",
    "        train_precision = precision_at_k(model, \n",
    "                                         train,\n",
    "                                         item_features=item_features, \n",
    "                                         num_threads=4, \n",
    "                                         k=k).mean()\n",
    "\n",
    "        test_precision = precision_at_k(model, \n",
    "                                        test,\n",
    "                                        item_features=item_features, \n",
    "                                        train_interactions = train, \n",
    "                                        num_threads=4, \n",
    "                                        k=k).mean()\n",
    "\n",
    "        runtime_min = round((time.time()-start_time)/60, 6)\n",
    "        total_runtime_min += runtime_min\n",
    "        \n",
    "        stats = stats.append({\n",
    "            '@k': int(k), \n",
    "            'train_precision': float(train_precision), \n",
    "            'test_precision': float(test_precision),\n",
    "            'runtime_min': float(runtime_min)},\n",
    "            ignore_index=True)\n",
    "        \n",
    "    \n",
    "    import matplotlib.pyplot as plt\n",
    "    figure, axis = plt.subplots()\n",
    "    figure.suptitle('Precision VS k')\n",
    "    axis.plot(stats['@k'], stats['train_precision'], label='train')\n",
    "    axis.plot(stats['@k'], stats['test_precision'], label='test')\n",
    "    axis.set_xlabel('@k')\n",
    "    axis.set_ylabel('Precision')\n",
    "    axis.legend()\n",
    "    \n",
    "    return(figure, stats, total_runtime_min)"
   ]
  },
  {
   "cell_type": "code",
   "execution_count": 94,
   "metadata": {},
   "outputs": [
    {
     "name": "stdout",
     "output_type": "stream",
     "text": [
      "Calculated in:  10.39  minutes\n"
     ]
    },
    {
     "data": {
      "image/png": "[encoded data removed]",
      "text/plain": [
       "<Figure size 432x288 with 1 Axes>"
      ]
     },
     "metadata": {
      "needs_background": "light"
     },
     "output_type": "display_data"
    }
   ],
   "source": [
    "start_time = time.time()\n",
    "\n",
    "k_vis_precision_output = k_vis_precision(model_tuned_auc, \n",
    "                                         train, test, \n",
    "                                         item_features, \n",
    "                                         epochs=hyperparams['num_epochs'])\n",
    "\n",
    "print('Calculated in: ', round((time.time()-start_time)/60, 2), \" minutes\")"
   ]
  },
  {
   "cell_type": "code",
   "execution_count": 95,
   "metadata": {},
   "outputs": [
    {
     "data": {
      "text/plain": [
       "<matplotlib.legend.Legend at 0x7fa2ee575990>"
      ]
     },
     "execution_count": 95,
     "metadata": {},
     "output_type": "execute_result"
    },
    {
     "data": {
      "image/png": "[encoded data removed]",
      "text/plain": [
       "<Figure size 432x288 with 1 Axes>"
      ]
     },
     "metadata": {
      "needs_background": "light"
     },
     "output_type": "display_data"
    }
   ],
   "source": [
    "# Plot test precision separately to have a closer look at behaviour.\n",
    "\n",
    "figure, axis = plt.subplots()\n",
    "figure.suptitle('Precision VS k')\n",
    "axis.plot(k_vis_precision_output[1]['@k'], k_vis_precision_output[1]['test_precision'], label='test',color='orange')\n",
    "axis.set_xlabel('@k')\n",
    "axis.set_ylabel('Precision')\n",
    "axis.legend()"
   ]
  },
  {
   "cell_type": "code",
   "execution_count": 96,
   "metadata": {},
   "outputs": [
    {
     "data": {
      "text/html": [
       "<div>\n",
       "<style scoped>\n",
       "    .dataframe tbody tr th:only-of-type {\n",
       "        vertical-align: middle;\n",
       "    }\n",
       "\n",
       "    .dataframe tbody tr th {\n",
       "        vertical-align: top;\n",
       "    }\n",
       "\n",
       "    .dataframe thead th {\n",
       "        text-align: right;\n",
       "    }\n",
       "</style>\n",
       "<table border=\"1\" class=\"dataframe\">\n",
       "  <thead>\n",
       "    <tr style=\"text-align: right;\">\n",
       "      <th></th>\n",
       "      <th>@k</th>\n",
       "      <th>train_precision</th>\n",
       "      <th>test_precision</th>\n",
       "      <th>runtime_min</th>\n",
       "    </tr>\n",
       "  </thead>\n",
       "  <tbody>\n",
       "    <tr>\n",
       "      <td>0</td>\n",
       "      <td>1.0</td>\n",
       "      <td>0.089414</td>\n",
       "      <td>0.010667</td>\n",
       "      <td>0.199227</td>\n",
       "    </tr>\n",
       "    <tr>\n",
       "      <td>1</td>\n",
       "      <td>2.0</td>\n",
       "      <td>0.080164</td>\n",
       "      <td>0.010667</td>\n",
       "      <td>0.202507</td>\n",
       "    </tr>\n",
       "    <tr>\n",
       "      <td>2</td>\n",
       "      <td>3.0</td>\n",
       "      <td>0.079822</td>\n",
       "      <td>0.009778</td>\n",
       "      <td>0.202348</td>\n",
       "    </tr>\n",
       "    <tr>\n",
       "      <td>3</td>\n",
       "      <td>4.0</td>\n",
       "      <td>0.078109</td>\n",
       "      <td>0.008000</td>\n",
       "      <td>0.201115</td>\n",
       "    </tr>\n",
       "    <tr>\n",
       "      <td>4</td>\n",
       "      <td>5.0</td>\n",
       "      <td>0.073587</td>\n",
       "      <td>0.007467</td>\n",
       "      <td>0.201835</td>\n",
       "    </tr>\n",
       "    <tr>\n",
       "      <td>5</td>\n",
       "      <td>6.0</td>\n",
       "      <td>0.069887</td>\n",
       "      <td>0.007111</td>\n",
       "      <td>0.202830</td>\n",
       "    </tr>\n",
       "    <tr>\n",
       "      <td>6</td>\n",
       "      <td>7.0</td>\n",
       "      <td>0.067685</td>\n",
       "      <td>0.006476</td>\n",
       "      <td>0.201747</td>\n",
       "    </tr>\n",
       "    <tr>\n",
       "      <td>7</td>\n",
       "      <td>8.0</td>\n",
       "      <td>0.065005</td>\n",
       "      <td>0.006000</td>\n",
       "      <td>0.202387</td>\n",
       "    </tr>\n",
       "    <tr>\n",
       "      <td>8</td>\n",
       "      <td>9.0</td>\n",
       "      <td>0.063378</td>\n",
       "      <td>0.005630</td>\n",
       "      <td>0.202498</td>\n",
       "    </tr>\n",
       "    <tr>\n",
       "      <td>9</td>\n",
       "      <td>10.0</td>\n",
       "      <td>0.062076</td>\n",
       "      <td>0.005867</td>\n",
       "      <td>0.198151</td>\n",
       "    </tr>\n",
       "    <tr>\n",
       "      <td>10</td>\n",
       "      <td>11.0</td>\n",
       "      <td>0.060170</td>\n",
       "      <td>0.005818</td>\n",
       "      <td>0.202942</td>\n",
       "    </tr>\n",
       "    <tr>\n",
       "      <td>11</td>\n",
       "      <td>12.0</td>\n",
       "      <td>0.059866</td>\n",
       "      <td>0.005778</td>\n",
       "      <td>0.203475</td>\n",
       "    </tr>\n",
       "    <tr>\n",
       "      <td>12</td>\n",
       "      <td>13.0</td>\n",
       "      <td>0.058345</td>\n",
       "      <td>0.005333</td>\n",
       "      <td>0.201572</td>\n",
       "    </tr>\n",
       "    <tr>\n",
       "      <td>13</td>\n",
       "      <td>14.0</td>\n",
       "      <td>0.057994</td>\n",
       "      <td>0.005143</td>\n",
       "      <td>0.202606</td>\n",
       "    </tr>\n",
       "    <tr>\n",
       "      <td>14</td>\n",
       "      <td>15.0</td>\n",
       "      <td>0.057280</td>\n",
       "      <td>0.004978</td>\n",
       "      <td>0.200253</td>\n",
       "    </tr>\n",
       "    <tr>\n",
       "      <td>15</td>\n",
       "      <td>16.0</td>\n",
       "      <td>0.056077</td>\n",
       "      <td>0.005000</td>\n",
       "      <td>0.202140</td>\n",
       "    </tr>\n",
       "    <tr>\n",
       "      <td>16</td>\n",
       "      <td>17.0</td>\n",
       "      <td>0.055075</td>\n",
       "      <td>0.004863</td>\n",
       "      <td>0.201620</td>\n",
       "    </tr>\n",
       "    <tr>\n",
       "      <td>17</td>\n",
       "      <td>18.0</td>\n",
       "      <td>0.053900</td>\n",
       "      <td>0.004741</td>\n",
       "      <td>0.203219</td>\n",
       "    </tr>\n",
       "    <tr>\n",
       "      <td>18</td>\n",
       "      <td>19.0</td>\n",
       "      <td>0.052794</td>\n",
       "      <td>0.004772</td>\n",
       "      <td>0.201456</td>\n",
       "    </tr>\n",
       "    <tr>\n",
       "      <td>19</td>\n",
       "      <td>20.0</td>\n",
       "      <td>0.051799</td>\n",
       "      <td>0.004667</td>\n",
       "      <td>0.202926</td>\n",
       "    </tr>\n",
       "    <tr>\n",
       "      <td>20</td>\n",
       "      <td>21.0</td>\n",
       "      <td>0.050996</td>\n",
       "      <td>0.004571</td>\n",
       "      <td>0.201963</td>\n",
       "    </tr>\n",
       "    <tr>\n",
       "      <td>21</td>\n",
       "      <td>22.0</td>\n",
       "      <td>0.050360</td>\n",
       "      <td>0.004485</td>\n",
       "      <td>0.201758</td>\n",
       "    </tr>\n",
       "    <tr>\n",
       "      <td>22</td>\n",
       "      <td>23.0</td>\n",
       "      <td>0.049555</td>\n",
       "      <td>0.004406</td>\n",
       "      <td>0.201885</td>\n",
       "    </tr>\n",
       "    <tr>\n",
       "      <td>23</td>\n",
       "      <td>24.0</td>\n",
       "      <td>0.048947</td>\n",
       "      <td>0.004556</td>\n",
       "      <td>0.202330</td>\n",
       "    </tr>\n",
       "    <tr>\n",
       "      <td>24</td>\n",
       "      <td>25.0</td>\n",
       "      <td>0.048304</td>\n",
       "      <td>0.004480</td>\n",
       "      <td>0.201633</td>\n",
       "    </tr>\n",
       "    <tr>\n",
       "      <td>25</td>\n",
       "      <td>26.0</td>\n",
       "      <td>0.047751</td>\n",
       "      <td>0.004410</td>\n",
       "      <td>0.202597</td>\n",
       "    </tr>\n",
       "    <tr>\n",
       "      <td>26</td>\n",
       "      <td>27.0</td>\n",
       "      <td>0.047124</td>\n",
       "      <td>0.004346</td>\n",
       "      <td>0.203662</td>\n",
       "    </tr>\n",
       "    <tr>\n",
       "      <td>27</td>\n",
       "      <td>28.0</td>\n",
       "      <td>0.046579</td>\n",
       "      <td>0.004286</td>\n",
       "      <td>0.202262</td>\n",
       "    </tr>\n",
       "    <tr>\n",
       "      <td>28</td>\n",
       "      <td>29.0</td>\n",
       "      <td>0.046461</td>\n",
       "      <td>0.004322</td>\n",
       "      <td>0.202591</td>\n",
       "    </tr>\n",
       "    <tr>\n",
       "      <td>29</td>\n",
       "      <td>30.0</td>\n",
       "      <td>0.045838</td>\n",
       "      <td>0.004356</td>\n",
       "      <td>0.201814</td>\n",
       "    </tr>\n",
       "    <tr>\n",
       "      <td>30</td>\n",
       "      <td>31.0</td>\n",
       "      <td>0.045320</td>\n",
       "      <td>0.004473</td>\n",
       "      <td>0.204907</td>\n",
       "    </tr>\n",
       "    <tr>\n",
       "      <td>31</td>\n",
       "      <td>32.0</td>\n",
       "      <td>0.044803</td>\n",
       "      <td>0.004333</td>\n",
       "      <td>0.201849</td>\n",
       "    </tr>\n",
       "    <tr>\n",
       "      <td>32</td>\n",
       "      <td>33.0</td>\n",
       "      <td>0.044598</td>\n",
       "      <td>0.004202</td>\n",
       "      <td>0.202836</td>\n",
       "    </tr>\n",
       "    <tr>\n",
       "      <td>33</td>\n",
       "      <td>34.0</td>\n",
       "      <td>0.044072</td>\n",
       "      <td>0.004078</td>\n",
       "      <td>0.203053</td>\n",
       "    </tr>\n",
       "    <tr>\n",
       "      <td>34</td>\n",
       "      <td>35.0</td>\n",
       "      <td>0.043665</td>\n",
       "      <td>0.004114</td>\n",
       "      <td>0.201952</td>\n",
       "    </tr>\n",
       "    <tr>\n",
       "      <td>35</td>\n",
       "      <td>36.0</td>\n",
       "      <td>0.043508</td>\n",
       "      <td>0.004074</td>\n",
       "      <td>0.204195</td>\n",
       "    </tr>\n",
       "    <tr>\n",
       "      <td>36</td>\n",
       "      <td>37.0</td>\n",
       "      <td>0.042999</td>\n",
       "      <td>0.004036</td>\n",
       "      <td>0.204652</td>\n",
       "    </tr>\n",
       "    <tr>\n",
       "      <td>37</td>\n",
       "      <td>38.0</td>\n",
       "      <td>0.042652</td>\n",
       "      <td>0.004070</td>\n",
       "      <td>0.205020</td>\n",
       "    </tr>\n",
       "    <tr>\n",
       "      <td>38</td>\n",
       "      <td>39.0</td>\n",
       "      <td>0.042243</td>\n",
       "      <td>0.004171</td>\n",
       "      <td>0.208454</td>\n",
       "    </tr>\n",
       "    <tr>\n",
       "      <td>39</td>\n",
       "      <td>40.0</td>\n",
       "      <td>0.041958</td>\n",
       "      <td>0.004133</td>\n",
       "      <td>0.203547</td>\n",
       "    </tr>\n",
       "    <tr>\n",
       "      <td>40</td>\n",
       "      <td>41.0</td>\n",
       "      <td>0.041812</td>\n",
       "      <td>0.004163</td>\n",
       "      <td>0.208502</td>\n",
       "    </tr>\n",
       "    <tr>\n",
       "      <td>41</td>\n",
       "      <td>42.0</td>\n",
       "      <td>0.041330</td>\n",
       "      <td>0.004127</td>\n",
       "      <td>0.206964</td>\n",
       "    </tr>\n",
       "    <tr>\n",
       "      <td>42</td>\n",
       "      <td>43.0</td>\n",
       "      <td>0.040990</td>\n",
       "      <td>0.004155</td>\n",
       "      <td>0.203005</td>\n",
       "    </tr>\n",
       "    <tr>\n",
       "      <td>43</td>\n",
       "      <td>44.0</td>\n",
       "      <td>0.040923</td>\n",
       "      <td>0.004182</td>\n",
       "      <td>0.201838</td>\n",
       "    </tr>\n",
       "    <tr>\n",
       "      <td>44</td>\n",
       "      <td>45.0</td>\n",
       "      <td>0.040516</td>\n",
       "      <td>0.004089</td>\n",
       "      <td>0.201760</td>\n",
       "    </tr>\n",
       "    <tr>\n",
       "      <td>45</td>\n",
       "      <td>46.0</td>\n",
       "      <td>0.040149</td>\n",
       "      <td>0.004000</td>\n",
       "      <td>0.198699</td>\n",
       "    </tr>\n",
       "    <tr>\n",
       "      <td>46</td>\n",
       "      <td>47.0</td>\n",
       "      <td>0.039776</td>\n",
       "      <td>0.003915</td>\n",
       "      <td>0.201345</td>\n",
       "    </tr>\n",
       "    <tr>\n",
       "      <td>47</td>\n",
       "      <td>48.0</td>\n",
       "      <td>0.039461</td>\n",
       "      <td>0.003833</td>\n",
       "      <td>0.206166</td>\n",
       "    </tr>\n",
       "    <tr>\n",
       "      <td>48</td>\n",
       "      <td>49.0</td>\n",
       "      <td>0.039013</td>\n",
       "      <td>0.003810</td>\n",
       "      <td>0.205286</td>\n",
       "    </tr>\n",
       "    <tr>\n",
       "      <td>49</td>\n",
       "      <td>50.0</td>\n",
       "      <td>0.038849</td>\n",
       "      <td>0.003893</td>\n",
       "      <td>0.203198</td>\n",
       "    </tr>\n",
       "  </tbody>\n",
       "</table>\n",
       "</div>"
      ],
      "text/plain": [
       "      @k  train_precision  test_precision  runtime_min\n",
       "0    1.0         0.089414        0.010667     0.199227\n",
       "1    2.0         0.080164        0.010667     0.202507\n",
       "2    3.0         0.079822        0.009778     0.202348\n",
       "3    4.0         0.078109        0.008000     0.201115\n",
       "4    5.0         0.073587        0.007467     0.201835\n",
       "5    6.0         0.069887        0.007111     0.202830\n",
       "6    7.0         0.067685        0.006476     0.201747\n",
       "7    8.0         0.065005        0.006000     0.202387\n",
       "8    9.0         0.063378        0.005630     0.202498\n",
       "9   10.0         0.062076        0.005867     0.198151\n",
       "10  11.0         0.060170        0.005818     0.202942\n",
       "11  12.0         0.059866        0.005778     0.203475\n",
       "12  13.0         0.058345        0.005333     0.201572\n",
       "13  14.0         0.057994        0.005143     0.202606\n",
       "14  15.0         0.057280        0.004978     0.200253\n",
       "15  16.0         0.056077        0.005000     0.202140\n",
       "16  17.0         0.055075        0.004863     0.201620\n",
       "17  18.0         0.053900        0.004741     0.203219\n",
       "18  19.0         0.052794        0.004772     0.201456\n",
       "19  20.0         0.051799        0.004667     0.202926\n",
       "20  21.0         0.050996        0.004571     0.201963\n",
       "21  22.0         0.050360        0.004485     0.201758\n",
       "22  23.0         0.049555        0.004406     0.201885\n",
       "23  24.0         0.048947        0.004556     0.202330\n",
       "24  25.0         0.048304        0.004480     0.201633\n",
       "25  26.0         0.047751        0.004410     0.202597\n",
       "26  27.0         0.047124        0.004346     0.203662\n",
       "27  28.0         0.046579        0.004286     0.202262\n",
       "28  29.0         0.046461        0.004322     0.202591\n",
       "29  30.0         0.045838        0.004356     0.201814\n",
       "30  31.0         0.045320        0.004473     0.204907\n",
       "31  32.0         0.044803        0.004333     0.201849\n",
       "32  33.0         0.044598        0.004202     0.202836\n",
       "33  34.0         0.044072        0.004078     0.203053\n",
       "34  35.0         0.043665        0.004114     0.201952\n",
       "35  36.0         0.043508        0.004074     0.204195\n",
       "36  37.0         0.042999        0.004036     0.204652\n",
       "37  38.0         0.042652        0.004070     0.205020\n",
       "38  39.0         0.042243        0.004171     0.208454\n",
       "39  40.0         0.041958        0.004133     0.203547\n",
       "40  41.0         0.041812        0.004163     0.208502\n",
       "41  42.0         0.041330        0.004127     0.206964\n",
       "42  43.0         0.040990        0.004155     0.203005\n",
       "43  44.0         0.040923        0.004182     0.201838\n",
       "44  45.0         0.040516        0.004089     0.201760\n",
       "45  46.0         0.040149        0.004000     0.198699\n",
       "46  47.0         0.039776        0.003915     0.201345\n",
       "47  48.0         0.039461        0.003833     0.206166\n",
       "48  49.0         0.039013        0.003810     0.205286\n",
       "49  50.0         0.038849        0.003893     0.203198"
      ]
     },
     "execution_count": 96,
     "metadata": {},
     "output_type": "execute_result"
    }
   ],
   "source": [
    "k_vis_precision_output[1]"
   ]
  },
  {
   "cell_type": "code",
   "execution_count": 97,
   "metadata": {},
   "outputs": [
    {
     "data": {
      "text/plain": [
       "10.136576999999997"
      ]
     },
     "execution_count": 97,
     "metadata": {},
     "output_type": "execute_result"
    }
   ],
   "source": [
    "k_vis_precision_output[2]"
   ]
  },
  {
   "cell_type": "code",
   "execution_count": 98,
   "metadata": {},
   "outputs": [
    {
     "name": "stdout",
     "output_type": "stream",
     "text": [
      "Hybrid filtering results:  {'AUC train': 0.99953717, 'AUC test': 0.84518975, 'Precision @3 train': 0.5577252, 'Precision @3 test': 0.030222224}\n"
     ]
    }
   ],
   "source": [
    "# Conclusion:\n",
    "# The highest test precision is significantly lower than original hybrid filtering model result.\n",
    "\n",
    "print('Hybrid filtering results: ', model_hybrid_results)"
   ]
  },
  {
   "cell_type": "code",
   "execution_count": 99,
   "metadata": {},
   "outputs": [],
   "source": [
    "# Summary:\n",
    "# AUC focused hyperparameter tuning did not lead to model performance improvement."
   ]
  },
  {
   "cell_type": "markdown",
   "metadata": {},
   "source": [
    "# Precision focused model - Tuning"
   ]
  },
  {
   "cell_type": "code",
   "execution_count": 100,
   "metadata": {},
   "outputs": [
    {
     "name": "stdout",
     "output_type": "stream",
     "text": [
      "Best presicion ranking score 0.009803921915590763 at {'no_components': 75, 'learning_schedule': 'adagrad', 'loss': 'warp-kos', 'k': 5, 'n': 5, 'learning_rate': 0.007417186569917661, 'item_alpha': 5.626895454036104e-13, 'max_sampled': 21, 'num_epochs': 98}\n",
      "Calculated in:  0.25  minutes\n"
     ]
    }
   ],
   "source": [
    "# Improving precision_at_k metric.\n",
    "\n",
    "def random_search_precision(train_train, validate, num_samples=10, k=k, num_threads=4):\n",
    "    \n",
    "    # Randomly search for various combinations of hyperparameters.\n",
    "\n",
    "\n",
    "    for hyperparams in islice(sample_hyperparameters(), num_samples):\n",
    "        num_epochs = hyperparams.pop('num_epochs')\n",
    "\n",
    "        model_tuned_precis = LightFM(**hyperparams)\n",
    "        model_tuned_precis.fit(train_train, epochs=num_epochs, num_threads=num_threads)\n",
    "\n",
    "        ranking_score = precision_at_k(model_tuned_precis, validate, train_interactions=train_train, \n",
    "                                       num_threads=num_threads, \n",
    "                                       k=k).mean()\n",
    "\n",
    "        hyperparams['num_epochs'] = num_epochs\n",
    "        \n",
    "        yield (ranking_score, hyperparams, model_tuned_precis)\n",
    "        # Returns: generator of (precision_at_k, hyperparameter dict, fitted model)\n",
    "\n",
    "\n",
    "\n",
    "\n",
    "\n",
    "start_time = time.time()\n",
    "\n",
    "if __name__ == '__main__':\n",
    "    \n",
    "    (ranking_score, hyperparams, model_tuned_precis) = max(random_search_precision(train_train, validate), \n",
    "                                                           key=lambda x: x[0])\n",
    "\n",
    "    print('Best presicion ranking score {} at {}'.format(ranking_score, hyperparams))\n",
    "    print('Calculated in: ', round((time.time()-start_time)/60, 2), \" minutes\")"
   ]
  },
  {
   "cell_type": "markdown",
   "metadata": {},
   "source": [
    "# Precision focused model - Training"
   ]
  },
  {
   "cell_type": "code",
   "execution_count": 101,
   "metadata": {},
   "outputs": [
    {
     "name": "stdout",
     "output_type": "stream",
     "text": [
      "Model trained in:  0.61  minutes\n"
     ]
    }
   ],
   "source": [
    "# Use the tuned model.\n",
    "\n",
    "start_time = time.time()\n",
    "\n",
    "model_tuned_precis.fit(train, \n",
    "                       item_features=item_features, \n",
    "                       epochs=hyperparams['num_epochs'], \n",
    "                       num_threads=4)\n",
    "\n",
    "print('Model trained in: ', round((time.time()-start_time)/60, 2), \" minutes\")"
   ]
  },
  {
   "cell_type": "code",
   "execution_count": 102,
   "metadata": {},
   "outputs": [],
   "source": [
    "# Tuned model evaluation (auc_score, precision_at_k)"
   ]
  },
  {
   "cell_type": "code",
   "execution_count": 103,
   "metadata": {
    "scrolled": true
   },
   "outputs": [
    {
     "name": "stdout",
     "output_type": "stream",
     "text": [
      "Train AUC score:  0.95148015\n",
      "Calculated in:  0.12  minutes\n"
     ]
    }
   ],
   "source": [
    "start_time = time.time()\n",
    "\n",
    "train_auc = auc_score(model_tuned_precis, \n",
    "                      train, \n",
    "                      item_features=item_features, \n",
    "                      num_threads=4).mean()\n",
    "\n",
    "print('Train AUC score: ', train_auc)\n",
    "print('Calculated in: ', round((time.time()-start_time)/60, 2), \" minutes\")"
   ]
  },
  {
   "cell_type": "code",
   "execution_count": 104,
   "metadata": {},
   "outputs": [
    {
     "name": "stdout",
     "output_type": "stream",
     "text": [
      "Test AUC score:  0.83780867\n",
      "Calculated in:  0.05  minutes\n"
     ]
    }
   ],
   "source": [
    "start_time = time.time()\n",
    "\n",
    "# Train interactions fill be also passed to avoid model re-recommending items to users.\n",
    "test_auc = auc_score(model_tuned_precis,\n",
    "                     test, \n",
    "                     item_features=item_features, \n",
    "                     train_interactions = train, \n",
    "                     num_threads=4).mean()\n",
    "\n",
    "print('Test AUC score: ', test_auc)\n",
    "print('Calculated in: ', round((time.time()-start_time)/60, 2), \" minutes\")"
   ]
  },
  {
   "cell_type": "code",
   "execution_count": 105,
   "metadata": {},
   "outputs": [
    {
     "name": "stdout",
     "output_type": "stream",
     "text": [
      "Hybrid filtering results:  {'AUC train': 0.99953717, 'AUC test': 0.84518975, 'Precision @3 train': 0.5577252, 'Precision @3 test': 0.030222224}\n"
     ]
    }
   ],
   "source": [
    "# Conclusion:\n",
    "# Achieved test AUC is lower than original hybrid filtering model result.\n",
    "\n",
    "print('Hybrid filtering results: ', model_hybrid_results)"
   ]
  },
  {
   "cell_type": "code",
   "execution_count": 106,
   "metadata": {},
   "outputs": [
    {
     "name": "stdout",
     "output_type": "stream",
     "text": [
      "Calculated in:  8.8  minutes\n"
     ]
    },
    {
     "data": {
      "image/png": "[encoded data removed]",
      "text/plain": [
       "<Figure size 432x288 with 1 Axes>"
      ]
     },
     "metadata": {
      "needs_background": "light"
     },
     "output_type": "display_data"
    }
   ],
   "source": [
    "# Visualize how the precision changes depending on parameter 'k'.\n",
    "\n",
    "start_time = time.time()\n",
    "\n",
    "k_vis_precision_output = k_vis_precision(model_tuned_precis, \n",
    "                                         train, test, item_features, \n",
    "                                         epochs=hyperparams['num_epochs'])\n",
    "\n",
    "print('Calculated in: ', round((time.time()-start_time)/60, 2), \" minutes\")"
   ]
  },
  {
   "cell_type": "code",
   "execution_count": 107,
   "metadata": {},
   "outputs": [
    {
     "data": {
      "image/png": "[encoded data removed]",
      "text/plain": [
       "<Figure size 432x288 with 1 Axes>"
      ]
     },
     "execution_count": 107,
     "metadata": {},
     "output_type": "execute_result"
    }
   ],
   "source": [
    "k_vis_precision_output[0]"
   ]
  },
  {
   "cell_type": "code",
   "execution_count": 108,
   "metadata": {},
   "outputs": [
    {
     "data": {
      "text/plain": [
       "<matplotlib.legend.Legend at 0x7fa2f25c1290>"
      ]
     },
     "execution_count": 108,
     "metadata": {},
     "output_type": "execute_result"
    },
    {
     "data": {
      "image/png": "[encoded data removed]",
      "text/plain": [
       "<Figure size 432x288 with 1 Axes>"
      ]
     },
     "metadata": {
      "needs_background": "light"
     },
     "output_type": "display_data"
    }
   ],
   "source": [
    "# Plot test precision separately to have a closer look at behaviour.\n",
    "\n",
    "figure, axis = plt.subplots()\n",
    "figure.suptitle('Precision VS k')\n",
    "axis.plot(k_vis_precision_output[1]['@k'], k_vis_precision_output[1]['test_precision'], label='test',color='orange')\n",
    "axis.set_xlabel('@k')\n",
    "axis.set_ylabel('Precision')\n",
    "axis.legend()"
   ]
  },
  {
   "cell_type": "code",
   "execution_count": 109,
   "metadata": {},
   "outputs": [
    {
     "data": {
      "text/html": [
       "<div>\n",
       "<style scoped>\n",
       "    .dataframe tbody tr th:only-of-type {\n",
       "        vertical-align: middle;\n",
       "    }\n",
       "\n",
       "    .dataframe tbody tr th {\n",
       "        vertical-align: top;\n",
       "    }\n",
       "\n",
       "    .dataframe thead th {\n",
       "        text-align: right;\n",
       "    }\n",
       "</style>\n",
       "<table border=\"1\" class=\"dataframe\">\n",
       "  <thead>\n",
       "    <tr style=\"text-align: right;\">\n",
       "      <th></th>\n",
       "      <th>@k</th>\n",
       "      <th>train_precision</th>\n",
       "      <th>test_precision</th>\n",
       "      <th>runtime_min</th>\n",
       "    </tr>\n",
       "  </thead>\n",
       "  <tbody>\n",
       "    <tr>\n",
       "      <td>0</td>\n",
       "      <td>1.0</td>\n",
       "      <td>0.043165</td>\n",
       "      <td>0.010667</td>\n",
       "      <td>0.167324</td>\n",
       "    </tr>\n",
       "    <tr>\n",
       "      <td>1</td>\n",
       "      <td>2.0</td>\n",
       "      <td>0.043679</td>\n",
       "      <td>0.012000</td>\n",
       "      <td>0.158995</td>\n",
       "    </tr>\n",
       "    <tr>\n",
       "      <td>2</td>\n",
       "      <td>3.0</td>\n",
       "      <td>0.041453</td>\n",
       "      <td>0.009778</td>\n",
       "      <td>0.167088</td>\n",
       "    </tr>\n",
       "    <tr>\n",
       "      <td>3</td>\n",
       "      <td>4.0</td>\n",
       "      <td>0.039054</td>\n",
       "      <td>0.008667</td>\n",
       "      <td>0.167690</td>\n",
       "    </tr>\n",
       "    <tr>\n",
       "      <td>4</td>\n",
       "      <td>5.0</td>\n",
       "      <td>0.038643</td>\n",
       "      <td>0.007467</td>\n",
       "      <td>0.165195</td>\n",
       "    </tr>\n",
       "    <tr>\n",
       "      <td>5</td>\n",
       "      <td>6.0</td>\n",
       "      <td>0.039054</td>\n",
       "      <td>0.007556</td>\n",
       "      <td>0.165602</td>\n",
       "    </tr>\n",
       "    <tr>\n",
       "      <td>6</td>\n",
       "      <td>7.0</td>\n",
       "      <td>0.038761</td>\n",
       "      <td>0.007619</td>\n",
       "      <td>0.167225</td>\n",
       "    </tr>\n",
       "    <tr>\n",
       "      <td>7</td>\n",
       "      <td>8.0</td>\n",
       "      <td>0.038412</td>\n",
       "      <td>0.007333</td>\n",
       "      <td>0.169147</td>\n",
       "    </tr>\n",
       "    <tr>\n",
       "      <td>8</td>\n",
       "      <td>9.0</td>\n",
       "      <td>0.038369</td>\n",
       "      <td>0.008000</td>\n",
       "      <td>0.167507</td>\n",
       "    </tr>\n",
       "    <tr>\n",
       "      <td>9</td>\n",
       "      <td>10.0</td>\n",
       "      <td>0.038438</td>\n",
       "      <td>0.007733</td>\n",
       "      <td>0.166355</td>\n",
       "    </tr>\n",
       "    <tr>\n",
       "      <td>10</td>\n",
       "      <td>11.0</td>\n",
       "      <td>0.038307</td>\n",
       "      <td>0.007758</td>\n",
       "      <td>0.166029</td>\n",
       "    </tr>\n",
       "    <tr>\n",
       "      <td>11</td>\n",
       "      <td>12.0</td>\n",
       "      <td>0.037684</td>\n",
       "      <td>0.007111</td>\n",
       "      <td>0.168814</td>\n",
       "    </tr>\n",
       "    <tr>\n",
       "      <td>12</td>\n",
       "      <td>13.0</td>\n",
       "      <td>0.037631</td>\n",
       "      <td>0.006564</td>\n",
       "      <td>0.167218</td>\n",
       "    </tr>\n",
       "    <tr>\n",
       "      <td>13</td>\n",
       "      <td>14.0</td>\n",
       "      <td>0.036926</td>\n",
       "      <td>0.006476</td>\n",
       "      <td>0.168310</td>\n",
       "    </tr>\n",
       "    <tr>\n",
       "      <td>14</td>\n",
       "      <td>15.0</td>\n",
       "      <td>0.036382</td>\n",
       "      <td>0.006400</td>\n",
       "      <td>0.171864</td>\n",
       "    </tr>\n",
       "    <tr>\n",
       "      <td>15</td>\n",
       "      <td>16.0</td>\n",
       "      <td>0.035779</td>\n",
       "      <td>0.006667</td>\n",
       "      <td>0.166642</td>\n",
       "    </tr>\n",
       "    <tr>\n",
       "      <td>16</td>\n",
       "      <td>17.0</td>\n",
       "      <td>0.034823</td>\n",
       "      <td>0.006275</td>\n",
       "      <td>0.168910</td>\n",
       "    </tr>\n",
       "    <tr>\n",
       "      <td>17</td>\n",
       "      <td>18.0</td>\n",
       "      <td>0.034144</td>\n",
       "      <td>0.006222</td>\n",
       "      <td>0.166894</td>\n",
       "    </tr>\n",
       "    <tr>\n",
       "      <td>18</td>\n",
       "      <td>19.0</td>\n",
       "      <td>0.033537</td>\n",
       "      <td>0.006316</td>\n",
       "      <td>0.166359</td>\n",
       "    </tr>\n",
       "    <tr>\n",
       "      <td>19</td>\n",
       "      <td>20.0</td>\n",
       "      <td>0.032888</td>\n",
       "      <td>0.006000</td>\n",
       "      <td>0.166807</td>\n",
       "    </tr>\n",
       "    <tr>\n",
       "      <td>20</td>\n",
       "      <td>21.0</td>\n",
       "      <td>0.032448</td>\n",
       "      <td>0.005968</td>\n",
       "      <td>0.164949</td>\n",
       "    </tr>\n",
       "    <tr>\n",
       "      <td>21</td>\n",
       "      <td>22.0</td>\n",
       "      <td>0.031907</td>\n",
       "      <td>0.005818</td>\n",
       "      <td>0.169869</td>\n",
       "    </tr>\n",
       "    <tr>\n",
       "      <td>22</td>\n",
       "      <td>23.0</td>\n",
       "      <td>0.031413</td>\n",
       "      <td>0.005681</td>\n",
       "      <td>0.166557</td>\n",
       "    </tr>\n",
       "    <tr>\n",
       "      <td>23</td>\n",
       "      <td>24.0</td>\n",
       "      <td>0.031047</td>\n",
       "      <td>0.005444</td>\n",
       "      <td>0.165879</td>\n",
       "    </tr>\n",
       "    <tr>\n",
       "      <td>24</td>\n",
       "      <td>25.0</td>\n",
       "      <td>0.030586</td>\n",
       "      <td>0.005547</td>\n",
       "      <td>0.163540</td>\n",
       "    </tr>\n",
       "    <tr>\n",
       "      <td>25</td>\n",
       "      <td>26.0</td>\n",
       "      <td>0.030200</td>\n",
       "      <td>0.005436</td>\n",
       "      <td>0.158399</td>\n",
       "    </tr>\n",
       "    <tr>\n",
       "      <td>26</td>\n",
       "      <td>27.0</td>\n",
       "      <td>0.029881</td>\n",
       "      <td>0.005333</td>\n",
       "      <td>0.157166</td>\n",
       "    </tr>\n",
       "    <tr>\n",
       "      <td>27</td>\n",
       "      <td>28.0</td>\n",
       "      <td>0.029511</td>\n",
       "      <td>0.005524</td>\n",
       "      <td>0.156121</td>\n",
       "    </tr>\n",
       "    <tr>\n",
       "      <td>28</td>\n",
       "      <td>29.0</td>\n",
       "      <td>0.029238</td>\n",
       "      <td>0.005425</td>\n",
       "      <td>0.161352</td>\n",
       "    </tr>\n",
       "    <tr>\n",
       "      <td>29</td>\n",
       "      <td>30.0</td>\n",
       "      <td>0.028983</td>\n",
       "      <td>0.005333</td>\n",
       "      <td>0.158430</td>\n",
       "    </tr>\n",
       "    <tr>\n",
       "      <td>30</td>\n",
       "      <td>31.0</td>\n",
       "      <td>0.028744</td>\n",
       "      <td>0.005161</td>\n",
       "      <td>0.160629</td>\n",
       "    </tr>\n",
       "    <tr>\n",
       "      <td>31</td>\n",
       "      <td>32.0</td>\n",
       "      <td>0.028327</td>\n",
       "      <td>0.005083</td>\n",
       "      <td>0.155505</td>\n",
       "    </tr>\n",
       "    <tr>\n",
       "      <td>32</td>\n",
       "      <td>33.0</td>\n",
       "      <td>0.028061</td>\n",
       "      <td>0.004929</td>\n",
       "      <td>0.158485</td>\n",
       "    </tr>\n",
       "    <tr>\n",
       "      <td>33</td>\n",
       "      <td>34.0</td>\n",
       "      <td>0.027870</td>\n",
       "      <td>0.004784</td>\n",
       "      <td>0.158016</td>\n",
       "    </tr>\n",
       "    <tr>\n",
       "      <td>34</td>\n",
       "      <td>35.0</td>\n",
       "      <td>0.027485</td>\n",
       "      <td>0.004724</td>\n",
       "      <td>0.158691</td>\n",
       "    </tr>\n",
       "    <tr>\n",
       "      <td>35</td>\n",
       "      <td>36.0</td>\n",
       "      <td>0.027235</td>\n",
       "      <td>0.004593</td>\n",
       "      <td>0.163349</td>\n",
       "    </tr>\n",
       "    <tr>\n",
       "      <td>36</td>\n",
       "      <td>37.0</td>\n",
       "      <td>0.026944</td>\n",
       "      <td>0.004468</td>\n",
       "      <td>0.155753</td>\n",
       "    </tr>\n",
       "    <tr>\n",
       "      <td>37</td>\n",
       "      <td>38.0</td>\n",
       "      <td>0.026667</td>\n",
       "      <td>0.004351</td>\n",
       "      <td>0.159396</td>\n",
       "    </tr>\n",
       "    <tr>\n",
       "      <td>38</td>\n",
       "      <td>39.0</td>\n",
       "      <td>0.026432</td>\n",
       "      <td>0.004376</td>\n",
       "      <td>0.167959</td>\n",
       "    </tr>\n",
       "    <tr>\n",
       "      <td>39</td>\n",
       "      <td>40.0</td>\n",
       "      <td>0.026208</td>\n",
       "      <td>0.004400</td>\n",
       "      <td>0.167179</td>\n",
       "    </tr>\n",
       "    <tr>\n",
       "      <td>40</td>\n",
       "      <td>41.0</td>\n",
       "      <td>0.025995</td>\n",
       "      <td>0.004488</td>\n",
       "      <td>0.167082</td>\n",
       "    </tr>\n",
       "    <tr>\n",
       "      <td>41</td>\n",
       "      <td>42.0</td>\n",
       "      <td>0.025620</td>\n",
       "      <td>0.004381</td>\n",
       "      <td>0.165094</td>\n",
       "    </tr>\n",
       "    <tr>\n",
       "      <td>42</td>\n",
       "      <td>43.0</td>\n",
       "      <td>0.025216</td>\n",
       "      <td>0.004279</td>\n",
       "      <td>0.167039</td>\n",
       "    </tr>\n",
       "    <tr>\n",
       "      <td>43</td>\n",
       "      <td>44.0</td>\n",
       "      <td>0.024946</td>\n",
       "      <td>0.004242</td>\n",
       "      <td>0.166080</td>\n",
       "    </tr>\n",
       "    <tr>\n",
       "      <td>44</td>\n",
       "      <td>45.0</td>\n",
       "      <td>0.024620</td>\n",
       "      <td>0.004267</td>\n",
       "      <td>0.161133</td>\n",
       "    </tr>\n",
       "    <tr>\n",
       "      <td>45</td>\n",
       "      <td>46.0</td>\n",
       "      <td>0.024443</td>\n",
       "      <td>0.004174</td>\n",
       "      <td>0.158594</td>\n",
       "    </tr>\n",
       "    <tr>\n",
       "      <td>46</td>\n",
       "      <td>47.0</td>\n",
       "      <td>0.024185</td>\n",
       "      <td>0.004085</td>\n",
       "      <td>0.159618</td>\n",
       "    </tr>\n",
       "    <tr>\n",
       "      <td>47</td>\n",
       "      <td>48.0</td>\n",
       "      <td>0.024045</td>\n",
       "      <td>0.004056</td>\n",
       "      <td>0.158333</td>\n",
       "    </tr>\n",
       "    <tr>\n",
       "      <td>48</td>\n",
       "      <td>49.0</td>\n",
       "      <td>0.023911</td>\n",
       "      <td>0.004027</td>\n",
       "      <td>0.157509</td>\n",
       "    </tr>\n",
       "    <tr>\n",
       "      <td>49</td>\n",
       "      <td>50.0</td>\n",
       "      <td>0.023803</td>\n",
       "      <td>0.003947</td>\n",
       "      <td>0.161368</td>\n",
       "    </tr>\n",
       "  </tbody>\n",
       "</table>\n",
       "</div>"
      ],
      "text/plain": [
       "      @k  train_precision  test_precision  runtime_min\n",
       "0    1.0         0.043165        0.010667     0.167324\n",
       "1    2.0         0.043679        0.012000     0.158995\n",
       "2    3.0         0.041453        0.009778     0.167088\n",
       "3    4.0         0.039054        0.008667     0.167690\n",
       "4    5.0         0.038643        0.007467     0.165195\n",
       "5    6.0         0.039054        0.007556     0.165602\n",
       "6    7.0         0.038761        0.007619     0.167225\n",
       "7    8.0         0.038412        0.007333     0.169147\n",
       "8    9.0         0.038369        0.008000     0.167507\n",
       "9   10.0         0.038438        0.007733     0.166355\n",
       "10  11.0         0.038307        0.007758     0.166029\n",
       "11  12.0         0.037684        0.007111     0.168814\n",
       "12  13.0         0.037631        0.006564     0.167218\n",
       "13  14.0         0.036926        0.006476     0.168310\n",
       "14  15.0         0.036382        0.006400     0.171864\n",
       "15  16.0         0.035779        0.006667     0.166642\n",
       "16  17.0         0.034823        0.006275     0.168910\n",
       "17  18.0         0.034144        0.006222     0.166894\n",
       "18  19.0         0.033537        0.006316     0.166359\n",
       "19  20.0         0.032888        0.006000     0.166807\n",
       "20  21.0         0.032448        0.005968     0.164949\n",
       "21  22.0         0.031907        0.005818     0.169869\n",
       "22  23.0         0.031413        0.005681     0.166557\n",
       "23  24.0         0.031047        0.005444     0.165879\n",
       "24  25.0         0.030586        0.005547     0.163540\n",
       "25  26.0         0.030200        0.005436     0.158399\n",
       "26  27.0         0.029881        0.005333     0.157166\n",
       "27  28.0         0.029511        0.005524     0.156121\n",
       "28  29.0         0.029238        0.005425     0.161352\n",
       "29  30.0         0.028983        0.005333     0.158430\n",
       "30  31.0         0.028744        0.005161     0.160629\n",
       "31  32.0         0.028327        0.005083     0.155505\n",
       "32  33.0         0.028061        0.004929     0.158485\n",
       "33  34.0         0.027870        0.004784     0.158016\n",
       "34  35.0         0.027485        0.004724     0.158691\n",
       "35  36.0         0.027235        0.004593     0.163349\n",
       "36  37.0         0.026944        0.004468     0.155753\n",
       "37  38.0         0.026667        0.004351     0.159396\n",
       "38  39.0         0.026432        0.004376     0.167959\n",
       "39  40.0         0.026208        0.004400     0.167179\n",
       "40  41.0         0.025995        0.004488     0.167082\n",
       "41  42.0         0.025620        0.004381     0.165094\n",
       "42  43.0         0.025216        0.004279     0.167039\n",
       "43  44.0         0.024946        0.004242     0.166080\n",
       "44  45.0         0.024620        0.004267     0.161133\n",
       "45  46.0         0.024443        0.004174     0.158594\n",
       "46  47.0         0.024185        0.004085     0.159618\n",
       "47  48.0         0.024045        0.004056     0.158333\n",
       "48  49.0         0.023911        0.004027     0.157509\n",
       "49  50.0         0.023803        0.003947     0.161368"
      ]
     },
     "execution_count": 109,
     "metadata": {},
     "output_type": "execute_result"
    }
   ],
   "source": [
    "k_vis_precision_output[1]"
   ]
  },
  {
   "cell_type": "code",
   "execution_count": 110,
   "metadata": {},
   "outputs": [
    {
     "name": "stdout",
     "output_type": "stream",
     "text": [
      "Hybrid filtering results:  {'AUC train': 0.99953717, 'AUC test': 0.84518975, 'Precision @3 train': 0.5577252, 'Precision @3 test': 0.030222224}\n"
     ]
    }
   ],
   "source": [
    "# Conclusion:\n",
    "# Test precision at k=1 (highest) and k=3 is significantly lower than original hybrid filtering model result (k=3).\n",
    "\n",
    "print('Hybrid filtering results: ', model_hybrid_results)"
   ]
  },
  {
   "cell_type": "code",
   "execution_count": 111,
   "metadata": {},
   "outputs": [],
   "source": [
    "# Summary:\n",
    "# Precision focused hyperparameter tuning did not lead to model performance improvement."
   ]
  },
  {
   "cell_type": "markdown",
   "metadata": {},
   "source": [
    "# Conclusion on the Model"
   ]
  },
  {
   "cell_type": "markdown",
   "metadata": {},
   "source": [
    "In production the model should can be evaluated on the recommendations conversion rate and basket value. The big difference is that in production the users will be given the recommendations and will possibly interact with them.\n",
    "\n",
    "Since this project is done in isolated environment, where the test set of users isn't actually getting recommendations, the best possible way to evaluate the model is to see the AUC and precision at k metrics.\n",
    "\n",
    "Item features were successfully used to improve the model performance.\n",
    "\n",
    "The best achieved test AUC is ~0.84, which means that in 84% of the cases randomly selected positive interaction is ranked higher than any randomly selected negative interaction. This metrics determines how well the products are ranked for each particular user.\n",
    "\n",
    "The best achieved test precision is 0.03 at k=3, which means in 3% of the cases the positive interaction is in the top 3 recommended items.\n",
    "\n",
    "Both achieved AUC and precision are comparable to the available web results.\n",
    "\n",
    "Hyperparameter tuning has not led to improvement of both metrics."
   ]
  },
  {
   "cell_type": "code",
   "execution_count": 112,
   "metadata": {},
   "outputs": [],
   "source": [
    "model_best = model_hybrid"
   ]
  },
  {
   "cell_type": "code",
   "execution_count": 113,
   "metadata": {},
   "outputs": [
    {
     "name": "stdout",
     "output_type": "stream",
     "text": [
      "Full code has been run in:  109.71  minutes\n"
     ]
    }
   ],
   "source": [
    "full_cycle_time_end = time.time()\n",
    "\n",
    "    \n",
    "print('Full code has been run in: ', \n",
    "      round((full_cycle_time_end-full_cycle_time_start)/60, 2), \n",
    "      ' minutes')"
   ]
  },
  {
   "cell_type": "markdown",
   "metadata": {},
   "source": [
    "# Recommendations"
   ]
  },
  {
   "cell_type": "markdown",
   "metadata": {},
   "source": [
    "### Develop recommender function returning the list of top items for each user, no bundles."
   ]
  },
  {
   "cell_type": "code",
   "execution_count": 114,
   "metadata": {},
   "outputs": [],
   "source": [
    "# Recommedations algorythm was developed by the author of LightFM package, it is modified for current project.\n",
    "# https://making.lyst.com/lightfm/docs/quickstart.html\n",
    "\n",
    "def recommend(model_trained, dataset, interactions, userids, N):\n",
    "    \n",
    "    '''\n",
    "    model_trained - the trained model to be used for recommendations.\n",
    "    dataset - LightFM Dataset class used to create mapping.\n",
    "    interactions - coo matrix of known positive interactions.\n",
    "    users - list of users for recommendations.\n",
    "    N - top N recommendations to return.\n",
    "    '''\n",
    "\n",
    "    model = model_trained\n",
    "    # Extract user and item mapping from created Dataset class.\n",
    "    # Mapping is stored as tuple of arrays (user id map, user feature map, item id map, item feature map).\n",
    "    # Need to extract arrays with  index 0 and 2.\n",
    "    mapping_users = dataset.mapping()[0]\n",
    "    mapping_items = dataset.mapping()[2]\n",
    "    \n",
    "    output = {}\n",
    "    \n",
    "    for user in userids:\n",
    "        \n",
    "        # Convert user to internal index.\n",
    "        user_internal = mapping_users[user]\n",
    "        \n",
    "        # Extract internal indecies of items whith which user positively interacted in train set.\n",
    "        positive_items_internal = train.tocsr()[user_internal].indices\n",
    "        \n",
    "        # Convert internal item indecies to itemids.\n",
    "        positive_items = [key for key, val in mapping_items.items() if val in positive_items_internal]\n",
    "        \n",
    "        # Make prediction.\n",
    "        scores = model.predict(user_internal, np.arange(len(mapping_items)))\n",
    "        \n",
    "        # Sort the recommended items by descending order of their importance.\n",
    "        # Array has the internal indecies of the items.\n",
    "        recommended_items_internal = np.argsort(-scores)\n",
    "        \n",
    "        # Convert internal item indecies to item ids and return top 10 recommendations.\n",
    "        recommended_items = []\n",
    "        for id_internal in recommended_items_internal[:N]:\n",
    "            for key, value in mapping_items.items():\n",
    "                if id_internal == value:\n",
    "                    recommended_items.append(key)\n",
    "        \n",
    "        # Add user and recommended items to output.\n",
    "        output[user] = recommended_items\n",
    "        \n",
    "    # Returns the recommendation in format{user_1:[item_1, item_2, item_3], user_2:[item_4, item_5, item_6], ...}\n",
    "    return(output)"
   ]
  },
  {
   "cell_type": "markdown",
   "metadata": {},
   "source": [
    "### See how the top of recommended items compares to the full range of user positive interactions."
   ]
  },
  {
   "cell_type": "code",
   "execution_count": 115,
   "metadata": {
    "scrolled": true
   },
   "outputs": [
    {
     "data": {
      "text/plain": [
       "{566009: [130371, 247842, 234603],\n",
       " 170470: [134525, 339517, 369447],\n",
       " 64931: [119433, 240755, 120262]}"
      ]
     },
     "execution_count": 115,
     "metadata": {},
     "output_type": "execute_result"
    }
   ],
   "source": [
    "# Make recommendation to the set of users based on the train interactions.\n",
    "selected_users = [566009, 170470, 64931]\n",
    "\n",
    "recommend_items = recommend(model_trained=model_best,\n",
    "                            dataset=dataset,\n",
    "                            interactions=train,\n",
    "                            userids=selected_users,\n",
    "                            N=3)\n",
    "\n",
    "recommend_items"
   ]
  },
  {
   "cell_type": "code",
   "execution_count": 116,
   "metadata": {},
   "outputs": [
    {
     "data": {
      "text/html": [
       "<div>\n",
       "<style scoped>\n",
       "    .dataframe tbody tr th:only-of-type {\n",
       "        vertical-align: middle;\n",
       "    }\n",
       "\n",
       "    .dataframe tbody tr th {\n",
       "        vertical-align: top;\n",
       "    }\n",
       "\n",
       "    .dataframe thead th {\n",
       "        text-align: right;\n",
       "    }\n",
       "</style>\n",
       "<table border=\"1\" class=\"dataframe\">\n",
       "  <thead>\n",
       "    <tr style=\"text-align: right;\">\n",
       "      <th></th>\n",
       "      <th>timestamp</th>\n",
       "      <th>visitorid</th>\n",
       "      <th>event</th>\n",
       "      <th>itemid</th>\n",
       "      <th>transactionid</th>\n",
       "    </tr>\n",
       "  </thead>\n",
       "  <tbody>\n",
       "    <tr>\n",
       "      <td>0</td>\n",
       "      <td>1431563636311</td>\n",
       "      <td>64931</td>\n",
       "      <td>3</td>\n",
       "      <td>352082</td>\n",
       "      <td>17109.0</td>\n",
       "    </tr>\n",
       "    <tr>\n",
       "      <td>1</td>\n",
       "      <td>1431542858006</td>\n",
       "      <td>64931</td>\n",
       "      <td>2</td>\n",
       "      <td>66405</td>\n",
       "      <td>NaN</td>\n",
       "    </tr>\n",
       "    <tr>\n",
       "      <td>2</td>\n",
       "      <td>1431563636264</td>\n",
       "      <td>64931</td>\n",
       "      <td>3</td>\n",
       "      <td>120262</td>\n",
       "      <td>17109.0</td>\n",
       "    </tr>\n",
       "    <tr>\n",
       "      <td>3</td>\n",
       "      <td>1431563636295</td>\n",
       "      <td>64931</td>\n",
       "      <td>3</td>\n",
       "      <td>409425</td>\n",
       "      <td>17109.0</td>\n",
       "    </tr>\n",
       "    <tr>\n",
       "      <td>4</td>\n",
       "      <td>1437351779459</td>\n",
       "      <td>64931</td>\n",
       "      <td>2</td>\n",
       "      <td>134368</td>\n",
       "      <td>NaN</td>\n",
       "    </tr>\n",
       "    <tr>\n",
       "      <td>5</td>\n",
       "      <td>1431563636326</td>\n",
       "      <td>64931</td>\n",
       "      <td>3</td>\n",
       "      <td>390824</td>\n",
       "      <td>17109.0</td>\n",
       "    </tr>\n",
       "    <tr>\n",
       "      <td>6</td>\n",
       "      <td>1437864475709</td>\n",
       "      <td>64931</td>\n",
       "      <td>2</td>\n",
       "      <td>298754</td>\n",
       "      <td>NaN</td>\n",
       "    </tr>\n",
       "    <tr>\n",
       "      <td>7</td>\n",
       "      <td>1430782877123</td>\n",
       "      <td>64931</td>\n",
       "      <td>2</td>\n",
       "      <td>35477</td>\n",
       "      <td>NaN</td>\n",
       "    </tr>\n",
       "    <tr>\n",
       "      <td>8</td>\n",
       "      <td>1430777820619</td>\n",
       "      <td>64931</td>\n",
       "      <td>2</td>\n",
       "      <td>82125</td>\n",
       "      <td>NaN</td>\n",
       "    </tr>\n",
       "    <tr>\n",
       "      <td>9</td>\n",
       "      <td>1430776984572</td>\n",
       "      <td>64931</td>\n",
       "      <td>2</td>\n",
       "      <td>348881</td>\n",
       "      <td>NaN</td>\n",
       "    </tr>\n",
       "    <tr>\n",
       "      <td>10</td>\n",
       "      <td>1430776433701</td>\n",
       "      <td>64931</td>\n",
       "      <td>2</td>\n",
       "      <td>94570</td>\n",
       "      <td>NaN</td>\n",
       "    </tr>\n",
       "    <tr>\n",
       "      <td>11</td>\n",
       "      <td>1433017038331</td>\n",
       "      <td>64931</td>\n",
       "      <td>2</td>\n",
       "      <td>37521</td>\n",
       "      <td>NaN</td>\n",
       "    </tr>\n",
       "    <tr>\n",
       "      <td>12</td>\n",
       "      <td>1431563636342</td>\n",
       "      <td>64931</td>\n",
       "      <td>3</td>\n",
       "      <td>313810</td>\n",
       "      <td>17109.0</td>\n",
       "    </tr>\n",
       "    <tr>\n",
       "      <td>13</td>\n",
       "      <td>1431054035395</td>\n",
       "      <td>170470</td>\n",
       "      <td>3</td>\n",
       "      <td>103030</td>\n",
       "      <td>9705.0</td>\n",
       "    </tr>\n",
       "    <tr>\n",
       "      <td>14</td>\n",
       "      <td>1431054035395</td>\n",
       "      <td>170470</td>\n",
       "      <td>3</td>\n",
       "      <td>369447</td>\n",
       "      <td>9705.0</td>\n",
       "    </tr>\n",
       "    <tr>\n",
       "      <td>15</td>\n",
       "      <td>1431054035379</td>\n",
       "      <td>170470</td>\n",
       "      <td>3</td>\n",
       "      <td>75790</td>\n",
       "      <td>9705.0</td>\n",
       "    </tr>\n",
       "    <tr>\n",
       "      <td>16</td>\n",
       "      <td>1431054035364</td>\n",
       "      <td>170470</td>\n",
       "      <td>3</td>\n",
       "      <td>329334</td>\n",
       "      <td>9705.0</td>\n",
       "    </tr>\n",
       "    <tr>\n",
       "      <td>17</td>\n",
       "      <td>1431054035364</td>\n",
       "      <td>170470</td>\n",
       "      <td>3</td>\n",
       "      <td>420549</td>\n",
       "      <td>9705.0</td>\n",
       "    </tr>\n",
       "    <tr>\n",
       "      <td>18</td>\n",
       "      <td>1431054035348</td>\n",
       "      <td>170470</td>\n",
       "      <td>3</td>\n",
       "      <td>329467</td>\n",
       "      <td>9705.0</td>\n",
       "    </tr>\n",
       "    <tr>\n",
       "      <td>19</td>\n",
       "      <td>1431054035348</td>\n",
       "      <td>170470</td>\n",
       "      <td>3</td>\n",
       "      <td>430057</td>\n",
       "      <td>9705.0</td>\n",
       "    </tr>\n",
       "    <tr>\n",
       "      <td>20</td>\n",
       "      <td>1431054035299</td>\n",
       "      <td>170470</td>\n",
       "      <td>3</td>\n",
       "      <td>431853</td>\n",
       "      <td>9705.0</td>\n",
       "    </tr>\n",
       "    <tr>\n",
       "      <td>21</td>\n",
       "      <td>1431053917405</td>\n",
       "      <td>170470</td>\n",
       "      <td>2</td>\n",
       "      <td>226258</td>\n",
       "      <td>NaN</td>\n",
       "    </tr>\n",
       "    <tr>\n",
       "      <td>22</td>\n",
       "      <td>1431053449701</td>\n",
       "      <td>170470</td>\n",
       "      <td>2</td>\n",
       "      <td>433004</td>\n",
       "      <td>NaN</td>\n",
       "    </tr>\n",
       "    <tr>\n",
       "      <td>23</td>\n",
       "      <td>1430872427982</td>\n",
       "      <td>170470</td>\n",
       "      <td>3</td>\n",
       "      <td>76831</td>\n",
       "      <td>13759.0</td>\n",
       "    </tr>\n",
       "    <tr>\n",
       "      <td>24</td>\n",
       "      <td>1430872427967</td>\n",
       "      <td>170470</td>\n",
       "      <td>3</td>\n",
       "      <td>158666</td>\n",
       "      <td>13759.0</td>\n",
       "    </tr>\n",
       "    <tr>\n",
       "      <td>25</td>\n",
       "      <td>1430872427967</td>\n",
       "      <td>170470</td>\n",
       "      <td>3</td>\n",
       "      <td>104468</td>\n",
       "      <td>13759.0</td>\n",
       "    </tr>\n",
       "    <tr>\n",
       "      <td>26</td>\n",
       "      <td>1430870043969</td>\n",
       "      <td>170470</td>\n",
       "      <td>3</td>\n",
       "      <td>452077</td>\n",
       "      <td>14666.0</td>\n",
       "    </tr>\n",
       "    <tr>\n",
       "      <td>27</td>\n",
       "      <td>1430870043969</td>\n",
       "      <td>170470</td>\n",
       "      <td>3</td>\n",
       "      <td>71443</td>\n",
       "      <td>14666.0</td>\n",
       "    </tr>\n",
       "    <tr>\n",
       "      <td>28</td>\n",
       "      <td>1430869675493</td>\n",
       "      <td>170470</td>\n",
       "      <td>2</td>\n",
       "      <td>250988</td>\n",
       "      <td>NaN</td>\n",
       "    </tr>\n",
       "    <tr>\n",
       "      <td>29</td>\n",
       "      <td>1430869203820</td>\n",
       "      <td>170470</td>\n",
       "      <td>2</td>\n",
       "      <td>134525</td>\n",
       "      <td>NaN</td>\n",
       "    </tr>\n",
       "    <tr>\n",
       "      <td>30</td>\n",
       "      <td>1431054035348</td>\n",
       "      <td>170470</td>\n",
       "      <td>3</td>\n",
       "      <td>102136</td>\n",
       "      <td>9705.0</td>\n",
       "    </tr>\n",
       "    <tr>\n",
       "      <td>31</td>\n",
       "      <td>1438041149396</td>\n",
       "      <td>566009</td>\n",
       "      <td>3</td>\n",
       "      <td>247842</td>\n",
       "      <td>1346.0</td>\n",
       "    </tr>\n",
       "    <tr>\n",
       "      <td>32</td>\n",
       "      <td>1434416899511</td>\n",
       "      <td>566009</td>\n",
       "      <td>2</td>\n",
       "      <td>11986</td>\n",
       "      <td>NaN</td>\n",
       "    </tr>\n",
       "    <tr>\n",
       "      <td>33</td>\n",
       "      <td>1430627485604</td>\n",
       "      <td>566009</td>\n",
       "      <td>2</td>\n",
       "      <td>11249</td>\n",
       "      <td>NaN</td>\n",
       "    </tr>\n",
       "    <tr>\n",
       "      <td>34</td>\n",
       "      <td>1434402463336</td>\n",
       "      <td>566009</td>\n",
       "      <td>2</td>\n",
       "      <td>315769</td>\n",
       "      <td>NaN</td>\n",
       "    </tr>\n",
       "    <tr>\n",
       "      <td>35</td>\n",
       "      <td>1433365411517</td>\n",
       "      <td>566009</td>\n",
       "      <td>3</td>\n",
       "      <td>187719</td>\n",
       "      <td>14366.0</td>\n",
       "    </tr>\n",
       "    <tr>\n",
       "      <td>36</td>\n",
       "      <td>1438041149412</td>\n",
       "      <td>566009</td>\n",
       "      <td>3</td>\n",
       "      <td>234603</td>\n",
       "      <td>1346.0</td>\n",
       "    </tr>\n",
       "    <tr>\n",
       "      <td>37</td>\n",
       "      <td>1430628121182</td>\n",
       "      <td>566009</td>\n",
       "      <td>2</td>\n",
       "      <td>79544</td>\n",
       "      <td>NaN</td>\n",
       "    </tr>\n",
       "    <tr>\n",
       "      <td>38</td>\n",
       "      <td>1434404625804</td>\n",
       "      <td>566009</td>\n",
       "      <td>2</td>\n",
       "      <td>180763</td>\n",
       "      <td>NaN</td>\n",
       "    </tr>\n",
       "    <tr>\n",
       "      <td>39</td>\n",
       "      <td>1438041149771</td>\n",
       "      <td>566009</td>\n",
       "      <td>3</td>\n",
       "      <td>397602</td>\n",
       "      <td>1346.0</td>\n",
       "    </tr>\n",
       "  </tbody>\n",
       "</table>\n",
       "</div>"
      ],
      "text/plain": [
       "        timestamp  visitorid  event  itemid  transactionid\n",
       "0   1431563636311      64931      3  352082        17109.0\n",
       "1   1431542858006      64931      2   66405            NaN\n",
       "2   1431563636264      64931      3  120262        17109.0\n",
       "3   1431563636295      64931      3  409425        17109.0\n",
       "4   1437351779459      64931      2  134368            NaN\n",
       "5   1431563636326      64931      3  390824        17109.0\n",
       "6   1437864475709      64931      2  298754            NaN\n",
       "7   1430782877123      64931      2   35477            NaN\n",
       "8   1430777820619      64931      2   82125            NaN\n",
       "9   1430776984572      64931      2  348881            NaN\n",
       "10  1430776433701      64931      2   94570            NaN\n",
       "11  1433017038331      64931      2   37521            NaN\n",
       "12  1431563636342      64931      3  313810        17109.0\n",
       "13  1431054035395     170470      3  103030         9705.0\n",
       "14  1431054035395     170470      3  369447         9705.0\n",
       "15  1431054035379     170470      3   75790         9705.0\n",
       "16  1431054035364     170470      3  329334         9705.0\n",
       "17  1431054035364     170470      3  420549         9705.0\n",
       "18  1431054035348     170470      3  329467         9705.0\n",
       "19  1431054035348     170470      3  430057         9705.0\n",
       "20  1431054035299     170470      3  431853         9705.0\n",
       "21  1431053917405     170470      2  226258            NaN\n",
       "22  1431053449701     170470      2  433004            NaN\n",
       "23  1430872427982     170470      3   76831        13759.0\n",
       "24  1430872427967     170470      3  158666        13759.0\n",
       "25  1430872427967     170470      3  104468        13759.0\n",
       "26  1430870043969     170470      3  452077        14666.0\n",
       "27  1430870043969     170470      3   71443        14666.0\n",
       "28  1430869675493     170470      2  250988            NaN\n",
       "29  1430869203820     170470      2  134525            NaN\n",
       "30  1431054035348     170470      3  102136         9705.0\n",
       "31  1438041149396     566009      3  247842         1346.0\n",
       "32  1434416899511     566009      2   11986            NaN\n",
       "33  1430627485604     566009      2   11249            NaN\n",
       "34  1434402463336     566009      2  315769            NaN\n",
       "35  1433365411517     566009      3  187719        14366.0\n",
       "36  1438041149412     566009      3  234603         1346.0\n",
       "37  1430628121182     566009      2   79544            NaN\n",
       "38  1434404625804     566009      2  180763            NaN\n",
       "39  1438041149771     566009      3  397602         1346.0"
      ]
     },
     "execution_count": 116,
     "metadata": {},
     "output_type": "execute_result"
    }
   ],
   "source": [
    "selected_users_all_inter = df_events.loc[df_events['visitorid'].isin(selected_users)].sort_values(\n",
    "    by=['visitorid'], ascending=True).reset_index(drop=True)\n",
    "\n",
    "selected_users_all_inter"
   ]
  },
  {
   "cell_type": "code",
   "execution_count": 117,
   "metadata": {},
   "outputs": [],
   "source": [
    "# Conclusion:\n",
    "# For each user there're items matching in recommendation and existing interactions data.\n",
    "# This proves the sufficient quality of recommendations.\n",
    "\n",
    "# The recommendations include items with which user had positive interactions.\n",
    "# Since the item features names and values are hashed, there's no proof whether the items can be considered \n",
    "# for the next purchase or not. If the item is refillable (paper towels, toothpaste) it can be the case they may  \n",
    "# be recommended one more time, while the same sofa or carpet are unlikely to be recommended second time.\n",
    "# If the information is provided, the pool of potentially recommended items may be reviewed for better UX."
   ]
  },
  {
   "cell_type": "markdown",
   "metadata": {},
   "source": [
    "# Production use"
   ]
  },
  {
   "cell_type": "markdown",
   "metadata": {},
   "source": [
    "Before making recommendations for production the selected model should be trained on the whole cleaned dataset."
   ]
  },
  {
   "cell_type": "code",
   "execution_count": 118,
   "metadata": {
    "scrolled": false
   },
   "outputs": [
    {
     "name": "stdout",
     "output_type": "stream",
     "text": [
      "Trained in :  0.24  minutes\n"
     ]
    }
   ],
   "source": [
    "# Make recommendation to the set of users based on all interactions from cleaned set.\n",
    "# This mimics the production recommendations based on the all available data after cleaning.\n",
    "\n",
    "start_time = time.time()\n",
    "\n",
    "# Firstly, train/retrain model on the full data.\n",
    "model_production = model_best  # Copy the hyperparameters of the best model.\n",
    "\n",
    "# Number of epochs matches the optimum for hybrid model, selected as best.\n",
    "model_production.fit(production,\n",
    "                     item_features=item_features, \n",
    "                     epochs=NUM_EPOCHS,\n",
    "                     num_threads=4)\n",
    "\n",
    "    \n",
    "print('Trained in : ', round((time.time()-start_time)/60, 2), ' minutes')"
   ]
  },
  {
   "cell_type": "code",
   "execution_count": 119,
   "metadata": {},
   "outputs": [
    {
     "name": "stdout",
     "output_type": "stream",
     "text": [
      "Recommendations made in :  0.001495  minutes\n"
     ]
    }
   ],
   "source": [
    "start_time = time.time()\n",
    "\n",
    "# Select users for to give recommendations.\n",
    "selected_users = [566009, 170470, 64931]\n",
    "\n",
    "# Create recommendations.\n",
    "recommend_items_production = recommend(model_trained=model_production,\n",
    "                                       dataset=dataset, \n",
    "                                       interactions=production,\n",
    "                                       userids=selected_users,\n",
    "                                       N=3)\n",
    "\n",
    "print('Recommendations made in : ', round((time.time()-start_time)/60, 6), ' minutes')"
   ]
  },
  {
   "cell_type": "code",
   "execution_count": 120,
   "metadata": {},
   "outputs": [
    {
     "data": {
      "text/plain": [
       "{566009: [164884, 308510, 396575],\n",
       " 170470: [352230, 7732, 374599],\n",
       " 64931: [119433, 438885, 369000]}"
      ]
     },
     "execution_count": 120,
     "metadata": {},
     "output_type": "execute_result"
    }
   ],
   "source": [
    "recommend_items_production"
   ]
  },
  {
   "cell_type": "code",
   "execution_count": 121,
   "metadata": {},
   "outputs": [
    {
     "data": {
      "text/plain": [
       "{566009: [130371, 247842, 234603],\n",
       " 170470: [134525, 339517, 369447],\n",
       " 64931: [119433, 240755, 120262]}"
      ]
     },
     "execution_count": 121,
     "metadata": {},
     "output_type": "execute_result"
    }
   ],
   "source": [
    "# Compare to the recommendations based on train set.\n",
    "\n",
    "recommend_items"
   ]
  },
  {
   "cell_type": "code",
   "execution_count": 122,
   "metadata": {},
   "outputs": [],
   "source": [
    "# The results are slightly different but close.\n",
    "# This makes sense since the models were trained not on the same data.\n",
    "# Quality of recommendations is sufficient."
   ]
  },
  {
   "cell_type": "markdown",
   "metadata": {},
   "source": [
    "# Increased basket value - Bundling"
   ]
  },
  {
   "cell_type": "code",
   "execution_count": 124,
   "metadata": {
    "scrolled": false
   },
   "outputs": [
    {
     "data": {
      "text/plain": [
       "{566009: [(130371, 247842, 234603),\n",
       "  (130371, 247842),\n",
       "  (130371, 234603),\n",
       "  (247842, 234603)],\n",
       " 170470: [(134525, 339517, 369447),\n",
       "  (134525, 339517),\n",
       "  (134525, 369447),\n",
       "  (339517, 369447)],\n",
       " 64931: [(119433, 240755, 120262),\n",
       "  (119433, 240755),\n",
       "  (119433, 120262),\n",
       "  (240755, 120262)]}"
      ]
     },
     "execution_count": 124,
     "metadata": {},
     "output_type": "execute_result"
    }
   ],
   "source": [
    "# Since the item prices are hashed in original dataseta and total number of bundles is 4, \n",
    "# all bundles will be recommended to user with no negative impact on user experience.\n",
    "\n",
    "\n",
    "recommend_products_bundles = {}\n",
    "\n",
    "for user, item in recommend_items.items():\n",
    "    combos = [tuple(recommend_items[user])]\n",
    "    for bundle in combinations(recommend_items[user], 2):\n",
    "        combos.append(bundle)\n",
    "    recommend_products_bundles[user] = combos\n",
    "    \n",
    "recommend_products_bundles\n",
    "# Fromat is {user_1: [(bundle_1), (bundle_2), ...],\n",
    "#            user_2: [(bundle_1), ...], ...}"
   ]
  },
  {
   "cell_type": "code",
   "execution_count": 125,
   "metadata": {},
   "outputs": [],
   "source": [
    "# The project is aiming to develop the recommendation system using hybrid approach and \n",
    "# recommend the discounted bundle of products the user is likely to be interested in \n",
    "# which may lead to an increase of the basket value. \n",
    "# The size of the discount is a subject to setting by the eCommerce website team, \n",
    "# for the purposes of this project 10% was aimed to be offered.\n",
    "\n",
    "# However, since the item prices are hashed, and the number of recommended bundles isn't high (only 4),\n",
    "# the user may be recommended all 4 bundles on the same page with 10% discount each.\n",
    "# This will lead to improved user experience as all bundles are offered at once and the user is able to choose."
   ]
  },
  {
   "cell_type": "markdown",
   "metadata": {},
   "source": [
    "# Conclusion"
   ]
  },
  {
   "cell_type": "code",
   "execution_count": 126,
   "metadata": {},
   "outputs": [],
   "source": [
    "# The developped technical solution can now be implemented into the website UI or considered for email campaigns.\n",
    "# In production it is important to measure the success of recommendations based on the basket value and rearrange."
   ]
  },
  {
   "cell_type": "markdown",
   "metadata": {},
   "source": [
    "# Future work"
   ]
  },
  {
   "cell_type": "code",
   "execution_count": 127,
   "metadata": {},
   "outputs": [],
   "source": [
    "# Having the item features data unhashed may help to explore deper the dependencies between items/users.\n",
    "# Also, the feature selection and feature engineering techniques may be considered for the item features datset.\n",
    "\n",
    "# Another point to look at is use of timestamps to predict consumer behavior/interest based on the \n",
    "# latest interactions. There can be several approaches, including assigning higher 'weight' to recent interactions.\n",
    "\n",
    "# Evaluating results in production and revisiting the approaches is the normal cadance of any recommender system\n",
    "# lifecycle which is broadly used in the industry."
   ]
  }
 ],
 "metadata": {
  "kernelspec": {
   "display_name": "Python 3",
   "language": "python",
   "name": "python3"
  },
  "language_info": {
   "codemirror_mode": {
    "name": "ipython",
    "version": 3
   },
   "file_extension": ".py",
   "mimetype": "text/x-python",
   "name": "python",
   "nbconvert_exporter": "python",
   "pygments_lexer": "ipython3",
   "version": "3.7.4"
  }
 },
 "nbformat": 4,
 "nbformat_minor": 2
}
