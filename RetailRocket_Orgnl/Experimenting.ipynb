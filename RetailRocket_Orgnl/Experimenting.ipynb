{
 "cells": [
  {
   "cell_type": "markdown",
   "metadata": {},
   "source": [
    "# Import libraries"
   ]
  },
  {
   "cell_type": "code",
   "execution_count": 144,
   "metadata": {
    "scrolled": true
   },
   "outputs": [],
   "source": [
    "import numpy as np # linear algebra\n",
    "import pandas as pd # data processing, CSV file I/O (e.g. pd.read_csv)\n",
    "import time\n",
    "import seaborn as sns\n",
    "import matplotlib.pyplot as plt\n",
    "import csv\n",
    "import json\n",
    "\n",
    "from itertools import islice\n",
    "from itertools import combinations\n",
    "\n",
    "from scipy.sparse import coo_matrix  # LightFM fit method requires coo matrix format as input.\n",
    "from scipy.sparse import csr_matrix\n",
    "\n",
    "from lightfm import LightFM\n",
    "from lightfm.evaluation import auc_score\n",
    "from lightfm.evaluation import precision_at_k\n",
    "from lightfm.cross_validation import random_train_test_split\n",
    "from sklearn.metrics import roc_auc_score\n",
    "from sklearn.model_selection import train_test_split\n",
    "from lightfm.data import Dataset"
   ]
  },
  {
   "cell_type": "code",
   "execution_count": 2,
   "metadata": {},
   "outputs": [],
   "source": [
    "full_cycle_time_start = time.time()"
   ]
  },
  {
   "cell_type": "markdown",
   "metadata": {},
   "source": [
    "# Preprocessing\n",
    "## Data Import and Cleaning - Events"
   ]
  },
  {
   "cell_type": "code",
   "execution_count": 3,
   "metadata": {
    "scrolled": true
   },
   "outputs": [],
   "source": [
    "# Importing Events data and sorting by timestamp column which corresponds the historical order of events.\n",
    "\n",
    "df_events = pd.read_csv(\"events.csv\")\n",
    "df_events = df_events.sort_values(by=['timestamp'], ascending=True).reset_index(drop=True)"
   ]
  },
  {
   "cell_type": "code",
   "execution_count": 4,
   "metadata": {
    "scrolled": false
   },
   "outputs": [
    {
     "data": {
      "text/html": [
       "<div>\n",
       "<style scoped>\n",
       "    .dataframe tbody tr th:only-of-type {\n",
       "        vertical-align: middle;\n",
       "    }\n",
       "\n",
       "    .dataframe tbody tr th {\n",
       "        vertical-align: top;\n",
       "    }\n",
       "\n",
       "    .dataframe thead th {\n",
       "        text-align: right;\n",
       "    }\n",
       "</style>\n",
       "<table border=\"1\" class=\"dataframe\">\n",
       "  <thead>\n",
       "    <tr style=\"text-align: right;\">\n",
       "      <th></th>\n",
       "      <th>timestamp</th>\n",
       "      <th>visitorid</th>\n",
       "      <th>event</th>\n",
       "      <th>itemid</th>\n",
       "      <th>transactionid</th>\n",
       "    </tr>\n",
       "  </thead>\n",
       "  <tbody>\n",
       "    <tr>\n",
       "      <td>0</td>\n",
       "      <td>1430622004384</td>\n",
       "      <td>693516</td>\n",
       "      <td>addtocart</td>\n",
       "      <td>297662</td>\n",
       "      <td>NaN</td>\n",
       "    </tr>\n",
       "    <tr>\n",
       "      <td>1</td>\n",
       "      <td>1430622011289</td>\n",
       "      <td>829044</td>\n",
       "      <td>view</td>\n",
       "      <td>60987</td>\n",
       "      <td>NaN</td>\n",
       "    </tr>\n",
       "    <tr>\n",
       "      <td>2</td>\n",
       "      <td>1430622013048</td>\n",
       "      <td>652699</td>\n",
       "      <td>view</td>\n",
       "      <td>252860</td>\n",
       "      <td>NaN</td>\n",
       "    </tr>\n",
       "    <tr>\n",
       "      <td>3</td>\n",
       "      <td>1430622024154</td>\n",
       "      <td>1125936</td>\n",
       "      <td>view</td>\n",
       "      <td>33661</td>\n",
       "      <td>NaN</td>\n",
       "    </tr>\n",
       "    <tr>\n",
       "      <td>4</td>\n",
       "      <td>1430622026228</td>\n",
       "      <td>693516</td>\n",
       "      <td>view</td>\n",
       "      <td>297662</td>\n",
       "      <td>NaN</td>\n",
       "    </tr>\n",
       "  </tbody>\n",
       "</table>\n",
       "</div>"
      ],
      "text/plain": [
       "       timestamp  visitorid      event  itemid  transactionid\n",
       "0  1430622004384     693516  addtocart  297662            NaN\n",
       "1  1430622011289     829044       view   60987            NaN\n",
       "2  1430622013048     652699       view  252860            NaN\n",
       "3  1430622024154    1125936       view   33661            NaN\n",
       "4  1430622026228     693516       view  297662            NaN"
      ]
     },
     "execution_count": 4,
     "metadata": {},
     "output_type": "execute_result"
    }
   ],
   "source": [
    "df_events.head()"
   ]
  },
  {
   "cell_type": "code",
   "execution_count": 5,
   "metadata": {
    "scrolled": true
   },
   "outputs": [
    {
     "name": "stdout",
     "output_type": "stream",
     "text": [
      "<class 'pandas.core.frame.DataFrame'>\n",
      "RangeIndex: 2756101 entries, 0 to 2756100\n",
      "Data columns (total 5 columns):\n",
      "timestamp        int64\n",
      "visitorid        int64\n",
      "event            object\n",
      "itemid           int64\n",
      "transactionid    float64\n",
      "dtypes: float64(1), int64(3), object(1)\n",
      "memory usage: 105.1+ MB\n"
     ]
    }
   ],
   "source": [
    "df_events.info()"
   ]
  },
  {
   "cell_type": "code",
   "execution_count": 6,
   "metadata": {
    "scrolled": true
   },
   "outputs": [
    {
     "name": "stdout",
     "output_type": "stream",
     "text": [
      "Original number of users: 1407580\n",
      "Original number of items: 235061\n",
      "Original number of interactions: 2756101\n",
      "Original sparsity: 0.000833 %\n"
     ]
    }
   ],
   "source": [
    "qty_all_users_original = len(df_events.visitorid.unique())\n",
    "qty_all_items_original = len(df_events.itemid.unique())\n",
    "qty_all_interactions_original = len(df_events)\n",
    "sparsity_original = qty_all_interactions_original/(qty_all_users_original*qty_all_items_original)\n",
    "\n",
    "print('Original number of users:', qty_all_users_original)\n",
    "print('Original number of items:', qty_all_items_original)\n",
    "print('Original number of interactions:', qty_all_interactions_original)\n",
    "print('Original sparsity:', round(sparsity_original*100,6), '%')"
   ]
  },
  {
   "cell_type": "code",
   "execution_count": 7,
   "metadata": {},
   "outputs": [],
   "source": [
    "# Events types “view”, “addtocart”, “transaction” are the implicit customer feedback.\n",
    "# They cannot be considered as rating (explicit feedback).\n",
    "# This information is implicit feedback and lightFM library was designed to deal with it.\n",
    "# Transform events from categorical to numerical format for further processing.\n",
    "\n",
    "weight_view = 1\n",
    "weight_addtocart = 2\n",
    "weight_transaction = 3\n",
    "\n",
    "df_events.event.replace(to_replace=dict(\n",
    "    view=weight_view, addtocart=weight_addtocart, transaction=weight_transaction), inplace=True)"
   ]
  },
  {
   "cell_type": "code",
   "execution_count": 8,
   "metadata": {
    "scrolled": true
   },
   "outputs": [
    {
     "data": {
      "text/plain": [
       "array([2, 1, 3])"
      ]
     },
     "execution_count": 8,
     "metadata": {},
     "output_type": "execute_result"
    }
   ],
   "source": [
    "# Now the events replaced with corresponding weights.\n",
    "df_events.event.unique()"
   ]
  },
  {
   "cell_type": "code",
   "execution_count": 9,
   "metadata": {
    "scrolled": false
   },
   "outputs": [
    {
     "data": {
      "text/html": [
       "<div>\n",
       "<style scoped>\n",
       "    .dataframe tbody tr th:only-of-type {\n",
       "        vertical-align: middle;\n",
       "    }\n",
       "\n",
       "    .dataframe tbody tr th {\n",
       "        vertical-align: top;\n",
       "    }\n",
       "\n",
       "    .dataframe thead th {\n",
       "        text-align: right;\n",
       "    }\n",
       "</style>\n",
       "<table border=\"1\" class=\"dataframe\">\n",
       "  <thead>\n",
       "    <tr style=\"text-align: right;\">\n",
       "      <th></th>\n",
       "      <th>timestamp</th>\n",
       "      <th>visitorid</th>\n",
       "      <th>event</th>\n",
       "      <th>itemid</th>\n",
       "      <th>transactionid</th>\n",
       "    </tr>\n",
       "  </thead>\n",
       "  <tbody>\n",
       "    <tr>\n",
       "      <td>0</td>\n",
       "      <td>1430622004384</td>\n",
       "      <td>693516</td>\n",
       "      <td>2</td>\n",
       "      <td>297662</td>\n",
       "      <td>NaN</td>\n",
       "    </tr>\n",
       "    <tr>\n",
       "      <td>1</td>\n",
       "      <td>1430622011289</td>\n",
       "      <td>829044</td>\n",
       "      <td>1</td>\n",
       "      <td>60987</td>\n",
       "      <td>NaN</td>\n",
       "    </tr>\n",
       "    <tr>\n",
       "      <td>2</td>\n",
       "      <td>1430622013048</td>\n",
       "      <td>652699</td>\n",
       "      <td>1</td>\n",
       "      <td>252860</td>\n",
       "      <td>NaN</td>\n",
       "    </tr>\n",
       "    <tr>\n",
       "      <td>3</td>\n",
       "      <td>1430622024154</td>\n",
       "      <td>1125936</td>\n",
       "      <td>1</td>\n",
       "      <td>33661</td>\n",
       "      <td>NaN</td>\n",
       "    </tr>\n",
       "    <tr>\n",
       "      <td>4</td>\n",
       "      <td>1430622026228</td>\n",
       "      <td>693516</td>\n",
       "      <td>1</td>\n",
       "      <td>297662</td>\n",
       "      <td>NaN</td>\n",
       "    </tr>\n",
       "  </tbody>\n",
       "</table>\n",
       "</div>"
      ],
      "text/plain": [
       "       timestamp  visitorid  event  itemid  transactionid\n",
       "0  1430622004384     693516      2  297662            NaN\n",
       "1  1430622011289     829044      1   60987            NaN\n",
       "2  1430622013048     652699      1  252860            NaN\n",
       "3  1430622024154    1125936      1   33661            NaN\n",
       "4  1430622026228     693516      1  297662            NaN"
      ]
     },
     "execution_count": 9,
     "metadata": {},
     "output_type": "execute_result"
    }
   ],
   "source": [
    "df_events.head()"
   ]
  },
  {
   "cell_type": "code",
   "execution_count": 10,
   "metadata": {
    "scrolled": true
   },
   "outputs": [],
   "source": [
    "# The user may have interacted with item multiple times which is now stored in dataframe.\n",
    "# For the purpose of recommendation we're interested in the highest level of user interest to the item.\n",
    "# Therefore, the data can be further cleaned.\n",
    "\n",
    "df_events = df_events.sort_values('event').drop_duplicates(\n",
    "    subset=['visitorid', 'itemid'], \n",
    "    keep='last').sort_values(by=['timestamp'], ascending=True).reset_index(drop=True)"
   ]
  },
  {
   "cell_type": "code",
   "execution_count": 11,
   "metadata": {
    "scrolled": true
   },
   "outputs": [
    {
     "name": "stdout",
     "output_type": "stream",
     "text": [
      "<class 'pandas.core.frame.DataFrame'>\n",
      "RangeIndex: 2145179 entries, 0 to 2145178\n",
      "Data columns (total 5 columns):\n",
      "timestamp        int64\n",
      "visitorid        int64\n",
      "event            int64\n",
      "itemid           int64\n",
      "transactionid    float64\n",
      "dtypes: float64(1), int64(4)\n",
      "memory usage: 81.8 MB\n"
     ]
    }
   ],
   "source": [
    "df_events.info()"
   ]
  },
  {
   "cell_type": "code",
   "execution_count": 12,
   "metadata": {
    "scrolled": false
   },
   "outputs": [
    {
     "data": {
      "text/plain": [
       "<matplotlib.axes._subplots.AxesSubplot at 0x7fc7d7e51450>"
      ]
     },
     "execution_count": 12,
     "metadata": {},
     "output_type": "execute_result"
    },
    {
     "data": {
      "image/png": "[encoded data removed]",
      "text/plain": [
       "<Figure size 432x288 with 1 Axes>"
      ]
     },
     "metadata": {
      "needs_background": "light"
     },
     "output_type": "display_data"
    }
   ],
   "source": [
    "# View on the ratio between different types of events.\n",
    "sns.countplot(x='event', data=df_events)"
   ]
  },
  {
   "cell_type": "code",
   "execution_count": 13,
   "metadata": {
    "scrolled": true
   },
   "outputs": [
    {
     "data": {
      "text/html": [
       "<div>\n",
       "<style scoped>\n",
       "    .dataframe tbody tr th:only-of-type {\n",
       "        vertical-align: middle;\n",
       "    }\n",
       "\n",
       "    .dataframe tbody tr th {\n",
       "        vertical-align: top;\n",
       "    }\n",
       "\n",
       "    .dataframe thead th {\n",
       "        text-align: right;\n",
       "    }\n",
       "</style>\n",
       "<table border=\"1\" class=\"dataframe\">\n",
       "  <thead>\n",
       "    <tr style=\"text-align: right;\">\n",
       "      <th></th>\n",
       "      <th>activity_count</th>\n",
       "    </tr>\n",
       "    <tr>\n",
       "      <th>visitorid</th>\n",
       "      <th></th>\n",
       "    </tr>\n",
       "  </thead>\n",
       "  <tbody>\n",
       "    <tr>\n",
       "      <td>0</td>\n",
       "      <td>3</td>\n",
       "    </tr>\n",
       "    <tr>\n",
       "      <td>1</td>\n",
       "      <td>1</td>\n",
       "    </tr>\n",
       "    <tr>\n",
       "      <td>2</td>\n",
       "      <td>4</td>\n",
       "    </tr>\n",
       "    <tr>\n",
       "      <td>3</td>\n",
       "      <td>1</td>\n",
       "    </tr>\n",
       "    <tr>\n",
       "      <td>4</td>\n",
       "      <td>1</td>\n",
       "    </tr>\n",
       "  </tbody>\n",
       "</table>\n",
       "</div>"
      ],
      "text/plain": [
       "           activity_count\n",
       "visitorid                \n",
       "0                       3\n",
       "1                       1\n",
       "2                       4\n",
       "3                       1\n",
       "4                       1"
      ]
     },
     "execution_count": 13,
     "metadata": {},
     "output_type": "execute_result"
    }
   ],
   "source": [
    "# Count activities by user.\n",
    "users_activity = df_events.groupby('visitorid').visitorid.count().to_frame(name='activity_count')\n",
    "users_activity.head()"
   ]
  },
  {
   "cell_type": "code",
   "execution_count": 14,
   "metadata": {
    "scrolled": false
   },
   "outputs": [
    {
     "data": {
      "text/html": [
       "<div>\n",
       "<style scoped>\n",
       "    .dataframe tbody tr th:only-of-type {\n",
       "        vertical-align: middle;\n",
       "    }\n",
       "\n",
       "    .dataframe tbody tr th {\n",
       "        vertical-align: top;\n",
       "    }\n",
       "\n",
       "    .dataframe thead th {\n",
       "        text-align: right;\n",
       "    }\n",
       "</style>\n",
       "<table border=\"1\" class=\"dataframe\">\n",
       "  <thead>\n",
       "    <tr style=\"text-align: right;\">\n",
       "      <th></th>\n",
       "      <th>activity_count</th>\n",
       "    </tr>\n",
       "    <tr>\n",
       "      <th>visitorid</th>\n",
       "      <th></th>\n",
       "    </tr>\n",
       "  </thead>\n",
       "  <tbody>\n",
       "    <tr>\n",
       "      <td>1150086</td>\n",
       "      <td>3814</td>\n",
       "    </tr>\n",
       "    <tr>\n",
       "      <td>530559</td>\n",
       "      <td>2209</td>\n",
       "    </tr>\n",
       "    <tr>\n",
       "      <td>892013</td>\n",
       "      <td>1738</td>\n",
       "    </tr>\n",
       "    <tr>\n",
       "      <td>895999</td>\n",
       "      <td>1641</td>\n",
       "    </tr>\n",
       "    <tr>\n",
       "      <td>152963</td>\n",
       "      <td>1622</td>\n",
       "    </tr>\n",
       "    <tr>\n",
       "      <td>371606</td>\n",
       "      <td>1399</td>\n",
       "    </tr>\n",
       "    <tr>\n",
       "      <td>163561</td>\n",
       "      <td>1314</td>\n",
       "    </tr>\n",
       "    <tr>\n",
       "      <td>79627</td>\n",
       "      <td>1257</td>\n",
       "    </tr>\n",
       "    <tr>\n",
       "      <td>286616</td>\n",
       "      <td>1230</td>\n",
       "    </tr>\n",
       "    <tr>\n",
       "      <td>684514</td>\n",
       "      <td>1187</td>\n",
       "    </tr>\n",
       "  </tbody>\n",
       "</table>\n",
       "</div>"
      ],
      "text/plain": [
       "           activity_count\n",
       "visitorid                \n",
       "1150086              3814\n",
       "530559               2209\n",
       "892013               1738\n",
       "895999               1641\n",
       "152963               1622\n",
       "371606               1399\n",
       "163561               1314\n",
       "79627                1257\n",
       "286616               1230\n",
       "684514               1187"
      ]
     },
     "execution_count": 14,
     "metadata": {},
     "output_type": "execute_result"
    }
   ],
   "source": [
    "# View on the most active users\n",
    "users_activity.loc[users_activity['activity_count'] > 1000].sort_values(\n",
    "    by='activity_count', ascending=False).head(10)"
   ]
  },
  {
   "cell_type": "code",
   "execution_count": 15,
   "metadata": {
    "scrolled": true
   },
   "outputs": [
    {
     "data": {
      "text/html": [
       "<div>\n",
       "<style scoped>\n",
       "    .dataframe tbody tr th:only-of-type {\n",
       "        vertical-align: middle;\n",
       "    }\n",
       "\n",
       "    .dataframe tbody tr th {\n",
       "        vertical-align: top;\n",
       "    }\n",
       "\n",
       "    .dataframe thead th {\n",
       "        text-align: right;\n",
       "    }\n",
       "</style>\n",
       "<table border=\"1\" class=\"dataframe\">\n",
       "  <thead>\n",
       "    <tr style=\"text-align: right;\">\n",
       "      <th></th>\n",
       "      <th>timestamp</th>\n",
       "      <th>visitorid</th>\n",
       "      <th>event</th>\n",
       "      <th>itemid</th>\n",
       "      <th>transactionid</th>\n",
       "    </tr>\n",
       "  </thead>\n",
       "  <tbody>\n",
       "    <tr>\n",
       "      <td>628771</td>\n",
       "      <td>1434034517389</td>\n",
       "      <td>1150086</td>\n",
       "      <td>1</td>\n",
       "      <td>133542</td>\n",
       "      <td>NaN</td>\n",
       "    </tr>\n",
       "    <tr>\n",
       "      <td>629008</td>\n",
       "      <td>1434035735608</td>\n",
       "      <td>1150086</td>\n",
       "      <td>1</td>\n",
       "      <td>167873</td>\n",
       "      <td>NaN</td>\n",
       "    </tr>\n",
       "    <tr>\n",
       "      <td>629054</td>\n",
       "      <td>1434036006651</td>\n",
       "      <td>1150086</td>\n",
       "      <td>1</td>\n",
       "      <td>231726</td>\n",
       "      <td>NaN</td>\n",
       "    </tr>\n",
       "    <tr>\n",
       "      <td>629104</td>\n",
       "      <td>1434036288806</td>\n",
       "      <td>1150086</td>\n",
       "      <td>1</td>\n",
       "      <td>427777</td>\n",
       "      <td>NaN</td>\n",
       "    </tr>\n",
       "    <tr>\n",
       "      <td>629170</td>\n",
       "      <td>1434036525614</td>\n",
       "      <td>1150086</td>\n",
       "      <td>3</td>\n",
       "      <td>398115</td>\n",
       "      <td>7510.0</td>\n",
       "    </tr>\n",
       "    <tr>\n",
       "      <td>629208</td>\n",
       "      <td>1434036727711</td>\n",
       "      <td>1150086</td>\n",
       "      <td>1</td>\n",
       "      <td>203425</td>\n",
       "      <td>NaN</td>\n",
       "    </tr>\n",
       "    <tr>\n",
       "      <td>629246</td>\n",
       "      <td>1434036891672</td>\n",
       "      <td>1150086</td>\n",
       "      <td>1</td>\n",
       "      <td>458489</td>\n",
       "      <td>NaN</td>\n",
       "    </tr>\n",
       "    <tr>\n",
       "      <td>629369</td>\n",
       "      <td>1434037348016</td>\n",
       "      <td>1150086</td>\n",
       "      <td>3</td>\n",
       "      <td>375955</td>\n",
       "      <td>6495.0</td>\n",
       "    </tr>\n",
       "    <tr>\n",
       "      <td>629421</td>\n",
       "      <td>1434037596453</td>\n",
       "      <td>1150086</td>\n",
       "      <td>3</td>\n",
       "      <td>357133</td>\n",
       "      <td>5235.0</td>\n",
       "    </tr>\n",
       "    <tr>\n",
       "      <td>629625</td>\n",
       "      <td>1434038553908</td>\n",
       "      <td>1150086</td>\n",
       "      <td>2</td>\n",
       "      <td>368244</td>\n",
       "      <td>NaN</td>\n",
       "    </tr>\n",
       "  </tbody>\n",
       "</table>\n",
       "</div>"
      ],
      "text/plain": [
       "            timestamp  visitorid  event  itemid  transactionid\n",
       "628771  1434034517389    1150086      1  133542            NaN\n",
       "629008  1434035735608    1150086      1  167873            NaN\n",
       "629054  1434036006651    1150086      1  231726            NaN\n",
       "629104  1434036288806    1150086      1  427777            NaN\n",
       "629170  1434036525614    1150086      3  398115         7510.0\n",
       "629208  1434036727711    1150086      1  203425            NaN\n",
       "629246  1434036891672    1150086      1  458489            NaN\n",
       "629369  1434037348016    1150086      3  375955         6495.0\n",
       "629421  1434037596453    1150086      3  357133         5235.0\n",
       "629625  1434038553908    1150086      2  368244            NaN"
      ]
     },
     "execution_count": 15,
     "metadata": {},
     "output_type": "execute_result"
    }
   ],
   "source": [
    "df_events.loc[df_events['visitorid'] == 1150086].head(10)"
   ]
  },
  {
   "cell_type": "code",
   "execution_count": 16,
   "metadata": {},
   "outputs": [],
   "source": [
    "# Check the hypothesys: the more interactions the user had, the more likely addtocart/purchase was made.\n",
    "# Based on this hypothesys the users can be divided into two groups.\n",
    "\n",
    "# First group is 'low activity' users - this group is mostly browsing and not making many purchases.\n",
    "# The ratio of addtocart/purchase is low so it is harder to understand what they really like.\n",
    "# Therefore, all types of interactions (view/addtocart/purchase) can be counted as positive.\n",
    "# This will lead at least to improvement of customer experience and users are more likely to find the needed item.\n",
    "# For the purposes of this project 'low activity' group will be left aside as the goal is basket value, not UX.\n",
    "\n",
    "# Second group is 'high activity' users - this group has higher ratio of purchases.\n",
    "# Therefore, addtocart/purchase can be considered as positive interactions and predictions be made on them.\n",
    "# View interactions are not considered since the user has not proceeded so this means there's low interest.\n",
    "# This will allow to get rid of noise.\n",
    "# For the purposes of this project 'high activity' group will be used.\n",
    "\n",
    "# Overall, using this split resolves several issues:\n",
    "# 1. The low activity users represent the noise which will affect the model performance.\n",
    "# 2. The size of dataframe used for the further steps will be significantly smaller saving computational cost."
   ]
  },
  {
   "cell_type": "code",
   "execution_count": 17,
   "metadata": {},
   "outputs": [],
   "source": [
    "# Develop the function to see how the number of interactions impacts conversion.\n",
    "\n",
    "def activity_counter(data, max_interaction_threshold):\n",
    "    \n",
    "    df_events = data\n",
    "    users_activity = df_events.groupby('visitorid').visitorid.count().to_frame(name='activity_count')\n",
    "    count_aggregated = pd.DataFrame(columns = ['interaction_threshold', \n",
    "                                               'view', 'addtocart', 'purchase', \n",
    "                                               'conversion', \n",
    "                                               'total_interactions'])\n",
    "    \n",
    "    for interaction_threshold in range(max_interaction_threshold):\n",
    "        users_activity_low = users_activity.loc[users_activity['activity_count'] <= interaction_threshold]\n",
    "        users_to_remove = users_activity_low.index.tolist()\n",
    "        df_events = df_events[~df_events.visitorid.isin(users_to_remove)].reset_index(drop=True)\n",
    "        \n",
    "        count = df_events['event'].value_counts()\n",
    "        count_aggregated = count_aggregated.append({\n",
    "            'interaction_threshold': int(interaction_threshold), \n",
    "            'view': int(count[weight_view]), \n",
    "            'addtocart': int(count[weight_addtocart]), \n",
    "            'purchase': int(count[weight_transaction]), \n",
    "            'conversion': (count[weight_addtocart] + count[weight_transaction])/len(df_events),\n",
    "            'total_interactions': len(df_events)\n",
    "        }, \n",
    "            ignore_index=True)\n",
    "        \n",
    "    return(count_aggregated)"
   ]
  },
  {
   "cell_type": "code",
   "execution_count": 18,
   "metadata": {
    "scrolled": false
   },
   "outputs": [
    {
     "data": {
      "text/html": [
       "<div>\n",
       "<style scoped>\n",
       "    .dataframe tbody tr th:only-of-type {\n",
       "        vertical-align: middle;\n",
       "    }\n",
       "\n",
       "    .dataframe tbody tr th {\n",
       "        vertical-align: top;\n",
       "    }\n",
       "\n",
       "    .dataframe thead th {\n",
       "        text-align: right;\n",
       "    }\n",
       "</style>\n",
       "<table border=\"1\" class=\"dataframe\">\n",
       "  <thead>\n",
       "    <tr style=\"text-align: right;\">\n",
       "      <th></th>\n",
       "      <th>interaction_threshold</th>\n",
       "      <th>view</th>\n",
       "      <th>addtocart</th>\n",
       "      <th>purchase</th>\n",
       "      <th>conversion</th>\n",
       "      <th>total_interactions</th>\n",
       "    </tr>\n",
       "  </thead>\n",
       "  <tbody>\n",
       "    <tr>\n",
       "      <td>0</td>\n",
       "      <td>0.0</td>\n",
       "      <td>2080929.0</td>\n",
       "      <td>42980.0</td>\n",
       "      <td>21270.0</td>\n",
       "      <td>0.029951</td>\n",
       "      <td>2145179.0</td>\n",
       "    </tr>\n",
       "    <tr>\n",
       "      <td>1</td>\n",
       "      <td>1.0</td>\n",
       "      <td>978187.0</td>\n",
       "      <td>30775.0</td>\n",
       "      <td>16717.0</td>\n",
       "      <td>0.046303</td>\n",
       "      <td>1025679.0</td>\n",
       "    </tr>\n",
       "    <tr>\n",
       "      <td>2</td>\n",
       "      <td>2.0</td>\n",
       "      <td>645875.0</td>\n",
       "      <td>24367.0</td>\n",
       "      <td>14335.0</td>\n",
       "      <td>0.056534</td>\n",
       "      <td>684577.0</td>\n",
       "    </tr>\n",
       "    <tr>\n",
       "      <td>3</td>\n",
       "      <td>3.0</td>\n",
       "      <td>488582.0</td>\n",
       "      <td>20490.0</td>\n",
       "      <td>12800.0</td>\n",
       "      <td>0.063790</td>\n",
       "      <td>521872.0</td>\n",
       "    </tr>\n",
       "    <tr>\n",
       "      <td>4</td>\n",
       "      <td>4.0</td>\n",
       "      <td>397669.0</td>\n",
       "      <td>17758.0</td>\n",
       "      <td>11809.0</td>\n",
       "      <td>0.069205</td>\n",
       "      <td>427236.0</td>\n",
       "    </tr>\n",
       "    <tr>\n",
       "      <td>5</td>\n",
       "      <td>5.0</td>\n",
       "      <td>337186.0</td>\n",
       "      <td>15840.0</td>\n",
       "      <td>10960.0</td>\n",
       "      <td>0.073629</td>\n",
       "      <td>363986.0</td>\n",
       "    </tr>\n",
       "    <tr>\n",
       "      <td>6</td>\n",
       "      <td>6.0</td>\n",
       "      <td>294957.0</td>\n",
       "      <td>14365.0</td>\n",
       "      <td>10264.0</td>\n",
       "      <td>0.077065</td>\n",
       "      <td>319586.0</td>\n",
       "    </tr>\n",
       "    <tr>\n",
       "      <td>7</td>\n",
       "      <td>7.0</td>\n",
       "      <td>264109.0</td>\n",
       "      <td>13083.0</td>\n",
       "      <td>9809.0</td>\n",
       "      <td>0.079763</td>\n",
       "      <td>287001.0</td>\n",
       "    </tr>\n",
       "    <tr>\n",
       "      <td>8</td>\n",
       "      <td>8.0</td>\n",
       "      <td>239898.0</td>\n",
       "      <td>12078.0</td>\n",
       "      <td>9441.0</td>\n",
       "      <td>0.082317</td>\n",
       "      <td>261417.0</td>\n",
       "    </tr>\n",
       "    <tr>\n",
       "      <td>9</td>\n",
       "      <td>9.0</td>\n",
       "      <td>220596.0</td>\n",
       "      <td>11162.0</td>\n",
       "      <td>9085.0</td>\n",
       "      <td>0.084067</td>\n",
       "      <td>240843.0</td>\n",
       "    </tr>\n",
       "  </tbody>\n",
       "</table>\n",
       "</div>"
      ],
      "text/plain": [
       "   interaction_threshold       view  addtocart  purchase  conversion  \\\n",
       "0                    0.0  2080929.0    42980.0   21270.0    0.029951   \n",
       "1                    1.0   978187.0    30775.0   16717.0    0.046303   \n",
       "2                    2.0   645875.0    24367.0   14335.0    0.056534   \n",
       "3                    3.0   488582.0    20490.0   12800.0    0.063790   \n",
       "4                    4.0   397669.0    17758.0   11809.0    0.069205   \n",
       "5                    5.0   337186.0    15840.0   10960.0    0.073629   \n",
       "6                    6.0   294957.0    14365.0   10264.0    0.077065   \n",
       "7                    7.0   264109.0    13083.0    9809.0    0.079763   \n",
       "8                    8.0   239898.0    12078.0    9441.0    0.082317   \n",
       "9                    9.0   220596.0    11162.0    9085.0    0.084067   \n",
       "\n",
       "   total_interactions  \n",
       "0           2145179.0  \n",
       "1           1025679.0  \n",
       "2            684577.0  \n",
       "3            521872.0  \n",
       "4            427236.0  \n",
       "5            363986.0  \n",
       "6            319586.0  \n",
       "7            287001.0  \n",
       "8            261417.0  \n",
       "9            240843.0  "
      ]
     },
     "execution_count": 18,
     "metadata": {},
     "output_type": "execute_result"
    }
   ],
   "source": [
    "# Run fuction.\n",
    "activities = activity_counter(df_events, 100)\n",
    "activities.head(10)"
   ]
  },
  {
   "cell_type": "code",
   "execution_count": 19,
   "metadata": {},
   "outputs": [
    {
     "data": {
      "text/plain": [
       "Text(0.5, 0, 'Interactions per user')"
      ]
     },
     "execution_count": 19,
     "metadata": {},
     "output_type": "execute_result"
    },
    {
     "data": {
      "image/png": "[encoded data removed]",
      "text/plain": [
       "<Figure size 432x288 with 2 Axes>"
      ]
     },
     "metadata": {
      "needs_background": "light"
     },
     "output_type": "display_data"
    }
   ],
   "source": [
    "figure, (axis_1, axis_2) = plt.subplots(2)\n",
    "figure.suptitle('User activity visualization')\n",
    "\n",
    "axis_1.plot(activities['interaction_threshold'], activities['conversion'], 'r')\n",
    "axis_1.set_ylabel('Conversion')\n",
    "\n",
    "axis_2.plot(activities['interaction_threshold'], activities['total_interactions'], 'g')\n",
    "axis_2.plot(activities['interaction_threshold'], activities['total_interactions'], 'g')\n",
    "axis_2.set_ylabel('Total interactions')\n",
    "axis_2.set_xlabel('Interactions per user')"
   ]
  },
  {
   "cell_type": "code",
   "execution_count": 20,
   "metadata": {},
   "outputs": [],
   "source": [
    "# The plot above shows that positive ratio improvement slows down significantly at 20 interactions threshold.\n",
    "# Plateau is at conversion rate ~0.1 (10%) which is good in comparison to eCommerce industry standard 3%.\n",
    "# It makes sense since the part of less active users was removed.\n",
    "\n",
    "# Hypothesis is now proved. \n",
    "\n",
    "# Split point to divide users into two groups:\n",
    "# 'low activity' users with 20 and less interactions.\n",
    "# 'high activity' users with more than 20 interactions."
   ]
  },
  {
   "cell_type": "code",
   "execution_count": 21,
   "metadata": {},
   "outputs": [],
   "source": [
    "# Set interactions threshold and remove 'low activity' users.\n",
    "\n",
    "interaction_threshold = 20\n",
    "\n",
    "# Create list of users that need to be removed from events data.\n",
    "users_activity_low = users_activity.loc[users_activity['activity_count'] <= interaction_threshold]\n",
    "users_to_remove = users_activity_low.index.tolist()\n",
    "\n",
    "# Remove low activity users from dataframe.\n",
    "df_events = df_events[~df_events.visitorid.isin(users_to_remove)].reset_index(drop=True)"
   ]
  },
  {
   "cell_type": "code",
   "execution_count": null,
   "metadata": {},
   "outputs": [],
   "source": [
    "# View on the ratio between different types of events.\n",
    "sns.countplot(x='event', data=df_events)"
   ]
  },
  {
   "cell_type": "code",
   "execution_count": 22,
   "metadata": {
    "scrolled": true
   },
   "outputs": [
    {
     "name": "stdout",
     "output_type": "stream",
     "text": [
      "<class 'pandas.core.frame.DataFrame'>\n",
      "RangeIndex: 13675 entries, 0 to 13674\n",
      "Data columns (total 5 columns):\n",
      "timestamp        13675 non-null int64\n",
      "visitorid        13675 non-null int64\n",
      "event            13675 non-null int64\n",
      "itemid           13675 non-null int64\n",
      "transactionid    7271 non-null float64\n",
      "dtypes: float64(1), int64(4)\n",
      "memory usage: 534.3 KB\n"
     ]
    }
   ],
   "source": [
    "# Select which types of interaction to be used: weight_view / weight_addtocart / weight_transaction.\n",
    "# View interactions are not considered since the user has not proceeded so this means there's low interest.\n",
    "\n",
    "df_events = df_events.loc[df_events['event'].isin(\n",
    "    [weight_addtocart, \n",
    "     weight_transaction])].reset_index(drop=True)\n",
    "\n",
    "df_events.info()"
   ]
  },
  {
   "cell_type": "code",
   "execution_count": 23,
   "metadata": {
    "scrolled": false
   },
   "outputs": [
    {
     "name": "stdout",
     "output_type": "stream",
     "text": [
      "Original number of users: 1407580\n",
      "Cleaned dataset number of users:  1015\n",
      "Cleaned portion: 0.07 %\n",
      "\n",
      "Original number of items: 235061\n",
      "Cleaned dataset number of items:  9490\n",
      "Cleaned portion: 4.04 %\n",
      "\n",
      "Original number of interactions: 2756101\n",
      "Cleaned dataset number of interactions:  13675\n",
      "Cleaned portion: 0.5 %\n",
      "\n",
      "Original sparsity:  0.000833 %\n",
      "Cleaned sparsity:  0.14197 %\n"
     ]
    }
   ],
   "source": [
    "# Final view on users and items participating in model training and testing. \n",
    "\n",
    "qty_all_users = len(df_events['visitorid'].unique())\n",
    "print('Original number of users:', qty_all_users_original)\n",
    "print('Cleaned dataset number of users: ', qty_all_users)\n",
    "print('Cleaned portion:', round(100*qty_all_users/qty_all_users_original,2), '%')\n",
    "print()\n",
    "\n",
    "qty_all_items = len(df_events['itemid'].unique())\n",
    "print('Original number of items:', qty_all_items_original)\n",
    "print('Cleaned dataset number of items: ', qty_all_items)\n",
    "print('Cleaned portion:', round(100*qty_all_items/qty_all_items_original,2), '%')\n",
    "print()\n",
    "\n",
    "qty_all_interactions = len(df_events)\n",
    "print('Original number of interactions:', qty_all_interactions_original)\n",
    "print('Cleaned dataset number of interactions: ', qty_all_interactions)\n",
    "print('Cleaned portion:', round(100*qty_all_interactions/qty_all_interactions_original,2), '%')\n",
    "print()\n",
    "\n",
    "sparsity = qty_all_interactions/(qty_all_users*qty_all_items)\n",
    "print('Original sparsity: ', round(sparsity_original*100,6), '%')\n",
    "print('Cleaned sparsity: ', round(100*sparsity,6), '%')"
   ]
  },
  {
   "cell_type": "markdown",
   "metadata": {},
   "source": [
    "### Train / Test split"
   ]
  },
  {
   "cell_type": "code",
   "execution_count": 24,
   "metadata": {},
   "outputs": [],
   "source": [
    "# Interactions data may depend on seasonality and specific eCommerce events.\n",
    "# In order to achieve the generalization, the train and test split will be done randomly.\n",
    "\n",
    "df_events_train, df_events_test = train_test_split(df_events, \n",
    "                                                   test_size=0.2, \n",
    "                                                   random_state=np.random.RandomState(2020))"
   ]
  },
  {
   "cell_type": "code",
   "execution_count": 25,
   "metadata": {},
   "outputs": [],
   "source": [
    "# The dataset used for this project does not have any user informnation (features) available.\n",
    "# Therefore, on the evaluation phase there should be only those users model was trained on.\n",
    "# Otherwise the user cold start problem will be faced which will impact the evaluation results.\n",
    "\n",
    "df_events_test = df_events_test[(df_events_test['visitorid'].isin(df_events_train['visitorid'])) & \n",
    "                                (df_events_test['itemid'].isin(df_events_train['itemid']))]"
   ]
  },
  {
   "cell_type": "code",
   "execution_count": 26,
   "metadata": {
    "scrolled": true
   },
   "outputs": [
    {
     "data": {
      "text/html": [
       "<div>\n",
       "<style scoped>\n",
       "    .dataframe tbody tr th:only-of-type {\n",
       "        vertical-align: middle;\n",
       "    }\n",
       "\n",
       "    .dataframe tbody tr th {\n",
       "        vertical-align: top;\n",
       "    }\n",
       "\n",
       "    .dataframe thead th {\n",
       "        text-align: right;\n",
       "    }\n",
       "</style>\n",
       "<table border=\"1\" class=\"dataframe\">\n",
       "  <thead>\n",
       "    <tr style=\"text-align: right;\">\n",
       "      <th></th>\n",
       "      <th>timestamp</th>\n",
       "      <th>visitorid</th>\n",
       "      <th>event</th>\n",
       "      <th>itemid</th>\n",
       "      <th>transactionid</th>\n",
       "    </tr>\n",
       "  </thead>\n",
       "  <tbody>\n",
       "    <tr>\n",
       "      <td>5051</td>\n",
       "      <td>1434737258535</td>\n",
       "      <td>76757</td>\n",
       "      <td>2</td>\n",
       "      <td>338427</td>\n",
       "      <td>NaN</td>\n",
       "    </tr>\n",
       "    <tr>\n",
       "      <td>10544</td>\n",
       "      <td>1439321239415</td>\n",
       "      <td>152963</td>\n",
       "      <td>3</td>\n",
       "      <td>55955</td>\n",
       "      <td>180.0</td>\n",
       "    </tr>\n",
       "    <tr>\n",
       "      <td>8837</td>\n",
       "      <td>1437780903046</td>\n",
       "      <td>861299</td>\n",
       "      <td>3</td>\n",
       "      <td>131034</td>\n",
       "      <td>7162.0</td>\n",
       "    </tr>\n",
       "    <tr>\n",
       "      <td>8628</td>\n",
       "      <td>1437674156662</td>\n",
       "      <td>883745</td>\n",
       "      <td>3</td>\n",
       "      <td>352742</td>\n",
       "      <td>11316.0</td>\n",
       "    </tr>\n",
       "    <tr>\n",
       "      <td>11268</td>\n",
       "      <td>1440017757081</td>\n",
       "      <td>303381</td>\n",
       "      <td>3</td>\n",
       "      <td>162046</td>\n",
       "      <td>13787.0</td>\n",
       "    </tr>\n",
       "  </tbody>\n",
       "</table>\n",
       "</div>"
      ],
      "text/plain": [
       "           timestamp  visitorid  event  itemid  transactionid\n",
       "5051   1434737258535      76757      2  338427            NaN\n",
       "10544  1439321239415     152963      3   55955          180.0\n",
       "8837   1437780903046     861299      3  131034         7162.0\n",
       "8628   1437674156662     883745      3  352742        11316.0\n",
       "11268  1440017757081     303381      3  162046        13787.0"
      ]
     },
     "execution_count": 26,
     "metadata": {},
     "output_type": "execute_result"
    }
   ],
   "source": [
    "df_events_train.head()"
   ]
  },
  {
   "cell_type": "code",
   "execution_count": 27,
   "metadata": {},
   "outputs": [
    {
     "data": {
      "text/html": [
       "<div>\n",
       "<style scoped>\n",
       "    .dataframe tbody tr th:only-of-type {\n",
       "        vertical-align: middle;\n",
       "    }\n",
       "\n",
       "    .dataframe tbody tr th {\n",
       "        vertical-align: top;\n",
       "    }\n",
       "\n",
       "    .dataframe thead th {\n",
       "        text-align: right;\n",
       "    }\n",
       "</style>\n",
       "<table border=\"1\" class=\"dataframe\">\n",
       "  <thead>\n",
       "    <tr style=\"text-align: right;\">\n",
       "      <th></th>\n",
       "      <th>timestamp</th>\n",
       "      <th>visitorid</th>\n",
       "      <th>event</th>\n",
       "      <th>itemid</th>\n",
       "      <th>transactionid</th>\n",
       "    </tr>\n",
       "  </thead>\n",
       "  <tbody>\n",
       "    <tr>\n",
       "      <td>10711</td>\n",
       "      <td>1439484590277</td>\n",
       "      <td>1150086</td>\n",
       "      <td>3</td>\n",
       "      <td>253615</td>\n",
       "      <td>9457.0</td>\n",
       "    </tr>\n",
       "    <tr>\n",
       "      <td>1906</td>\n",
       "      <td>1432165517784</td>\n",
       "      <td>138131</td>\n",
       "      <td>3</td>\n",
       "      <td>176995</td>\n",
       "      <td>6308.0</td>\n",
       "    </tr>\n",
       "    <tr>\n",
       "      <td>5733</td>\n",
       "      <td>1435276573581</td>\n",
       "      <td>706387</td>\n",
       "      <td>2</td>\n",
       "      <td>283492</td>\n",
       "      <td>NaN</td>\n",
       "    </tr>\n",
       "    <tr>\n",
       "      <td>10068</td>\n",
       "      <td>1438827382136</td>\n",
       "      <td>478537</td>\n",
       "      <td>2</td>\n",
       "      <td>207430</td>\n",
       "      <td>NaN</td>\n",
       "    </tr>\n",
       "    <tr>\n",
       "      <td>7711</td>\n",
       "      <td>1436984362651</td>\n",
       "      <td>152693</td>\n",
       "      <td>2</td>\n",
       "      <td>64026</td>\n",
       "      <td>NaN</td>\n",
       "    </tr>\n",
       "  </tbody>\n",
       "</table>\n",
       "</div>"
      ],
      "text/plain": [
       "           timestamp  visitorid  event  itemid  transactionid\n",
       "10711  1439484590277    1150086      3  253615         9457.0\n",
       "1906   1432165517784     138131      3  176995         6308.0\n",
       "5733   1435276573581     706387      2  283492            NaN\n",
       "10068  1438827382136     478537      2  207430            NaN\n",
       "7711   1436984362651     152693      2   64026            NaN"
      ]
     },
     "execution_count": 27,
     "metadata": {},
     "output_type": "execute_result"
    }
   ],
   "source": [
    "df_events_test.head()"
   ]
  },
  {
   "cell_type": "code",
   "execution_count": 28,
   "metadata": {
    "scrolled": true
   },
   "outputs": [
    {
     "name": "stdout",
     "output_type": "stream",
     "text": [
      "Test set represents 10.39 % of Train set.\n",
      "Total number of interactions participating in train: 10940 / test:  1137\n"
     ]
    }
   ],
   "source": [
    "print('Test set represents', round(100*len(df_events_test)/len(df_events_train),2),'% of Train set.')\n",
    "print('Total number of interactions participating in train:',len(df_events_train),'/ test: ', len(df_events_test))"
   ]
  },
  {
   "cell_type": "markdown",
   "metadata": {},
   "source": [
    "### Transforming interactions data into the format acceptable by lightFM model"
   ]
  },
  {
   "cell_type": "code",
   "execution_count": 29,
   "metadata": {},
   "outputs": [
    {
     "name": "stdout",
     "output_type": "stream",
     "text": [
      "Finished in:  0.03  minutes\n"
     ]
    }
   ],
   "source": [
    "# Dataset class of LightFM package has method build_interactions that allows to fill in the interactions matrix.\n",
    "# As the input for this method need to pass the list of tuples (visitorid, itemid, weight).\n",
    "\n",
    "start_time = time.time()\n",
    "\n",
    "# Train set interactions transformed.\n",
    "df_events_train_interactions = []\n",
    "for index, row in df_events_train.iterrows():\n",
    "    df_events_train_interactions.append((int(row['visitorid']), int(row['itemid']), int(row['event'])))\n",
    "    \n",
    "# Test set interactions transformed.\n",
    "df_events_test_interactions = []\n",
    "for index, row in df_events_test.iterrows():\n",
    "    df_events_test_interactions.append((int(row['visitorid']), int(row['itemid']), int(row['event'])))\n",
    "    \n",
    "# Full set of interactions transformed. This will be used for production recommendations.\n",
    "df_events_all_interactions = []\n",
    "for index, row in df_events.iterrows():\n",
    "    df_events_all_interactions.append((int(row['visitorid']), int(row['itemid']), int(row['event'])))\n",
    "    \n",
    "print('Finished in: ', round((time.time()-start_time)/60, 2), \" minutes\")"
   ]
  },
  {
   "cell_type": "code",
   "execution_count": 30,
   "metadata": {},
   "outputs": [
    {
     "name": "stdout",
     "output_type": "stream",
     "text": [
      "Check original VS transformed length TRAIN:  10940 / 10940\n",
      "Check original VS transformed length TEST:  1137 / 1137\n",
      "Check original VS transformed length ALL:  13675 / 13675\n"
     ]
    }
   ],
   "source": [
    "# Check original VS transformed length, should be equal.\n",
    "\n",
    "print('Check original VS transformed length TRAIN: ', \n",
    "     len(df_events_train),\n",
    "     '/',\n",
    "     len(df_events_train_interactions))\n",
    "\n",
    "print('Check original VS transformed length TEST: ', \n",
    "     len(df_events_test),\n",
    "     '/',\n",
    "     len(df_events_test_interactions))\n",
    "\n",
    "print('Check original VS transformed length ALL: ', \n",
    "     len(df_events),\n",
    "     '/',\n",
    "     len(df_events_all_interactions))"
   ]
  },
  {
   "cell_type": "markdown",
   "metadata": {},
   "source": [
    "# Preprocessing\n",
    "## Data Import and Cleaning - Item Properties"
   ]
  },
  {
   "cell_type": "code",
   "execution_count": 31,
   "metadata": {
    "scrolled": false
   },
   "outputs": [
    {
     "data": {
      "text/html": [
       "<div>\n",
       "<style scoped>\n",
       "    .dataframe tbody tr th:only-of-type {\n",
       "        vertical-align: middle;\n",
       "    }\n",
       "\n",
       "    .dataframe tbody tr th {\n",
       "        vertical-align: top;\n",
       "    }\n",
       "\n",
       "    .dataframe thead th {\n",
       "        text-align: right;\n",
       "    }\n",
       "</style>\n",
       "<table border=\"1\" class=\"dataframe\">\n",
       "  <thead>\n",
       "    <tr style=\"text-align: right;\">\n",
       "      <th></th>\n",
       "      <th>timestamp</th>\n",
       "      <th>itemid</th>\n",
       "      <th>property</th>\n",
       "      <th>value</th>\n",
       "    </tr>\n",
       "  </thead>\n",
       "  <tbody>\n",
       "    <tr>\n",
       "      <td>0</td>\n",
       "      <td>1431226800000</td>\n",
       "      <td>317951</td>\n",
       "      <td>790</td>\n",
       "      <td>n32880.000</td>\n",
       "    </tr>\n",
       "    <tr>\n",
       "      <td>1</td>\n",
       "      <td>1431226800000</td>\n",
       "      <td>422842</td>\n",
       "      <td>480</td>\n",
       "      <td>1133979</td>\n",
       "    </tr>\n",
       "    <tr>\n",
       "      <td>2</td>\n",
       "      <td>1431226800000</td>\n",
       "      <td>310185</td>\n",
       "      <td>776</td>\n",
       "      <td>103591</td>\n",
       "    </tr>\n",
       "    <tr>\n",
       "      <td>3</td>\n",
       "      <td>1431226800000</td>\n",
       "      <td>110973</td>\n",
       "      <td>112</td>\n",
       "      <td>679677</td>\n",
       "    </tr>\n",
       "    <tr>\n",
       "      <td>4</td>\n",
       "      <td>1431226800000</td>\n",
       "      <td>179597</td>\n",
       "      <td>available</td>\n",
       "      <td>0</td>\n",
       "    </tr>\n",
       "    <tr>\n",
       "      <td>5</td>\n",
       "      <td>1431226800000</td>\n",
       "      <td>260136</td>\n",
       "      <td>available</td>\n",
       "      <td>1</td>\n",
       "    </tr>\n",
       "    <tr>\n",
       "      <td>6</td>\n",
       "      <td>1431226800000</td>\n",
       "      <td>138592</td>\n",
       "      <td>764</td>\n",
       "      <td>1285872</td>\n",
       "    </tr>\n",
       "    <tr>\n",
       "      <td>7</td>\n",
       "      <td>1431226800000</td>\n",
       "      <td>216269</td>\n",
       "      <td>364</td>\n",
       "      <td>336749</td>\n",
       "    </tr>\n",
       "    <tr>\n",
       "      <td>8</td>\n",
       "      <td>1431226800000</td>\n",
       "      <td>299944</td>\n",
       "      <td>764</td>\n",
       "      <td>1285872</td>\n",
       "    </tr>\n",
       "    <tr>\n",
       "      <td>9</td>\n",
       "      <td>1431226800000</td>\n",
       "      <td>146103</td>\n",
       "      <td>112</td>\n",
       "      <td>679677</td>\n",
       "    </tr>\n",
       "  </tbody>\n",
       "</table>\n",
       "</div>"
      ],
      "text/plain": [
       "       timestamp  itemid   property       value\n",
       "0  1431226800000  317951        790  n32880.000\n",
       "1  1431226800000  422842        480     1133979\n",
       "2  1431226800000  310185        776      103591\n",
       "3  1431226800000  110973        112      679677\n",
       "4  1431226800000  179597  available           0\n",
       "5  1431226800000  260136  available           1\n",
       "6  1431226800000  138592        764     1285872\n",
       "7  1431226800000  216269        364      336749\n",
       "8  1431226800000  299944        764     1285872\n",
       "9  1431226800000  146103        112      679677"
      ]
     },
     "execution_count": 31,
     "metadata": {},
     "output_type": "execute_result"
    }
   ],
   "source": [
    "# Import Properties\n",
    "\n",
    "df_properties1 = pd.DataFrame(pd.read_csv(\"item_properties_part1.csv\"))\n",
    "df_properties2 = pd.DataFrame(pd.read_csv(\"item_properties_part2.csv\"))\n",
    "df_properties = pd.concat([df_properties1, df_properties2])\n",
    "\n",
    "# data to be sorted by timestamp to reflect the historical change log.\n",
    "df_properties = df_properties.sort_values(by=['timestamp'], ascending=True).reset_index(drop=True)\n",
    "\n",
    "df_properties.head(10)"
   ]
  },
  {
   "cell_type": "code",
   "execution_count": 32,
   "metadata": {
    "scrolled": false
   },
   "outputs": [
    {
     "name": "stdout",
     "output_type": "stream",
     "text": [
      "<class 'pandas.core.frame.DataFrame'>\n",
      "RangeIndex: 20275902 entries, 0 to 20275901\n",
      "Data columns (total 4 columns):\n",
      "timestamp    int64\n",
      "itemid       int64\n",
      "property     object\n",
      "value        object\n",
      "dtypes: int64(2), object(2)\n",
      "memory usage: 618.8+ MB\n"
     ]
    }
   ],
   "source": [
    "df_properties.info()"
   ]
  },
  {
   "cell_type": "code",
   "execution_count": 33,
   "metadata": {},
   "outputs": [],
   "source": [
    "df_properties_len_orig = len(df_properties)"
   ]
  },
  {
   "cell_type": "code",
   "execution_count": 34,
   "metadata": {
    "scrolled": false
   },
   "outputs": [
    {
     "data": {
      "text/html": [
       "<div>\n",
       "<style scoped>\n",
       "    .dataframe tbody tr th:only-of-type {\n",
       "        vertical-align: middle;\n",
       "    }\n",
       "\n",
       "    .dataframe tbody tr th {\n",
       "        vertical-align: top;\n",
       "    }\n",
       "\n",
       "    .dataframe thead th {\n",
       "        text-align: right;\n",
       "    }\n",
       "</style>\n",
       "<table border=\"1\" class=\"dataframe\">\n",
       "  <thead>\n",
       "    <tr style=\"text-align: right;\">\n",
       "      <th></th>\n",
       "      <th>timestamp</th>\n",
       "      <th>itemid</th>\n",
       "      <th>property</th>\n",
       "      <th>value</th>\n",
       "    </tr>\n",
       "  </thead>\n",
       "  <tbody>\n",
       "    <tr>\n",
       "      <td>7</td>\n",
       "      <td>1431226800000</td>\n",
       "      <td>216269</td>\n",
       "      <td>364</td>\n",
       "      <td>336749</td>\n",
       "    </tr>\n",
       "    <tr>\n",
       "      <td>517912</td>\n",
       "      <td>1431226800000</td>\n",
       "      <td>216269</td>\n",
       "      <td>categoryid</td>\n",
       "      <td>1029</td>\n",
       "    </tr>\n",
       "    <tr>\n",
       "      <td>820516</td>\n",
       "      <td>1431226800000</td>\n",
       "      <td>216269</td>\n",
       "      <td>917</td>\n",
       "      <td>378110 n18720.000</td>\n",
       "    </tr>\n",
       "    <tr>\n",
       "      <td>873983</td>\n",
       "      <td>1431226800000</td>\n",
       "      <td>216269</td>\n",
       "      <td>available</td>\n",
       "      <td>0</td>\n",
       "    </tr>\n",
       "    <tr>\n",
       "      <td>928887</td>\n",
       "      <td>1431226800000</td>\n",
       "      <td>216269</td>\n",
       "      <td>790</td>\n",
       "      <td>n51900.000</td>\n",
       "    </tr>\n",
       "  </tbody>\n",
       "</table>\n",
       "</div>"
      ],
      "text/plain": [
       "            timestamp  itemid    property              value\n",
       "7       1431226800000  216269         364             336749\n",
       "517912  1431226800000  216269  categoryid               1029\n",
       "820516  1431226800000  216269         917  378110 n18720.000\n",
       "873983  1431226800000  216269   available                  0\n",
       "928887  1431226800000  216269         790         n51900.000"
      ]
     },
     "execution_count": 34,
     "metadata": {},
     "output_type": "execute_result"
    }
   ],
   "source": [
    "# All the categories names and values are hashed excepting \"categoryid\" and \"available\".\n",
    "\n",
    "df_properties.loc[df_properties['itemid'] == 216269].head()"
   ]
  },
  {
   "cell_type": "code",
   "execution_count": 35,
   "metadata": {},
   "outputs": [
    {
     "name": "stdout",
     "output_type": "stream",
     "text": [
      "<class 'pandas.core.frame.DataFrame'>\n",
      "RangeIndex: 12003814 entries, 0 to 12003813\n",
      "Data columns (total 4 columns):\n",
      "timestamp    int64\n",
      "itemid       int64\n",
      "property     object\n",
      "value        object\n",
      "dtypes: int64(2), object(2)\n",
      "memory usage: 366.3+ MB\n"
     ]
    }
   ],
   "source": [
    "# The model is unable to process the historical log so there's a need to trim the properties data.\n",
    "# The latest properties data is considered to be the best to describe items assuming the ecommerce team was \n",
    "# constantly improving the catalogue.\n",
    "# This action should lead to decrease of the dataframe size.\n",
    "\n",
    "df_properties = df_properties.sort_values(by=['timestamp'], ascending=True).drop_duplicates(\n",
    "    subset=['itemid', 'property'], \n",
    "    keep='last').reset_index(drop=True)\n",
    "\n",
    "df_properties.info()"
   ]
  },
  {
   "cell_type": "code",
   "execution_count": 36,
   "metadata": {
    "scrolled": false
   },
   "outputs": [
    {
     "name": "stdout",
     "output_type": "stream",
     "text": [
      "<class 'pandas.core.frame.DataFrame'>\n",
      "RangeIndex: 11586761 entries, 0 to 11586760\n",
      "Data columns (total 4 columns):\n",
      "timestamp    int64\n",
      "itemid       int64\n",
      "property     object\n",
      "value        object\n",
      "dtypes: int64(2), object(2)\n",
      "memory usage: 353.6+ MB\n"
     ]
    }
   ],
   "source": [
    "# Additionally, we can get rid of the 'available' property completely.\n",
    "# It won't make sense to consider any value as fixed (in stock or not in stock) for trainig purposes.\n",
    "# In production this property can be used in real time to filter out unavailable items from prediction.\n",
    "\n",
    "df_properties = df_properties[~df_properties.property.isin(['available'])].reset_index(drop=True)\n",
    "\n",
    "df_properties.info()"
   ]
  },
  {
   "cell_type": "code",
   "execution_count": 37,
   "metadata": {},
   "outputs": [
    {
     "name": "stdout",
     "output_type": "stream",
     "text": [
      "<class 'pandas.core.frame.DataFrame'>\n",
      "RangeIndex: 255722 entries, 0 to 255721\n",
      "Data columns (total 4 columns):\n",
      "timestamp    255722 non-null int64\n",
      "itemid       255722 non-null int64\n",
      "property     255722 non-null object\n",
      "value        255722 non-null object\n",
      "dtypes: int64(2), object(2)\n",
      "memory usage: 7.8+ MB\n"
     ]
    }
   ],
   "source": [
    "# As the next step the items which are not present in the cleaned dataframe can also be removed.\n",
    "\n",
    "df_properties = df_properties[df_properties.itemid.isin(df_events['itemid'])].reset_index(drop=True)\n",
    "\n",
    "df_properties.info()"
   ]
  },
  {
   "cell_type": "code",
   "execution_count": 38,
   "metadata": {},
   "outputs": [],
   "source": [
    "# Timestamp column can also be removed as it is redundant.\n",
    "\n",
    "df_properties = df_properties.drop(['timestamp'], axis=1)"
   ]
  },
  {
   "cell_type": "code",
   "execution_count": 39,
   "metadata": {},
   "outputs": [],
   "source": [
    "# Sort dataframe by itemid.\n",
    "\n",
    "df_properties = df_properties.sort_values(by=['itemid'], ascending=True).reset_index(drop=True)"
   ]
  },
  {
   "cell_type": "code",
   "execution_count": 40,
   "metadata": {},
   "outputs": [
    {
     "name": "stdout",
     "output_type": "stream",
     "text": [
      "Cleaned properties dataframe represents  1.26  % of original dataframe.\n"
     ]
    }
   ],
   "source": [
    "print('Cleaned properties dataframe represents ',\n",
    "      round(100*len(df_properties)/df_properties_len_orig,2),\n",
    "     ' % of original dataframe.')"
   ]
  },
  {
   "cell_type": "code",
   "execution_count": 41,
   "metadata": {
    "scrolled": false
   },
   "outputs": [
    {
     "name": "stdout",
     "output_type": "stream",
     "text": [
      "Cleaned dataset number of properties:  907\n",
      "Cleaned dataset number of properties values:  255722\n",
      "\n",
      "Cleaned dataset number of items:  9490\n",
      "Cleaned dataset number of users:  1015\n",
      "Cleaned dataset number of interactions:  13675\n"
     ]
    }
   ],
   "source": [
    "qty_all_properties = len(df_properties['property'].unique())\n",
    "print('Cleaned dataset number of properties: ', qty_all_properties)\n",
    "print('Cleaned dataset number of properties values: ', len(df_properties))\n",
    "print()\n",
    "print('Cleaned dataset number of items: ', qty_all_items)\n",
    "print('Cleaned dataset number of users: ', qty_all_users)\n",
    "print('Cleaned dataset number of interactions: ', len(df_events))"
   ]
  },
  {
   "cell_type": "code",
   "execution_count": 42,
   "metadata": {
    "scrolled": true
   },
   "outputs": [
    {
     "data": {
      "text/html": [
       "<div>\n",
       "<style scoped>\n",
       "    .dataframe tbody tr th:only-of-type {\n",
       "        vertical-align: middle;\n",
       "    }\n",
       "\n",
       "    .dataframe tbody tr th {\n",
       "        vertical-align: top;\n",
       "    }\n",
       "\n",
       "    .dataframe thead th {\n",
       "        text-align: right;\n",
       "    }\n",
       "</style>\n",
       "<table border=\"1\" class=\"dataframe\">\n",
       "  <thead>\n",
       "    <tr style=\"text-align: right;\">\n",
       "      <th></th>\n",
       "      <th>itemid</th>\n",
       "      <th>property</th>\n",
       "      <th>value</th>\n",
       "    </tr>\n",
       "  </thead>\n",
       "  <tbody>\n",
       "    <tr>\n",
       "      <td>0</td>\n",
       "      <td>15</td>\n",
       "      <td>678</td>\n",
       "      <td>245772</td>\n",
       "    </tr>\n",
       "    <tr>\n",
       "      <td>1</td>\n",
       "      <td>15</td>\n",
       "      <td>915</td>\n",
       "      <td>769062</td>\n",
       "    </tr>\n",
       "    <tr>\n",
       "      <td>2</td>\n",
       "      <td>15</td>\n",
       "      <td>112</td>\n",
       "      <td>679677</td>\n",
       "    </tr>\n",
       "    <tr>\n",
       "      <td>3</td>\n",
       "      <td>15</td>\n",
       "      <td>812</td>\n",
       "      <td>769062</td>\n",
       "    </tr>\n",
       "    <tr>\n",
       "      <td>4</td>\n",
       "      <td>15</td>\n",
       "      <td>764</td>\n",
       "      <td>1285872</td>\n",
       "    </tr>\n",
       "    <tr>\n",
       "      <td>5</td>\n",
       "      <td>15</td>\n",
       "      <td>839</td>\n",
       "      <td>245772</td>\n",
       "    </tr>\n",
       "    <tr>\n",
       "      <td>6</td>\n",
       "      <td>15</td>\n",
       "      <td>616</td>\n",
       "      <td>769062</td>\n",
       "    </tr>\n",
       "    <tr>\n",
       "      <td>7</td>\n",
       "      <td>15</td>\n",
       "      <td>888</td>\n",
       "      <td>789221</td>\n",
       "    </tr>\n",
       "    <tr>\n",
       "      <td>8</td>\n",
       "      <td>15</td>\n",
       "      <td>776</td>\n",
       "      <td>604754</td>\n",
       "    </tr>\n",
       "    <tr>\n",
       "      <td>9</td>\n",
       "      <td>15</td>\n",
       "      <td>917</td>\n",
       "      <td>789221</td>\n",
       "    </tr>\n",
       "  </tbody>\n",
       "</table>\n",
       "</div>"
      ],
      "text/plain": [
       "   itemid property    value\n",
       "0      15      678   245772\n",
       "1      15      915   769062\n",
       "2      15      112   679677\n",
       "3      15      812   769062\n",
       "4      15      764  1285872\n",
       "5      15      839   245772\n",
       "6      15      616   769062\n",
       "7      15      888   789221\n",
       "8      15      776   604754\n",
       "9      15      917   789221"
      ]
     },
     "execution_count": 42,
     "metadata": {},
     "output_type": "execute_result"
    }
   ],
   "source": [
    "df_properties.head(10)"
   ]
  },
  {
   "cell_type": "markdown",
   "metadata": {},
   "source": [
    "### Transforming item features data into the format acceptable by lightFM model."
   ]
  },
  {
   "cell_type": "code",
   "execution_count": 43,
   "metadata": {},
   "outputs": [],
   "source": [
    "# The item features information should be passed to the lightFM model in a format of csr matrix.\n",
    "# This matrix must have mapping of all items related to the train/test process and \n",
    "# all features available in cleaned properties dataframe.\n",
    "# Then the matrix is to be filled in with the properties values.\n",
    "# LightFM model would be then capable to create a latent features vector for each item.\n"
   ]
  },
  {
   "cell_type": "code",
   "execution_count": 44,
   "metadata": {
    "scrolled": false
   },
   "outputs": [
    {
     "data": {
      "text/html": [
       "<div>\n",
       "<style scoped>\n",
       "    .dataframe tbody tr th:only-of-type {\n",
       "        vertical-align: middle;\n",
       "    }\n",
       "\n",
       "    .dataframe tbody tr th {\n",
       "        vertical-align: top;\n",
       "    }\n",
       "\n",
       "    .dataframe thead th {\n",
       "        text-align: right;\n",
       "    }\n",
       "</style>\n",
       "<table border=\"1\" class=\"dataframe\">\n",
       "  <thead>\n",
       "    <tr style=\"text-align: right;\">\n",
       "      <th></th>\n",
       "      <th>itemid</th>\n",
       "      <th>property</th>\n",
       "      <th>value</th>\n",
       "    </tr>\n",
       "  </thead>\n",
       "  <tbody>\n",
       "    <tr>\n",
       "      <td>0</td>\n",
       "      <td>15</td>\n",
       "      <td>678</td>\n",
       "      <td>245772</td>\n",
       "    </tr>\n",
       "    <tr>\n",
       "      <td>1</td>\n",
       "      <td>15</td>\n",
       "      <td>915</td>\n",
       "      <td>769062</td>\n",
       "    </tr>\n",
       "    <tr>\n",
       "      <td>2</td>\n",
       "      <td>15</td>\n",
       "      <td>112</td>\n",
       "      <td>679677</td>\n",
       "    </tr>\n",
       "    <tr>\n",
       "      <td>3</td>\n",
       "      <td>15</td>\n",
       "      <td>812</td>\n",
       "      <td>769062</td>\n",
       "    </tr>\n",
       "    <tr>\n",
       "      <td>4</td>\n",
       "      <td>15</td>\n",
       "      <td>764</td>\n",
       "      <td>1285872</td>\n",
       "    </tr>\n",
       "  </tbody>\n",
       "</table>\n",
       "</div>"
      ],
      "text/plain": [
       "   itemid property    value\n",
       "0      15      678   245772\n",
       "1      15      915   769062\n",
       "2      15      112   679677\n",
       "3      15      812   769062\n",
       "4      15      764  1285872"
      ]
     },
     "execution_count": 44,
     "metadata": {},
     "output_type": "execute_result"
    }
   ],
   "source": [
    "df_properties.loc[df_properties['itemid'] == 15].head()"
   ]
  },
  {
   "cell_type": "code",
   "execution_count": 45,
   "metadata": {
    "scrolled": true
   },
   "outputs": [
    {
     "name": "stdout",
     "output_type": "stream",
     "text": [
      "Properties mapping has: 255722 records\n"
     ]
    }
   ],
   "source": [
    "# Dataset class has the method build_item_features that allows to fill in the properties data using created mapping.\n",
    "# Add feature mapping to the existing dataset using fit_partial method.\n",
    "# Data needs to be transformed to the acceptable format.\n",
    "# https://github.com/lyst/lightfm/issues/393#issuecomment-438237971\n",
    "\n",
    "\n",
    "# Transform item features list to the format required by Dataset class:\n",
    "# ['property:value']\n",
    "item_features_mapping = []\n",
    "for index, row in df_properties.iterrows():\n",
    "    item_features_mapping.append(str(row['property']) + ':' + str(row['value']))\n",
    "    \n",
    "print('Properties mapping has:', len(item_features_mapping), 'records')"
   ]
  },
  {
   "cell_type": "code",
   "execution_count": 46,
   "metadata": {},
   "outputs": [
    {
     "name": "stdout",
     "output_type": "stream",
     "text": [
      "Properties mapping has: 71436 unique records\n"
     ]
    }
   ],
   "source": [
    "# As the next step need to remove duplicates in this list.\n",
    "# So basically the feature mapping lenght is not equal to the number of features, \n",
    "# but is equal to the number of combinations ['property:value'] available in the dataframe.\n",
    "# There's no need to \"create\" all possible combinations mapping as this is redundant info.\n",
    "# Just need to create mapping for existing combinations.\n",
    "# Additionally, the LightFM package allows to add weight to this combination if needed.\n",
    "\n",
    "item_features_mapping = list( dict.fromkeys(item_features_mapping) )\n",
    "print('Properties mapping has:', len(item_features_mapping), 'unique records')"
   ]
  },
  {
   "cell_type": "code",
   "execution_count": 47,
   "metadata": {},
   "outputs": [
    {
     "name": "stdout",
     "output_type": "stream",
     "text": [
      "Finished in:  0.35  minutes\n"
     ]
    }
   ],
   "source": [
    "# Transform item features values to the format required by Dataset class:\n",
    "# [ (itemid_1, ['property_1:value_1', 'property_2:value_2']) ]\n",
    "\n",
    "start_time = time.time()\n",
    "\n",
    "item_features_values = []\n",
    "current_item = df_properties.itemid[0]\n",
    "current_item_features = []\n",
    "for index, row in df_properties.iterrows():\n",
    "    if row['itemid'] == current_item:\n",
    "        current_item_features.append(str(row['property']) + ':' + str(row['value']))\n",
    "    else:\n",
    "        item_features_values.append((current_item, current_item_features))\n",
    "        current_item = row['itemid']\n",
    "        current_item_features = [str(row['property']) + ':' + str(row['value'])]\n",
    "item_features_values.append((current_item, current_item_features))\n",
    "\n",
    "print('Finished in: ', round((time.time()-start_time)/60, 2), \" minutes\")"
   ]
  },
  {
   "cell_type": "code",
   "execution_count": 48,
   "metadata": {},
   "outputs": [
    {
     "data": {
      "text/plain": [
       "(15,\n",
       " ['678:245772',\n",
       "  '915:769062',\n",
       "  '112:679677',\n",
       "  '812:769062',\n",
       "  '764:1285872',\n",
       "  '839:245772',\n",
       "  '616:769062',\n",
       "  '888:789221',\n",
       "  '776:604754',\n",
       "  '917:789221',\n",
       "  '159:519769',\n",
       "  '364:1047026',\n",
       "  '698:433564',\n",
       "  '283:433564 245772 789221 809278 245772 1213953 429140 1322984 792235 79212 237874 654986 809278 1215254 249416 646928 750061 961877 1152409 780700 1128577 269926 754848 703408 469750 581854 1028919 1124417 484436 1256252 790607',\n",
       "  'categoryid:722',\n",
       "  '790:n8400.000',\n",
       "  '202:789221',\n",
       "  '227:433564',\n",
       "  '591:1116693',\n",
       "  '693:769062'])"
      ]
     },
     "execution_count": 48,
     "metadata": {},
     "output_type": "execute_result"
    }
   ],
   "source": [
    "item_features_values[0]"
   ]
  },
  {
   "cell_type": "markdown",
   "metadata": {},
   "source": [
    "# Preprocessing\n",
    "\n",
    "## Create LightFM dataset mapping"
   ]
  },
  {
   "cell_type": "code",
   "execution_count": 49,
   "metadata": {},
   "outputs": [],
   "source": [
    "# For model evaluation purposes (auc_score) dimensionality of train/test interaction matrices should be the same.\n",
    "# In order to achieve this, need to create mapping for all users and all items.\n",
    "# Then separately for train and test - the interactions will be filled in."
   ]
  },
  {
   "cell_type": "code",
   "execution_count": 50,
   "metadata": {},
   "outputs": [],
   "source": [
    "# Create mapping for users, items and item features.\n",
    "\n",
    "# The fit method of class Dataset takes the list of all the visitors and items.\n",
    "# The implementation allows to ignore duplicates.\n",
    "\n",
    "# Train set mapping.\n",
    "dataset = Dataset()\n",
    "dataset.fit(\n",
    "    users = (x for x in df_events['visitorid']),\n",
    "    items = (x for x in df_events['itemid']), \n",
    "    user_features=None, \n",
    "    item_features=item_features_mapping\n",
    ")\n",
    "\n",
    "dataset_train = dataset\n",
    "dataset_test = dataset"
   ]
  },
  {
   "cell_type": "markdown",
   "metadata": {},
   "source": [
    "## Populate LightFM dataset with data"
   ]
  },
  {
   "cell_type": "code",
   "execution_count": 51,
   "metadata": {
    "scrolled": true
   },
   "outputs": [
    {
     "name": "stdout",
     "output_type": "stream",
     "text": [
      "Finished in:  0.0  minutes\n"
     ]
    }
   ],
   "source": [
    "# Populate interactions matrix for train and test sets.\n",
    "\n",
    "start_time = time.time()\n",
    "\n",
    "(interactions_train, weights_train) = dataset_train.build_interactions(df_events_train_interactions)\n",
    "(interactions_test, weights_test) = dataset_test.build_interactions(df_events_test_interactions)\n",
    "(interactions_all, weights_all) = dataset_test.build_interactions(df_events_all_interactions)\n",
    "\n",
    "\n",
    "# Choose whether interactions or weights are to be used at next stages.\n",
    "\n",
    "train = interactions_train\n",
    "test = interactions_test\n",
    "production = interactions_all  # This will be used for production recommendations.\n",
    "\n",
    "print('Finished in: ', round((time.time()-start_time)/60, 2), \" minutes\")"
   ]
  },
  {
   "cell_type": "code",
   "execution_count": 52,
   "metadata": {
    "scrolled": true
   },
   "outputs": [
    {
     "name": "stdout",
     "output_type": "stream",
     "text": [
      "Finished in:  0.01  minutes\n"
     ]
    }
   ],
   "source": [
    "# Populate item features matrix with values.\n",
    "\n",
    "start_time = time.time()\n",
    "\n",
    "item_features = dataset.build_item_features(item_features_values)\n",
    "\n",
    "print('Finished in: ', round((time.time()-start_time)/60, 2), \" minutes\")"
   ]
  },
  {
   "cell_type": "code",
   "execution_count": 53,
   "metadata": {},
   "outputs": [
    {
     "name": "stdout",
     "output_type": "stream",
     "text": [
      "Dataset class cross-check.\n",
      "\n",
      "All users expected: 1015\n",
      "Actual number of users: 1015\n",
      "\n",
      "All items expected: 9490\n",
      "Actual number of items: 9490\n",
      "\n",
      "Item features matrix is expected to be of size: ( 9490 , 80926 )\n",
      "Actual size is: (9490, 80926)\n",
      "\n",
      "Item features matrix number of values is expected to be: 265212\n",
      "Actual number of values is: 265212\n",
      "\n",
      "Interactions matrix is expected to be of the size: ( 1015 , 9490 )\n",
      "Actual size is: (1015, 9490)\n",
      "\n",
      "Interactions matrix number of values is expected to be: 12077\n",
      "Actual number of values is: 12077\n",
      "\n"
     ]
    }
   ],
   "source": [
    "print('Dataset class cross-check.')\n",
    "print()\n",
    "\n",
    "num_users, num_items = dataset.interactions_shape()\n",
    "print('All users expected:', qty_all_users)\n",
    "print('Actual number of users:', num_users)\n",
    "print()\n",
    "print('All items expected:', qty_all_items)\n",
    "print('Actual number of items:', num_items)\n",
    "print()\n",
    "\n",
    "print('Item features matrix is expected to be of size: (', qty_all_items, ',', \n",
    "      qty_all_items+len(item_features_mapping), ')')\n",
    "# Reason for this size is that there's a space for latent vector representation of each item plus all features.\n",
    "print('Actual size is:', dataset.item_features_shape())\n",
    "print()\n",
    "\n",
    "print('Item features matrix number of values is expected to be:', len(df_properties)+qty_all_items)\n",
    "# Reason for this size is that there's a space for latent vector representation of each item plus all features.\n",
    "print('Actual number of values is:', item_features.getnnz())\n",
    "print()\n",
    "\n",
    "print('Interactions matrix is expected to be of the size: (', qty_all_users, ',', qty_all_items, ')')\n",
    "print('Actual size is:', dataset.interactions_shape())\n",
    "print()\n",
    "\n",
    "print('Interactions matrix number of values is expected to be:', len(df_events_train) + len(df_events_test))\n",
    "print('Actual number of values is:', train.getnnz() + test.getnnz())\n",
    "print()"
   ]
  },
  {
   "cell_type": "markdown",
   "metadata": {},
   "source": [
    "# Collaborative LightFM model training"
   ]
  },
  {
   "cell_type": "code",
   "execution_count": 54,
   "metadata": {},
   "outputs": [
    {
     "name": "stdout",
     "output_type": "stream",
     "text": [
      "Model trained in:  0.02  minutes\n"
     ]
    }
   ],
   "source": [
    "# Item features are not passed to the model. This means pure collaborative filtering.\n",
    "\n",
    "start_time = time.time()\n",
    "\n",
    "model_collab = LightFM(no_components=100, loss='warp', random_state=2020)\n",
    "\n",
    "model_collab.fit(train, \n",
    "                 item_features=None, \n",
    "                 epochs=100, \n",
    "                 num_threads=4)\n",
    "\n",
    "print('Model trained in: ', round((time.time()-start_time)/60, 2), \" minutes\")"
   ]
  },
  {
   "cell_type": "code",
   "execution_count": 55,
   "metadata": {},
   "outputs": [
    {
     "data": {
      "text/plain": [
       "{'loss': 'warp',\n",
       " 'learning_schedule': 'adagrad',\n",
       " 'no_components': 100,\n",
       " 'learning_rate': 0.05,\n",
       " 'k': 5,\n",
       " 'n': 10,\n",
       " 'rho': 0.95,\n",
       " 'epsilon': 1e-06,\n",
       " 'max_sampled': 10,\n",
       " 'item_alpha': 0.0,\n",
       " 'user_alpha': 0.0,\n",
       " 'random_state': RandomState(MT19937) at 0x7FC655DDC160}"
      ]
     },
     "execution_count": 55,
     "metadata": {},
     "output_type": "execute_result"
    }
   ],
   "source": [
    "model_collab.get_params()"
   ]
  },
  {
   "cell_type": "markdown",
   "metadata": {},
   "source": [
    "# Collaborative LightFM model evaluation"
   ]
  },
  {
   "cell_type": "code",
   "execution_count": 56,
   "metadata": {},
   "outputs": [],
   "source": [
    "# Since the recommendation engine is a ranking problem, AUC ROC and Precision at K will be used.\n",
    "# Both of them are measuring the ranking quality.\n",
    "\n",
    "# Set parameter \"k\" value to check precision at \"k\".\n",
    "# Initially select k=3 as it will allow to have 4 possible combinations (bundles) to offer with discount \n",
    "# to the user and achieve the goal of increasing the basket value.\n",
    "# User won't be offered set of 2 for each item as this is simpler task needed to be implemented on each page.\n",
    "\n",
    "\n",
    "# !!! https://stackoverflow.com/questions/45451161/evaluating-the-lightfm-recommendation-model\n",
    "\n",
    "\n",
    "k = 3"
   ]
  },
  {
   "cell_type": "code",
   "execution_count": 57,
   "metadata": {},
   "outputs": [
    {
     "name": "stdout",
     "output_type": "stream",
     "text": [
      "Train AUC score:  0.9999983\n",
      "Calculated in:  0.01  minutes\n"
     ]
    }
   ],
   "source": [
    "start_time = time.time()\n",
    "\n",
    "train_auc = auc_score(model_collab, \n",
    "                      train, \n",
    "                      item_features=None, \n",
    "                      num_threads=4).mean()\n",
    "\n",
    "print('Train AUC score: ', train_auc)\n",
    "print('Calculated in: ', round((time.time()-start_time)/60, 2), \" minutes\")"
   ]
  },
  {
   "cell_type": "code",
   "execution_count": 58,
   "metadata": {},
   "outputs": [
    {
     "name": "stdout",
     "output_type": "stream",
     "text": [
      "Test AUC score:  0.65434647\n",
      "Calculated in:  0.0  minutes\n"
     ]
    }
   ],
   "source": [
    "start_time = time.time()\n",
    "\n",
    "# Train interactions will be also passed to avoid model re-recommending items to users.\n",
    "test_auc = auc_score(model_collab,\n",
    "                     test, \n",
    "                     item_features=None, \n",
    "                     train_interactions = train, \n",
    "                     num_threads=4).mean()\n",
    "\n",
    "print('Test AUC score: ', test_auc)\n",
    "print('Calculated in: ', round((time.time()-start_time)/60, 2), \" minutes\")"
   ]
  },
  {
   "cell_type": "code",
   "execution_count": 59,
   "metadata": {},
   "outputs": [
    {
     "name": "stdout",
     "output_type": "stream",
     "text": [
      "Train precision at k:  0.7899966\n",
      "Calculated in:  0.01  minutes\n"
     ]
    }
   ],
   "source": [
    "start_time = time.time()\n",
    "\n",
    "train_precision = precision_at_k(model_collab, \n",
    "                                 train,\n",
    "                                 item_features=None, \n",
    "                                 num_threads=4, \n",
    "                                 k=k).mean()\n",
    "\n",
    "print('Train precision at k: ', train_precision)\n",
    "print('Calculated in: ', round((time.time()-start_time)/60, 2), \" minutes\")"
   ]
  },
  {
   "cell_type": "code",
   "execution_count": 60,
   "metadata": {
    "scrolled": false
   },
   "outputs": [
    {
     "name": "stdout",
     "output_type": "stream",
     "text": [
      "Test precision at k:  0.012444445\n",
      "Calculated in:  0.0  minutes\n"
     ]
    }
   ],
   "source": [
    "start_time = time.time()\n",
    "\n",
    "test_precision = precision_at_k(model_collab, \n",
    "                                test, \n",
    "                                item_features=None, \n",
    "                                train_interactions = train, \n",
    "                                num_threads=4, \n",
    "                                k=k).mean()\n",
    "\n",
    "print('Test precision at k: ', test_precision)\n",
    "print('Calculated in: ', round((time.time()-start_time)/60, 2), \" minutes\")"
   ]
  },
  {
   "cell_type": "code",
   "execution_count": 61,
   "metadata": {},
   "outputs": [],
   "source": [
    "model_collab_results = {}\n",
    "model_collab_results['AUC train'] = train_auc\n",
    "model_collab_results['AUC test'] = test_auc\n",
    "model_collab_results['Precision @3'] = train_precision\n",
    "model_collab_results['Precision @3'] = test_precision"
   ]
  },
  {
   "cell_type": "code",
   "execution_count": 62,
   "metadata": {},
   "outputs": [
    {
     "data": {
      "text/plain": [
       "{'AUC train': 0.9999983, 'AUC test': 0.65434647, 'Precision @3': 0.012444445}"
      ]
     },
     "execution_count": 62,
     "metadata": {},
     "output_type": "execute_result"
    }
   ],
   "source": [
    "model_collab_results"
   ]
  },
  {
   "cell_type": "markdown",
   "metadata": {},
   "source": [
    "# Hybrid LightFM model training "
   ]
  },
  {
   "cell_type": "code",
   "execution_count": 63,
   "metadata": {},
   "outputs": [
    {
     "name": "stdout",
     "output_type": "stream",
     "text": [
      "Model trained in:  0.42  minutes\n"
     ]
    }
   ],
   "source": [
    "# Update the model with item features. This will mean hybrid predictions.\n",
    "\n",
    "start_time = time.time()\n",
    "\n",
    "model_hybrid = LightFM(no_components=100, loss='warp', random_state=2020)\n",
    "\n",
    "NUM_EPOCHS = 100\n",
    "model_hybrid.fit(train, \n",
    "                 item_features=item_features, \n",
    "                 epochs=NUM_EPOCHS, \n",
    "                 num_threads=4)\n",
    "\n",
    "print('Model trained in: ', round((time.time()-start_time)/60, 2), \" minutes\")"
   ]
  },
  {
   "cell_type": "code",
   "execution_count": 64,
   "metadata": {
    "scrolled": true
   },
   "outputs": [
    {
     "data": {
      "text/plain": [
       "{'loss': 'warp',\n",
       " 'learning_schedule': 'adagrad',\n",
       " 'no_components': 100,\n",
       " 'learning_rate': 0.05,\n",
       " 'k': 5,\n",
       " 'n': 10,\n",
       " 'rho': 0.95,\n",
       " 'epsilon': 1e-06,\n",
       " 'max_sampled': 10,\n",
       " 'item_alpha': 0.0,\n",
       " 'user_alpha': 0.0,\n",
       " 'random_state': RandomState(MT19937) at 0x7FC655DDC5A0}"
      ]
     },
     "execution_count": 64,
     "metadata": {},
     "output_type": "execute_result"
    }
   ],
   "source": [
    "model_hybrid.get_params()"
   ]
  },
  {
   "cell_type": "markdown",
   "metadata": {},
   "source": [
    "# Hybrid LightFM model evaluation"
   ]
  },
  {
   "cell_type": "code",
   "execution_count": 65,
   "metadata": {},
   "outputs": [
    {
     "name": "stdout",
     "output_type": "stream",
     "text": [
      "Train AUC score:  0.99953717\n",
      "Calculated in:  0.13  minutes\n"
     ]
    }
   ],
   "source": [
    "start_time = time.time()\n",
    "\n",
    "train_auc = auc_score(model_hybrid, \n",
    "                      train, \n",
    "                      item_features=item_features, \n",
    "                      num_threads=4).mean()\n",
    "\n",
    "print('Train AUC score: ', train_auc)\n",
    "print('Calculated in: ', round((time.time()-start_time)/60, 2), \" minutes\")"
   ]
  },
  {
   "cell_type": "code",
   "execution_count": 66,
   "metadata": {},
   "outputs": [
    {
     "name": "stdout",
     "output_type": "stream",
     "text": [
      "Test AUC score:  0.84518975\n",
      "Calculated in:  0.05  minutes\n"
     ]
    }
   ],
   "source": [
    "start_time = time.time()\n",
    "\n",
    "# Train interactions will be also passed to avoid model re-recommending items to users.\n",
    "test_auc = auc_score(model_hybrid,\n",
    "                     test, \n",
    "                     item_features=item_features, \n",
    "                     train_interactions = train, \n",
    "                     num_threads=4).mean()\n",
    "\n",
    "print('Test AUC score: ', test_auc)\n",
    "print('Calculated in: ', round((time.time()-start_time)/60, 2), \" minutes\")"
   ]
  },
  {
   "cell_type": "code",
   "execution_count": 67,
   "metadata": {},
   "outputs": [
    {
     "name": "stdout",
     "output_type": "stream",
     "text": [
      "Train precision at k:  0.5577252\n",
      "Calculated in:  0.12  minutes\n"
     ]
    }
   ],
   "source": [
    "start_time = time.time()\n",
    "\n",
    "train_precision = precision_at_k(model_hybrid, \n",
    "                                 train,\n",
    "                                 item_features=item_features, \n",
    "                                 num_threads=4, \n",
    "                                 k=k).mean()\n",
    "\n",
    "print('Train precision at k: ', train_precision)\n",
    "print('Calculated in: ', round((time.time()-start_time)/60, 2), \" minutes\")"
   ]
  },
  {
   "cell_type": "code",
   "execution_count": 68,
   "metadata": {
    "scrolled": false
   },
   "outputs": [
    {
     "name": "stdout",
     "output_type": "stream",
     "text": [
      "Test precision at k:  0.030222224\n",
      "Calculated in:  0.05  minutes\n"
     ]
    }
   ],
   "source": [
    "start_time = time.time()\n",
    "\n",
    "test_precision = precision_at_k(model_hybrid, \n",
    "                                test, \n",
    "                                item_features=item_features, \n",
    "                                train_interactions = train, \n",
    "                                num_threads=4, \n",
    "                                k=k).mean()\n",
    "\n",
    "print('Test precision at k: ', test_precision)\n",
    "print('Calculated in: ', round((time.time()-start_time)/60, 2), \" minutes\")"
   ]
  },
  {
   "cell_type": "code",
   "execution_count": 69,
   "metadata": {},
   "outputs": [],
   "source": [
    "model_hybrid_results = {}\n",
    "model_hybrid_results['AUC train'] = train_auc\n",
    "model_hybrid_results['AUC test'] = test_auc\n",
    "model_hybrid_results['Precision @3'] = train_precision\n",
    "model_hybrid_results['Precision @3'] = test_precision"
   ]
  },
  {
   "cell_type": "code",
   "execution_count": 70,
   "metadata": {
    "scrolled": true
   },
   "outputs": [
    {
     "name": "stdout",
     "output_type": "stream",
     "text": [
      "Collaborative filtering results:  {'AUC train': 0.9999983, 'AUC test': 0.65434647, 'Precision @3': 0.012444445}\n",
      "Hybrid filtering results:  {'AUC train': 0.99953717, 'AUC test': 0.84518975, 'Precision @3': 0.030222224}\n"
     ]
    }
   ],
   "source": [
    "# Compare results of collaborative and hybrid models\n",
    "print('Collaborative filtering results: ', model_collab_results)\n",
    "print('Hybrid filtering results: ', model_hybrid_results)"
   ]
  },
  {
   "cell_type": "code",
   "execution_count": 71,
   "metadata": {},
   "outputs": [],
   "source": [
    "# From the above comparison it's clear that passing item features to the model improves both metrics."
   ]
  },
  {
   "cell_type": "markdown",
   "metadata": {},
   "source": [
    "# Visualize learning process"
   ]
  },
  {
   "cell_type": "code",
   "execution_count": 72,
   "metadata": {},
   "outputs": [],
   "source": [
    "# AUC visualization.\n",
    "\n",
    "def learning_vis_auc(model, train, test, item_features, epochs):\n",
    "    \n",
    "    stats = pd.DataFrame(columns = ['epochs', 'train_auc', 'test_auc', 'runtime_min'])\n",
    "    \n",
    "    total_runtime_min = 0\n",
    "    \n",
    "    for epoch in range(1,epochs+1):\n",
    "        \n",
    "        start_time = time.time()\n",
    "        \n",
    "        model.fit(train, \n",
    "                  item_features=item_features, \n",
    "                  epochs=epoch, \n",
    "                  num_threads=4)\n",
    "        \n",
    "        train_auc = auc_score(model, \n",
    "                              train, \n",
    "                              item_features=item_features, \n",
    "                              num_threads=4).mean()\n",
    "\n",
    "        test_auc = auc_score(model,\n",
    "                             test, \n",
    "                             item_features=item_features, \n",
    "                             train_interactions = train, \n",
    "                             num_threads=4).mean()\n",
    "\n",
    "        runtime_min = round((time.time()-start_time)/60, 6)        \n",
    "        total_runtime_min += runtime_min\n",
    "        \n",
    "        stats = stats.append({\n",
    "            'epochs': int(epoch), \n",
    "            'train_auc': float(train_auc), \n",
    "            'test_auc': float(test_auc),\n",
    "            'runtime_min': float(runtime_min)},\n",
    "            ignore_index=True)\n",
    "        \n",
    "    \n",
    "    import matplotlib.pyplot as plt\n",
    "    figure, axis = plt.subplots()\n",
    "    figure.suptitle('Learning progress: AUC')\n",
    "    axis.plot(stats['epochs'], stats['train_auc'], label='train')\n",
    "    axis.plot(stats['epochs'], stats['test_auc'], label='test')\n",
    "    axis.set_xlabel('Epochs')\n",
    "    axis.set_ylabel('AUC score')\n",
    "    axis.legend()\n",
    "    \n",
    "    return(figure, stats, total_runtime_min)"
   ]
  },
  {
   "cell_type": "code",
   "execution_count": 74,
   "metadata": {},
   "outputs": [
    {
     "name": "stdout",
     "output_type": "stream",
     "text": [
      "Calculated in:  16.45  minutes\n"
     ]
    },
    {
     "data": {
      "image/png": "[encoded data removed]",
      "text/plain": [
       "<Figure size 432x288 with 1 Axes>"
      ]
     },
     "metadata": {
      "needs_background": "light"
     },
     "output_type": "display_data"
    }
   ],
   "source": [
    "start_time = time.time()\n",
    "\n",
    "learning_vis_auc_output = learning_vis_auc(model_hybrid, train, test, item_features, epochs=NUM_EPOCHS)\n",
    "\n",
    "print('Calculated in: ', round((time.time()-start_time)/60, 2), \" minutes\")"
   ]
  },
  {
   "cell_type": "code",
   "execution_count": 77,
   "metadata": {},
   "outputs": [
    {
     "data": {
      "text/html": [
       "<div>\n",
       "<style scoped>\n",
       "    .dataframe tbody tr th:only-of-type {\n",
       "        vertical-align: middle;\n",
       "    }\n",
       "\n",
       "    .dataframe tbody tr th {\n",
       "        vertical-align: top;\n",
       "    }\n",
       "\n",
       "    .dataframe thead th {\n",
       "        text-align: right;\n",
       "    }\n",
       "</style>\n",
       "<table border=\"1\" class=\"dataframe\">\n",
       "  <thead>\n",
       "    <tr style=\"text-align: right;\">\n",
       "      <th></th>\n",
       "      <th>epochs</th>\n",
       "      <th>train_auc</th>\n",
       "      <th>test_auc</th>\n",
       "      <th>runtime_min</th>\n",
       "    </tr>\n",
       "  </thead>\n",
       "  <tbody>\n",
       "    <tr>\n",
       "      <td>0</td>\n",
       "      <td>1.0</td>\n",
       "      <td>0.575920</td>\n",
       "      <td>0.645920</td>\n",
       "      <td>0.181715</td>\n",
       "    </tr>\n",
       "    <tr>\n",
       "      <td>1</td>\n",
       "      <td>2.0</td>\n",
       "      <td>0.665595</td>\n",
       "      <td>0.700700</td>\n",
       "      <td>0.191994</td>\n",
       "    </tr>\n",
       "    <tr>\n",
       "      <td>2</td>\n",
       "      <td>3.0</td>\n",
       "      <td>0.704638</td>\n",
       "      <td>0.723904</td>\n",
       "      <td>0.196315</td>\n",
       "    </tr>\n",
       "    <tr>\n",
       "      <td>3</td>\n",
       "      <td>4.0</td>\n",
       "      <td>0.770477</td>\n",
       "      <td>0.741530</td>\n",
       "      <td>0.205552</td>\n",
       "    </tr>\n",
       "    <tr>\n",
       "      <td>4</td>\n",
       "      <td>5.0</td>\n",
       "      <td>0.818777</td>\n",
       "      <td>0.774045</td>\n",
       "      <td>0.210765</td>\n",
       "    </tr>\n",
       "    <tr>\n",
       "      <td>5</td>\n",
       "      <td>6.0</td>\n",
       "      <td>0.841291</td>\n",
       "      <td>0.785648</td>\n",
       "      <td>0.221888</td>\n",
       "    </tr>\n",
       "    <tr>\n",
       "      <td>6</td>\n",
       "      <td>7.0</td>\n",
       "      <td>0.874684</td>\n",
       "      <td>0.793717</td>\n",
       "      <td>0.225258</td>\n",
       "    </tr>\n",
       "    <tr>\n",
       "      <td>7</td>\n",
       "      <td>8.0</td>\n",
       "      <td>0.893731</td>\n",
       "      <td>0.805136</td>\n",
       "      <td>0.234131</td>\n",
       "    </tr>\n",
       "    <tr>\n",
       "      <td>8</td>\n",
       "      <td>9.0</td>\n",
       "      <td>0.910486</td>\n",
       "      <td>0.821750</td>\n",
       "      <td>0.235880</td>\n",
       "    </tr>\n",
       "    <tr>\n",
       "      <td>9</td>\n",
       "      <td>10.0</td>\n",
       "      <td>0.917780</td>\n",
       "      <td>0.817220</td>\n",
       "      <td>0.245565</td>\n",
       "    </tr>\n",
       "    <tr>\n",
       "      <td>10</td>\n",
       "      <td>11.0</td>\n",
       "      <td>0.923830</td>\n",
       "      <td>0.816879</td>\n",
       "      <td>0.258948</td>\n",
       "    </tr>\n",
       "    <tr>\n",
       "      <td>11</td>\n",
       "      <td>12.0</td>\n",
       "      <td>0.940122</td>\n",
       "      <td>0.830380</td>\n",
       "      <td>0.251945</td>\n",
       "    </tr>\n",
       "    <tr>\n",
       "      <td>12</td>\n",
       "      <td>13.0</td>\n",
       "      <td>0.945873</td>\n",
       "      <td>0.830238</td>\n",
       "      <td>0.259253</td>\n",
       "    </tr>\n",
       "    <tr>\n",
       "      <td>13</td>\n",
       "      <td>14.0</td>\n",
       "      <td>0.951445</td>\n",
       "      <td>0.831403</td>\n",
       "      <td>0.267710</td>\n",
       "    </tr>\n",
       "    <tr>\n",
       "      <td>14</td>\n",
       "      <td>15.0</td>\n",
       "      <td>0.953934</td>\n",
       "      <td>0.827635</td>\n",
       "      <td>0.269312</td>\n",
       "    </tr>\n",
       "    <tr>\n",
       "      <td>15</td>\n",
       "      <td>16.0</td>\n",
       "      <td>0.958215</td>\n",
       "      <td>0.836996</td>\n",
       "      <td>0.276802</td>\n",
       "    </tr>\n",
       "    <tr>\n",
       "      <td>16</td>\n",
       "      <td>17.0</td>\n",
       "      <td>0.962134</td>\n",
       "      <td>0.840853</td>\n",
       "      <td>0.283522</td>\n",
       "    </tr>\n",
       "    <tr>\n",
       "      <td>17</td>\n",
       "      <td>18.0</td>\n",
       "      <td>0.967015</td>\n",
       "      <td>0.842581</td>\n",
       "      <td>0.287440</td>\n",
       "    </tr>\n",
       "    <tr>\n",
       "      <td>18</td>\n",
       "      <td>19.0</td>\n",
       "      <td>0.970643</td>\n",
       "      <td>0.844694</td>\n",
       "      <td>0.295815</td>\n",
       "    </tr>\n",
       "    <tr>\n",
       "      <td>19</td>\n",
       "      <td>20.0</td>\n",
       "      <td>0.973952</td>\n",
       "      <td>0.844766</td>\n",
       "      <td>0.297468</td>\n",
       "    </tr>\n",
       "    <tr>\n",
       "      <td>20</td>\n",
       "      <td>21.0</td>\n",
       "      <td>0.977020</td>\n",
       "      <td>0.843357</td>\n",
       "      <td>0.305843</td>\n",
       "    </tr>\n",
       "    <tr>\n",
       "      <td>21</td>\n",
       "      <td>22.0</td>\n",
       "      <td>0.978128</td>\n",
       "      <td>0.840592</td>\n",
       "      <td>0.310512</td>\n",
       "    </tr>\n",
       "    <tr>\n",
       "      <td>22</td>\n",
       "      <td>23.0</td>\n",
       "      <td>0.980346</td>\n",
       "      <td>0.839341</td>\n",
       "      <td>0.317961</td>\n",
       "    </tr>\n",
       "    <tr>\n",
       "      <td>23</td>\n",
       "      <td>24.0</td>\n",
       "      <td>0.984358</td>\n",
       "      <td>0.840638</td>\n",
       "      <td>0.318115</td>\n",
       "    </tr>\n",
       "    <tr>\n",
       "      <td>24</td>\n",
       "      <td>25.0</td>\n",
       "      <td>0.984533</td>\n",
       "      <td>0.846520</td>\n",
       "      <td>0.328712</td>\n",
       "    </tr>\n",
       "    <tr>\n",
       "      <td>25</td>\n",
       "      <td>26.0</td>\n",
       "      <td>0.985894</td>\n",
       "      <td>0.845484</td>\n",
       "      <td>0.332148</td>\n",
       "    </tr>\n",
       "    <tr>\n",
       "      <td>26</td>\n",
       "      <td>27.0</td>\n",
       "      <td>0.987285</td>\n",
       "      <td>0.850299</td>\n",
       "      <td>0.339314</td>\n",
       "    </tr>\n",
       "    <tr>\n",
       "      <td>27</td>\n",
       "      <td>28.0</td>\n",
       "      <td>0.988604</td>\n",
       "      <td>0.846420</td>\n",
       "      <td>0.342848</td>\n",
       "    </tr>\n",
       "    <tr>\n",
       "      <td>28</td>\n",
       "      <td>29.0</td>\n",
       "      <td>0.990384</td>\n",
       "      <td>0.846757</td>\n",
       "      <td>0.349452</td>\n",
       "    </tr>\n",
       "    <tr>\n",
       "      <td>29</td>\n",
       "      <td>30.0</td>\n",
       "      <td>0.991324</td>\n",
       "      <td>0.845014</td>\n",
       "      <td>0.351606</td>\n",
       "    </tr>\n",
       "    <tr>\n",
       "      <td>30</td>\n",
       "      <td>31.0</td>\n",
       "      <td>0.992116</td>\n",
       "      <td>0.846862</td>\n",
       "      <td>0.359611</td>\n",
       "    </tr>\n",
       "    <tr>\n",
       "      <td>31</td>\n",
       "      <td>32.0</td>\n",
       "      <td>0.993062</td>\n",
       "      <td>0.851594</td>\n",
       "      <td>0.360349</td>\n",
       "    </tr>\n",
       "    <tr>\n",
       "      <td>32</td>\n",
       "      <td>33.0</td>\n",
       "      <td>0.993613</td>\n",
       "      <td>0.847959</td>\n",
       "      <td>0.367516</td>\n",
       "    </tr>\n",
       "    <tr>\n",
       "      <td>33</td>\n",
       "      <td>34.0</td>\n",
       "      <td>0.994047</td>\n",
       "      <td>0.846956</td>\n",
       "      <td>0.368514</td>\n",
       "    </tr>\n",
       "    <tr>\n",
       "      <td>34</td>\n",
       "      <td>35.0</td>\n",
       "      <td>0.994888</td>\n",
       "      <td>0.849973</td>\n",
       "      <td>0.380501</td>\n",
       "    </tr>\n",
       "    <tr>\n",
       "      <td>35</td>\n",
       "      <td>36.0</td>\n",
       "      <td>0.995148</td>\n",
       "      <td>0.850837</td>\n",
       "      <td>0.378421</td>\n",
       "    </tr>\n",
       "    <tr>\n",
       "      <td>36</td>\n",
       "      <td>37.0</td>\n",
       "      <td>0.995614</td>\n",
       "      <td>0.847548</td>\n",
       "      <td>0.386992</td>\n",
       "    </tr>\n",
       "    <tr>\n",
       "      <td>37</td>\n",
       "      <td>38.0</td>\n",
       "      <td>0.996020</td>\n",
       "      <td>0.847086</td>\n",
       "      <td>0.410108</td>\n",
       "    </tr>\n",
       "    <tr>\n",
       "      <td>38</td>\n",
       "      <td>39.0</td>\n",
       "      <td>0.996360</td>\n",
       "      <td>0.850627</td>\n",
       "      <td>0.428159</td>\n",
       "    </tr>\n",
       "    <tr>\n",
       "      <td>39</td>\n",
       "      <td>40.0</td>\n",
       "      <td>0.996500</td>\n",
       "      <td>0.843662</td>\n",
       "      <td>0.406674</td>\n",
       "    </tr>\n",
       "    <tr>\n",
       "      <td>40</td>\n",
       "      <td>41.0</td>\n",
       "      <td>0.996620</td>\n",
       "      <td>0.850878</td>\n",
       "      <td>0.401885</td>\n",
       "    </tr>\n",
       "    <tr>\n",
       "      <td>41</td>\n",
       "      <td>42.0</td>\n",
       "      <td>0.996893</td>\n",
       "      <td>0.849018</td>\n",
       "      <td>0.409535</td>\n",
       "    </tr>\n",
       "    <tr>\n",
       "      <td>42</td>\n",
       "      <td>43.0</td>\n",
       "      <td>0.997154</td>\n",
       "      <td>0.844194</td>\n",
       "      <td>0.418441</td>\n",
       "    </tr>\n",
       "    <tr>\n",
       "      <td>43</td>\n",
       "      <td>44.0</td>\n",
       "      <td>0.997328</td>\n",
       "      <td>0.841481</td>\n",
       "      <td>0.431158</td>\n",
       "    </tr>\n",
       "    <tr>\n",
       "      <td>44</td>\n",
       "      <td>45.0</td>\n",
       "      <td>0.997509</td>\n",
       "      <td>0.843414</td>\n",
       "      <td>0.434428</td>\n",
       "    </tr>\n",
       "    <tr>\n",
       "      <td>45</td>\n",
       "      <td>46.0</td>\n",
       "      <td>0.997642</td>\n",
       "      <td>0.855544</td>\n",
       "      <td>0.422485</td>\n",
       "    </tr>\n",
       "    <tr>\n",
       "      <td>46</td>\n",
       "      <td>47.0</td>\n",
       "      <td>0.997734</td>\n",
       "      <td>0.844201</td>\n",
       "      <td>0.451572</td>\n",
       "    </tr>\n",
       "    <tr>\n",
       "      <td>47</td>\n",
       "      <td>48.0</td>\n",
       "      <td>0.997801</td>\n",
       "      <td>0.846925</td>\n",
       "      <td>0.524977</td>\n",
       "    </tr>\n",
       "    <tr>\n",
       "      <td>48</td>\n",
       "      <td>49.0</td>\n",
       "      <td>0.997992</td>\n",
       "      <td>0.842208</td>\n",
       "      <td>0.461621</td>\n",
       "    </tr>\n",
       "    <tr>\n",
       "      <td>49</td>\n",
       "      <td>50.0</td>\n",
       "      <td>0.997969</td>\n",
       "      <td>0.846723</td>\n",
       "      <td>0.449854</td>\n",
       "    </tr>\n",
       "  </tbody>\n",
       "</table>\n",
       "</div>"
      ],
      "text/plain": [
       "    epochs  train_auc  test_auc  runtime_min\n",
       "0      1.0   0.575920  0.645920     0.181715\n",
       "1      2.0   0.665595  0.700700     0.191994\n",
       "2      3.0   0.704638  0.723904     0.196315\n",
       "3      4.0   0.770477  0.741530     0.205552\n",
       "4      5.0   0.818777  0.774045     0.210765\n",
       "5      6.0   0.841291  0.785648     0.221888\n",
       "6      7.0   0.874684  0.793717     0.225258\n",
       "7      8.0   0.893731  0.805136     0.234131\n",
       "8      9.0   0.910486  0.821750     0.235880\n",
       "9     10.0   0.917780  0.817220     0.245565\n",
       "10    11.0   0.923830  0.816879     0.258948\n",
       "11    12.0   0.940122  0.830380     0.251945\n",
       "12    13.0   0.945873  0.830238     0.259253\n",
       "13    14.0   0.951445  0.831403     0.267710\n",
       "14    15.0   0.953934  0.827635     0.269312\n",
       "15    16.0   0.958215  0.836996     0.276802\n",
       "16    17.0   0.962134  0.840853     0.283522\n",
       "17    18.0   0.967015  0.842581     0.287440\n",
       "18    19.0   0.970643  0.844694     0.295815\n",
       "19    20.0   0.973952  0.844766     0.297468\n",
       "20    21.0   0.977020  0.843357     0.305843\n",
       "21    22.0   0.978128  0.840592     0.310512\n",
       "22    23.0   0.980346  0.839341     0.317961\n",
       "23    24.0   0.984358  0.840638     0.318115\n",
       "24    25.0   0.984533  0.846520     0.328712\n",
       "25    26.0   0.985894  0.845484     0.332148\n",
       "26    27.0   0.987285  0.850299     0.339314\n",
       "27    28.0   0.988604  0.846420     0.342848\n",
       "28    29.0   0.990384  0.846757     0.349452\n",
       "29    30.0   0.991324  0.845014     0.351606\n",
       "30    31.0   0.992116  0.846862     0.359611\n",
       "31    32.0   0.993062  0.851594     0.360349\n",
       "32    33.0   0.993613  0.847959     0.367516\n",
       "33    34.0   0.994047  0.846956     0.368514\n",
       "34    35.0   0.994888  0.849973     0.380501\n",
       "35    36.0   0.995148  0.850837     0.378421\n",
       "36    37.0   0.995614  0.847548     0.386992\n",
       "37    38.0   0.996020  0.847086     0.410108\n",
       "38    39.0   0.996360  0.850627     0.428159\n",
       "39    40.0   0.996500  0.843662     0.406674\n",
       "40    41.0   0.996620  0.850878     0.401885\n",
       "41    42.0   0.996893  0.849018     0.409535\n",
       "42    43.0   0.997154  0.844194     0.418441\n",
       "43    44.0   0.997328  0.841481     0.431158\n",
       "44    45.0   0.997509  0.843414     0.434428\n",
       "45    46.0   0.997642  0.855544     0.422485\n",
       "46    47.0   0.997734  0.844201     0.451572\n",
       "47    48.0   0.997801  0.846925     0.524977\n",
       "48    49.0   0.997992  0.842208     0.461621\n",
       "49    50.0   0.997969  0.846723     0.449854"
      ]
     },
     "execution_count": 77,
     "metadata": {},
     "output_type": "execute_result"
    }
   ],
   "source": [
    "learning_vis_auc_output[1]"
   ]
  },
  {
   "cell_type": "code",
   "execution_count": 78,
   "metadata": {},
   "outputs": [
    {
     "data": {
      "text/plain": [
       "16.44659"
      ]
     },
     "execution_count": 78,
     "metadata": {},
     "output_type": "execute_result"
    }
   ],
   "source": [
    "learning_vis_auc_output[2]"
   ]
  },
  {
   "cell_type": "code",
   "execution_count": 79,
   "metadata": {},
   "outputs": [],
   "source": [
    "# Precision visualization.\n",
    "\n",
    "def learning_vis_precision(model, train, test, item_features, k, epochs):\n",
    "    \n",
    "    stats = pd.DataFrame(columns = ['epochs', 'train_precision', 'test_precision', '@k' 'runtime_min'])\n",
    "    \n",
    "    total_runtime_min = 0\n",
    "    \n",
    "    for epoch in range(1,epochs+1):\n",
    "        \n",
    "        start_time = time.time()\n",
    "        \n",
    "        model.fit(train, \n",
    "                  item_features=item_features,\n",
    "                  epochs=epoch, \n",
    "                  num_threads=4)\n",
    "        \n",
    "        train_precision = precision_at_k(model,\n",
    "                                         train,\n",
    "                                         item_features=item_features,\n",
    "                                         num_threads=4, \n",
    "                                         k=k).mean()\n",
    "\n",
    "        test_precision = precision_at_k(model, \n",
    "                                        test,\n",
    "                                        item_features=item_features,\n",
    "                                        train_interactions=train,\n",
    "                                        num_threads=4, \n",
    "                                        k=k).mean()\n",
    "\n",
    "        runtime_min = round((time.time()-start_time)/60, 6)\n",
    "        total_runtime_min += runtime_min\n",
    "        \n",
    "        stats = stats.append({\n",
    "            'epochs': int(epoch), \n",
    "            'train_precision': float(train_precision), \n",
    "            'test_precision': float(test_precision),\n",
    "            '@k': int(k), \n",
    "            'runtime_min': float(runtime_min)},\n",
    "            ignore_index=True)\n",
    "        \n",
    "    \n",
    "    import matplotlib.pyplot as plt\n",
    "    figure, axis = plt.subplots()\n",
    "    figure.suptitle('Learning progress: precision @%s' %k)\n",
    "    axis.plot(stats['epochs'], stats['train_precision'], label='train')\n",
    "    axis.plot(stats['epochs'], stats['test_precision'], label='test')\n",
    "    axis.set_xlabel('Epochs')\n",
    "    axis.set_ylabel('Precision')\n",
    "    axis.legend()\n",
    "    \n",
    "    return(figure, stats, total_runtime_min)"
   ]
  },
  {
   "cell_type": "code",
   "execution_count": 80,
   "metadata": {},
   "outputs": [
    {
     "name": "stdout",
     "output_type": "stream",
     "text": [
      "Calculated in:  16.61  minutes\n"
     ]
    },
    {
     "data": {
      "image/png": "[encoded data removed]",
      "text/plain": [
       "<Figure size 432x288 with 1 Axes>"
      ]
     },
     "metadata": {
      "needs_background": "light"
     },
     "output_type": "display_data"
    }
   ],
   "source": [
    "start_time = time.time()\n",
    "\n",
    "prec_at_3 = learning_vis_precision(model_hybrid, train, test, item_features, k=3, epochs=NUM_EPOCHS)\n",
    "\n",
    "print('Calculated in: ', round((time.time()-start_time)/60, 2), \" minutes\")"
   ]
  },
  {
   "cell_type": "code",
   "execution_count": 82,
   "metadata": {},
   "outputs": [
    {
     "data": {
      "text/html": [
       "<div>\n",
       "<style scoped>\n",
       "    .dataframe tbody tr th:only-of-type {\n",
       "        vertical-align: middle;\n",
       "    }\n",
       "\n",
       "    .dataframe tbody tr th {\n",
       "        vertical-align: top;\n",
       "    }\n",
       "\n",
       "    .dataframe thead th {\n",
       "        text-align: right;\n",
       "    }\n",
       "</style>\n",
       "<table border=\"1\" class=\"dataframe\">\n",
       "  <thead>\n",
       "    <tr style=\"text-align: right;\">\n",
       "      <th></th>\n",
       "      <th>epochs</th>\n",
       "      <th>train_precision</th>\n",
       "      <th>test_precision</th>\n",
       "      <th>@kruntime_min</th>\n",
       "      <th>@k</th>\n",
       "      <th>runtime_min</th>\n",
       "    </tr>\n",
       "  </thead>\n",
       "  <tbody>\n",
       "    <tr>\n",
       "      <td>0</td>\n",
       "      <td>1.0</td>\n",
       "      <td>0.003083</td>\n",
       "      <td>0.000000</td>\n",
       "      <td>NaN</td>\n",
       "      <td>3.0</td>\n",
       "      <td>0.187407</td>\n",
       "    </tr>\n",
       "    <tr>\n",
       "      <td>1</td>\n",
       "      <td>2.0</td>\n",
       "      <td>0.005481</td>\n",
       "      <td>0.002667</td>\n",
       "      <td>NaN</td>\n",
       "      <td>3.0</td>\n",
       "      <td>0.194262</td>\n",
       "    </tr>\n",
       "    <tr>\n",
       "      <td>2</td>\n",
       "      <td>3.0</td>\n",
       "      <td>0.007879</td>\n",
       "      <td>0.003556</td>\n",
       "      <td>NaN</td>\n",
       "      <td>3.0</td>\n",
       "      <td>0.195125</td>\n",
       "    </tr>\n",
       "    <tr>\n",
       "      <td>3</td>\n",
       "      <td>4.0</td>\n",
       "      <td>0.026721</td>\n",
       "      <td>0.012444</td>\n",
       "      <td>NaN</td>\n",
       "      <td>3.0</td>\n",
       "      <td>0.200861</td>\n",
       "    </tr>\n",
       "    <tr>\n",
       "      <td>4</td>\n",
       "      <td>5.0</td>\n",
       "      <td>0.031175</td>\n",
       "      <td>0.014222</td>\n",
       "      <td>NaN</td>\n",
       "      <td>3.0</td>\n",
       "      <td>0.214951</td>\n",
       "    </tr>\n",
       "    <tr>\n",
       "      <td>5</td>\n",
       "      <td>6.0</td>\n",
       "      <td>0.038027</td>\n",
       "      <td>0.016889</td>\n",
       "      <td>NaN</td>\n",
       "      <td>3.0</td>\n",
       "      <td>0.220427</td>\n",
       "    </tr>\n",
       "    <tr>\n",
       "      <td>6</td>\n",
       "      <td>7.0</td>\n",
       "      <td>0.052758</td>\n",
       "      <td>0.016000</td>\n",
       "      <td>NaN</td>\n",
       "      <td>3.0</td>\n",
       "      <td>0.225813</td>\n",
       "    </tr>\n",
       "    <tr>\n",
       "      <td>7</td>\n",
       "      <td>8.0</td>\n",
       "      <td>0.064406</td>\n",
       "      <td>0.019556</td>\n",
       "      <td>NaN</td>\n",
       "      <td>3.0</td>\n",
       "      <td>0.238912</td>\n",
       "    </tr>\n",
       "    <tr>\n",
       "      <td>8</td>\n",
       "      <td>9.0</td>\n",
       "      <td>0.084275</td>\n",
       "      <td>0.019556</td>\n",
       "      <td>NaN</td>\n",
       "      <td>3.0</td>\n",
       "      <td>0.240904</td>\n",
       "    </tr>\n",
       "    <tr>\n",
       "      <td>9</td>\n",
       "      <td>10.0</td>\n",
       "      <td>0.079822</td>\n",
       "      <td>0.024889</td>\n",
       "      <td>NaN</td>\n",
       "      <td>3.0</td>\n",
       "      <td>0.257054</td>\n",
       "    </tr>\n",
       "    <tr>\n",
       "      <td>10</td>\n",
       "      <td>11.0</td>\n",
       "      <td>0.092840</td>\n",
       "      <td>0.024889</td>\n",
       "      <td>NaN</td>\n",
       "      <td>3.0</td>\n",
       "      <td>0.267120</td>\n",
       "    </tr>\n",
       "    <tr>\n",
       "      <td>11</td>\n",
       "      <td>12.0</td>\n",
       "      <td>0.101747</td>\n",
       "      <td>0.025778</td>\n",
       "      <td>NaN</td>\n",
       "      <td>3.0</td>\n",
       "      <td>0.262583</td>\n",
       "    </tr>\n",
       "    <tr>\n",
       "      <td>12</td>\n",
       "      <td>13.0</td>\n",
       "      <td>0.109627</td>\n",
       "      <td>0.026667</td>\n",
       "      <td>NaN</td>\n",
       "      <td>3.0</td>\n",
       "      <td>0.272647</td>\n",
       "    </tr>\n",
       "    <tr>\n",
       "      <td>13</td>\n",
       "      <td>14.0</td>\n",
       "      <td>0.114080</td>\n",
       "      <td>0.031111</td>\n",
       "      <td>NaN</td>\n",
       "      <td>3.0</td>\n",
       "      <td>0.279607</td>\n",
       "    </tr>\n",
       "    <tr>\n",
       "      <td>14</td>\n",
       "      <td>15.0</td>\n",
       "      <td>0.126071</td>\n",
       "      <td>0.025778</td>\n",
       "      <td>NaN</td>\n",
       "      <td>3.0</td>\n",
       "      <td>0.280402</td>\n",
       "    </tr>\n",
       "    <tr>\n",
       "      <td>15</td>\n",
       "      <td>16.0</td>\n",
       "      <td>0.119904</td>\n",
       "      <td>0.028444</td>\n",
       "      <td>NaN</td>\n",
       "      <td>3.0</td>\n",
       "      <td>0.289639</td>\n",
       "    </tr>\n",
       "    <tr>\n",
       "      <td>16</td>\n",
       "      <td>17.0</td>\n",
       "      <td>0.129496</td>\n",
       "      <td>0.027556</td>\n",
       "      <td>NaN</td>\n",
       "      <td>3.0</td>\n",
       "      <td>0.294397</td>\n",
       "    </tr>\n",
       "    <tr>\n",
       "      <td>17</td>\n",
       "      <td>18.0</td>\n",
       "      <td>0.136348</td>\n",
       "      <td>0.023111</td>\n",
       "      <td>NaN</td>\n",
       "      <td>3.0</td>\n",
       "      <td>0.291911</td>\n",
       "    </tr>\n",
       "    <tr>\n",
       "      <td>18</td>\n",
       "      <td>19.0</td>\n",
       "      <td>0.144570</td>\n",
       "      <td>0.025778</td>\n",
       "      <td>NaN</td>\n",
       "      <td>3.0</td>\n",
       "      <td>0.304315</td>\n",
       "    </tr>\n",
       "    <tr>\n",
       "      <td>19</td>\n",
       "      <td>20.0</td>\n",
       "      <td>0.156560</td>\n",
       "      <td>0.032000</td>\n",
       "      <td>NaN</td>\n",
       "      <td>3.0</td>\n",
       "      <td>0.305150</td>\n",
       "    </tr>\n",
       "    <tr>\n",
       "      <td>20</td>\n",
       "      <td>21.0</td>\n",
       "      <td>0.154505</td>\n",
       "      <td>0.032000</td>\n",
       "      <td>NaN</td>\n",
       "      <td>3.0</td>\n",
       "      <td>0.319089</td>\n",
       "    </tr>\n",
       "    <tr>\n",
       "      <td>21</td>\n",
       "      <td>22.0</td>\n",
       "      <td>0.162042</td>\n",
       "      <td>0.032889</td>\n",
       "      <td>NaN</td>\n",
       "      <td>3.0</td>\n",
       "      <td>0.314729</td>\n",
       "    </tr>\n",
       "    <tr>\n",
       "      <td>22</td>\n",
       "      <td>23.0</td>\n",
       "      <td>0.171292</td>\n",
       "      <td>0.033778</td>\n",
       "      <td>NaN</td>\n",
       "      <td>3.0</td>\n",
       "      <td>0.325749</td>\n",
       "    </tr>\n",
       "    <tr>\n",
       "      <td>23</td>\n",
       "      <td>24.0</td>\n",
       "      <td>0.171634</td>\n",
       "      <td>0.028444</td>\n",
       "      <td>NaN</td>\n",
       "      <td>3.0</td>\n",
       "      <td>0.334619</td>\n",
       "    </tr>\n",
       "    <tr>\n",
       "      <td>24</td>\n",
       "      <td>25.0</td>\n",
       "      <td>0.183282</td>\n",
       "      <td>0.030222</td>\n",
       "      <td>NaN</td>\n",
       "      <td>3.0</td>\n",
       "      <td>0.337371</td>\n",
       "    </tr>\n",
       "    <tr>\n",
       "      <td>25</td>\n",
       "      <td>26.0</td>\n",
       "      <td>0.176088</td>\n",
       "      <td>0.027556</td>\n",
       "      <td>NaN</td>\n",
       "      <td>3.0</td>\n",
       "      <td>0.333020</td>\n",
       "    </tr>\n",
       "    <tr>\n",
       "      <td>26</td>\n",
       "      <td>27.0</td>\n",
       "      <td>0.184652</td>\n",
       "      <td>0.030222</td>\n",
       "      <td>NaN</td>\n",
       "      <td>3.0</td>\n",
       "      <td>0.350359</td>\n",
       "    </tr>\n",
       "    <tr>\n",
       "      <td>27</td>\n",
       "      <td>28.0</td>\n",
       "      <td>0.200069</td>\n",
       "      <td>0.028444</td>\n",
       "      <td>NaN</td>\n",
       "      <td>3.0</td>\n",
       "      <td>0.347344</td>\n",
       "    </tr>\n",
       "    <tr>\n",
       "      <td>28</td>\n",
       "      <td>29.0</td>\n",
       "      <td>0.200069</td>\n",
       "      <td>0.032889</td>\n",
       "      <td>NaN</td>\n",
       "      <td>3.0</td>\n",
       "      <td>0.350355</td>\n",
       "    </tr>\n",
       "    <tr>\n",
       "      <td>29</td>\n",
       "      <td>30.0</td>\n",
       "      <td>0.205207</td>\n",
       "      <td>0.041778</td>\n",
       "      <td>NaN</td>\n",
       "      <td>3.0</td>\n",
       "      <td>0.353733</td>\n",
       "    </tr>\n",
       "    <tr>\n",
       "      <td>30</td>\n",
       "      <td>31.0</td>\n",
       "      <td>0.228845</td>\n",
       "      <td>0.041778</td>\n",
       "      <td>NaN</td>\n",
       "      <td>3.0</td>\n",
       "      <td>0.389447</td>\n",
       "    </tr>\n",
       "    <tr>\n",
       "      <td>31</td>\n",
       "      <td>32.0</td>\n",
       "      <td>0.216513</td>\n",
       "      <td>0.032889</td>\n",
       "      <td>NaN</td>\n",
       "      <td>3.0</td>\n",
       "      <td>0.379989</td>\n",
       "    </tr>\n",
       "    <tr>\n",
       "      <td>32</td>\n",
       "      <td>33.0</td>\n",
       "      <td>0.222679</td>\n",
       "      <td>0.032000</td>\n",
       "      <td>NaN</td>\n",
       "      <td>3.0</td>\n",
       "      <td>0.394019</td>\n",
       "    </tr>\n",
       "    <tr>\n",
       "      <td>33</td>\n",
       "      <td>34.0</td>\n",
       "      <td>0.229188</td>\n",
       "      <td>0.040000</td>\n",
       "      <td>NaN</td>\n",
       "      <td>3.0</td>\n",
       "      <td>0.394935</td>\n",
       "    </tr>\n",
       "    <tr>\n",
       "      <td>34</td>\n",
       "      <td>35.0</td>\n",
       "      <td>0.227818</td>\n",
       "      <td>0.035556</td>\n",
       "      <td>NaN</td>\n",
       "      <td>3.0</td>\n",
       "      <td>0.377778</td>\n",
       "    </tr>\n",
       "    <tr>\n",
       "      <td>35</td>\n",
       "      <td>36.0</td>\n",
       "      <td>0.252484</td>\n",
       "      <td>0.037333</td>\n",
       "      <td>NaN</td>\n",
       "      <td>3.0</td>\n",
       "      <td>0.384657</td>\n",
       "    </tr>\n",
       "    <tr>\n",
       "      <td>36</td>\n",
       "      <td>37.0</td>\n",
       "      <td>0.260706</td>\n",
       "      <td>0.040000</td>\n",
       "      <td>NaN</td>\n",
       "      <td>3.0</td>\n",
       "      <td>0.394355</td>\n",
       "    </tr>\n",
       "    <tr>\n",
       "      <td>37</td>\n",
       "      <td>38.0</td>\n",
       "      <td>0.265844</td>\n",
       "      <td>0.035556</td>\n",
       "      <td>NaN</td>\n",
       "      <td>3.0</td>\n",
       "      <td>0.389083</td>\n",
       "    </tr>\n",
       "    <tr>\n",
       "      <td>38</td>\n",
       "      <td>39.0</td>\n",
       "      <td>0.270298</td>\n",
       "      <td>0.032889</td>\n",
       "      <td>NaN</td>\n",
       "      <td>3.0</td>\n",
       "      <td>0.392464</td>\n",
       "    </tr>\n",
       "    <tr>\n",
       "      <td>39</td>\n",
       "      <td>40.0</td>\n",
       "      <td>0.276465</td>\n",
       "      <td>0.037333</td>\n",
       "      <td>NaN</td>\n",
       "      <td>3.0</td>\n",
       "      <td>0.399684</td>\n",
       "    </tr>\n",
       "    <tr>\n",
       "      <td>40</td>\n",
       "      <td>41.0</td>\n",
       "      <td>0.273724</td>\n",
       "      <td>0.030222</td>\n",
       "      <td>NaN</td>\n",
       "      <td>3.0</td>\n",
       "      <td>0.412973</td>\n",
       "    </tr>\n",
       "    <tr>\n",
       "      <td>41</td>\n",
       "      <td>42.0</td>\n",
       "      <td>0.291881</td>\n",
       "      <td>0.033778</td>\n",
       "      <td>NaN</td>\n",
       "      <td>3.0</td>\n",
       "      <td>0.404484</td>\n",
       "    </tr>\n",
       "    <tr>\n",
       "      <td>42</td>\n",
       "      <td>43.0</td>\n",
       "      <td>0.293936</td>\n",
       "      <td>0.031111</td>\n",
       "      <td>NaN</td>\n",
       "      <td>3.0</td>\n",
       "      <td>0.409606</td>\n",
       "    </tr>\n",
       "    <tr>\n",
       "      <td>43</td>\n",
       "      <td>44.0</td>\n",
       "      <td>0.303529</td>\n",
       "      <td>0.032000</td>\n",
       "      <td>NaN</td>\n",
       "      <td>3.0</td>\n",
       "      <td>0.409680</td>\n",
       "    </tr>\n",
       "    <tr>\n",
       "      <td>44</td>\n",
       "      <td>45.0</td>\n",
       "      <td>0.313464</td>\n",
       "      <td>0.030222</td>\n",
       "      <td>NaN</td>\n",
       "      <td>3.0</td>\n",
       "      <td>0.418217</td>\n",
       "    </tr>\n",
       "    <tr>\n",
       "      <td>45</td>\n",
       "      <td>46.0</td>\n",
       "      <td>0.311065</td>\n",
       "      <td>0.032889</td>\n",
       "      <td>NaN</td>\n",
       "      <td>3.0</td>\n",
       "      <td>0.422303</td>\n",
       "    </tr>\n",
       "    <tr>\n",
       "      <td>46</td>\n",
       "      <td>47.0</td>\n",
       "      <td>0.315862</td>\n",
       "      <td>0.036444</td>\n",
       "      <td>NaN</td>\n",
       "      <td>3.0</td>\n",
       "      <td>0.438894</td>\n",
       "    </tr>\n",
       "    <tr>\n",
       "      <td>47</td>\n",
       "      <td>48.0</td>\n",
       "      <td>0.337444</td>\n",
       "      <td>0.037333</td>\n",
       "      <td>NaN</td>\n",
       "      <td>3.0</td>\n",
       "      <td>0.496752</td>\n",
       "    </tr>\n",
       "    <tr>\n",
       "      <td>48</td>\n",
       "      <td>49.0</td>\n",
       "      <td>0.329565</td>\n",
       "      <td>0.032889</td>\n",
       "      <td>NaN</td>\n",
       "      <td>3.0</td>\n",
       "      <td>0.456288</td>\n",
       "    </tr>\n",
       "    <tr>\n",
       "      <td>49</td>\n",
       "      <td>50.0</td>\n",
       "      <td>0.342240</td>\n",
       "      <td>0.033778</td>\n",
       "      <td>NaN</td>\n",
       "      <td>3.0</td>\n",
       "      <td>0.449576</td>\n",
       "    </tr>\n",
       "  </tbody>\n",
       "</table>\n",
       "</div>"
      ],
      "text/plain": [
       "    epochs  train_precision  test_precision  @kruntime_min   @k  runtime_min\n",
       "0      1.0         0.003083        0.000000            NaN  3.0     0.187407\n",
       "1      2.0         0.005481        0.002667            NaN  3.0     0.194262\n",
       "2      3.0         0.007879        0.003556            NaN  3.0     0.195125\n",
       "3      4.0         0.026721        0.012444            NaN  3.0     0.200861\n",
       "4      5.0         0.031175        0.014222            NaN  3.0     0.214951\n",
       "5      6.0         0.038027        0.016889            NaN  3.0     0.220427\n",
       "6      7.0         0.052758        0.016000            NaN  3.0     0.225813\n",
       "7      8.0         0.064406        0.019556            NaN  3.0     0.238912\n",
       "8      9.0         0.084275        0.019556            NaN  3.0     0.240904\n",
       "9     10.0         0.079822        0.024889            NaN  3.0     0.257054\n",
       "10    11.0         0.092840        0.024889            NaN  3.0     0.267120\n",
       "11    12.0         0.101747        0.025778            NaN  3.0     0.262583\n",
       "12    13.0         0.109627        0.026667            NaN  3.0     0.272647\n",
       "13    14.0         0.114080        0.031111            NaN  3.0     0.279607\n",
       "14    15.0         0.126071        0.025778            NaN  3.0     0.280402\n",
       "15    16.0         0.119904        0.028444            NaN  3.0     0.289639\n",
       "16    17.0         0.129496        0.027556            NaN  3.0     0.294397\n",
       "17    18.0         0.136348        0.023111            NaN  3.0     0.291911\n",
       "18    19.0         0.144570        0.025778            NaN  3.0     0.304315\n",
       "19    20.0         0.156560        0.032000            NaN  3.0     0.305150\n",
       "20    21.0         0.154505        0.032000            NaN  3.0     0.319089\n",
       "21    22.0         0.162042        0.032889            NaN  3.0     0.314729\n",
       "22    23.0         0.171292        0.033778            NaN  3.0     0.325749\n",
       "23    24.0         0.171634        0.028444            NaN  3.0     0.334619\n",
       "24    25.0         0.183282        0.030222            NaN  3.0     0.337371\n",
       "25    26.0         0.176088        0.027556            NaN  3.0     0.333020\n",
       "26    27.0         0.184652        0.030222            NaN  3.0     0.350359\n",
       "27    28.0         0.200069        0.028444            NaN  3.0     0.347344\n",
       "28    29.0         0.200069        0.032889            NaN  3.0     0.350355\n",
       "29    30.0         0.205207        0.041778            NaN  3.0     0.353733\n",
       "30    31.0         0.228845        0.041778            NaN  3.0     0.389447\n",
       "31    32.0         0.216513        0.032889            NaN  3.0     0.379989\n",
       "32    33.0         0.222679        0.032000            NaN  3.0     0.394019\n",
       "33    34.0         0.229188        0.040000            NaN  3.0     0.394935\n",
       "34    35.0         0.227818        0.035556            NaN  3.0     0.377778\n",
       "35    36.0         0.252484        0.037333            NaN  3.0     0.384657\n",
       "36    37.0         0.260706        0.040000            NaN  3.0     0.394355\n",
       "37    38.0         0.265844        0.035556            NaN  3.0     0.389083\n",
       "38    39.0         0.270298        0.032889            NaN  3.0     0.392464\n",
       "39    40.0         0.276465        0.037333            NaN  3.0     0.399684\n",
       "40    41.0         0.273724        0.030222            NaN  3.0     0.412973\n",
       "41    42.0         0.291881        0.033778            NaN  3.0     0.404484\n",
       "42    43.0         0.293936        0.031111            NaN  3.0     0.409606\n",
       "43    44.0         0.303529        0.032000            NaN  3.0     0.409680\n",
       "44    45.0         0.313464        0.030222            NaN  3.0     0.418217\n",
       "45    46.0         0.311065        0.032889            NaN  3.0     0.422303\n",
       "46    47.0         0.315862        0.036444            NaN  3.0     0.438894\n",
       "47    48.0         0.337444        0.037333            NaN  3.0     0.496752\n",
       "48    49.0         0.329565        0.032889            NaN  3.0     0.456288\n",
       "49    50.0         0.342240        0.033778            NaN  3.0     0.449576"
      ]
     },
     "execution_count": 82,
     "metadata": {},
     "output_type": "execute_result"
    }
   ],
   "source": [
    "prec_at_3[1]"
   ]
  },
  {
   "cell_type": "code",
   "execution_count": 83,
   "metadata": {},
   "outputs": [
    {
     "data": {
      "text/plain": [
       "16.605039"
      ]
     },
     "execution_count": 83,
     "metadata": {},
     "output_type": "execute_result"
    }
   ],
   "source": [
    "prec_at_3[2]"
   ]
  },
  {
   "cell_type": "code",
   "execution_count": 84,
   "metadata": {},
   "outputs": [],
   "source": [
    "# Conclusion on learning process visualization:\n",
    "# From the plots above it is clear the learning process slos down significantly after 30 epochs.\n",
    "# In order to save the computational costs and optimize the process, set new value for NUM_EPOCHS:\n",
    "\n",
    "NUM_EPOCHS = 30"
   ]
  },
  {
   "cell_type": "markdown",
   "metadata": {},
   "source": [
    "# Hyperparameter tuning"
   ]
  },
  {
   "cell_type": "code",
   "execution_count": 85,
   "metadata": {},
   "outputs": [],
   "source": [
    "# Attempting to regularize mnodel and achieve better results on test set by hyperparameter tuning.\n",
    "\n",
    "# The author of the LightFM package Maciej Kula has also developed the algorythm for hyperparameter tuning.\n",
    "# Original algorythm was posted on GitHub 23 Apr 2018.\n",
    "# Code is available via url https://gist.github.com/maciejkula/29aaf2db2efee5775a7f14dc387f0c0f\n",
    "\n",
    "# For the purposes of this project the original code was modified to meet the needs."
   ]
  },
  {
   "cell_type": "code",
   "execution_count": 86,
   "metadata": {},
   "outputs": [],
   "source": [
    "# Split train set into train_train and validate subsets.\n",
    "\n",
    "(train_train, validate) = random_train_test_split(train, \n",
    "                                                  test_percentage=0.2)"
   ]
  },
  {
   "cell_type": "markdown",
   "metadata": {},
   "source": [
    "# AUC focused model - Tuning"
   ]
  },
  {
   "cell_type": "code",
   "execution_count": 87,
   "metadata": {
    "scrolled": true
   },
   "outputs": [
    {
     "name": "stdout",
     "output_type": "stream",
     "text": [
      "Best ranking score 0.5359823107719421 at {'no_components': 59, 'learning_schedule': 'adadelta', 'loss': 'bpr', 'k': 2, 'n': 16, 'learning_rate': 0.00986703662757916, 'item_alpha': 1.8605684987555094e-10, 'max_sampled': 13, 'num_epochs': 71}\n",
      "Calculated in:  1.07  minutes\n"
     ]
    }
   ],
   "source": [
    "# Improving AUC metric.\n",
    "\n",
    "\n",
    "def sample_hyperparameters():\n",
    "    \n",
    "    # Choose the hyperparameters to tune and the range of values.\n",
    "\n",
    "    while True:\n",
    "        yield {\n",
    "            'no_components': np.random.randint(10, 100),\n",
    "            'learning_schedule': np.random.choice(['adagrad', 'adadelta']),\n",
    "            'loss': np.random.choice(['bpr', 'warp', 'warp-kos']),\n",
    "            'k': np.random.randint(1, 10),\n",
    "            'n': np.random.randint(1, 20),\n",
    "            'learning_rate': np.random.exponential(0.005),\n",
    "            'item_alpha': np.random.exponential(1e-10),\n",
    "            'max_sampled': np.random.randint(5, 30),\n",
    "            'num_epochs': np.random.randint(10, 100)\n",
    "        }\n",
    "\n",
    "\n",
    "def random_search_auc(train_train, validate, num_samples=50, num_threads=4):\n",
    "    \n",
    "    # Randomly search for various combinations of hyperparameters.\n",
    "\n",
    "\n",
    "    for hyperparams in islice(sample_hyperparameters(), num_samples):\n",
    "        num_epochs = hyperparams.pop('num_epochs')\n",
    "\n",
    "        model_tuned_auc = LightFM(**hyperparams)\n",
    "        model_tuned_auc.fit(train_train, epochs=num_epochs, num_threads=num_threads)\n",
    "\n",
    "        ranking_score = auc_score(model_tuned_auc, \n",
    "                                  validate, train_interactions=train_train, \n",
    "                                  num_threads=num_threads).mean()\n",
    "\n",
    "        hyperparams['num_epochs'] = num_epochs\n",
    "        \n",
    "        yield (ranking_score, hyperparams, model_tuned_auc)\n",
    "        # Returns: generator of (auc score, hyperparameter dict, fitted model)\n",
    "\n",
    "\n",
    "\n",
    "\n",
    "\n",
    "start_time = time.time()\n",
    "\n",
    "if __name__ == '__main__':\n",
    "    \n",
    "    (ranking_score, hyperparams, model_tuned_auc) = max(random_search_auc(train_train, validate), \n",
    "                                                        key=lambda x: x[0])\n",
    "\n",
    "    print('Best ranking score {} at {}'.format(ranking_score, hyperparams))\n",
    "    print('Calculated in: ', round((time.time()-start_time)/60, 2), \" minutes\")"
   ]
  },
  {
   "cell_type": "markdown",
   "metadata": {},
   "source": [
    "# AUC focused model - Training"
   ]
  },
  {
   "cell_type": "code",
   "execution_count": 88,
   "metadata": {},
   "outputs": [
    {
     "name": "stdout",
     "output_type": "stream",
     "text": [
      "Model trained in:  0.52  minutes\n"
     ]
    }
   ],
   "source": [
    "# Use the tuned model.\n",
    "\n",
    "start_time = time.time()\n",
    "\n",
    "model_tuned_auc.fit(train,\n",
    "                    item_features=item_features,\n",
    "                    epochs=hyperparams['num_epochs'],\n",
    "                    num_threads=4)\n",
    "\n",
    "print('Model trained in: ', round((time.time()-start_time)/60, 2), \" minutes\")"
   ]
  },
  {
   "cell_type": "markdown",
   "metadata": {},
   "source": [
    "# AUC focused model - Evaluation"
   ]
  },
  {
   "cell_type": "code",
   "execution_count": 89,
   "metadata": {
    "scrolled": true
   },
   "outputs": [
    {
     "name": "stdout",
     "output_type": "stream",
     "text": [
      "Train AUC score:  0.9852436\n",
      "Calculated in:  0.13  minutes\n"
     ]
    }
   ],
   "source": [
    "start_time = time.time()\n",
    "\n",
    "train_auc = auc_score(model_tuned_auc, \n",
    "                      train, \n",
    "                      item_features=item_features, \n",
    "                      num_threads=4).mean()\n",
    "\n",
    "print('Train AUC score: ', train_auc)\n",
    "print('Calculated in: ', round((time.time()-start_time)/60, 2), \" minutes\")"
   ]
  },
  {
   "cell_type": "code",
   "execution_count": 90,
   "metadata": {},
   "outputs": [
    {
     "name": "stdout",
     "output_type": "stream",
     "text": [
      "Test AUC score:  0.8262\n",
      "Calculated in:  0.05  minutes\n"
     ]
    }
   ],
   "source": [
    "start_time = time.time()\n",
    "\n",
    "# Train interactions will be also passed to avoid model re-recommending items to users.\n",
    "test_auc = auc_score(model_tuned_auc,\n",
    "                     test, \n",
    "                     item_features=item_features, \n",
    "                     train_interactions = train, \n",
    "                     num_threads=4).mean()\n",
    "\n",
    "print('Test AUC score: ', test_auc)\n",
    "print('Calculated in: ', round((time.time()-start_time)/60, 2), \" minutes\")"
   ]
  },
  {
   "cell_type": "code",
   "execution_count": 91,
   "metadata": {},
   "outputs": [],
   "source": [
    "# Visualize how the precision changes depending on parameter 'k'.\n",
    "\n",
    "def k_vis_precision(model, train, test, item_features, epochs):\n",
    "    \n",
    "    stats = pd.DataFrame(columns = ['@k', 'train_precision', 'test_precision', 'runtime_min'])\n",
    "    \n",
    "    model.fit(train,\n",
    "              item_features=item_features,\n",
    "              epochs=epochs, \n",
    "              num_threads=4)  \n",
    "    \n",
    "    total_runtime_min = 0\n",
    "    \n",
    "    for k in range(1,51):\n",
    "        \n",
    "        start_time = time.time()\n",
    "        \n",
    "        \n",
    "        train_precision = precision_at_k(model, \n",
    "                                         train,\n",
    "                                         item_features=item_features, \n",
    "                                         num_threads=4, \n",
    "                                         k=k).mean()\n",
    "\n",
    "        test_precision = precision_at_k(model, \n",
    "                                        test,\n",
    "                                        item_features=item_features, \n",
    "                                        train_interactions = train, \n",
    "                                        num_threads=4, \n",
    "                                        k=k).mean()\n",
    "\n",
    "        runtime_min = round((time.time()-start_time)/60, 6)\n",
    "        total_runtime_min += runtime_min\n",
    "        \n",
    "        stats = stats.append({\n",
    "            '@k': int(k), \n",
    "            'train_precision': float(train_precision), \n",
    "            'test_precision': float(test_precision),\n",
    "            'runtime_min': float(runtime_min)},\n",
    "            ignore_index=True)\n",
    "        \n",
    "    \n",
    "    import matplotlib.pyplot as plt\n",
    "    figure, axis = plt.subplots()\n",
    "    figure.suptitle('Precision VS k')\n",
    "    axis.plot(stats['@k'], stats['train_precision'], label='train')\n",
    "    axis.plot(stats['@k'], stats['test_precision'], label='test')\n",
    "    axis.set_xlabel('@k')\n",
    "    axis.set_ylabel('Precision')\n",
    "    axis.legend()\n",
    "    \n",
    "    return(figure, stats, total_runtime_min)"
   ]
  },
  {
   "cell_type": "code",
   "execution_count": 92,
   "metadata": {},
   "outputs": [
    {
     "name": "stdout",
     "output_type": "stream",
     "text": [
      "Calculated in:  9.93  minutes\n"
     ]
    },
    {
     "data": {
      "image/png": "[encoded data removed]",
      "text/plain": [
       "<Figure size 432x288 with 1 Axes>"
      ]
     },
     "metadata": {
      "needs_background": "light"
     },
     "output_type": "display_data"
    }
   ],
   "source": [
    "start_time = time.time()\n",
    "\n",
    "k_vis_precision_output = k_vis_precision(model_tuned_auc, \n",
    "                                         train, test, \n",
    "                                         item_features, \n",
    "                                         epochs=hyperparams['num_epochs'])\n",
    "\n",
    "print('Calculated in: ', round((time.time()-start_time)/60, 2), \" minutes\")"
   ]
  },
  {
   "cell_type": "code",
   "execution_count": 93,
   "metadata": {},
   "outputs": [
    {
     "data": {
      "text/plain": [
       "<matplotlib.legend.Legend at 0x7fc655f65dd0>"
      ]
     },
     "execution_count": 93,
     "metadata": {},
     "output_type": "execute_result"
    },
    {
     "data": {
      "image/png": "[encoded data removed]",
      "text/plain": [
       "<Figure size 432x288 with 1 Axes>"
      ]
     },
     "metadata": {
      "needs_background": "light"
     },
     "output_type": "display_data"
    }
   ],
   "source": [
    "# Plot test precision separately to have a closer look at behaviour.\n",
    "\n",
    "figure, axis = plt.subplots()\n",
    "figure.suptitle('Precision VS k')\n",
    "axis.plot(k_vis_precision_output[1]['@k'], k_vis_precision_output[1]['test_precision'], label='test',color='orange')\n",
    "axis.set_xlabel('@k')\n",
    "axis.set_ylabel('Precision')\n",
    "axis.legend()"
   ]
  },
  {
   "cell_type": "code",
   "execution_count": 94,
   "metadata": {},
   "outputs": [
    {
     "data": {
      "text/html": [
       "<div>\n",
       "<style scoped>\n",
       "    .dataframe tbody tr th:only-of-type {\n",
       "        vertical-align: middle;\n",
       "    }\n",
       "\n",
       "    .dataframe tbody tr th {\n",
       "        vertical-align: top;\n",
       "    }\n",
       "\n",
       "    .dataframe thead th {\n",
       "        text-align: right;\n",
       "    }\n",
       "</style>\n",
       "<table border=\"1\" class=\"dataframe\">\n",
       "  <thead>\n",
       "    <tr style=\"text-align: right;\">\n",
       "      <th></th>\n",
       "      <th>@k</th>\n",
       "      <th>train_precision</th>\n",
       "      <th>test_precision</th>\n",
       "      <th>runtime_min</th>\n",
       "    </tr>\n",
       "  </thead>\n",
       "  <tbody>\n",
       "    <tr>\n",
       "      <td>0</td>\n",
       "      <td>1.0</td>\n",
       "      <td>0.175745</td>\n",
       "      <td>0.008000</td>\n",
       "      <td>0.193851</td>\n",
       "    </tr>\n",
       "    <tr>\n",
       "      <td>1</td>\n",
       "      <td>2.0</td>\n",
       "      <td>0.155190</td>\n",
       "      <td>0.004000</td>\n",
       "      <td>0.193722</td>\n",
       "    </tr>\n",
       "    <tr>\n",
       "      <td>2</td>\n",
       "      <td>3.0</td>\n",
       "      <td>0.143542</td>\n",
       "      <td>0.006222</td>\n",
       "      <td>0.190439</td>\n",
       "    </tr>\n",
       "    <tr>\n",
       "      <td>3</td>\n",
       "      <td>4.0</td>\n",
       "      <td>0.134892</td>\n",
       "      <td>0.006667</td>\n",
       "      <td>0.185541</td>\n",
       "    </tr>\n",
       "    <tr>\n",
       "      <td>4</td>\n",
       "      <td>5.0</td>\n",
       "      <td>0.128674</td>\n",
       "      <td>0.008533</td>\n",
       "      <td>0.180754</td>\n",
       "    </tr>\n",
       "    <tr>\n",
       "      <td>5</td>\n",
       "      <td>6.0</td>\n",
       "      <td>0.122816</td>\n",
       "      <td>0.008444</td>\n",
       "      <td>0.181357</td>\n",
       "    </tr>\n",
       "    <tr>\n",
       "      <td>6</td>\n",
       "      <td>7.0</td>\n",
       "      <td>0.118485</td>\n",
       "      <td>0.008762</td>\n",
       "      <td>0.181826</td>\n",
       "    </tr>\n",
       "    <tr>\n",
       "      <td>7</td>\n",
       "      <td>8.0</td>\n",
       "      <td>0.114723</td>\n",
       "      <td>0.008333</td>\n",
       "      <td>0.185222</td>\n",
       "    </tr>\n",
       "    <tr>\n",
       "      <td>8</td>\n",
       "      <td>9.0</td>\n",
       "      <td>0.112710</td>\n",
       "      <td>0.008000</td>\n",
       "      <td>0.184125</td>\n",
       "    </tr>\n",
       "    <tr>\n",
       "      <td>9</td>\n",
       "      <td>10.0</td>\n",
       "      <td>0.110380</td>\n",
       "      <td>0.008000</td>\n",
       "      <td>0.185010</td>\n",
       "    </tr>\n",
       "    <tr>\n",
       "      <td>10</td>\n",
       "      <td>11.0</td>\n",
       "      <td>0.107633</td>\n",
       "      <td>0.007515</td>\n",
       "      <td>0.181298</td>\n",
       "    </tr>\n",
       "    <tr>\n",
       "      <td>11</td>\n",
       "      <td>12.0</td>\n",
       "      <td>0.105259</td>\n",
       "      <td>0.008000</td>\n",
       "      <td>0.189701</td>\n",
       "    </tr>\n",
       "    <tr>\n",
       "      <td>12</td>\n",
       "      <td>13.0</td>\n",
       "      <td>0.102775</td>\n",
       "      <td>0.007385</td>\n",
       "      <td>0.190931</td>\n",
       "    </tr>\n",
       "    <tr>\n",
       "      <td>13</td>\n",
       "      <td>14.0</td>\n",
       "      <td>0.100719</td>\n",
       "      <td>0.007048</td>\n",
       "      <td>0.187831</td>\n",
       "    </tr>\n",
       "    <tr>\n",
       "      <td>14</td>\n",
       "      <td>15.0</td>\n",
       "      <td>0.099075</td>\n",
       "      <td>0.007111</td>\n",
       "      <td>0.183312</td>\n",
       "    </tr>\n",
       "    <tr>\n",
       "      <td>15</td>\n",
       "      <td>16.0</td>\n",
       "      <td>0.097636</td>\n",
       "      <td>0.007167</td>\n",
       "      <td>0.181662</td>\n",
       "    </tr>\n",
       "    <tr>\n",
       "      <td>16</td>\n",
       "      <td>17.0</td>\n",
       "      <td>0.096971</td>\n",
       "      <td>0.007373</td>\n",
       "      <td>0.182126</td>\n",
       "    </tr>\n",
       "    <tr>\n",
       "      <td>17</td>\n",
       "      <td>18.0</td>\n",
       "      <td>0.095010</td>\n",
       "      <td>0.007407</td>\n",
       "      <td>0.184046</td>\n",
       "    </tr>\n",
       "    <tr>\n",
       "      <td>18</td>\n",
       "      <td>19.0</td>\n",
       "      <td>0.093525</td>\n",
       "      <td>0.007579</td>\n",
       "      <td>0.182490</td>\n",
       "    </tr>\n",
       "    <tr>\n",
       "      <td>19</td>\n",
       "      <td>20.0</td>\n",
       "      <td>0.092240</td>\n",
       "      <td>0.007600</td>\n",
       "      <td>0.182681</td>\n",
       "    </tr>\n",
       "    <tr>\n",
       "      <td>20</td>\n",
       "      <td>21.0</td>\n",
       "      <td>0.090638</td>\n",
       "      <td>0.007365</td>\n",
       "      <td>0.185807</td>\n",
       "    </tr>\n",
       "    <tr>\n",
       "      <td>21</td>\n",
       "      <td>22.0</td>\n",
       "      <td>0.089321</td>\n",
       "      <td>0.007152</td>\n",
       "      <td>0.196070</td>\n",
       "    </tr>\n",
       "    <tr>\n",
       "      <td>22</td>\n",
       "      <td>23.0</td>\n",
       "      <td>0.088118</td>\n",
       "      <td>0.006957</td>\n",
       "      <td>0.195052</td>\n",
       "    </tr>\n",
       "    <tr>\n",
       "      <td>23</td>\n",
       "      <td>24.0</td>\n",
       "      <td>0.087102</td>\n",
       "      <td>0.006778</td>\n",
       "      <td>0.185637</td>\n",
       "    </tr>\n",
       "    <tr>\n",
       "      <td>24</td>\n",
       "      <td>25.0</td>\n",
       "      <td>0.086454</td>\n",
       "      <td>0.006613</td>\n",
       "      <td>0.188967</td>\n",
       "    </tr>\n",
       "    <tr>\n",
       "      <td>25</td>\n",
       "      <td>26.0</td>\n",
       "      <td>0.085382</td>\n",
       "      <td>0.006564</td>\n",
       "      <td>0.186321</td>\n",
       "    </tr>\n",
       "    <tr>\n",
       "      <td>26</td>\n",
       "      <td>27.0</td>\n",
       "      <td>0.084161</td>\n",
       "      <td>0.006519</td>\n",
       "      <td>0.183209</td>\n",
       "    </tr>\n",
       "    <tr>\n",
       "      <td>27</td>\n",
       "      <td>28.0</td>\n",
       "      <td>0.083541</td>\n",
       "      <td>0.006476</td>\n",
       "      <td>0.188943</td>\n",
       "    </tr>\n",
       "    <tr>\n",
       "      <td>28</td>\n",
       "      <td>29.0</td>\n",
       "      <td>0.082397</td>\n",
       "      <td>0.006437</td>\n",
       "      <td>0.190934</td>\n",
       "    </tr>\n",
       "    <tr>\n",
       "      <td>29</td>\n",
       "      <td>30.0</td>\n",
       "      <td>0.081466</td>\n",
       "      <td>0.006667</td>\n",
       "      <td>0.190243</td>\n",
       "    </tr>\n",
       "    <tr>\n",
       "      <td>30</td>\n",
       "      <td>31.0</td>\n",
       "      <td>0.080595</td>\n",
       "      <td>0.006452</td>\n",
       "      <td>0.189220</td>\n",
       "    </tr>\n",
       "    <tr>\n",
       "      <td>31</td>\n",
       "      <td>32.0</td>\n",
       "      <td>0.079972</td>\n",
       "      <td>0.006250</td>\n",
       "      <td>0.184453</td>\n",
       "    </tr>\n",
       "    <tr>\n",
       "      <td>32</td>\n",
       "      <td>33.0</td>\n",
       "      <td>0.079510</td>\n",
       "      <td>0.006141</td>\n",
       "      <td>0.188648</td>\n",
       "    </tr>\n",
       "    <tr>\n",
       "      <td>33</td>\n",
       "      <td>34.0</td>\n",
       "      <td>0.078774</td>\n",
       "      <td>0.006196</td>\n",
       "      <td>0.186561</td>\n",
       "    </tr>\n",
       "    <tr>\n",
       "      <td>34</td>\n",
       "      <td>35.0</td>\n",
       "      <td>0.077933</td>\n",
       "      <td>0.006095</td>\n",
       "      <td>0.189004</td>\n",
       "    </tr>\n",
       "    <tr>\n",
       "      <td>35</td>\n",
       "      <td>36.0</td>\n",
       "      <td>0.077452</td>\n",
       "      <td>0.006444</td>\n",
       "      <td>0.186148</td>\n",
       "    </tr>\n",
       "    <tr>\n",
       "      <td>36</td>\n",
       "      <td>37.0</td>\n",
       "      <td>0.076748</td>\n",
       "      <td>0.006342</td>\n",
       "      <td>0.184087</td>\n",
       "    </tr>\n",
       "    <tr>\n",
       "      <td>37</td>\n",
       "      <td>38.0</td>\n",
       "      <td>0.076108</td>\n",
       "      <td>0.006246</td>\n",
       "      <td>0.184786</td>\n",
       "    </tr>\n",
       "    <tr>\n",
       "      <td>38</td>\n",
       "      <td>39.0</td>\n",
       "      <td>0.075421</td>\n",
       "      <td>0.006154</td>\n",
       "      <td>0.186812</td>\n",
       "    </tr>\n",
       "    <tr>\n",
       "      <td>39</td>\n",
       "      <td>40.0</td>\n",
       "      <td>0.074666</td>\n",
       "      <td>0.006133</td>\n",
       "      <td>0.183107</td>\n",
       "    </tr>\n",
       "    <tr>\n",
       "      <td>40</td>\n",
       "      <td>41.0</td>\n",
       "      <td>0.074274</td>\n",
       "      <td>0.006049</td>\n",
       "      <td>0.181606</td>\n",
       "    </tr>\n",
       "    <tr>\n",
       "      <td>41</td>\n",
       "      <td>42.0</td>\n",
       "      <td>0.073729</td>\n",
       "      <td>0.005968</td>\n",
       "      <td>0.186117</td>\n",
       "    </tr>\n",
       "    <tr>\n",
       "      <td>42</td>\n",
       "      <td>43.0</td>\n",
       "      <td>0.073329</td>\n",
       "      <td>0.005953</td>\n",
       "      <td>0.184532</td>\n",
       "    </tr>\n",
       "    <tr>\n",
       "      <td>43</td>\n",
       "      <td>44.0</td>\n",
       "      <td>0.072830</td>\n",
       "      <td>0.005939</td>\n",
       "      <td>0.186741</td>\n",
       "    </tr>\n",
       "    <tr>\n",
       "      <td>44</td>\n",
       "      <td>45.0</td>\n",
       "      <td>0.072331</td>\n",
       "      <td>0.005807</td>\n",
       "      <td>0.187691</td>\n",
       "    </tr>\n",
       "    <tr>\n",
       "      <td>45</td>\n",
       "      <td>46.0</td>\n",
       "      <td>0.071965</td>\n",
       "      <td>0.005681</td>\n",
       "      <td>0.183675</td>\n",
       "    </tr>\n",
       "    <tr>\n",
       "      <td>46</td>\n",
       "      <td>47.0</td>\n",
       "      <td>0.071549</td>\n",
       "      <td>0.005617</td>\n",
       "      <td>0.183923</td>\n",
       "    </tr>\n",
       "    <tr>\n",
       "      <td>47</td>\n",
       "      <td>48.0</td>\n",
       "      <td>0.071150</td>\n",
       "      <td>0.005667</td>\n",
       "      <td>0.194274</td>\n",
       "    </tr>\n",
       "    <tr>\n",
       "      <td>48</td>\n",
       "      <td>49.0</td>\n",
       "      <td>0.070810</td>\n",
       "      <td>0.005714</td>\n",
       "      <td>0.200980</td>\n",
       "    </tr>\n",
       "    <tr>\n",
       "      <td>49</td>\n",
       "      <td>50.0</td>\n",
       "      <td>0.070462</td>\n",
       "      <td>0.005653</td>\n",
       "      <td>0.191021</td>\n",
       "    </tr>\n",
       "  </tbody>\n",
       "</table>\n",
       "</div>"
      ],
      "text/plain": [
       "      @k  train_precision  test_precision  runtime_min\n",
       "0    1.0         0.175745        0.008000     0.193851\n",
       "1    2.0         0.155190        0.004000     0.193722\n",
       "2    3.0         0.143542        0.006222     0.190439\n",
       "3    4.0         0.134892        0.006667     0.185541\n",
       "4    5.0         0.128674        0.008533     0.180754\n",
       "5    6.0         0.122816        0.008444     0.181357\n",
       "6    7.0         0.118485        0.008762     0.181826\n",
       "7    8.0         0.114723        0.008333     0.185222\n",
       "8    9.0         0.112710        0.008000     0.184125\n",
       "9   10.0         0.110380        0.008000     0.185010\n",
       "10  11.0         0.107633        0.007515     0.181298\n",
       "11  12.0         0.105259        0.008000     0.189701\n",
       "12  13.0         0.102775        0.007385     0.190931\n",
       "13  14.0         0.100719        0.007048     0.187831\n",
       "14  15.0         0.099075        0.007111     0.183312\n",
       "15  16.0         0.097636        0.007167     0.181662\n",
       "16  17.0         0.096971        0.007373     0.182126\n",
       "17  18.0         0.095010        0.007407     0.184046\n",
       "18  19.0         0.093525        0.007579     0.182490\n",
       "19  20.0         0.092240        0.007600     0.182681\n",
       "20  21.0         0.090638        0.007365     0.185807\n",
       "21  22.0         0.089321        0.007152     0.196070\n",
       "22  23.0         0.088118        0.006957     0.195052\n",
       "23  24.0         0.087102        0.006778     0.185637\n",
       "24  25.0         0.086454        0.006613     0.188967\n",
       "25  26.0         0.085382        0.006564     0.186321\n",
       "26  27.0         0.084161        0.006519     0.183209\n",
       "27  28.0         0.083541        0.006476     0.188943\n",
       "28  29.0         0.082397        0.006437     0.190934\n",
       "29  30.0         0.081466        0.006667     0.190243\n",
       "30  31.0         0.080595        0.006452     0.189220\n",
       "31  32.0         0.079972        0.006250     0.184453\n",
       "32  33.0         0.079510        0.006141     0.188648\n",
       "33  34.0         0.078774        0.006196     0.186561\n",
       "34  35.0         0.077933        0.006095     0.189004\n",
       "35  36.0         0.077452        0.006444     0.186148\n",
       "36  37.0         0.076748        0.006342     0.184087\n",
       "37  38.0         0.076108        0.006246     0.184786\n",
       "38  39.0         0.075421        0.006154     0.186812\n",
       "39  40.0         0.074666        0.006133     0.183107\n",
       "40  41.0         0.074274        0.006049     0.181606\n",
       "41  42.0         0.073729        0.005968     0.186117\n",
       "42  43.0         0.073329        0.005953     0.184532\n",
       "43  44.0         0.072830        0.005939     0.186741\n",
       "44  45.0         0.072331        0.005807     0.187691\n",
       "45  46.0         0.071965        0.005681     0.183675\n",
       "46  47.0         0.071549        0.005617     0.183923\n",
       "47  48.0         0.071150        0.005667     0.194274\n",
       "48  49.0         0.070810        0.005714     0.200980\n",
       "49  50.0         0.070462        0.005653     0.191021"
      ]
     },
     "execution_count": 94,
     "metadata": {},
     "output_type": "execute_result"
    }
   ],
   "source": [
    "k_vis_precision_output[1]"
   ]
  },
  {
   "cell_type": "code",
   "execution_count": 95,
   "metadata": {},
   "outputs": [
    {
     "data": {
      "text/plain": [
       "9.342493999999997"
      ]
     },
     "execution_count": 95,
     "metadata": {},
     "output_type": "execute_result"
    }
   ],
   "source": [
    "k_vis_precision_output[2]"
   ]
  },
  {
   "cell_type": "code",
   "execution_count": 111,
   "metadata": {},
   "outputs": [],
   "source": [
    "# Conclusion:\n",
    "# The highest precision is at k=6, it is significantly lower than original hybrid model."
   ]
  },
  {
   "cell_type": "markdown",
   "metadata": {},
   "source": [
    "# Precision focused model - Tuning"
   ]
  },
  {
   "cell_type": "code",
   "execution_count": 96,
   "metadata": {},
   "outputs": [
    {
     "name": "stdout",
     "output_type": "stream",
     "text": [
      "Best presicion ranking score 0.010676156729459763 at {'no_components': 76, 'learning_schedule': 'adadelta', 'loss': 'bpr', 'k': 2, 'n': 1, 'learning_rate': 0.013426356420648235, 'item_alpha': 9.231173567505199e-11, 'max_sampled': 20, 'num_epochs': 25}\n",
      "Calculated in:  0.27  minutes\n"
     ]
    }
   ],
   "source": [
    "# Improving precision_at_k metric.\n",
    "\n",
    "\n",
    "\n",
    "def random_search_precision(train_train, validate, num_samples=10, k=k, num_threads=4):\n",
    "    \n",
    "    # Randomly search for various combinations of hyperparameters.\n",
    "\n",
    "\n",
    "    for hyperparams in islice(sample_hyperparameters(), num_samples):\n",
    "        num_epochs = hyperparams.pop('num_epochs')\n",
    "\n",
    "        model_tuned_precis = LightFM(**hyperparams)\n",
    "        model_tuned_precis.fit(train_train, epochs=num_epochs, num_threads=num_threads)\n",
    "\n",
    "        ranking_score = precision_at_k(model_tuned_precis, validate, train_interactions=train_train, \n",
    "                                       num_threads=num_threads, \n",
    "                                       k=k).mean()\n",
    "\n",
    "        hyperparams['num_epochs'] = num_epochs\n",
    "        \n",
    "        yield (ranking_score, hyperparams, model_tuned_precis)\n",
    "        # Returns: generator of (precision_at_k, hyperparameter dict, fitted model)\n",
    "\n",
    "\n",
    "\n",
    "\n",
    "\n",
    "start_time = time.time()\n",
    "\n",
    "if __name__ == '__main__':\n",
    "    \n",
    "    (ranking_score, hyperparams, model_tuned_precis) = max(random_search_precision(train_train, validate), \n",
    "                                                           key=lambda x: x[0])\n",
    "\n",
    "    print('Best presicion ranking score {} at {}'.format(ranking_score, hyperparams))\n",
    "    print('Calculated in: ', round((time.time()-start_time)/60, 2), \" minutes\")"
   ]
  },
  {
   "cell_type": "markdown",
   "metadata": {},
   "source": [
    "# Precision focused model - Training"
   ]
  },
  {
   "cell_type": "code",
   "execution_count": 97,
   "metadata": {},
   "outputs": [
    {
     "name": "stdout",
     "output_type": "stream",
     "text": [
      "Model trained in:  0.24  minutes\n"
     ]
    }
   ],
   "source": [
    "# Use the tuned model.\n",
    "\n",
    "start_time = time.time()\n",
    "\n",
    "model_tuned_precis.fit(train, \n",
    "                       item_features=item_features, \n",
    "                       epochs=hyperparams['num_epochs'], \n",
    "                       num_threads=4)\n",
    "\n",
    "print('Model trained in: ', round((time.time()-start_time)/60, 2), \" minutes\")"
   ]
  },
  {
   "cell_type": "code",
   "execution_count": 98,
   "metadata": {},
   "outputs": [],
   "source": [
    "# Tuned model evaluation (auc_score, precision_at_k)"
   ]
  },
  {
   "cell_type": "code",
   "execution_count": 99,
   "metadata": {
    "scrolled": true
   },
   "outputs": [
    {
     "name": "stdout",
     "output_type": "stream",
     "text": [
      "Train AUC score:  0.95235443\n",
      "Calculated in:  0.12  minutes\n"
     ]
    }
   ],
   "source": [
    "start_time = time.time()\n",
    "\n",
    "train_auc = auc_score(model_tuned_precis, \n",
    "                      train, \n",
    "                      item_features=item_features, \n",
    "                      num_threads=4).mean()\n",
    "\n",
    "print('Train AUC score: ', train_auc)\n",
    "print('Calculated in: ', round((time.time()-start_time)/60, 2), \" minutes\")"
   ]
  },
  {
   "cell_type": "code",
   "execution_count": 100,
   "metadata": {},
   "outputs": [
    {
     "name": "stdout",
     "output_type": "stream",
     "text": [
      "Test AUC score:  0.8135345\n",
      "Calculated in:  0.05  minutes\n"
     ]
    }
   ],
   "source": [
    "start_time = time.time()\n",
    "\n",
    "# Train interactions fill be also passed to avoid model re-recommending items to users.\n",
    "test_auc = auc_score(model_tuned_precis,\n",
    "                     test, \n",
    "                     item_features=item_features, \n",
    "                     train_interactions = train, \n",
    "                     num_threads=4).mean()\n",
    "\n",
    "print('Test AUC score: ', test_auc)\n",
    "print('Calculated in: ', round((time.time()-start_time)/60, 2), \" minutes\")"
   ]
  },
  {
   "cell_type": "code",
   "execution_count": 101,
   "metadata": {},
   "outputs": [
    {
     "name": "stdout",
     "output_type": "stream",
     "text": [
      "Calculated in:  8.41  minutes\n"
     ]
    },
    {
     "data": {
      "image/png": "[encoded data removed]",
      "text/plain": [
       "<Figure size 432x288 with 1 Axes>"
      ]
     },
     "metadata": {
      "needs_background": "light"
     },
     "output_type": "display_data"
    }
   ],
   "source": [
    "# Visualize how the precision changes depending on parameter 'k'.\n",
    "\n",
    "start_time = time.time()\n",
    "\n",
    "k_vis_precision_output = k_vis_precision(model_tuned_precis, \n",
    "                                         train, test, item_features, \n",
    "                                         epochs=hyperparams['num_epochs'])\n",
    "\n",
    "print('Calculated in: ', round((time.time()-start_time)/60, 2), \" minutes\")"
   ]
  },
  {
   "cell_type": "code",
   "execution_count": 102,
   "metadata": {},
   "outputs": [
    {
     "data": {
      "image/png": "[encoded data removed]",
      "text/plain": [
       "<Figure size 432x288 with 1 Axes>"
      ]
     },
     "execution_count": 102,
     "metadata": {},
     "output_type": "execute_result"
    }
   ],
   "source": [
    "k_vis_precision_output[0]"
   ]
  },
  {
   "cell_type": "code",
   "execution_count": 103,
   "metadata": {},
   "outputs": [
    {
     "data": {
      "text/plain": [
       "<matplotlib.legend.Legend at 0x7fc656854710>"
      ]
     },
     "execution_count": 103,
     "metadata": {},
     "output_type": "execute_result"
    },
    {
     "data": {
      "image/png": "[encoded data removed]",
      "text/plain": [
       "<Figure size 432x288 with 1 Axes>"
      ]
     },
     "metadata": {
      "needs_background": "light"
     },
     "output_type": "display_data"
    }
   ],
   "source": [
    "# Plot test precision separately to have a closer look at behaviour.\n",
    "\n",
    "figure, axis = plt.subplots()\n",
    "figure.suptitle('Precision VS k')\n",
    "axis.plot(k_vis_precision_output[1]['@k'], k_vis_precision_output[1]['test_precision'], label='test',color='orange')\n",
    "axis.set_xlabel('@k')\n",
    "axis.set_ylabel('Precision')\n",
    "axis.legend()"
   ]
  },
  {
   "cell_type": "code",
   "execution_count": 104,
   "metadata": {},
   "outputs": [
    {
     "data": {
      "text/html": [
       "<div>\n",
       "<style scoped>\n",
       "    .dataframe tbody tr th:only-of-type {\n",
       "        vertical-align: middle;\n",
       "    }\n",
       "\n",
       "    .dataframe tbody tr th {\n",
       "        vertical-align: top;\n",
       "    }\n",
       "\n",
       "    .dataframe thead th {\n",
       "        text-align: right;\n",
       "    }\n",
       "</style>\n",
       "<table border=\"1\" class=\"dataframe\">\n",
       "  <thead>\n",
       "    <tr style=\"text-align: right;\">\n",
       "      <th></th>\n",
       "      <th>@k</th>\n",
       "      <th>train_precision</th>\n",
       "      <th>test_precision</th>\n",
       "      <th>runtime_min</th>\n",
       "    </tr>\n",
       "  </thead>\n",
       "  <tbody>\n",
       "    <tr>\n",
       "      <td>0</td>\n",
       "      <td>1.0</td>\n",
       "      <td>0.076053</td>\n",
       "      <td>0.013333</td>\n",
       "      <td>0.160791</td>\n",
       "    </tr>\n",
       "    <tr>\n",
       "      <td>1</td>\n",
       "      <td>2.0</td>\n",
       "      <td>0.076567</td>\n",
       "      <td>0.012000</td>\n",
       "      <td>0.160422</td>\n",
       "    </tr>\n",
       "    <tr>\n",
       "      <td>2</td>\n",
       "      <td>3.0</td>\n",
       "      <td>0.072285</td>\n",
       "      <td>0.011556</td>\n",
       "      <td>0.159492</td>\n",
       "    </tr>\n",
       "    <tr>\n",
       "      <td>3</td>\n",
       "      <td>4.0</td>\n",
       "      <td>0.069373</td>\n",
       "      <td>0.009333</td>\n",
       "      <td>0.165347</td>\n",
       "    </tr>\n",
       "    <tr>\n",
       "      <td>4</td>\n",
       "      <td>5.0</td>\n",
       "      <td>0.064337</td>\n",
       "      <td>0.009600</td>\n",
       "      <td>0.167225</td>\n",
       "    </tr>\n",
       "    <tr>\n",
       "      <td>5</td>\n",
       "      <td>6.0</td>\n",
       "      <td>0.062521</td>\n",
       "      <td>0.008000</td>\n",
       "      <td>0.160866</td>\n",
       "    </tr>\n",
       "    <tr>\n",
       "      <td>6</td>\n",
       "      <td>7.0</td>\n",
       "      <td>0.060050</td>\n",
       "      <td>0.007619</td>\n",
       "      <td>0.163859</td>\n",
       "    </tr>\n",
       "    <tr>\n",
       "      <td>7</td>\n",
       "      <td>8.0</td>\n",
       "      <td>0.057554</td>\n",
       "      <td>0.006667</td>\n",
       "      <td>0.168562</td>\n",
       "    </tr>\n",
       "    <tr>\n",
       "      <td>8</td>\n",
       "      <td>9.0</td>\n",
       "      <td>0.055841</td>\n",
       "      <td>0.005926</td>\n",
       "      <td>0.166141</td>\n",
       "    </tr>\n",
       "    <tr>\n",
       "      <td>9</td>\n",
       "      <td>10.0</td>\n",
       "      <td>0.054471</td>\n",
       "      <td>0.006400</td>\n",
       "      <td>0.163257</td>\n",
       "    </tr>\n",
       "    <tr>\n",
       "      <td>10</td>\n",
       "      <td>11.0</td>\n",
       "      <td>0.052789</td>\n",
       "      <td>0.006303</td>\n",
       "      <td>0.162543</td>\n",
       "    </tr>\n",
       "    <tr>\n",
       "      <td>11</td>\n",
       "      <td>12.0</td>\n",
       "      <td>0.051045</td>\n",
       "      <td>0.006667</td>\n",
       "      <td>0.161092</td>\n",
       "    </tr>\n",
       "    <tr>\n",
       "      <td>12</td>\n",
       "      <td>13.0</td>\n",
       "      <td>0.049885</td>\n",
       "      <td>0.006564</td>\n",
       "      <td>0.162574</td>\n",
       "    </tr>\n",
       "    <tr>\n",
       "      <td>13</td>\n",
       "      <td>14.0</td>\n",
       "      <td>0.048745</td>\n",
       "      <td>0.006286</td>\n",
       "      <td>0.162241</td>\n",
       "    </tr>\n",
       "    <tr>\n",
       "      <td>14</td>\n",
       "      <td>15.0</td>\n",
       "      <td>0.047688</td>\n",
       "      <td>0.005867</td>\n",
       "      <td>0.162320</td>\n",
       "    </tr>\n",
       "    <tr>\n",
       "      <td>15</td>\n",
       "      <td>16.0</td>\n",
       "      <td>0.046634</td>\n",
       "      <td>0.005667</td>\n",
       "      <td>0.162955</td>\n",
       "    </tr>\n",
       "    <tr>\n",
       "      <td>16</td>\n",
       "      <td>17.0</td>\n",
       "      <td>0.045765</td>\n",
       "      <td>0.005647</td>\n",
       "      <td>0.162321</td>\n",
       "    </tr>\n",
       "    <tr>\n",
       "      <td>17</td>\n",
       "      <td>18.0</td>\n",
       "      <td>0.044993</td>\n",
       "      <td>0.005481</td>\n",
       "      <td>0.164200</td>\n",
       "    </tr>\n",
       "    <tr>\n",
       "      <td>18</td>\n",
       "      <td>19.0</td>\n",
       "      <td>0.044518</td>\n",
       "      <td>0.005333</td>\n",
       "      <td>0.162401</td>\n",
       "    </tr>\n",
       "    <tr>\n",
       "      <td>19</td>\n",
       "      <td>20.0</td>\n",
       "      <td>0.043834</td>\n",
       "      <td>0.005067</td>\n",
       "      <td>0.162890</td>\n",
       "    </tr>\n",
       "    <tr>\n",
       "      <td>20</td>\n",
       "      <td>21.0</td>\n",
       "      <td>0.043214</td>\n",
       "      <td>0.004825</td>\n",
       "      <td>0.162846</td>\n",
       "    </tr>\n",
       "    <tr>\n",
       "      <td>21</td>\n",
       "      <td>22.0</td>\n",
       "      <td>0.042698</td>\n",
       "      <td>0.004606</td>\n",
       "      <td>0.162843</td>\n",
       "    </tr>\n",
       "    <tr>\n",
       "      <td>22</td>\n",
       "      <td>23.0</td>\n",
       "      <td>0.042182</td>\n",
       "      <td>0.004522</td>\n",
       "      <td>0.162240</td>\n",
       "    </tr>\n",
       "    <tr>\n",
       "      <td>23</td>\n",
       "      <td>24.0</td>\n",
       "      <td>0.041624</td>\n",
       "      <td>0.004444</td>\n",
       "      <td>0.160351</td>\n",
       "    </tr>\n",
       "    <tr>\n",
       "      <td>24</td>\n",
       "      <td>25.0</td>\n",
       "      <td>0.041233</td>\n",
       "      <td>0.004267</td>\n",
       "      <td>0.164201</td>\n",
       "    </tr>\n",
       "    <tr>\n",
       "      <td>25</td>\n",
       "      <td>26.0</td>\n",
       "      <td>0.040794</td>\n",
       "      <td>0.004103</td>\n",
       "      <td>0.164532</td>\n",
       "    </tr>\n",
       "    <tr>\n",
       "      <td>26</td>\n",
       "      <td>27.0</td>\n",
       "      <td>0.040691</td>\n",
       "      <td>0.004247</td>\n",
       "      <td>0.162981</td>\n",
       "    </tr>\n",
       "    <tr>\n",
       "      <td>27</td>\n",
       "      <td>28.0</td>\n",
       "      <td>0.040413</td>\n",
       "      <td>0.004190</td>\n",
       "      <td>0.162566</td>\n",
       "    </tr>\n",
       "    <tr>\n",
       "      <td>28</td>\n",
       "      <td>29.0</td>\n",
       "      <td>0.040082</td>\n",
       "      <td>0.004322</td>\n",
       "      <td>0.170574</td>\n",
       "    </tr>\n",
       "    <tr>\n",
       "      <td>29</td>\n",
       "      <td>30.0</td>\n",
       "      <td>0.039431</td>\n",
       "      <td>0.004533</td>\n",
       "      <td>0.191014</td>\n",
       "    </tr>\n",
       "    <tr>\n",
       "      <td>30</td>\n",
       "      <td>31.0</td>\n",
       "      <td>0.039419</td>\n",
       "      <td>0.004731</td>\n",
       "      <td>0.168400</td>\n",
       "    </tr>\n",
       "    <tr>\n",
       "      <td>31</td>\n",
       "      <td>32.0</td>\n",
       "      <td>0.039022</td>\n",
       "      <td>0.004667</td>\n",
       "      <td>0.164877</td>\n",
       "    </tr>\n",
       "    <tr>\n",
       "      <td>32</td>\n",
       "      <td>33.0</td>\n",
       "      <td>0.038805</td>\n",
       "      <td>0.004606</td>\n",
       "      <td>0.161960</td>\n",
       "    </tr>\n",
       "    <tr>\n",
       "      <td>33</td>\n",
       "      <td>34.0</td>\n",
       "      <td>0.038450</td>\n",
       "      <td>0.004627</td>\n",
       "      <td>0.163744</td>\n",
       "    </tr>\n",
       "    <tr>\n",
       "      <td>34</td>\n",
       "      <td>35.0</td>\n",
       "      <td>0.038203</td>\n",
       "      <td>0.004648</td>\n",
       "      <td>0.163874</td>\n",
       "    </tr>\n",
       "    <tr>\n",
       "      <td>35</td>\n",
       "      <td>36.0</td>\n",
       "      <td>0.037855</td>\n",
       "      <td>0.004593</td>\n",
       "      <td>0.161904</td>\n",
       "    </tr>\n",
       "    <tr>\n",
       "      <td>36</td>\n",
       "      <td>37.0</td>\n",
       "      <td>0.037638</td>\n",
       "      <td>0.004613</td>\n",
       "      <td>0.161569</td>\n",
       "    </tr>\n",
       "    <tr>\n",
       "      <td>37</td>\n",
       "      <td>38.0</td>\n",
       "      <td>0.037269</td>\n",
       "      <td>0.004702</td>\n",
       "      <td>0.162507</td>\n",
       "    </tr>\n",
       "    <tr>\n",
       "      <td>38</td>\n",
       "      <td>39.0</td>\n",
       "      <td>0.037104</td>\n",
       "      <td>0.004718</td>\n",
       "      <td>0.161814</td>\n",
       "    </tr>\n",
       "    <tr>\n",
       "      <td>39</td>\n",
       "      <td>40.0</td>\n",
       "      <td>0.036845</td>\n",
       "      <td>0.004733</td>\n",
       "      <td>0.162620</td>\n",
       "    </tr>\n",
       "    <tr>\n",
       "      <td>40</td>\n",
       "      <td>41.0</td>\n",
       "      <td>0.036447</td>\n",
       "      <td>0.004748</td>\n",
       "      <td>0.161305</td>\n",
       "    </tr>\n",
       "    <tr>\n",
       "      <td>41</td>\n",
       "      <td>42.0</td>\n",
       "      <td>0.036191</td>\n",
       "      <td>0.004762</td>\n",
       "      <td>0.162614</td>\n",
       "    </tr>\n",
       "    <tr>\n",
       "      <td>42</td>\n",
       "      <td>43.0</td>\n",
       "      <td>0.036043</td>\n",
       "      <td>0.004651</td>\n",
       "      <td>0.161069</td>\n",
       "    </tr>\n",
       "    <tr>\n",
       "      <td>43</td>\n",
       "      <td>44.0</td>\n",
       "      <td>0.035691</td>\n",
       "      <td>0.004727</td>\n",
       "      <td>0.160064</td>\n",
       "    </tr>\n",
       "    <tr>\n",
       "      <td>44</td>\n",
       "      <td>45.0</td>\n",
       "      <td>0.035743</td>\n",
       "      <td>0.004741</td>\n",
       "      <td>0.159308</td>\n",
       "    </tr>\n",
       "    <tr>\n",
       "      <td>45</td>\n",
       "      <td>46.0</td>\n",
       "      <td>0.035725</td>\n",
       "      <td>0.004638</td>\n",
       "      <td>0.160988</td>\n",
       "    </tr>\n",
       "    <tr>\n",
       "      <td>46</td>\n",
       "      <td>47.0</td>\n",
       "      <td>0.035512</td>\n",
       "      <td>0.004596</td>\n",
       "      <td>0.162837</td>\n",
       "    </tr>\n",
       "    <tr>\n",
       "      <td>47</td>\n",
       "      <td>48.0</td>\n",
       "      <td>0.035222</td>\n",
       "      <td>0.004611</td>\n",
       "      <td>0.162573</td>\n",
       "    </tr>\n",
       "    <tr>\n",
       "      <td>48</td>\n",
       "      <td>49.0</td>\n",
       "      <td>0.034860</td>\n",
       "      <td>0.004571</td>\n",
       "      <td>0.166147</td>\n",
       "    </tr>\n",
       "    <tr>\n",
       "      <td>49</td>\n",
       "      <td>50.0</td>\n",
       "      <td>0.034615</td>\n",
       "      <td>0.004480</td>\n",
       "      <td>0.165609</td>\n",
       "    </tr>\n",
       "  </tbody>\n",
       "</table>\n",
       "</div>"
      ],
      "text/plain": [
       "      @k  train_precision  test_precision  runtime_min\n",
       "0    1.0         0.076053        0.013333     0.160791\n",
       "1    2.0         0.076567        0.012000     0.160422\n",
       "2    3.0         0.072285        0.011556     0.159492\n",
       "3    4.0         0.069373        0.009333     0.165347\n",
       "4    5.0         0.064337        0.009600     0.167225\n",
       "5    6.0         0.062521        0.008000     0.160866\n",
       "6    7.0         0.060050        0.007619     0.163859\n",
       "7    8.0         0.057554        0.006667     0.168562\n",
       "8    9.0         0.055841        0.005926     0.166141\n",
       "9   10.0         0.054471        0.006400     0.163257\n",
       "10  11.0         0.052789        0.006303     0.162543\n",
       "11  12.0         0.051045        0.006667     0.161092\n",
       "12  13.0         0.049885        0.006564     0.162574\n",
       "13  14.0         0.048745        0.006286     0.162241\n",
       "14  15.0         0.047688        0.005867     0.162320\n",
       "15  16.0         0.046634        0.005667     0.162955\n",
       "16  17.0         0.045765        0.005647     0.162321\n",
       "17  18.0         0.044993        0.005481     0.164200\n",
       "18  19.0         0.044518        0.005333     0.162401\n",
       "19  20.0         0.043834        0.005067     0.162890\n",
       "20  21.0         0.043214        0.004825     0.162846\n",
       "21  22.0         0.042698        0.004606     0.162843\n",
       "22  23.0         0.042182        0.004522     0.162240\n",
       "23  24.0         0.041624        0.004444     0.160351\n",
       "24  25.0         0.041233        0.004267     0.164201\n",
       "25  26.0         0.040794        0.004103     0.164532\n",
       "26  27.0         0.040691        0.004247     0.162981\n",
       "27  28.0         0.040413        0.004190     0.162566\n",
       "28  29.0         0.040082        0.004322     0.170574\n",
       "29  30.0         0.039431        0.004533     0.191014\n",
       "30  31.0         0.039419        0.004731     0.168400\n",
       "31  32.0         0.039022        0.004667     0.164877\n",
       "32  33.0         0.038805        0.004606     0.161960\n",
       "33  34.0         0.038450        0.004627     0.163744\n",
       "34  35.0         0.038203        0.004648     0.163874\n",
       "35  36.0         0.037855        0.004593     0.161904\n",
       "36  37.0         0.037638        0.004613     0.161569\n",
       "37  38.0         0.037269        0.004702     0.162507\n",
       "38  39.0         0.037104        0.004718     0.161814\n",
       "39  40.0         0.036845        0.004733     0.162620\n",
       "40  41.0         0.036447        0.004748     0.161305\n",
       "41  42.0         0.036191        0.004762     0.162614\n",
       "42  43.0         0.036043        0.004651     0.161069\n",
       "43  44.0         0.035691        0.004727     0.160064\n",
       "44  45.0         0.035743        0.004741     0.159308\n",
       "45  46.0         0.035725        0.004638     0.160988\n",
       "46  47.0         0.035512        0.004596     0.162837\n",
       "47  48.0         0.035222        0.004611     0.162573\n",
       "48  49.0         0.034860        0.004571     0.166147\n",
       "49  50.0         0.034615        0.004480     0.165609"
      ]
     },
     "execution_count": 104,
     "metadata": {},
     "output_type": "execute_result"
    }
   ],
   "source": [
    "k_vis_precision_output[1]"
   ]
  },
  {
   "cell_type": "markdown",
   "metadata": {},
   "source": [
    "# Conclusion on the Model"
   ]
  },
  {
   "cell_type": "markdown",
   "metadata": {},
   "source": [
    "In production the model should can be evaluated on the recommendations conversion rate and basket value. The big difference is that in production the users will be given the recommendations and will possibly interact with them.\n",
    "\n",
    "Since this project is done in isolated environment, where the test set of users isn't actually getting recommendations, the best possible way to evaluate the model is to see the AUC and precision at k metrics.\n",
    "\n",
    "Item features were successfully used to improve the model performance.\n",
    "\n",
    "The best achieved test AUC is ~0.84, which means that in 84% of the cases randomly selected positive interaction is ranked higher than any randomly selected negative interaction. This metrics determines how well the products are ranked for each particular user.\n",
    "\n",
    "The best achieved test precision is 0.03 at k=3, which means in 3% of the cases the positive interaction is in the top 3 recommended items.\n",
    "\n",
    "Both achieved AUC and precision are comparable to the available web results.\n",
    "\n",
    "Hyperparameter tuning has not led to improvement of both metrics.\n",
    "\n",
    "!!! Add references to papers with relatively the same precision !!!"
   ]
  },
  {
   "cell_type": "code",
   "execution_count": 105,
   "metadata": {},
   "outputs": [],
   "source": [
    "model_best = model_hybrid"
   ]
  },
  {
   "cell_type": "code",
   "execution_count": 112,
   "metadata": {},
   "outputs": [
    {
     "name": "stdout",
     "output_type": "stream",
     "text": [
      "Full code has been run in:  65.18  minutes\n"
     ]
    }
   ],
   "source": [
    "full_cycle_time_end = time.time()\n",
    "\n",
    "    \n",
    "print('Full code has been run in: ', \n",
    "      round((full_cycle_time_end-full_cycle_time_start)/60, 2), \n",
    "      ' minutes')"
   ]
  },
  {
   "cell_type": "markdown",
   "metadata": {},
   "source": [
    "# Recommendations"
   ]
  },
  {
   "cell_type": "markdown",
   "metadata": {},
   "source": [
    "### Develop recommender function returning the list of top items for each user, no bundles."
   ]
  },
  {
   "cell_type": "code",
   "execution_count": 106,
   "metadata": {},
   "outputs": [],
   "source": [
    "# Recommedations algorythm was developed by the author of LightFM package, it is modified for current project.\n",
    "# https://making.lyst.com/lightfm/docs/quickstart.html\n",
    "\n",
    "def recommend(model_trained, dataset, interactions, userids, N):\n",
    "    \n",
    "    '''\n",
    "    model_trained - the trained model to be used for recommendations.\n",
    "    dataset - LightFM Dataset class used to create mapping.\n",
    "    interactions - coo matrix of known positive interactions.\n",
    "    users - list of users for recommendations.\n",
    "    N - top N recommendations to return.\n",
    "    '''\n",
    "\n",
    "    model = model_trained\n",
    "    # Extract user and item mapping from created Dataset class.\n",
    "    # Mapping is stored as tuple of arrays (user id map, user feature map, item id map, item feature map).\n",
    "    # Need to extract arrays with  index 0 and 2.\n",
    "    mapping_users = dataset.mapping()[0]\n",
    "    mapping_items = dataset.mapping()[2]\n",
    "    \n",
    "    output = {}\n",
    "    \n",
    "    for user in userids:\n",
    "        \n",
    "        # Convert user to internal index.\n",
    "        user_internal = mapping_users[user]\n",
    "        \n",
    "        # Extract internal indecies of items whith which user positively interacted in train set.\n",
    "        positive_items_internal = train.tocsr()[user_internal].indices\n",
    "        \n",
    "        # Convert internal item indecies to itemids.\n",
    "        positive_items = [key for key, val in mapping_items.items() if val in positive_items_internal]\n",
    "        \n",
    "        # Make prediction.\n",
    "        scores = model.predict(user_internal, np.arange(len(mapping_items)))\n",
    "        \n",
    "        # Sort the recommended items by descending order of their importance.\n",
    "        # Array has the internal indecies of the items.\n",
    "        recommended_items_internal = np.argsort(-scores)\n",
    "        \n",
    "        # Convert internal item indecies to item ids and return top 10 recommendations.\n",
    "        recommended_items = []\n",
    "        for id_internal in recommended_items_internal[:N]:\n",
    "            for key, value in mapping_items.items():\n",
    "                if id_internal == value:\n",
    "                    recommended_items.append(key)\n",
    "        \n",
    "        # Add user and recommended items to output.\n",
    "        output[user] = recommended_items\n",
    "        \n",
    "    \n",
    "    return(output)        "
   ]
  },
  {
   "cell_type": "raw",
   "metadata": {},
   "source": [
    "### See how the top of recommended items compares to the full range of user positive interactions."
   ]
  },
  {
   "cell_type": "raw",
   "metadata": {},
   "source": [
    "# Make recommendation to the set of users based on the train interactions.\n",
    "selected_users = [566009, 170470, 64931]\n",
    "\n",
    "recommend_products = recommend(model_trained=model_best,\n",
    "                               dataset=dataset, \n",
    "                               interactions=train,\n",
    "                               userids=selected_users, \n",
    "                               N=3)\n",
    "\n",
    "recommend_products"
   ]
  },
  {
   "cell_type": "raw",
   "metadata": {},
   "source": [
    "selected_users_all_inter = df_events.loc[df_events['visitorid'].isin(selected_users)].sort_values(\n",
    "    by=['visitorid'], ascending=True).reset_index(drop=True)"
   ]
  },
  {
   "cell_type": "markdown",
   "metadata": {},
   "source": [
    "### Production use"
   ]
  },
  {
   "cell_type": "markdown",
   "metadata": {},
   "source": [
    "Before making recommendations for production the selected model should be trained on the whole cleaned dataset."
   ]
  },
  {
   "cell_type": "code",
   "execution_count": 148,
   "metadata": {
    "scrolled": false
   },
   "outputs": [
    {
     "name": "stdout",
     "output_type": "stream",
     "text": [
      "Recommendations made in :  0.51  minutes\n"
     ]
    }
   ],
   "source": [
    "# Make recommendation to the set of users based on all interactions.\n",
    "# This mimics the production recommendations based on the all available data after cleaning.\n",
    "\n",
    "start_time = time.time()\n",
    "\n",
    "# Firstly, train/retrain model on the full data.\n",
    "model_production=model_best  # Copy the hyperparameters of the best model.\n",
    "\n",
    "# Number of epochs matches the optimum for hybrid model, selected as best.\n",
    "model_production.fit(production,\n",
    "                     item_features=item_features, \n",
    "                     epochs=NUM_EPOCHS,\n",
    "                     num_threads=4)\n",
    "\n",
    "    \n",
    "print('Trained in : ', round((time.time()-start_time)/60, 2), ' minutes')"
   ]
  },
  {
   "cell_type": "code",
   "execution_count": 150,
   "metadata": {},
   "outputs": [
    {
     "name": "stdout",
     "output_type": "stream",
     "text": [
      "Recommendations made in :  0.001662  minutes\n"
     ]
    }
   ],
   "source": [
    "start_time = time.time()\n",
    "\n",
    "# Select users for to give recommendations.\n",
    "selected_users = [566009, 170470, 64931]\n",
    "\n",
    "# Create recommendations.\n",
    "recommend_products = recommend(model_trained=model_production,\n",
    "                               dataset=dataset, \n",
    "                               interactions=production,\n",
    "                               userids=selected_users,\n",
    "                               N=3)\n",
    "\n",
    "print('Recommendations made in : ', round((time.time()-start_time)/60, 6), ' minutes')"
   ]
  },
  {
   "cell_type": "code",
   "execution_count": 151,
   "metadata": {},
   "outputs": [
    {
     "data": {
      "text/plain": [
       "{566009: [234603, 79544, 247842],\n",
       " 170470: [7732, 369447, 420549],\n",
       " 64931: [240755, 119433, 120262]}"
      ]
     },
     "execution_count": 151,
     "metadata": {},
     "output_type": "execute_result"
    }
   ],
   "source": [
    "recommend_products"
   ]
  },
  {
   "cell_type": "markdown",
   "metadata": {},
   "source": [
    "# Increased basket value - Bundling"
   ]
  },
  {
   "cell_type": "code",
   "execution_count": 152,
   "metadata": {},
   "outputs": [
    {
     "data": {
      "text/plain": [
       "{566009: [(234603, 79544, 247842),\n",
       "  (234603, 79544),\n",
       "  (234603, 247842),\n",
       "  (79544, 247842)],\n",
       " 170470: [(7732, 369447, 420549),\n",
       "  (7732, 369447),\n",
       "  (7732, 420549),\n",
       "  (369447, 420549)],\n",
       " 64931: [(240755, 119433, 120262),\n",
       "  (240755, 119433),\n",
       "  (240755, 120262),\n",
       "  (119433, 120262)]}"
      ]
     },
     "execution_count": 152,
     "metadata": {},
     "output_type": "execute_result"
    }
   ],
   "source": [
    "# Since the item prices are hashed in original dataseta and total number of bundles is 4, \n",
    "# all bundles will be recommended to user with no negative impact on user experience.\n",
    "\n",
    "\n",
    "recommend_products_bundles = {}\n",
    "\n",
    "for user, item in recommend_products.items():\n",
    "    combos = [tuple(recommend_products[user])]\n",
    "    for bundle in combinations(recommend_products[user], 2):\n",
    "        combos.append(bundle)\n",
    "    recommend_products_bundles[user] = combos\n",
    "    \n",
    "recommend_products_bundles"
   ]
  },
  {
   "cell_type": "markdown",
   "metadata": {},
   "source": [
    "# Future work"
   ]
  },
  {
   "cell_type": "markdown",
   "metadata": {},
   "source": [
    "Frequently bought together recommendations."
   ]
  },
  {
   "cell_type": "markdown",
   "metadata": {},
   "source": [
    "Section 6. https://www.kdd.org/exploration_files/19-1-Article3.pdf\n",
    "\n",
    "How to test in production https://ieeexplore.ieee.org/abstract/document/1611624"
   ]
  },
  {
   "cell_type": "code",
   "execution_count": null,
   "metadata": {},
   "outputs": [],
   "source": []
  }
 ],
 "metadata": {
  "kernelspec": {
   "display_name": "Python 3",
   "language": "python",
   "name": "python3"
  },
  "language_info": {
   "codemirror_mode": {
    "name": "ipython",
    "version": 3
   },
   "file_extension": ".py",
   "mimetype": "text/x-python",
   "name": "python",
   "nbconvert_exporter": "python",
   "pygments_lexer": "ipython3",
   "version": "3.7.4"
  }
 },
 "nbformat": 4,
 "nbformat_minor": 2
}
