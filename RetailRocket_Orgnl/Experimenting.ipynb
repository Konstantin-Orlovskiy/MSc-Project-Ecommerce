{
 "cells": [
  {
   "cell_type": "markdown",
   "metadata": {},
   "source": [
    "# Import libraries"
   ]
  },
  {
   "cell_type": "code",
   "execution_count": 1,
   "metadata": {
    "scrolled": true
   },
   "outputs": [
    {
     "name": "stderr",
     "output_type": "stream",
     "text": [
      "/Users/konstantinorlovskiy/opt/anaconda3/lib/python3.7/site-packages/lightfm/_lightfm_fast.py:9: UserWarning: LightFM was compiled without OpenMP support. Only a single thread will be used.\n",
      "  warnings.warn('LightFM was compiled without OpenMP support. '\n"
     ]
    }
   ],
   "source": [
    "import numpy as np # linear algebra\n",
    "import pandas as pd # data processing, CSV file I/O (e.g. pd.read_csv)\n",
    "import time\n",
    "import seaborn as sns\n",
    "import matplotlib.pyplot as plt\n",
    "import csv\n",
    "import json\n",
    "\n",
    "from itertools import islice\n",
    "\n",
    "from scipy.sparse import coo_matrix  # LightFM fit method requires coo matrix format as input.\n",
    "from scipy.sparse import csr_matrix\n",
    "\n",
    "from lightfm import LightFM\n",
    "from lightfm.evaluation import auc_score\n",
    "from lightfm.evaluation import precision_at_k\n",
    "from lightfm.cross_validation import random_train_test_split\n",
    "from sklearn.metrics import roc_auc_score\n",
    "from sklearn.model_selection import train_test_split\n",
    "from lightfm.data import Dataset"
   ]
  },
  {
   "cell_type": "markdown",
   "metadata": {},
   "source": [
    "# Preprocessing\n",
    "## Data Import and Cleaning - Events"
   ]
  },
  {
   "cell_type": "code",
   "execution_count": 2,
   "metadata": {
    "scrolled": true
   },
   "outputs": [],
   "source": [
    "# Importing Events data and sorting by timestamp column which corresponds the historical order of events.\n",
    "\n",
    "df_events = pd.read_csv(\"events.csv\")\n",
    "df_events = df_events.sort_values(by=['timestamp'], ascending=True).reset_index(drop=True)"
   ]
  },
  {
   "cell_type": "code",
   "execution_count": 3,
   "metadata": {
    "scrolled": false
   },
   "outputs": [
    {
     "data": {
      "text/html": [
       "<div>\n",
       "<style scoped>\n",
       "    .dataframe tbody tr th:only-of-type {\n",
       "        vertical-align: middle;\n",
       "    }\n",
       "\n",
       "    .dataframe tbody tr th {\n",
       "        vertical-align: top;\n",
       "    }\n",
       "\n",
       "    .dataframe thead th {\n",
       "        text-align: right;\n",
       "    }\n",
       "</style>\n",
       "<table border=\"1\" class=\"dataframe\">\n",
       "  <thead>\n",
       "    <tr style=\"text-align: right;\">\n",
       "      <th></th>\n",
       "      <th>timestamp</th>\n",
       "      <th>visitorid</th>\n",
       "      <th>event</th>\n",
       "      <th>itemid</th>\n",
       "      <th>transactionid</th>\n",
       "    </tr>\n",
       "  </thead>\n",
       "  <tbody>\n",
       "    <tr>\n",
       "      <td>0</td>\n",
       "      <td>1430622004384</td>\n",
       "      <td>693516</td>\n",
       "      <td>addtocart</td>\n",
       "      <td>297662</td>\n",
       "      <td>NaN</td>\n",
       "    </tr>\n",
       "    <tr>\n",
       "      <td>1</td>\n",
       "      <td>1430622011289</td>\n",
       "      <td>829044</td>\n",
       "      <td>view</td>\n",
       "      <td>60987</td>\n",
       "      <td>NaN</td>\n",
       "    </tr>\n",
       "    <tr>\n",
       "      <td>2</td>\n",
       "      <td>1430622013048</td>\n",
       "      <td>652699</td>\n",
       "      <td>view</td>\n",
       "      <td>252860</td>\n",
       "      <td>NaN</td>\n",
       "    </tr>\n",
       "    <tr>\n",
       "      <td>3</td>\n",
       "      <td>1430622024154</td>\n",
       "      <td>1125936</td>\n",
       "      <td>view</td>\n",
       "      <td>33661</td>\n",
       "      <td>NaN</td>\n",
       "    </tr>\n",
       "    <tr>\n",
       "      <td>4</td>\n",
       "      <td>1430622026228</td>\n",
       "      <td>693516</td>\n",
       "      <td>view</td>\n",
       "      <td>297662</td>\n",
       "      <td>NaN</td>\n",
       "    </tr>\n",
       "  </tbody>\n",
       "</table>\n",
       "</div>"
      ],
      "text/plain": [
       "       timestamp  visitorid      event  itemid  transactionid\n",
       "0  1430622004384     693516  addtocart  297662            NaN\n",
       "1  1430622011289     829044       view   60987            NaN\n",
       "2  1430622013048     652699       view  252860            NaN\n",
       "3  1430622024154    1125936       view   33661            NaN\n",
       "4  1430622026228     693516       view  297662            NaN"
      ]
     },
     "execution_count": 3,
     "metadata": {},
     "output_type": "execute_result"
    }
   ],
   "source": [
    "df_events.head()"
   ]
  },
  {
   "cell_type": "code",
   "execution_count": 4,
   "metadata": {
    "scrolled": true
   },
   "outputs": [
    {
     "name": "stdout",
     "output_type": "stream",
     "text": [
      "<class 'pandas.core.frame.DataFrame'>\n",
      "RangeIndex: 2756101 entries, 0 to 2756100\n",
      "Data columns (total 5 columns):\n",
      "timestamp        int64\n",
      "visitorid        int64\n",
      "event            object\n",
      "itemid           int64\n",
      "transactionid    float64\n",
      "dtypes: float64(1), int64(3), object(1)\n",
      "memory usage: 105.1+ MB\n"
     ]
    }
   ],
   "source": [
    "df_events.info()"
   ]
  },
  {
   "cell_type": "code",
   "execution_count": 5,
   "metadata": {
    "scrolled": true
   },
   "outputs": [
    {
     "name": "stdout",
     "output_type": "stream",
     "text": [
      "Original number of users: 1407580\n",
      "Original number of items: 235061\n",
      "Original number of interactions: 2756101\n",
      "Original sparsity: 0.000833 %\n"
     ]
    }
   ],
   "source": [
    "qty_all_users_original = len(df_events.visitorid.unique())\n",
    "qty_all_items_original = len(df_events.itemid.unique())\n",
    "qty_all_interactions_original = len(df_events)\n",
    "sparsity_original = qty_all_interactions_original/(qty_all_users_original*qty_all_items_original)\n",
    "\n",
    "print('Original number of users:', qty_all_users_original)\n",
    "print('Original number of items:', qty_all_items_original)\n",
    "print('Original number of interactions:', qty_all_interactions_original)\n",
    "print('Original sparsity:', round(sparsity_original*100,6), '%')"
   ]
  },
  {
   "cell_type": "code",
   "execution_count": 6,
   "metadata": {},
   "outputs": [],
   "source": [
    "# Events types “view”, “addtocart”, “transaction” are the implicit customer feedback.\n",
    "# They cannot be considered as rating (explicit feedback).\n",
    "# This information is implicit feedback and lightFM library was designed to deal with it.\n",
    "# Transform events from categorical to numerical format for further processing.\n",
    "\n",
    "weight_view = 1\n",
    "weight_addtocart = 2\n",
    "weight_transaction = 3\n",
    "\n",
    "df_events.event.replace(to_replace=dict(\n",
    "    view=weight_view, addtocart=weight_addtocart, transaction=weight_transaction), inplace=True)"
   ]
  },
  {
   "cell_type": "code",
   "execution_count": 7,
   "metadata": {
    "scrolled": true
   },
   "outputs": [
    {
     "data": {
      "text/plain": [
       "array([2, 1, 3])"
      ]
     },
     "execution_count": 7,
     "metadata": {},
     "output_type": "execute_result"
    }
   ],
   "source": [
    "# Now the events replaced with corresponding weights.\n",
    "df_events.event.unique()"
   ]
  },
  {
   "cell_type": "code",
   "execution_count": 8,
   "metadata": {
    "scrolled": false
   },
   "outputs": [
    {
     "data": {
      "text/html": [
       "<div>\n",
       "<style scoped>\n",
       "    .dataframe tbody tr th:only-of-type {\n",
       "        vertical-align: middle;\n",
       "    }\n",
       "\n",
       "    .dataframe tbody tr th {\n",
       "        vertical-align: top;\n",
       "    }\n",
       "\n",
       "    .dataframe thead th {\n",
       "        text-align: right;\n",
       "    }\n",
       "</style>\n",
       "<table border=\"1\" class=\"dataframe\">\n",
       "  <thead>\n",
       "    <tr style=\"text-align: right;\">\n",
       "      <th></th>\n",
       "      <th>timestamp</th>\n",
       "      <th>visitorid</th>\n",
       "      <th>event</th>\n",
       "      <th>itemid</th>\n",
       "      <th>transactionid</th>\n",
       "    </tr>\n",
       "  </thead>\n",
       "  <tbody>\n",
       "    <tr>\n",
       "      <td>0</td>\n",
       "      <td>1430622004384</td>\n",
       "      <td>693516</td>\n",
       "      <td>2</td>\n",
       "      <td>297662</td>\n",
       "      <td>NaN</td>\n",
       "    </tr>\n",
       "    <tr>\n",
       "      <td>1</td>\n",
       "      <td>1430622011289</td>\n",
       "      <td>829044</td>\n",
       "      <td>1</td>\n",
       "      <td>60987</td>\n",
       "      <td>NaN</td>\n",
       "    </tr>\n",
       "    <tr>\n",
       "      <td>2</td>\n",
       "      <td>1430622013048</td>\n",
       "      <td>652699</td>\n",
       "      <td>1</td>\n",
       "      <td>252860</td>\n",
       "      <td>NaN</td>\n",
       "    </tr>\n",
       "    <tr>\n",
       "      <td>3</td>\n",
       "      <td>1430622024154</td>\n",
       "      <td>1125936</td>\n",
       "      <td>1</td>\n",
       "      <td>33661</td>\n",
       "      <td>NaN</td>\n",
       "    </tr>\n",
       "    <tr>\n",
       "      <td>4</td>\n",
       "      <td>1430622026228</td>\n",
       "      <td>693516</td>\n",
       "      <td>1</td>\n",
       "      <td>297662</td>\n",
       "      <td>NaN</td>\n",
       "    </tr>\n",
       "  </tbody>\n",
       "</table>\n",
       "</div>"
      ],
      "text/plain": [
       "       timestamp  visitorid  event  itemid  transactionid\n",
       "0  1430622004384     693516      2  297662            NaN\n",
       "1  1430622011289     829044      1   60987            NaN\n",
       "2  1430622013048     652699      1  252860            NaN\n",
       "3  1430622024154    1125936      1   33661            NaN\n",
       "4  1430622026228     693516      1  297662            NaN"
      ]
     },
     "execution_count": 8,
     "metadata": {},
     "output_type": "execute_result"
    }
   ],
   "source": [
    "df_events.head()"
   ]
  },
  {
   "cell_type": "code",
   "execution_count": 9,
   "metadata": {
    "scrolled": true
   },
   "outputs": [],
   "source": [
    "# The user may have interacted with item multiple times which is now stored in dataframe.\n",
    "# For the purpose of recommendation we're interested in the highest level of user interest to the item.\n",
    "# Therefore, the data can be further cleaned.\n",
    "\n",
    "df_events = df_events.sort_values('event').drop_duplicates(\n",
    "    subset=['visitorid', 'itemid'], \n",
    "    keep='last').sort_values(by=['timestamp'], ascending=True).reset_index(drop=True)"
   ]
  },
  {
   "cell_type": "code",
   "execution_count": 10,
   "metadata": {
    "scrolled": true
   },
   "outputs": [
    {
     "name": "stdout",
     "output_type": "stream",
     "text": [
      "<class 'pandas.core.frame.DataFrame'>\n",
      "RangeIndex: 2145179 entries, 0 to 2145178\n",
      "Data columns (total 5 columns):\n",
      "timestamp        int64\n",
      "visitorid        int64\n",
      "event            int64\n",
      "itemid           int64\n",
      "transactionid    float64\n",
      "dtypes: float64(1), int64(4)\n",
      "memory usage: 81.8 MB\n"
     ]
    }
   ],
   "source": [
    "df_events.info()"
   ]
  },
  {
   "cell_type": "code",
   "execution_count": 11,
   "metadata": {
    "scrolled": false
   },
   "outputs": [
    {
     "data": {
      "text/plain": [
       "<matplotlib.axes._subplots.AxesSubplot at 0x7f8435edd610>"
      ]
     },
     "execution_count": 11,
     "metadata": {},
     "output_type": "execute_result"
    },
    {
     "data": {
      "image/png": "[encoded data removed]",
      "text/plain": [
       "<Figure size 432x288 with 1 Axes>"
      ]
     },
     "metadata": {
      "needs_background": "light"
     },
     "output_type": "display_data"
    }
   ],
   "source": [
    "# View on the ratio between different types of events.\n",
    "sns.countplot(x='event', data=df_events)"
   ]
  },
  {
   "cell_type": "code",
   "execution_count": 12,
   "metadata": {
    "scrolled": true
   },
   "outputs": [
    {
     "data": {
      "text/html": [
       "<div>\n",
       "<style scoped>\n",
       "    .dataframe tbody tr th:only-of-type {\n",
       "        vertical-align: middle;\n",
       "    }\n",
       "\n",
       "    .dataframe tbody tr th {\n",
       "        vertical-align: top;\n",
       "    }\n",
       "\n",
       "    .dataframe thead th {\n",
       "        text-align: right;\n",
       "    }\n",
       "</style>\n",
       "<table border=\"1\" class=\"dataframe\">\n",
       "  <thead>\n",
       "    <tr style=\"text-align: right;\">\n",
       "      <th></th>\n",
       "      <th>activity_count</th>\n",
       "    </tr>\n",
       "    <tr>\n",
       "      <th>visitorid</th>\n",
       "      <th></th>\n",
       "    </tr>\n",
       "  </thead>\n",
       "  <tbody>\n",
       "    <tr>\n",
       "      <td>0</td>\n",
       "      <td>3</td>\n",
       "    </tr>\n",
       "    <tr>\n",
       "      <td>1</td>\n",
       "      <td>1</td>\n",
       "    </tr>\n",
       "    <tr>\n",
       "      <td>2</td>\n",
       "      <td>4</td>\n",
       "    </tr>\n",
       "    <tr>\n",
       "      <td>3</td>\n",
       "      <td>1</td>\n",
       "    </tr>\n",
       "    <tr>\n",
       "      <td>4</td>\n",
       "      <td>1</td>\n",
       "    </tr>\n",
       "  </tbody>\n",
       "</table>\n",
       "</div>"
      ],
      "text/plain": [
       "           activity_count\n",
       "visitorid                \n",
       "0                       3\n",
       "1                       1\n",
       "2                       4\n",
       "3                       1\n",
       "4                       1"
      ]
     },
     "execution_count": 12,
     "metadata": {},
     "output_type": "execute_result"
    }
   ],
   "source": [
    "# Count activities by user.\n",
    "users_activity = df_events.groupby('visitorid').visitorid.count().to_frame(name='activity_count')\n",
    "users_activity.head()"
   ]
  },
  {
   "cell_type": "code",
   "execution_count": 13,
   "metadata": {
    "scrolled": false
   },
   "outputs": [
    {
     "data": {
      "text/html": [
       "<div>\n",
       "<style scoped>\n",
       "    .dataframe tbody tr th:only-of-type {\n",
       "        vertical-align: middle;\n",
       "    }\n",
       "\n",
       "    .dataframe tbody tr th {\n",
       "        vertical-align: top;\n",
       "    }\n",
       "\n",
       "    .dataframe thead th {\n",
       "        text-align: right;\n",
       "    }\n",
       "</style>\n",
       "<table border=\"1\" class=\"dataframe\">\n",
       "  <thead>\n",
       "    <tr style=\"text-align: right;\">\n",
       "      <th></th>\n",
       "      <th>activity_count</th>\n",
       "    </tr>\n",
       "    <tr>\n",
       "      <th>visitorid</th>\n",
       "      <th></th>\n",
       "    </tr>\n",
       "  </thead>\n",
       "  <tbody>\n",
       "    <tr>\n",
       "      <td>1150086</td>\n",
       "      <td>3814</td>\n",
       "    </tr>\n",
       "    <tr>\n",
       "      <td>530559</td>\n",
       "      <td>2209</td>\n",
       "    </tr>\n",
       "    <tr>\n",
       "      <td>892013</td>\n",
       "      <td>1738</td>\n",
       "    </tr>\n",
       "    <tr>\n",
       "      <td>895999</td>\n",
       "      <td>1641</td>\n",
       "    </tr>\n",
       "    <tr>\n",
       "      <td>152963</td>\n",
       "      <td>1622</td>\n",
       "    </tr>\n",
       "    <tr>\n",
       "      <td>371606</td>\n",
       "      <td>1399</td>\n",
       "    </tr>\n",
       "    <tr>\n",
       "      <td>163561</td>\n",
       "      <td>1314</td>\n",
       "    </tr>\n",
       "    <tr>\n",
       "      <td>79627</td>\n",
       "      <td>1257</td>\n",
       "    </tr>\n",
       "    <tr>\n",
       "      <td>286616</td>\n",
       "      <td>1230</td>\n",
       "    </tr>\n",
       "    <tr>\n",
       "      <td>684514</td>\n",
       "      <td>1187</td>\n",
       "    </tr>\n",
       "  </tbody>\n",
       "</table>\n",
       "</div>"
      ],
      "text/plain": [
       "           activity_count\n",
       "visitorid                \n",
       "1150086              3814\n",
       "530559               2209\n",
       "892013               1738\n",
       "895999               1641\n",
       "152963               1622\n",
       "371606               1399\n",
       "163561               1314\n",
       "79627                1257\n",
       "286616               1230\n",
       "684514               1187"
      ]
     },
     "execution_count": 13,
     "metadata": {},
     "output_type": "execute_result"
    }
   ],
   "source": [
    "# View on the most active users\n",
    "users_activity.loc[users_activity['activity_count'] > 1000].sort_values(\n",
    "    by='activity_count', ascending=False).head(10)"
   ]
  },
  {
   "cell_type": "code",
   "execution_count": 14,
   "metadata": {
    "scrolled": true
   },
   "outputs": [
    {
     "data": {
      "text/html": [
       "<div>\n",
       "<style scoped>\n",
       "    .dataframe tbody tr th:only-of-type {\n",
       "        vertical-align: middle;\n",
       "    }\n",
       "\n",
       "    .dataframe tbody tr th {\n",
       "        vertical-align: top;\n",
       "    }\n",
       "\n",
       "    .dataframe thead th {\n",
       "        text-align: right;\n",
       "    }\n",
       "</style>\n",
       "<table border=\"1\" class=\"dataframe\">\n",
       "  <thead>\n",
       "    <tr style=\"text-align: right;\">\n",
       "      <th></th>\n",
       "      <th>timestamp</th>\n",
       "      <th>visitorid</th>\n",
       "      <th>event</th>\n",
       "      <th>itemid</th>\n",
       "      <th>transactionid</th>\n",
       "    </tr>\n",
       "  </thead>\n",
       "  <tbody>\n",
       "    <tr>\n",
       "      <td>628771</td>\n",
       "      <td>1434034517389</td>\n",
       "      <td>1150086</td>\n",
       "      <td>1</td>\n",
       "      <td>133542</td>\n",
       "      <td>NaN</td>\n",
       "    </tr>\n",
       "    <tr>\n",
       "      <td>629008</td>\n",
       "      <td>1434035735608</td>\n",
       "      <td>1150086</td>\n",
       "      <td>1</td>\n",
       "      <td>167873</td>\n",
       "      <td>NaN</td>\n",
       "    </tr>\n",
       "    <tr>\n",
       "      <td>629054</td>\n",
       "      <td>1434036006651</td>\n",
       "      <td>1150086</td>\n",
       "      <td>1</td>\n",
       "      <td>231726</td>\n",
       "      <td>NaN</td>\n",
       "    </tr>\n",
       "    <tr>\n",
       "      <td>629104</td>\n",
       "      <td>1434036288806</td>\n",
       "      <td>1150086</td>\n",
       "      <td>1</td>\n",
       "      <td>427777</td>\n",
       "      <td>NaN</td>\n",
       "    </tr>\n",
       "    <tr>\n",
       "      <td>629170</td>\n",
       "      <td>1434036525614</td>\n",
       "      <td>1150086</td>\n",
       "      <td>3</td>\n",
       "      <td>398115</td>\n",
       "      <td>7510.0</td>\n",
       "    </tr>\n",
       "    <tr>\n",
       "      <td>629208</td>\n",
       "      <td>1434036727711</td>\n",
       "      <td>1150086</td>\n",
       "      <td>1</td>\n",
       "      <td>203425</td>\n",
       "      <td>NaN</td>\n",
       "    </tr>\n",
       "    <tr>\n",
       "      <td>629246</td>\n",
       "      <td>1434036891672</td>\n",
       "      <td>1150086</td>\n",
       "      <td>1</td>\n",
       "      <td>458489</td>\n",
       "      <td>NaN</td>\n",
       "    </tr>\n",
       "    <tr>\n",
       "      <td>629369</td>\n",
       "      <td>1434037348016</td>\n",
       "      <td>1150086</td>\n",
       "      <td>3</td>\n",
       "      <td>375955</td>\n",
       "      <td>6495.0</td>\n",
       "    </tr>\n",
       "    <tr>\n",
       "      <td>629421</td>\n",
       "      <td>1434037596453</td>\n",
       "      <td>1150086</td>\n",
       "      <td>3</td>\n",
       "      <td>357133</td>\n",
       "      <td>5235.0</td>\n",
       "    </tr>\n",
       "    <tr>\n",
       "      <td>629625</td>\n",
       "      <td>1434038553908</td>\n",
       "      <td>1150086</td>\n",
       "      <td>2</td>\n",
       "      <td>368244</td>\n",
       "      <td>NaN</td>\n",
       "    </tr>\n",
       "  </tbody>\n",
       "</table>\n",
       "</div>"
      ],
      "text/plain": [
       "            timestamp  visitorid  event  itemid  transactionid\n",
       "628771  1434034517389    1150086      1  133542            NaN\n",
       "629008  1434035735608    1150086      1  167873            NaN\n",
       "629054  1434036006651    1150086      1  231726            NaN\n",
       "629104  1434036288806    1150086      1  427777            NaN\n",
       "629170  1434036525614    1150086      3  398115         7510.0\n",
       "629208  1434036727711    1150086      1  203425            NaN\n",
       "629246  1434036891672    1150086      1  458489            NaN\n",
       "629369  1434037348016    1150086      3  375955         6495.0\n",
       "629421  1434037596453    1150086      3  357133         5235.0\n",
       "629625  1434038553908    1150086      2  368244            NaN"
      ]
     },
     "execution_count": 14,
     "metadata": {},
     "output_type": "execute_result"
    }
   ],
   "source": [
    "df_events.loc[df_events['visitorid'] == 1150086].head(10)"
   ]
  },
  {
   "cell_type": "code",
   "execution_count": 15,
   "metadata": {},
   "outputs": [],
   "source": [
    "# Check the hypothesys: the more interactions the user had, the more likely addtocart/purchase was made.\n",
    "# Based on this hypothesys the users can be divided into two groups.\n",
    "\n",
    "# First group is 'low activity' users - this group is mostly browsing and not making many purchases.\n",
    "# The ratio of addtocart/purchase is low so it is harder to understand what they really like.\n",
    "# Therefore, all types of interactions (view/addtocart/purchase) can be counted as positive.\n",
    "# This will lead at least to improvement of customer experience and users are more likely to find the needed item.\n",
    "# For the purposes of this project 'low activity' group will be left aside as the goal is basket value, not UX.\n",
    "\n",
    "# Second group is 'high activity' users - this group has higher ratio of purchases.\n",
    "# Therefore, addtocart/purchase can be considered as positive interactions and predictions be made on them.\n",
    "# View interactions are not considered since the user has not proceeded so this means there's low interest.\n",
    "# This will allow to get rid of noise.\n",
    "# For the purposes of this project 'high activity' group will be used.\n",
    "\n",
    "# Overall, using this split resolves several issues:\n",
    "# 1. The low activity users represent the noise which will affect the model performance.\n",
    "# 2. The size of dataframe used for the further steps will be significantly smaller saving computational cost."
   ]
  },
  {
   "cell_type": "code",
   "execution_count": 16,
   "metadata": {},
   "outputs": [],
   "source": [
    "# Develop the function to see how the number of interactions impacts conversion.\n",
    "\n",
    "def activity_counter(data, max_interaction_threshold):\n",
    "    \n",
    "    df_events = data\n",
    "    users_activity = df_events.groupby('visitorid').visitorid.count().to_frame(name='activity_count')\n",
    "    count_aggregated = pd.DataFrame(columns = ['interaction_threshold', \n",
    "                                               'view', 'addtocart', 'purchase', \n",
    "                                               'conversion', \n",
    "                                               'total_interactions'])\n",
    "    \n",
    "    for interaction_threshold in range(max_interaction_threshold):\n",
    "        users_activity_low = users_activity.loc[users_activity['activity_count'] <= interaction_threshold]\n",
    "        users_to_remove = users_activity_low.index.tolist()\n",
    "        df_events = df_events[~df_events.visitorid.isin(users_to_remove)].reset_index(drop=True)\n",
    "        \n",
    "        count = df_events['event'].value_counts()\n",
    "        count_aggregated = count_aggregated.append({\n",
    "            'interaction_threshold': int(interaction_threshold), \n",
    "            'view': int(count[weight_view]), \n",
    "            'addtocart': int(count[weight_addtocart]), \n",
    "            'purchase': int(count[weight_transaction]), \n",
    "            'conversion': (count[weight_addtocart] + count[weight_transaction])/len(df_events),\n",
    "            'total_interactions': len(df_events)\n",
    "        }, \n",
    "            ignore_index=True)\n",
    "        \n",
    "    return(count_aggregated)"
   ]
  },
  {
   "cell_type": "code",
   "execution_count": 17,
   "metadata": {
    "scrolled": false
   },
   "outputs": [
    {
     "data": {
      "text/html": [
       "<div>\n",
       "<style scoped>\n",
       "    .dataframe tbody tr th:only-of-type {\n",
       "        vertical-align: middle;\n",
       "    }\n",
       "\n",
       "    .dataframe tbody tr th {\n",
       "        vertical-align: top;\n",
       "    }\n",
       "\n",
       "    .dataframe thead th {\n",
       "        text-align: right;\n",
       "    }\n",
       "</style>\n",
       "<table border=\"1\" class=\"dataframe\">\n",
       "  <thead>\n",
       "    <tr style=\"text-align: right;\">\n",
       "      <th></th>\n",
       "      <th>interaction_threshold</th>\n",
       "      <th>view</th>\n",
       "      <th>addtocart</th>\n",
       "      <th>purchase</th>\n",
       "      <th>conversion</th>\n",
       "      <th>total_interactions</th>\n",
       "    </tr>\n",
       "  </thead>\n",
       "  <tbody>\n",
       "    <tr>\n",
       "      <td>0</td>\n",
       "      <td>0.0</td>\n",
       "      <td>2080929.0</td>\n",
       "      <td>42980.0</td>\n",
       "      <td>21270.0</td>\n",
       "      <td>0.029951</td>\n",
       "      <td>2145179.0</td>\n",
       "    </tr>\n",
       "    <tr>\n",
       "      <td>1</td>\n",
       "      <td>1.0</td>\n",
       "      <td>978187.0</td>\n",
       "      <td>30775.0</td>\n",
       "      <td>16717.0</td>\n",
       "      <td>0.046303</td>\n",
       "      <td>1025679.0</td>\n",
       "    </tr>\n",
       "    <tr>\n",
       "      <td>2</td>\n",
       "      <td>2.0</td>\n",
       "      <td>645875.0</td>\n",
       "      <td>24367.0</td>\n",
       "      <td>14335.0</td>\n",
       "      <td>0.056534</td>\n",
       "      <td>684577.0</td>\n",
       "    </tr>\n",
       "    <tr>\n",
       "      <td>3</td>\n",
       "      <td>3.0</td>\n",
       "      <td>488582.0</td>\n",
       "      <td>20490.0</td>\n",
       "      <td>12800.0</td>\n",
       "      <td>0.063790</td>\n",
       "      <td>521872.0</td>\n",
       "    </tr>\n",
       "    <tr>\n",
       "      <td>4</td>\n",
       "      <td>4.0</td>\n",
       "      <td>397669.0</td>\n",
       "      <td>17758.0</td>\n",
       "      <td>11809.0</td>\n",
       "      <td>0.069205</td>\n",
       "      <td>427236.0</td>\n",
       "    </tr>\n",
       "    <tr>\n",
       "      <td>5</td>\n",
       "      <td>5.0</td>\n",
       "      <td>337186.0</td>\n",
       "      <td>15840.0</td>\n",
       "      <td>10960.0</td>\n",
       "      <td>0.073629</td>\n",
       "      <td>363986.0</td>\n",
       "    </tr>\n",
       "    <tr>\n",
       "      <td>6</td>\n",
       "      <td>6.0</td>\n",
       "      <td>294957.0</td>\n",
       "      <td>14365.0</td>\n",
       "      <td>10264.0</td>\n",
       "      <td>0.077065</td>\n",
       "      <td>319586.0</td>\n",
       "    </tr>\n",
       "    <tr>\n",
       "      <td>7</td>\n",
       "      <td>7.0</td>\n",
       "      <td>264109.0</td>\n",
       "      <td>13083.0</td>\n",
       "      <td>9809.0</td>\n",
       "      <td>0.079763</td>\n",
       "      <td>287001.0</td>\n",
       "    </tr>\n",
       "    <tr>\n",
       "      <td>8</td>\n",
       "      <td>8.0</td>\n",
       "      <td>239898.0</td>\n",
       "      <td>12078.0</td>\n",
       "      <td>9441.0</td>\n",
       "      <td>0.082317</td>\n",
       "      <td>261417.0</td>\n",
       "    </tr>\n",
       "    <tr>\n",
       "      <td>9</td>\n",
       "      <td>9.0</td>\n",
       "      <td>220596.0</td>\n",
       "      <td>11162.0</td>\n",
       "      <td>9085.0</td>\n",
       "      <td>0.084067</td>\n",
       "      <td>240843.0</td>\n",
       "    </tr>\n",
       "  </tbody>\n",
       "</table>\n",
       "</div>"
      ],
      "text/plain": [
       "   interaction_threshold       view  addtocart  purchase  conversion  \\\n",
       "0                    0.0  2080929.0    42980.0   21270.0    0.029951   \n",
       "1                    1.0   978187.0    30775.0   16717.0    0.046303   \n",
       "2                    2.0   645875.0    24367.0   14335.0    0.056534   \n",
       "3                    3.0   488582.0    20490.0   12800.0    0.063790   \n",
       "4                    4.0   397669.0    17758.0   11809.0    0.069205   \n",
       "5                    5.0   337186.0    15840.0   10960.0    0.073629   \n",
       "6                    6.0   294957.0    14365.0   10264.0    0.077065   \n",
       "7                    7.0   264109.0    13083.0    9809.0    0.079763   \n",
       "8                    8.0   239898.0    12078.0    9441.0    0.082317   \n",
       "9                    9.0   220596.0    11162.0    9085.0    0.084067   \n",
       "\n",
       "   total_interactions  \n",
       "0           2145179.0  \n",
       "1           1025679.0  \n",
       "2            684577.0  \n",
       "3            521872.0  \n",
       "4            427236.0  \n",
       "5            363986.0  \n",
       "6            319586.0  \n",
       "7            287001.0  \n",
       "8            261417.0  \n",
       "9            240843.0  "
      ]
     },
     "execution_count": 17,
     "metadata": {},
     "output_type": "execute_result"
    }
   ],
   "source": [
    "# Run fuction.\n",
    "activities = activity_counter(df_events, 100)\n",
    "activities.head(10)"
   ]
  },
  {
   "cell_type": "code",
   "execution_count": 18,
   "metadata": {},
   "outputs": [
    {
     "data": {
      "text/plain": [
       "Text(0.5, 0, 'Interactions per user')"
      ]
     },
     "execution_count": 18,
     "metadata": {},
     "output_type": "execute_result"
    },
    {
     "data": {
      "image/png": "[encoded data removed]",
      "text/plain": [
       "<Figure size 432x288 with 2 Axes>"
      ]
     },
     "metadata": {
      "needs_background": "light"
     },
     "output_type": "display_data"
    }
   ],
   "source": [
    "figure, (axis_1, axis_2) = plt.subplots(2)\n",
    "figure.suptitle('User activity visualization')\n",
    "\n",
    "axis_1.plot(activities['interaction_threshold'], activities['conversion'], 'r')\n",
    "axis_1.set_ylabel('Conversion')\n",
    "\n",
    "axis_2.plot(activities['interaction_threshold'], activities['total_interactions'], 'g')\n",
    "axis_2.plot(activities['interaction_threshold'], activities['total_interactions'], 'g')\n",
    "axis_2.set_ylabel('Total interactions')\n",
    "axis_2.set_xlabel('Interactions per user')"
   ]
  },
  {
   "cell_type": "code",
   "execution_count": 19,
   "metadata": {},
   "outputs": [],
   "source": [
    "# The plot above shows that positive ratio improvement slows down significantly at 20 interactions threshold.\n",
    "# Plateau is at conversion rate ~0.1 (10%) which is good in comparison to eCommerce industry standard 3%.\n",
    "# It makes sense since the part of less active users was removed.\n",
    "\n",
    "# Hypothesis is now proved. \n",
    "\n",
    "# Split point to divide users into two groups:\n",
    "# 'low activity' users with 20 and less interactions.\n",
    "# 'high activity' users with more than 20 interactions."
   ]
  },
  {
   "cell_type": "code",
   "execution_count": 20,
   "metadata": {},
   "outputs": [],
   "source": [
    "# Set interactions threshold and remove 'low activity' users.\n",
    "\n",
    "interaction_threshold = 20\n",
    "\n",
    "# Create list of users that need to be removed from events data.\n",
    "users_activity_low = users_activity.loc[users_activity['activity_count'] <= interaction_threshold]\n",
    "users_to_remove = users_activity_low.index.tolist()\n",
    "\n",
    "# Remove low activity users from dataframe.\n",
    "df_events = df_events[~df_events.visitorid.isin(users_to_remove)].reset_index(drop=True)"
   ]
  },
  {
   "cell_type": "code",
   "execution_count": 21,
   "metadata": {
    "scrolled": true
   },
   "outputs": [
    {
     "name": "stdout",
     "output_type": "stream",
     "text": [
      "<class 'pandas.core.frame.DataFrame'>\n",
      "RangeIndex: 13675 entries, 0 to 13674\n",
      "Data columns (total 5 columns):\n",
      "timestamp        13675 non-null int64\n",
      "visitorid        13675 non-null int64\n",
      "event            13675 non-null int64\n",
      "itemid           13675 non-null int64\n",
      "transactionid    7271 non-null float64\n",
      "dtypes: float64(1), int64(4)\n",
      "memory usage: 534.3 KB\n"
     ]
    }
   ],
   "source": [
    "# Select which types of interaction to be used: weight_view / weight_addtocart / weight_transaction.\n",
    "# View interactions are not considered since the user has not proceeded so this means there's low interest.\n",
    "\n",
    "df_events = df_events.loc[df_events['event'].isin(\n",
    "    [weight_addtocart, \n",
    "     weight_transaction])].reset_index(drop=True)\n",
    "\n",
    "df_events.info()"
   ]
  },
  {
   "cell_type": "code",
   "execution_count": 22,
   "metadata": {
    "scrolled": false
   },
   "outputs": [
    {
     "name": "stdout",
     "output_type": "stream",
     "text": [
      "Original number of users: 1407580\n",
      "Cleaned dataset number of users:  1015\n",
      "Cleaned portion: 0.07 %\n",
      "\n",
      "Original number of items: 235061\n",
      "Cleaned dataset number of items:  9490\n",
      "Cleaned portion: 4.04 %\n",
      "\n",
      "Original number of interactions: 2756101\n",
      "Cleaned dataset number of interactions:  13675\n",
      "Cleaned portion: 0.5 %\n",
      "\n",
      "Original sparsity:  0.000833 %\n",
      "Cleaned sparsity:  0.14197 %\n"
     ]
    }
   ],
   "source": [
    "# Final view on users and items participating in model training and testing. \n",
    "\n",
    "qty_all_users = len(df_events['visitorid'].unique())\n",
    "print('Original number of users:', qty_all_users_original)\n",
    "print('Cleaned dataset number of users: ', qty_all_users)\n",
    "print('Cleaned portion:', round(100*qty_all_users/qty_all_users_original,2), '%')\n",
    "print()\n",
    "\n",
    "qty_all_items = len(df_events['itemid'].unique())\n",
    "print('Original number of items:', qty_all_items_original)\n",
    "print('Cleaned dataset number of items: ', qty_all_items)\n",
    "print('Cleaned portion:', round(100*qty_all_items/qty_all_items_original,2), '%')\n",
    "print()\n",
    "\n",
    "qty_all_interactions = len(df_events)\n",
    "print('Original number of interactions:', qty_all_interactions_original)\n",
    "print('Cleaned dataset number of interactions: ', qty_all_interactions)\n",
    "print('Cleaned portion:', round(100*qty_all_interactions/qty_all_interactions_original,2), '%')\n",
    "print()\n",
    "\n",
    "sparsity = qty_all_interactions/(qty_all_users*qty_all_items)\n",
    "print('Original sparsity: ', round(sparsity_original*100,6), '%')\n",
    "print('Cleaned sparsity: ', round(100*sparsity,6), '%')"
   ]
  },
  {
   "cell_type": "markdown",
   "metadata": {},
   "source": [
    "### Train / Test split"
   ]
  },
  {
   "cell_type": "raw",
   "metadata": {
    "scrolled": true
   },
   "source": [
    "# Use timestamps for split which mimics the real-life case as the events are sorted in historical order.\n",
    "\n",
    "split_point = int(np.ceil(len(df_events)*0.8))  # Index of split point.\n",
    "split_point_time = int(df_events.loc[split_point]['timestamp'])  # Timestamp of split point.\n",
    "\n",
    "df_events_train = df_events.loc[0:split_point]\n",
    "df_events_test = df_events.loc[split_point+1:]"
   ]
  },
  {
   "cell_type": "code",
   "execution_count": 23,
   "metadata": {},
   "outputs": [],
   "source": [
    "# Interactions data may depend on seasonality and specific eCommerce events.\n",
    "# In order to achieve the generalization, the train and test split will be done randomly.\n",
    "df_events_train, df_events_test = train_test_split(df_events, \n",
    "                                                   test_size=0.2, \n",
    "                                                   random_state=np.random.RandomState(2020))"
   ]
  },
  {
   "cell_type": "code",
   "execution_count": 24,
   "metadata": {},
   "outputs": [],
   "source": [
    "# The dataset used for this project does not have any user informnation (features) available.\n",
    "# Therefore, on the evaluation phase there should be only those users model was trained on.\n",
    "# Otherwise the user cold start problem will be faced which will impact the evaluation results.\n",
    "\n",
    "df_events_test = df_events_test[(df_events_test['visitorid'].isin(df_events_train['visitorid'])) & \n",
    "                                (df_events_test['itemid'].isin(df_events_train['itemid']))]"
   ]
  },
  {
   "cell_type": "code",
   "execution_count": 25,
   "metadata": {
    "scrolled": true
   },
   "outputs": [
    {
     "data": {
      "text/html": [
       "<div>\n",
       "<style scoped>\n",
       "    .dataframe tbody tr th:only-of-type {\n",
       "        vertical-align: middle;\n",
       "    }\n",
       "\n",
       "    .dataframe tbody tr th {\n",
       "        vertical-align: top;\n",
       "    }\n",
       "\n",
       "    .dataframe thead th {\n",
       "        text-align: right;\n",
       "    }\n",
       "</style>\n",
       "<table border=\"1\" class=\"dataframe\">\n",
       "  <thead>\n",
       "    <tr style=\"text-align: right;\">\n",
       "      <th></th>\n",
       "      <th>timestamp</th>\n",
       "      <th>visitorid</th>\n",
       "      <th>event</th>\n",
       "      <th>itemid</th>\n",
       "      <th>transactionid</th>\n",
       "    </tr>\n",
       "  </thead>\n",
       "  <tbody>\n",
       "    <tr>\n",
       "      <td>5051</td>\n",
       "      <td>1434737258535</td>\n",
       "      <td>76757</td>\n",
       "      <td>2</td>\n",
       "      <td>338427</td>\n",
       "      <td>NaN</td>\n",
       "    </tr>\n",
       "    <tr>\n",
       "      <td>10544</td>\n",
       "      <td>1439321239415</td>\n",
       "      <td>152963</td>\n",
       "      <td>3</td>\n",
       "      <td>55955</td>\n",
       "      <td>180.0</td>\n",
       "    </tr>\n",
       "    <tr>\n",
       "      <td>8837</td>\n",
       "      <td>1437780903046</td>\n",
       "      <td>861299</td>\n",
       "      <td>3</td>\n",
       "      <td>131034</td>\n",
       "      <td>7162.0</td>\n",
       "    </tr>\n",
       "    <tr>\n",
       "      <td>8628</td>\n",
       "      <td>1437674156662</td>\n",
       "      <td>883745</td>\n",
       "      <td>3</td>\n",
       "      <td>352742</td>\n",
       "      <td>11316.0</td>\n",
       "    </tr>\n",
       "    <tr>\n",
       "      <td>11268</td>\n",
       "      <td>1440017757081</td>\n",
       "      <td>303381</td>\n",
       "      <td>3</td>\n",
       "      <td>162046</td>\n",
       "      <td>13787.0</td>\n",
       "    </tr>\n",
       "  </tbody>\n",
       "</table>\n",
       "</div>"
      ],
      "text/plain": [
       "           timestamp  visitorid  event  itemid  transactionid\n",
       "5051   1434737258535      76757      2  338427            NaN\n",
       "10544  1439321239415     152963      3   55955          180.0\n",
       "8837   1437780903046     861299      3  131034         7162.0\n",
       "8628   1437674156662     883745      3  352742        11316.0\n",
       "11268  1440017757081     303381      3  162046        13787.0"
      ]
     },
     "execution_count": 25,
     "metadata": {},
     "output_type": "execute_result"
    }
   ],
   "source": [
    "df_events_train.head()"
   ]
  },
  {
   "cell_type": "code",
   "execution_count": 26,
   "metadata": {},
   "outputs": [
    {
     "data": {
      "text/html": [
       "<div>\n",
       "<style scoped>\n",
       "    .dataframe tbody tr th:only-of-type {\n",
       "        vertical-align: middle;\n",
       "    }\n",
       "\n",
       "    .dataframe tbody tr th {\n",
       "        vertical-align: top;\n",
       "    }\n",
       "\n",
       "    .dataframe thead th {\n",
       "        text-align: right;\n",
       "    }\n",
       "</style>\n",
       "<table border=\"1\" class=\"dataframe\">\n",
       "  <thead>\n",
       "    <tr style=\"text-align: right;\">\n",
       "      <th></th>\n",
       "      <th>timestamp</th>\n",
       "      <th>visitorid</th>\n",
       "      <th>event</th>\n",
       "      <th>itemid</th>\n",
       "      <th>transactionid</th>\n",
       "    </tr>\n",
       "  </thead>\n",
       "  <tbody>\n",
       "    <tr>\n",
       "      <td>10711</td>\n",
       "      <td>1439484590277</td>\n",
       "      <td>1150086</td>\n",
       "      <td>3</td>\n",
       "      <td>253615</td>\n",
       "      <td>9457.0</td>\n",
       "    </tr>\n",
       "    <tr>\n",
       "      <td>1906</td>\n",
       "      <td>1432165517784</td>\n",
       "      <td>138131</td>\n",
       "      <td>3</td>\n",
       "      <td>176995</td>\n",
       "      <td>6308.0</td>\n",
       "    </tr>\n",
       "    <tr>\n",
       "      <td>5733</td>\n",
       "      <td>1435276573581</td>\n",
       "      <td>706387</td>\n",
       "      <td>2</td>\n",
       "      <td>283492</td>\n",
       "      <td>NaN</td>\n",
       "    </tr>\n",
       "    <tr>\n",
       "      <td>10068</td>\n",
       "      <td>1438827382136</td>\n",
       "      <td>478537</td>\n",
       "      <td>2</td>\n",
       "      <td>207430</td>\n",
       "      <td>NaN</td>\n",
       "    </tr>\n",
       "    <tr>\n",
       "      <td>7711</td>\n",
       "      <td>1436984362651</td>\n",
       "      <td>152693</td>\n",
       "      <td>2</td>\n",
       "      <td>64026</td>\n",
       "      <td>NaN</td>\n",
       "    </tr>\n",
       "  </tbody>\n",
       "</table>\n",
       "</div>"
      ],
      "text/plain": [
       "           timestamp  visitorid  event  itemid  transactionid\n",
       "10711  1439484590277    1150086      3  253615         9457.0\n",
       "1906   1432165517784     138131      3  176995         6308.0\n",
       "5733   1435276573581     706387      2  283492            NaN\n",
       "10068  1438827382136     478537      2  207430            NaN\n",
       "7711   1436984362651     152693      2   64026            NaN"
      ]
     },
     "execution_count": 26,
     "metadata": {},
     "output_type": "execute_result"
    }
   ],
   "source": [
    "df_events_test.head()"
   ]
  },
  {
   "cell_type": "code",
   "execution_count": 27,
   "metadata": {
    "scrolled": true
   },
   "outputs": [
    {
     "name": "stdout",
     "output_type": "stream",
     "text": [
      "Test set represents 10.39 % of Train set.\n",
      "Total number of interactions participating in train: 10940 / test:  1137\n"
     ]
    }
   ],
   "source": [
    "print('Test set represents', round(100*len(df_events_test)/len(df_events_train),2),'% of Train set.')\n",
    "print('Total number of interactions participating in train:',len(df_events_train),'/ test: ', len(df_events_test))"
   ]
  },
  {
   "cell_type": "markdown",
   "metadata": {},
   "source": [
    "### Transforming interactions data into the format acceptable by lightFM model"
   ]
  },
  {
   "cell_type": "code",
   "execution_count": 28,
   "metadata": {},
   "outputs": [
    {
     "name": "stdout",
     "output_type": "stream",
     "text": [
      "Finished in:  0.01  minutes\n"
     ]
    }
   ],
   "source": [
    "# Dataset class of LightFM package has method build_interactions that allows to fill in the interactions matrix.\n",
    "# As the input for this method need to pass the list of tuples (visitorid, itemid, weight).\n",
    "\n",
    "start_time = time.time()\n",
    "\n",
    "# Train set interactions transformed.\n",
    "df_events_train_interactions = []\n",
    "for index, row in df_events_train.iterrows():\n",
    "    df_events_train_interactions.append((int(row['visitorid']), int(row['itemid']), int(row['event'])))\n",
    "    \n",
    "# Test set interactions transformed.\n",
    "df_events_test_interactions = []\n",
    "for index, row in df_events_test.iterrows():\n",
    "    df_events_test_interactions.append((int(row['visitorid']), int(row['itemid']), int(row['event'])))\n",
    "    \n",
    "print('Finished in: ', round((time.time()-start_time)/60, 2), \" minutes\")"
   ]
  },
  {
   "cell_type": "code",
   "execution_count": 29,
   "metadata": {},
   "outputs": [
    {
     "name": "stdout",
     "output_type": "stream",
     "text": [
      "Check original VS transformed length TRAIN:  10940 / 10940\n",
      "Check original VS transformed length TEST:  1137 / 1137\n"
     ]
    }
   ],
   "source": [
    "# Check original VS transformed length, should be equal.\n",
    "\n",
    "print('Check original VS transformed length TRAIN: ', \n",
    "     len(df_events_train),\n",
    "     '/',\n",
    "     len(df_events_train_interactions))\n",
    "\n",
    "print('Check original VS transformed length TEST: ', \n",
    "     len(df_events_test),\n",
    "     '/',\n",
    "     len(df_events_test_interactions))"
   ]
  },
  {
   "cell_type": "markdown",
   "metadata": {},
   "source": [
    "# Preprocessing\n",
    "## Data Import and Cleaning - Item Properties"
   ]
  },
  {
   "cell_type": "code",
   "execution_count": 30,
   "metadata": {
    "scrolled": false
   },
   "outputs": [
    {
     "data": {
      "text/html": [
       "<div>\n",
       "<style scoped>\n",
       "    .dataframe tbody tr th:only-of-type {\n",
       "        vertical-align: middle;\n",
       "    }\n",
       "\n",
       "    .dataframe tbody tr th {\n",
       "        vertical-align: top;\n",
       "    }\n",
       "\n",
       "    .dataframe thead th {\n",
       "        text-align: right;\n",
       "    }\n",
       "</style>\n",
       "<table border=\"1\" class=\"dataframe\">\n",
       "  <thead>\n",
       "    <tr style=\"text-align: right;\">\n",
       "      <th></th>\n",
       "      <th>timestamp</th>\n",
       "      <th>itemid</th>\n",
       "      <th>property</th>\n",
       "      <th>value</th>\n",
       "    </tr>\n",
       "  </thead>\n",
       "  <tbody>\n",
       "    <tr>\n",
       "      <td>0</td>\n",
       "      <td>1431226800000</td>\n",
       "      <td>317951</td>\n",
       "      <td>790</td>\n",
       "      <td>n32880.000</td>\n",
       "    </tr>\n",
       "    <tr>\n",
       "      <td>1</td>\n",
       "      <td>1431226800000</td>\n",
       "      <td>422842</td>\n",
       "      <td>480</td>\n",
       "      <td>1133979</td>\n",
       "    </tr>\n",
       "    <tr>\n",
       "      <td>2</td>\n",
       "      <td>1431226800000</td>\n",
       "      <td>310185</td>\n",
       "      <td>776</td>\n",
       "      <td>103591</td>\n",
       "    </tr>\n",
       "    <tr>\n",
       "      <td>3</td>\n",
       "      <td>1431226800000</td>\n",
       "      <td>110973</td>\n",
       "      <td>112</td>\n",
       "      <td>679677</td>\n",
       "    </tr>\n",
       "    <tr>\n",
       "      <td>4</td>\n",
       "      <td>1431226800000</td>\n",
       "      <td>179597</td>\n",
       "      <td>available</td>\n",
       "      <td>0</td>\n",
       "    </tr>\n",
       "    <tr>\n",
       "      <td>5</td>\n",
       "      <td>1431226800000</td>\n",
       "      <td>260136</td>\n",
       "      <td>available</td>\n",
       "      <td>1</td>\n",
       "    </tr>\n",
       "    <tr>\n",
       "      <td>6</td>\n",
       "      <td>1431226800000</td>\n",
       "      <td>138592</td>\n",
       "      <td>764</td>\n",
       "      <td>1285872</td>\n",
       "    </tr>\n",
       "    <tr>\n",
       "      <td>7</td>\n",
       "      <td>1431226800000</td>\n",
       "      <td>216269</td>\n",
       "      <td>364</td>\n",
       "      <td>336749</td>\n",
       "    </tr>\n",
       "    <tr>\n",
       "      <td>8</td>\n",
       "      <td>1431226800000</td>\n",
       "      <td>299944</td>\n",
       "      <td>764</td>\n",
       "      <td>1285872</td>\n",
       "    </tr>\n",
       "    <tr>\n",
       "      <td>9</td>\n",
       "      <td>1431226800000</td>\n",
       "      <td>146103</td>\n",
       "      <td>112</td>\n",
       "      <td>679677</td>\n",
       "    </tr>\n",
       "  </tbody>\n",
       "</table>\n",
       "</div>"
      ],
      "text/plain": [
       "       timestamp  itemid   property       value\n",
       "0  1431226800000  317951        790  n32880.000\n",
       "1  1431226800000  422842        480     1133979\n",
       "2  1431226800000  310185        776      103591\n",
       "3  1431226800000  110973        112      679677\n",
       "4  1431226800000  179597  available           0\n",
       "5  1431226800000  260136  available           1\n",
       "6  1431226800000  138592        764     1285872\n",
       "7  1431226800000  216269        364      336749\n",
       "8  1431226800000  299944        764     1285872\n",
       "9  1431226800000  146103        112      679677"
      ]
     },
     "execution_count": 30,
     "metadata": {},
     "output_type": "execute_result"
    }
   ],
   "source": [
    "# Import Properties\n",
    "\n",
    "df_properties1 = pd.DataFrame(pd.read_csv(\"item_properties_part1.csv\"))\n",
    "df_properties2 = pd.DataFrame(pd.read_csv(\"item_properties_part2.csv\"))\n",
    "df_properties = pd.concat([df_properties1, df_properties2])\n",
    "\n",
    "# data to be sorted by timestamp to reflect the historical change log.\n",
    "df_properties = df_properties.sort_values(by=['timestamp'], ascending=True).reset_index(drop=True)\n",
    "\n",
    "df_properties.head(10)"
   ]
  },
  {
   "cell_type": "code",
   "execution_count": 31,
   "metadata": {
    "scrolled": false
   },
   "outputs": [
    {
     "name": "stdout",
     "output_type": "stream",
     "text": [
      "<class 'pandas.core.frame.DataFrame'>\n",
      "RangeIndex: 20275902 entries, 0 to 20275901\n",
      "Data columns (total 4 columns):\n",
      "timestamp    int64\n",
      "itemid       int64\n",
      "property     object\n",
      "value        object\n",
      "dtypes: int64(2), object(2)\n",
      "memory usage: 618.8+ MB\n"
     ]
    }
   ],
   "source": [
    "df_properties.info()"
   ]
  },
  {
   "cell_type": "code",
   "execution_count": 32,
   "metadata": {},
   "outputs": [],
   "source": [
    "df_properties_len_orig = len(df_properties)"
   ]
  },
  {
   "cell_type": "code",
   "execution_count": 33,
   "metadata": {
    "scrolled": false
   },
   "outputs": [
    {
     "data": {
      "text/html": [
       "<div>\n",
       "<style scoped>\n",
       "    .dataframe tbody tr th:only-of-type {\n",
       "        vertical-align: middle;\n",
       "    }\n",
       "\n",
       "    .dataframe tbody tr th {\n",
       "        vertical-align: top;\n",
       "    }\n",
       "\n",
       "    .dataframe thead th {\n",
       "        text-align: right;\n",
       "    }\n",
       "</style>\n",
       "<table border=\"1\" class=\"dataframe\">\n",
       "  <thead>\n",
       "    <tr style=\"text-align: right;\">\n",
       "      <th></th>\n",
       "      <th>timestamp</th>\n",
       "      <th>itemid</th>\n",
       "      <th>property</th>\n",
       "      <th>value</th>\n",
       "    </tr>\n",
       "  </thead>\n",
       "  <tbody>\n",
       "    <tr>\n",
       "      <td>7</td>\n",
       "      <td>1431226800000</td>\n",
       "      <td>216269</td>\n",
       "      <td>364</td>\n",
       "      <td>336749</td>\n",
       "    </tr>\n",
       "    <tr>\n",
       "      <td>517912</td>\n",
       "      <td>1431226800000</td>\n",
       "      <td>216269</td>\n",
       "      <td>categoryid</td>\n",
       "      <td>1029</td>\n",
       "    </tr>\n",
       "    <tr>\n",
       "      <td>820516</td>\n",
       "      <td>1431226800000</td>\n",
       "      <td>216269</td>\n",
       "      <td>917</td>\n",
       "      <td>378110 n18720.000</td>\n",
       "    </tr>\n",
       "    <tr>\n",
       "      <td>873983</td>\n",
       "      <td>1431226800000</td>\n",
       "      <td>216269</td>\n",
       "      <td>available</td>\n",
       "      <td>0</td>\n",
       "    </tr>\n",
       "    <tr>\n",
       "      <td>928887</td>\n",
       "      <td>1431226800000</td>\n",
       "      <td>216269</td>\n",
       "      <td>790</td>\n",
       "      <td>n51900.000</td>\n",
       "    </tr>\n",
       "  </tbody>\n",
       "</table>\n",
       "</div>"
      ],
      "text/plain": [
       "            timestamp  itemid    property              value\n",
       "7       1431226800000  216269         364             336749\n",
       "517912  1431226800000  216269  categoryid               1029\n",
       "820516  1431226800000  216269         917  378110 n18720.000\n",
       "873983  1431226800000  216269   available                  0\n",
       "928887  1431226800000  216269         790         n51900.000"
      ]
     },
     "execution_count": 33,
     "metadata": {},
     "output_type": "execute_result"
    }
   ],
   "source": [
    "# All the categories names and values are hashed excepting \"categoryid\" and \"available\".\n",
    "\n",
    "df_properties.loc[df_properties['itemid'] == 216269].head()"
   ]
  },
  {
   "cell_type": "code",
   "execution_count": 34,
   "metadata": {},
   "outputs": [
    {
     "name": "stdout",
     "output_type": "stream",
     "text": [
      "<class 'pandas.core.frame.DataFrame'>\n",
      "RangeIndex: 12003814 entries, 0 to 12003813\n",
      "Data columns (total 4 columns):\n",
      "timestamp    int64\n",
      "itemid       int64\n",
      "property     object\n",
      "value        object\n",
      "dtypes: int64(2), object(2)\n",
      "memory usage: 366.3+ MB\n"
     ]
    }
   ],
   "source": [
    "# The model is unable to process the historical log so there's a need to trim the properties data.\n",
    "# The latest properties data is considered to be the best to describe items assuming the ecommerce team was \n",
    "# constantly improving the catalogue.\n",
    "# This action should lead to decrease of the dataframe size.\n",
    "\n",
    "df_properties = df_properties.sort_values(by=['timestamp'], ascending=True).drop_duplicates(\n",
    "    subset=['itemid', 'property'], \n",
    "    keep='last').reset_index(drop=True)\n",
    "\n",
    "df_properties.info()"
   ]
  },
  {
   "cell_type": "code",
   "execution_count": 35,
   "metadata": {
    "scrolled": false
   },
   "outputs": [
    {
     "name": "stdout",
     "output_type": "stream",
     "text": [
      "<class 'pandas.core.frame.DataFrame'>\n",
      "RangeIndex: 11586761 entries, 0 to 11586760\n",
      "Data columns (total 4 columns):\n",
      "timestamp    int64\n",
      "itemid       int64\n",
      "property     object\n",
      "value        object\n",
      "dtypes: int64(2), object(2)\n",
      "memory usage: 353.6+ MB\n"
     ]
    }
   ],
   "source": [
    "# Additionally, we can get rid of the 'available' property completely.\n",
    "# It won't make sense to consider any value as fixed (in stock or not in stock) for trainig purposes.\n",
    "# In production this property can be used in real time to filter out unavailable items from prediction.\n",
    "\n",
    "df_properties = df_properties[~df_properties.property.isin(['available'])].reset_index(drop=True)\n",
    "\n",
    "df_properties.info()"
   ]
  },
  {
   "cell_type": "code",
   "execution_count": 36,
   "metadata": {},
   "outputs": [
    {
     "name": "stdout",
     "output_type": "stream",
     "text": [
      "<class 'pandas.core.frame.DataFrame'>\n",
      "RangeIndex: 255722 entries, 0 to 255721\n",
      "Data columns (total 4 columns):\n",
      "timestamp    255722 non-null int64\n",
      "itemid       255722 non-null int64\n",
      "property     255722 non-null object\n",
      "value        255722 non-null object\n",
      "dtypes: int64(2), object(2)\n",
      "memory usage: 7.8+ MB\n"
     ]
    }
   ],
   "source": [
    "# As the next step the items which are not present in the cleaned dataframe can also be removed.\n",
    "\n",
    "df_properties = df_properties[df_properties.itemid.isin(df_events['itemid'])].reset_index(drop=True)\n",
    "\n",
    "df_properties.info()"
   ]
  },
  {
   "cell_type": "code",
   "execution_count": 37,
   "metadata": {},
   "outputs": [],
   "source": [
    "# Timestamp column can also be removed as it is redundant.\n",
    "\n",
    "df_properties = df_properties.drop(['timestamp'], axis=1)"
   ]
  },
  {
   "cell_type": "code",
   "execution_count": 38,
   "metadata": {},
   "outputs": [],
   "source": [
    "# Sort dataframe by itemid.\n",
    "\n",
    "df_properties = df_properties.sort_values(by=['itemid'], ascending=True).reset_index(drop=True)"
   ]
  },
  {
   "cell_type": "code",
   "execution_count": 39,
   "metadata": {},
   "outputs": [
    {
     "name": "stdout",
     "output_type": "stream",
     "text": [
      "Cleaned properties dataframe represents  1.26  % of original dataframe.\n"
     ]
    }
   ],
   "source": [
    "print('Cleaned properties dataframe represents ',\n",
    "      round(100*len(df_properties)/df_properties_len_orig,2),\n",
    "     ' % of original dataframe.')"
   ]
  },
  {
   "cell_type": "code",
   "execution_count": 40,
   "metadata": {
    "scrolled": false
   },
   "outputs": [
    {
     "name": "stdout",
     "output_type": "stream",
     "text": [
      "Cleaned dataset number of properties:  907\n",
      "Cleaned dataset number of properties values:  255722\n",
      "\n",
      "Cleaned dataset number of items:  9490\n",
      "Cleaned dataset number of users:  1015\n",
      "Cleaned dataset number of interactions:  13675\n"
     ]
    }
   ],
   "source": [
    "qty_all_properties = len(df_properties['property'].unique())\n",
    "print('Cleaned dataset number of properties: ', qty_all_properties)\n",
    "print('Cleaned dataset number of properties values: ', len(df_properties))\n",
    "print()\n",
    "print('Cleaned dataset number of items: ', qty_all_items)\n",
    "print('Cleaned dataset number of users: ', qty_all_users)\n",
    "print('Cleaned dataset number of interactions: ', len(df_events))"
   ]
  },
  {
   "cell_type": "code",
   "execution_count": 41,
   "metadata": {
    "scrolled": true
   },
   "outputs": [
    {
     "data": {
      "text/html": [
       "<div>\n",
       "<style scoped>\n",
       "    .dataframe tbody tr th:only-of-type {\n",
       "        vertical-align: middle;\n",
       "    }\n",
       "\n",
       "    .dataframe tbody tr th {\n",
       "        vertical-align: top;\n",
       "    }\n",
       "\n",
       "    .dataframe thead th {\n",
       "        text-align: right;\n",
       "    }\n",
       "</style>\n",
       "<table border=\"1\" class=\"dataframe\">\n",
       "  <thead>\n",
       "    <tr style=\"text-align: right;\">\n",
       "      <th></th>\n",
       "      <th>itemid</th>\n",
       "      <th>property</th>\n",
       "      <th>value</th>\n",
       "    </tr>\n",
       "  </thead>\n",
       "  <tbody>\n",
       "    <tr>\n",
       "      <td>0</td>\n",
       "      <td>15</td>\n",
       "      <td>678</td>\n",
       "      <td>245772</td>\n",
       "    </tr>\n",
       "    <tr>\n",
       "      <td>1</td>\n",
       "      <td>15</td>\n",
       "      <td>915</td>\n",
       "      <td>769062</td>\n",
       "    </tr>\n",
       "    <tr>\n",
       "      <td>2</td>\n",
       "      <td>15</td>\n",
       "      <td>112</td>\n",
       "      <td>679677</td>\n",
       "    </tr>\n",
       "    <tr>\n",
       "      <td>3</td>\n",
       "      <td>15</td>\n",
       "      <td>812</td>\n",
       "      <td>769062</td>\n",
       "    </tr>\n",
       "    <tr>\n",
       "      <td>4</td>\n",
       "      <td>15</td>\n",
       "      <td>764</td>\n",
       "      <td>1285872</td>\n",
       "    </tr>\n",
       "    <tr>\n",
       "      <td>5</td>\n",
       "      <td>15</td>\n",
       "      <td>839</td>\n",
       "      <td>245772</td>\n",
       "    </tr>\n",
       "    <tr>\n",
       "      <td>6</td>\n",
       "      <td>15</td>\n",
       "      <td>616</td>\n",
       "      <td>769062</td>\n",
       "    </tr>\n",
       "    <tr>\n",
       "      <td>7</td>\n",
       "      <td>15</td>\n",
       "      <td>888</td>\n",
       "      <td>789221</td>\n",
       "    </tr>\n",
       "    <tr>\n",
       "      <td>8</td>\n",
       "      <td>15</td>\n",
       "      <td>776</td>\n",
       "      <td>604754</td>\n",
       "    </tr>\n",
       "    <tr>\n",
       "      <td>9</td>\n",
       "      <td>15</td>\n",
       "      <td>917</td>\n",
       "      <td>789221</td>\n",
       "    </tr>\n",
       "  </tbody>\n",
       "</table>\n",
       "</div>"
      ],
      "text/plain": [
       "   itemid property    value\n",
       "0      15      678   245772\n",
       "1      15      915   769062\n",
       "2      15      112   679677\n",
       "3      15      812   769062\n",
       "4      15      764  1285872\n",
       "5      15      839   245772\n",
       "6      15      616   769062\n",
       "7      15      888   789221\n",
       "8      15      776   604754\n",
       "9      15      917   789221"
      ]
     },
     "execution_count": 41,
     "metadata": {},
     "output_type": "execute_result"
    }
   ],
   "source": [
    "df_properties.head(10)"
   ]
  },
  {
   "cell_type": "markdown",
   "metadata": {},
   "source": [
    "### Transforming item features data into the format acceptable by lightFM model."
   ]
  },
  {
   "cell_type": "code",
   "execution_count": 42,
   "metadata": {},
   "outputs": [],
   "source": [
    "# The item features information should be passed to the lightFM model in a format of csr matrix.\n",
    "# This matrix must have mapping of all items related to the train/test process and \n",
    "# all features available in cleaned properties dataframe.\n",
    "# Then the matrix is to be filled in with the properties values.\n",
    "# LightFM model would be then capable to create a latent features vector for each item.\n"
   ]
  },
  {
   "cell_type": "code",
   "execution_count": 43,
   "metadata": {
    "scrolled": false
   },
   "outputs": [
    {
     "data": {
      "text/html": [
       "<div>\n",
       "<style scoped>\n",
       "    .dataframe tbody tr th:only-of-type {\n",
       "        vertical-align: middle;\n",
       "    }\n",
       "\n",
       "    .dataframe tbody tr th {\n",
       "        vertical-align: top;\n",
       "    }\n",
       "\n",
       "    .dataframe thead th {\n",
       "        text-align: right;\n",
       "    }\n",
       "</style>\n",
       "<table border=\"1\" class=\"dataframe\">\n",
       "  <thead>\n",
       "    <tr style=\"text-align: right;\">\n",
       "      <th></th>\n",
       "      <th>itemid</th>\n",
       "      <th>property</th>\n",
       "      <th>value</th>\n",
       "    </tr>\n",
       "  </thead>\n",
       "  <tbody>\n",
       "    <tr>\n",
       "      <td>0</td>\n",
       "      <td>15</td>\n",
       "      <td>678</td>\n",
       "      <td>245772</td>\n",
       "    </tr>\n",
       "    <tr>\n",
       "      <td>1</td>\n",
       "      <td>15</td>\n",
       "      <td>915</td>\n",
       "      <td>769062</td>\n",
       "    </tr>\n",
       "    <tr>\n",
       "      <td>2</td>\n",
       "      <td>15</td>\n",
       "      <td>112</td>\n",
       "      <td>679677</td>\n",
       "    </tr>\n",
       "    <tr>\n",
       "      <td>3</td>\n",
       "      <td>15</td>\n",
       "      <td>812</td>\n",
       "      <td>769062</td>\n",
       "    </tr>\n",
       "    <tr>\n",
       "      <td>4</td>\n",
       "      <td>15</td>\n",
       "      <td>764</td>\n",
       "      <td>1285872</td>\n",
       "    </tr>\n",
       "  </tbody>\n",
       "</table>\n",
       "</div>"
      ],
      "text/plain": [
       "   itemid property    value\n",
       "0      15      678   245772\n",
       "1      15      915   769062\n",
       "2      15      112   679677\n",
       "3      15      812   769062\n",
       "4      15      764  1285872"
      ]
     },
     "execution_count": 43,
     "metadata": {},
     "output_type": "execute_result"
    }
   ],
   "source": [
    "df_properties.loc[df_properties['itemid'] == 15].head()"
   ]
  },
  {
   "cell_type": "code",
   "execution_count": 44,
   "metadata": {
    "scrolled": true
   },
   "outputs": [
    {
     "name": "stdout",
     "output_type": "stream",
     "text": [
      "Properties mapping has: 255722 records\n"
     ]
    }
   ],
   "source": [
    "# Dataset class has the method build_item_features that allows to fill in the properties data using created mapping.\n",
    "# Add feature mapping to the existing dataset using fit_partial method.\n",
    "# Data needs to be transformed to the acceptable format.\n",
    "# https://github.com/lyst/lightfm/issues/393#issuecomment-438237971\n",
    "\n",
    "\n",
    "# Transform item features list to the format required by Dataset class:\n",
    "# ['property:value']\n",
    "item_features_mapping = []\n",
    "for index, row in df_properties.iterrows():\n",
    "    item_features_mapping.append(str(row['property']) + ':' + str(row['value']))\n",
    "    \n",
    "print('Properties mapping has:', len(item_features_mapping), 'records')"
   ]
  },
  {
   "cell_type": "code",
   "execution_count": 45,
   "metadata": {},
   "outputs": [
    {
     "name": "stdout",
     "output_type": "stream",
     "text": [
      "Properties mapping has: 71436 unique records\n"
     ]
    }
   ],
   "source": [
    "# As the next step need to remove duplicates in this list.\n",
    "# So basically the feature mapping lenght is not equal to the number of features, \n",
    "# but is equal to the number of combinations ['property:value'] available in the dataframe.\n",
    "# There's no need to \"create\" all possible combinations mapping as this is redundant info.\n",
    "# Just need to create mapping for existing combinations.\n",
    "# Additionally, the LightFM package allows to add weight to this combination if needed.\n",
    "\n",
    "item_features_mapping = list( dict.fromkeys(item_features_mapping) )\n",
    "print('Properties mapping has:', len(item_features_mapping), 'unique records')"
   ]
  },
  {
   "cell_type": "code",
   "execution_count": 46,
   "metadata": {},
   "outputs": [
    {
     "name": "stdout",
     "output_type": "stream",
     "text": [
      "Finished in:  0.31  minutes\n"
     ]
    }
   ],
   "source": [
    "# Transform item features values to the format required by Dataset class:\n",
    "# [ (itemid_1, ['property_1:value_1', 'property_2:value_2']) ]\n",
    "\n",
    "start_time = time.time()\n",
    "\n",
    "item_features_values = []\n",
    "current_item = df_properties.itemid[0]\n",
    "current_item_features = []\n",
    "for index, row in df_properties.iterrows():\n",
    "    if row['itemid'] == current_item:\n",
    "        current_item_features.append(str(row['property']) + ':' + str(row['value']))\n",
    "    else:\n",
    "        item_features_values.append((current_item, current_item_features))\n",
    "        current_item = row['itemid']\n",
    "        current_item_features = [str(row['property']) + ':' + str(row['value'])]\n",
    "item_features_values.append((current_item, current_item_features))\n",
    "\n",
    "print('Finished in: ', round((time.time()-start_time)/60, 2), \" minutes\")"
   ]
  },
  {
   "cell_type": "code",
   "execution_count": 47,
   "metadata": {},
   "outputs": [
    {
     "data": {
      "text/plain": [
       "(15,\n",
       " ['678:245772',\n",
       "  '915:769062',\n",
       "  '112:679677',\n",
       "  '812:769062',\n",
       "  '764:1285872',\n",
       "  '839:245772',\n",
       "  '616:769062',\n",
       "  '888:789221',\n",
       "  '776:604754',\n",
       "  '917:789221',\n",
       "  '159:519769',\n",
       "  '364:1047026',\n",
       "  '698:433564',\n",
       "  '283:433564 245772 789221 809278 245772 1213953 429140 1322984 792235 79212 237874 654986 809278 1215254 249416 646928 750061 961877 1152409 780700 1128577 269926 754848 703408 469750 581854 1028919 1124417 484436 1256252 790607',\n",
       "  'categoryid:722',\n",
       "  '790:n8400.000',\n",
       "  '202:789221',\n",
       "  '227:433564',\n",
       "  '591:1116693',\n",
       "  '693:769062'])"
      ]
     },
     "execution_count": 47,
     "metadata": {},
     "output_type": "execute_result"
    }
   ],
   "source": [
    "item_features_values[0]"
   ]
  },
  {
   "cell_type": "markdown",
   "metadata": {},
   "source": [
    "# Preprocessing\n",
    "\n",
    "## Create LightFM dataset mapping"
   ]
  },
  {
   "cell_type": "code",
   "execution_count": 48,
   "metadata": {},
   "outputs": [],
   "source": [
    "# For model evaluation purposes (auc_score) dimensionality of train/test interaction matrices should be the same.\n",
    "# In order to achieve this, need to create mapping for all users and all items.\n",
    "# Then separately for train and test - the interactions will be filled in."
   ]
  },
  {
   "cell_type": "code",
   "execution_count": 49,
   "metadata": {},
   "outputs": [],
   "source": [
    "# Create mapping for users, items and item features.\n",
    "\n",
    "# The fit method of class Dataset takes the list of all the visitors and items.\n",
    "# The implementation allows to ignore duplicates.\n",
    "\n",
    "# Train set mapping.\n",
    "dataset = Dataset()\n",
    "dataset.fit(\n",
    "    users = (x for x in df_events['visitorid']),\n",
    "    items = (x for x in df_events['itemid']), \n",
    "    user_features=None, \n",
    "    item_features=item_features_mapping\n",
    ")\n",
    "\n",
    "dataset_train = dataset\n",
    "dataset_test = dataset"
   ]
  },
  {
   "cell_type": "markdown",
   "metadata": {},
   "source": [
    "## Populate LightFM dataset with data"
   ]
  },
  {
   "cell_type": "code",
   "execution_count": 50,
   "metadata": {
    "scrolled": true
   },
   "outputs": [
    {
     "name": "stdout",
     "output_type": "stream",
     "text": [
      "Finished in:  0.0  minutes\n"
     ]
    }
   ],
   "source": [
    "# Populate interactions matrix for train and test sets.\n",
    "\n",
    "start_time = time.time()\n",
    "\n",
    "(interactions_train, weights_train) = dataset_train.build_interactions(df_events_train_interactions)\n",
    "(interactions_test, weights_test) = dataset_test.build_interactions(df_events_test_interactions)\n",
    "\n",
    "\n",
    "# Choose whether interactions or weights are to be used at next stages.\n",
    "\n",
    "train = interactions_train\n",
    "test = interactions_test\n",
    "\n",
    "print('Finished in: ', round((time.time()-start_time)/60, 2), \" minutes\")"
   ]
  },
  {
   "cell_type": "code",
   "execution_count": 51,
   "metadata": {
    "scrolled": true
   },
   "outputs": [
    {
     "name": "stdout",
     "output_type": "stream",
     "text": [
      "Finished in:  0.0  minutes\n"
     ]
    }
   ],
   "source": [
    "# Populate item features matrix with values.\n",
    "\n",
    "start_time = time.time()\n",
    "\n",
    "item_features = dataset.build_item_features(item_features_values)\n",
    "\n",
    "print('Finished in: ', round((time.time()-start_time)/60, 2), \" minutes\")"
   ]
  },
  {
   "cell_type": "code",
   "execution_count": 52,
   "metadata": {},
   "outputs": [
    {
     "name": "stdout",
     "output_type": "stream",
     "text": [
      "Dataset class cross-check.\n",
      "\n",
      "All users expected: 1015\n",
      "Actual number of users: 1015\n",
      "\n",
      "All items expected: 9490\n",
      "Actual number of items: 9490\n",
      "\n",
      "Item features matrix is expected to be of size: ( 9490 , 80926 )\n",
      "Actual size is: (9490, 80926)\n",
      "\n",
      "Item features matrix number of values is expected to be: 265212\n",
      "Actual number of values is: 265212\n",
      "\n",
      "Interactions matrix is expected to be of the size: ( 1015 , 9490 )\n",
      "Actual size is: (1015, 9490)\n",
      "\n",
      "Interactions matrix number of values is expected to be: 12077\n",
      "Actual number of values is: 12077\n",
      "\n"
     ]
    }
   ],
   "source": [
    "print('Dataset class cross-check.')\n",
    "print()\n",
    "\n",
    "num_users, num_items = dataset.interactions_shape()\n",
    "print('All users expected:', qty_all_users)\n",
    "print('Actual number of users:', num_users)\n",
    "print()\n",
    "print('All items expected:', qty_all_items)\n",
    "print('Actual number of items:', num_items)\n",
    "print()\n",
    "\n",
    "print('Item features matrix is expected to be of size: (', qty_all_items, ',', \n",
    "      qty_all_items+len(item_features_mapping), ')')\n",
    "# Reason for this size is that there's a space for latent vector representation of each item plus all features.\n",
    "print('Actual size is:', dataset.item_features_shape())\n",
    "print()\n",
    "\n",
    "print('Item features matrix number of values is expected to be:', len(df_properties)+qty_all_items)\n",
    "# Reason for this size is that there's a space for latent vector representation of each item plus all features.\n",
    "print('Actual number of values is:', item_features.getnnz())\n",
    "print()\n",
    "\n",
    "print('Interactions matrix is expected to be of the size: (', qty_all_users, ',', qty_all_items, ')')\n",
    "print('Actual size is:', dataset.interactions_shape())\n",
    "print()\n",
    "\n",
    "print('Interactions matrix number of values is expected to be:', len(df_events_train) + len(df_events_test))\n",
    "print('Actual number of values is:', train.getnnz() + test.getnnz())\n",
    "print()"
   ]
  },
  {
   "cell_type": "markdown",
   "metadata": {},
   "source": [
    "# LightFM hybrid model training "
   ]
  },
  {
   "cell_type": "code",
   "execution_count": 53,
   "metadata": {},
   "outputs": [
    {
     "name": "stdout",
     "output_type": "stream",
     "text": [
      "Model trained in:  0.4  minutes\n"
     ]
    }
   ],
   "source": [
    "# Update the model with item features. This will mean hybrid predictions.\n",
    "\n",
    "start_time = time.time()\n",
    "\n",
    "model_hybrid = LightFM(no_components=100, loss='warp', random_state=2020)\n",
    "\n",
    "model_hybrid.fit(train, \n",
    "                 item_features=item_features, \n",
    "                 epochs=100, \n",
    "                 num_threads=4)\n",
    "\n",
    "print('Model trained in: ', round((time.time()-start_time)/60, 2), \" minutes\")"
   ]
  },
  {
   "cell_type": "code",
   "execution_count": 54,
   "metadata": {},
   "outputs": [
    {
     "data": {
      "text/plain": [
       "{'loss': 'warp',\n",
       " 'learning_schedule': 'adagrad',\n",
       " 'no_components': 100,\n",
       " 'learning_rate': 0.05,\n",
       " 'k': 5,\n",
       " 'n': 10,\n",
       " 'rho': 0.95,\n",
       " 'epsilon': 1e-06,\n",
       " 'max_sampled': 10,\n",
       " 'item_alpha': 0.0,\n",
       " 'user_alpha': 0.0,\n",
       " 'random_state': RandomState(MT19937) at 0x7F82B8DC0160}"
      ]
     },
     "execution_count": 54,
     "metadata": {},
     "output_type": "execute_result"
    }
   ],
   "source": [
    "model_hybrid.get_params()"
   ]
  },
  {
   "cell_type": "markdown",
   "metadata": {},
   "source": [
    "# Model evaluation (auc_score, precision_at_k)"
   ]
  },
  {
   "cell_type": "code",
   "execution_count": 55,
   "metadata": {},
   "outputs": [],
   "source": [
    "# Since the recommendation engine is a ranking problem, AUC ROC and Precision at K will be used.\n",
    "# Both of them are measuring the ranking quality.\n",
    "# Set parameter \"k\" value to check precision at \"k\"\n",
    "\n",
    "k = 3"
   ]
  },
  {
   "cell_type": "code",
   "execution_count": 56,
   "metadata": {},
   "outputs": [
    {
     "name": "stdout",
     "output_type": "stream",
     "text": [
      "Train AUC score:  0.99953717\n",
      "Calculated in:  0.13  minutes\n"
     ]
    }
   ],
   "source": [
    "start_time = time.time()\n",
    "\n",
    "train_auc = auc_score(model_hybrid, \n",
    "                      train, \n",
    "                      item_features=item_features, \n",
    "                      num_threads=4).mean()\n",
    "\n",
    "print('Train AUC score: ', train_auc)\n",
    "print('Calculated in: ', round((time.time()-start_time)/60, 2), \" minutes\")"
   ]
  },
  {
   "cell_type": "code",
   "execution_count": 57,
   "metadata": {},
   "outputs": [
    {
     "name": "stdout",
     "output_type": "stream",
     "text": [
      "Test AUC score:  0.84518975\n",
      "Calculated in:  0.05  minutes\n"
     ]
    }
   ],
   "source": [
    "start_time = time.time()\n",
    "\n",
    "# Train interactions fill be also passed to avoid model re-recommending items to users.\n",
    "test_auc = auc_score(model_hybrid,\n",
    "                     test, \n",
    "                     item_features=item_features, \n",
    "                     train_interactions = train, \n",
    "                     num_threads=4).mean()\n",
    "\n",
    "print('Test AUC score: ', test_auc)\n",
    "print('Calculated in: ', round((time.time()-start_time)/60, 2), \" minutes\")"
   ]
  },
  {
   "cell_type": "code",
   "execution_count": 58,
   "metadata": {},
   "outputs": [
    {
     "name": "stdout",
     "output_type": "stream",
     "text": [
      "Train precision at k:  0.5577252\n",
      "Calculated in:  0.13  minutes\n"
     ]
    }
   ],
   "source": [
    "start_time = time.time()\n",
    "\n",
    "train_precision = precision_at_k(model_hybrid, \n",
    "                                 train,\n",
    "                                 item_features=item_features, \n",
    "                                 num_threads=4, \n",
    "                                 k=k).mean()\n",
    "\n",
    "print('Train precision at k: ', train_precision)\n",
    "print('Calculated in: ', round((time.time()-start_time)/60, 2), \" minutes\")"
   ]
  },
  {
   "cell_type": "code",
   "execution_count": 59,
   "metadata": {
    "scrolled": false
   },
   "outputs": [
    {
     "name": "stdout",
     "output_type": "stream",
     "text": [
      "Test precision at k:  0.030222224\n",
      "Calculated in:  0.05  minutes\n"
     ]
    }
   ],
   "source": [
    "start_time = time.time()\n",
    "\n",
    "test_precision = precision_at_k(model_hybrid, \n",
    "                                test, \n",
    "                                item_features=item_features, \n",
    "                                train_interactions = train, \n",
    "                                num_threads=4, \n",
    "                                k=k).mean()\n",
    "\n",
    "print('Test precision at k: ', test_precision)\n",
    "print('Calculated in: ', round((time.time()-start_time)/60, 2), \" minutes\")"
   ]
  },
  {
   "cell_type": "markdown",
   "metadata": {},
   "source": [
    "# Visualize learning process"
   ]
  },
  {
   "cell_type": "code",
   "execution_count": 88,
   "metadata": {},
   "outputs": [],
   "source": [
    "def learning_vis_auc(train, test, item_features, epochs):\n",
    "    \n",
    "    stats = pd.DataFrame(columns = ['epochs', 'train_auc', 'test_auc', 'runtime_min'])\n",
    "    model_hybrid = LightFM(no_components=100, loss='warp', random_state=2020)\n",
    "    \n",
    "    total_runtime_min = 0\n",
    "    \n",
    "    for epoch in range(1,epochs+1):\n",
    "        \n",
    "        start_time = time.time()\n",
    "        \n",
    "        model_hybrid.fit(train, \n",
    "                     item_features=item_features, \n",
    "                     epochs=epoch, \n",
    "                     num_threads=4)\n",
    "        \n",
    "        train_auc = auc_score(model_hybrid, \n",
    "                      train, \n",
    "                      item_features=item_features, \n",
    "                      num_threads=4).mean()\n",
    "\n",
    "        test_auc = auc_score(model_hybrid,\n",
    "                     test, \n",
    "                     item_features=item_features, \n",
    "                     train_interactions = train, \n",
    "                     num_threads=4).mean()\n",
    "\n",
    "        runtime_min = round((time.time()-start_time)/60, 6)        \n",
    "        total_runtime_min += runtime_min\n",
    "        \n",
    "        stats = stats.append({\n",
    "            'epochs': int(epoch), \n",
    "            'train_auc': float(train_auc), \n",
    "            'test_auc': float(test_auc),\n",
    "            'runtime_min': float(runtime_min)},\n",
    "            ignore_index=True)\n",
    "        \n",
    "    \n",
    "    import matplotlib.pyplot as plt\n",
    "    figure, axis = plt.subplots()\n",
    "    figure.suptitle('Learning progress: AUC')\n",
    "    axis.plot(stats['epochs'], stats['train_auc'], label='train')\n",
    "    axis.plot(stats['epochs'], stats['test_auc'], label='test')\n",
    "    axis.set_xlabel('Epochs')\n",
    "    axis.set_ylabel('AUC score')\n",
    "    axis.legend()\n",
    "    \n",
    "    return(figure, stats, total_runtime_min)"
   ]
  },
  {
   "cell_type": "code",
   "execution_count": 89,
   "metadata": {
    "scrolled": true
   },
   "outputs": [
    {
     "data": {
      "image/png": "[encoded data removed]",
      "text/plain": [
       "<Figure size 432x288 with 1 Axes>"
      ]
     },
     "metadata": {
      "needs_background": "light"
     },
     "output_type": "display_data"
    }
   ],
   "source": [
    "learning_vis_auc = learning_vis_auc(train, test, item_features, epochs=30)"
   ]
  },
  {
   "cell_type": "code",
   "execution_count": 90,
   "metadata": {},
   "outputs": [
    {
     "data": {
      "image/png": "[encoded data removed]",
      "text/plain": [
       "<Figure size 432x288 with 1 Axes>"
      ]
     },
     "execution_count": 90,
     "metadata": {},
     "output_type": "execute_result"
    }
   ],
   "source": [
    "learning_vis_auc[0]"
   ]
  },
  {
   "cell_type": "code",
   "execution_count": 91,
   "metadata": {},
   "outputs": [
    {
     "data": {
      "text/html": [
       "<div>\n",
       "<style scoped>\n",
       "    .dataframe tbody tr th:only-of-type {\n",
       "        vertical-align: middle;\n",
       "    }\n",
       "\n",
       "    .dataframe tbody tr th {\n",
       "        vertical-align: top;\n",
       "    }\n",
       "\n",
       "    .dataframe thead th {\n",
       "        text-align: right;\n",
       "    }\n",
       "</style>\n",
       "<table border=\"1\" class=\"dataframe\">\n",
       "  <thead>\n",
       "    <tr style=\"text-align: right;\">\n",
       "      <th></th>\n",
       "      <th>epochs</th>\n",
       "      <th>train_auc</th>\n",
       "      <th>test_auc</th>\n",
       "      <th>runtime_min</th>\n",
       "    </tr>\n",
       "  </thead>\n",
       "  <tbody>\n",
       "    <tr>\n",
       "      <td>0</td>\n",
       "      <td>1.0</td>\n",
       "      <td>0.584625</td>\n",
       "      <td>0.659063</td>\n",
       "      <td>0.190102</td>\n",
       "    </tr>\n",
       "    <tr>\n",
       "      <td>1</td>\n",
       "      <td>2.0</td>\n",
       "      <td>0.652326</td>\n",
       "      <td>0.687526</td>\n",
       "      <td>0.187807</td>\n",
       "    </tr>\n",
       "    <tr>\n",
       "      <td>2</td>\n",
       "      <td>3.0</td>\n",
       "      <td>0.707227</td>\n",
       "      <td>0.715083</td>\n",
       "      <td>0.209109</td>\n",
       "    </tr>\n",
       "    <tr>\n",
       "      <td>3</td>\n",
       "      <td>4.0</td>\n",
       "      <td>0.773998</td>\n",
       "      <td>0.748424</td>\n",
       "      <td>0.223802</td>\n",
       "    </tr>\n",
       "    <tr>\n",
       "      <td>4</td>\n",
       "      <td>5.0</td>\n",
       "      <td>0.815143</td>\n",
       "      <td>0.772585</td>\n",
       "      <td>0.235488</td>\n",
       "    </tr>\n",
       "    <tr>\n",
       "      <td>5</td>\n",
       "      <td>6.0</td>\n",
       "      <td>0.848540</td>\n",
       "      <td>0.783246</td>\n",
       "      <td>0.258405</td>\n",
       "    </tr>\n",
       "    <tr>\n",
       "      <td>6</td>\n",
       "      <td>7.0</td>\n",
       "      <td>0.880098</td>\n",
       "      <td>0.798207</td>\n",
       "      <td>0.257705</td>\n",
       "    </tr>\n",
       "    <tr>\n",
       "      <td>7</td>\n",
       "      <td>8.0</td>\n",
       "      <td>0.891320</td>\n",
       "      <td>0.801657</td>\n",
       "      <td>0.254154</td>\n",
       "    </tr>\n",
       "    <tr>\n",
       "      <td>8</td>\n",
       "      <td>9.0</td>\n",
       "      <td>0.910261</td>\n",
       "      <td>0.815450</td>\n",
       "      <td>0.252459</td>\n",
       "    </tr>\n",
       "    <tr>\n",
       "      <td>9</td>\n",
       "      <td>10.0</td>\n",
       "      <td>0.919299</td>\n",
       "      <td>0.818450</td>\n",
       "      <td>0.260908</td>\n",
       "    </tr>\n",
       "    <tr>\n",
       "      <td>10</td>\n",
       "      <td>11.0</td>\n",
       "      <td>0.924966</td>\n",
       "      <td>0.824567</td>\n",
       "      <td>0.264089</td>\n",
       "    </tr>\n",
       "    <tr>\n",
       "      <td>11</td>\n",
       "      <td>12.0</td>\n",
       "      <td>0.937301</td>\n",
       "      <td>0.824329</td>\n",
       "      <td>0.282280</td>\n",
       "    </tr>\n",
       "    <tr>\n",
       "      <td>12</td>\n",
       "      <td>13.0</td>\n",
       "      <td>0.943160</td>\n",
       "      <td>0.831132</td>\n",
       "      <td>0.289480</td>\n",
       "    </tr>\n",
       "    <tr>\n",
       "      <td>13</td>\n",
       "      <td>14.0</td>\n",
       "      <td>0.949915</td>\n",
       "      <td>0.836199</td>\n",
       "      <td>0.289713</td>\n",
       "    </tr>\n",
       "    <tr>\n",
       "      <td>14</td>\n",
       "      <td>15.0</td>\n",
       "      <td>0.954064</td>\n",
       "      <td>0.837119</td>\n",
       "      <td>0.297685</td>\n",
       "    </tr>\n",
       "    <tr>\n",
       "      <td>15</td>\n",
       "      <td>16.0</td>\n",
       "      <td>0.958236</td>\n",
       "      <td>0.842056</td>\n",
       "      <td>0.304255</td>\n",
       "    </tr>\n",
       "    <tr>\n",
       "      <td>16</td>\n",
       "      <td>17.0</td>\n",
       "      <td>0.964534</td>\n",
       "      <td>0.837606</td>\n",
       "      <td>0.310307</td>\n",
       "    </tr>\n",
       "    <tr>\n",
       "      <td>17</td>\n",
       "      <td>18.0</td>\n",
       "      <td>0.965814</td>\n",
       "      <td>0.837077</td>\n",
       "      <td>0.314598</td>\n",
       "    </tr>\n",
       "    <tr>\n",
       "      <td>18</td>\n",
       "      <td>19.0</td>\n",
       "      <td>0.970177</td>\n",
       "      <td>0.841845</td>\n",
       "      <td>0.320340</td>\n",
       "    </tr>\n",
       "    <tr>\n",
       "      <td>19</td>\n",
       "      <td>20.0</td>\n",
       "      <td>0.972975</td>\n",
       "      <td>0.833918</td>\n",
       "      <td>0.327683</td>\n",
       "    </tr>\n",
       "    <tr>\n",
       "      <td>20</td>\n",
       "      <td>21.0</td>\n",
       "      <td>0.974793</td>\n",
       "      <td>0.843326</td>\n",
       "      <td>0.334663</td>\n",
       "    </tr>\n",
       "    <tr>\n",
       "      <td>21</td>\n",
       "      <td>22.0</td>\n",
       "      <td>0.979113</td>\n",
       "      <td>0.839447</td>\n",
       "      <td>0.335109</td>\n",
       "    </tr>\n",
       "    <tr>\n",
       "      <td>22</td>\n",
       "      <td>23.0</td>\n",
       "      <td>0.980547</td>\n",
       "      <td>0.840417</td>\n",
       "      <td>0.336740</td>\n",
       "    </tr>\n",
       "    <tr>\n",
       "      <td>23</td>\n",
       "      <td>24.0</td>\n",
       "      <td>0.982619</td>\n",
       "      <td>0.842668</td>\n",
       "      <td>0.314378</td>\n",
       "    </tr>\n",
       "    <tr>\n",
       "      <td>24</td>\n",
       "      <td>25.0</td>\n",
       "      <td>0.985624</td>\n",
       "      <td>0.841606</td>\n",
       "      <td>0.323505</td>\n",
       "    </tr>\n",
       "    <tr>\n",
       "      <td>25</td>\n",
       "      <td>26.0</td>\n",
       "      <td>0.987442</td>\n",
       "      <td>0.844478</td>\n",
       "      <td>0.331925</td>\n",
       "    </tr>\n",
       "    <tr>\n",
       "      <td>26</td>\n",
       "      <td>27.0</td>\n",
       "      <td>0.987416</td>\n",
       "      <td>0.847990</td>\n",
       "      <td>0.341642</td>\n",
       "    </tr>\n",
       "    <tr>\n",
       "      <td>27</td>\n",
       "      <td>28.0</td>\n",
       "      <td>0.989394</td>\n",
       "      <td>0.845028</td>\n",
       "      <td>0.349552</td>\n",
       "    </tr>\n",
       "    <tr>\n",
       "      <td>28</td>\n",
       "      <td>29.0</td>\n",
       "      <td>0.990689</td>\n",
       "      <td>0.846118</td>\n",
       "      <td>0.369739</td>\n",
       "    </tr>\n",
       "    <tr>\n",
       "      <td>29</td>\n",
       "      <td>30.0</td>\n",
       "      <td>0.991689</td>\n",
       "      <td>0.844355</td>\n",
       "      <td>0.372747</td>\n",
       "    </tr>\n",
       "  </tbody>\n",
       "</table>\n",
       "</div>"
      ],
      "text/plain": [
       "    epochs  train_auc  test_auc  runtime_min\n",
       "0      1.0   0.584625  0.659063     0.190102\n",
       "1      2.0   0.652326  0.687526     0.187807\n",
       "2      3.0   0.707227  0.715083     0.209109\n",
       "3      4.0   0.773998  0.748424     0.223802\n",
       "4      5.0   0.815143  0.772585     0.235488\n",
       "5      6.0   0.848540  0.783246     0.258405\n",
       "6      7.0   0.880098  0.798207     0.257705\n",
       "7      8.0   0.891320  0.801657     0.254154\n",
       "8      9.0   0.910261  0.815450     0.252459\n",
       "9     10.0   0.919299  0.818450     0.260908\n",
       "10    11.0   0.924966  0.824567     0.264089\n",
       "11    12.0   0.937301  0.824329     0.282280\n",
       "12    13.0   0.943160  0.831132     0.289480\n",
       "13    14.0   0.949915  0.836199     0.289713\n",
       "14    15.0   0.954064  0.837119     0.297685\n",
       "15    16.0   0.958236  0.842056     0.304255\n",
       "16    17.0   0.964534  0.837606     0.310307\n",
       "17    18.0   0.965814  0.837077     0.314598\n",
       "18    19.0   0.970177  0.841845     0.320340\n",
       "19    20.0   0.972975  0.833918     0.327683\n",
       "20    21.0   0.974793  0.843326     0.334663\n",
       "21    22.0   0.979113  0.839447     0.335109\n",
       "22    23.0   0.980547  0.840417     0.336740\n",
       "23    24.0   0.982619  0.842668     0.314378\n",
       "24    25.0   0.985624  0.841606     0.323505\n",
       "25    26.0   0.987442  0.844478     0.331925\n",
       "26    27.0   0.987416  0.847990     0.341642\n",
       "27    28.0   0.989394  0.845028     0.349552\n",
       "28    29.0   0.990689  0.846118     0.369739\n",
       "29    30.0   0.991689  0.844355     0.372747"
      ]
     },
     "execution_count": 91,
     "metadata": {},
     "output_type": "execute_result"
    }
   ],
   "source": [
    "learning_vis_auc[1]"
   ]
  },
  {
   "cell_type": "code",
   "execution_count": 92,
   "metadata": {},
   "outputs": [
    {
     "data": {
      "text/plain": [
       "8.740369"
      ]
     },
     "execution_count": 92,
     "metadata": {},
     "output_type": "execute_result"
    }
   ],
   "source": [
    "learning_vis_auc[2]"
   ]
  },
  {
   "cell_type": "code",
   "execution_count": 99,
   "metadata": {},
   "outputs": [],
   "source": [
    "def learning_vis_precision(train, test, item_features, k, epochs):\n",
    "    \n",
    "    stats = pd.DataFrame(columns = ['epochs', 'train_precision', 'test_precision', '@k' 'runtime_min'])\n",
    "    model_hybrid = LightFM(no_components=100, loss='warp', random_state=2020)\n",
    "    \n",
    "    total_runtime_min = 0\n",
    "    \n",
    "    for epoch in range(1,epochs+1):\n",
    "        \n",
    "        start_time = time.time()\n",
    "        \n",
    "        model_hybrid.fit(train, \n",
    "                     item_features=item_features, \n",
    "                     epochs=epoch, \n",
    "                     num_threads=4)\n",
    "        \n",
    "        train_precision = precision_at_k(model_hybrid, \n",
    "                                 train,\n",
    "                                 item_features=item_features, \n",
    "                                 num_threads=4, \n",
    "                                 k=k).mean()\n",
    "\n",
    "        test_precision = precision_at_k(model_hybrid, \n",
    "                                 test,\n",
    "                                 item_features=item_features, \n",
    "                                 num_threads=4, \n",
    "                                 k=k).mean()\n",
    "\n",
    "        runtime_min = round((time.time()-start_time)/60, 6)\n",
    "        total_runtime_min += runtime_min\n",
    "        \n",
    "        stats = stats.append({\n",
    "            'epochs': int(epoch), \n",
    "            'train_precision': float(train_precision), \n",
    "            'test_precision': float(test_precision),\n",
    "            '@k': int(k), \n",
    "            'runtime_min': float(runtime_min)},\n",
    "            ignore_index=True)\n",
    "        \n",
    "    \n",
    "    import matplotlib.pyplot as plt\n",
    "    figure, axis = plt.subplots()\n",
    "    figure.suptitle('Learning progress: precision @%s' %k)\n",
    "    axis.plot(stats['epochs'], stats['train_precision'], label='train')\n",
    "    axis.plot(stats['epochs'], stats['test_precision'], label='test')\n",
    "    axis.set_xlabel('Epochs')\n",
    "    axis.set_ylabel('Precision')\n",
    "    axis.legend()\n",
    "    \n",
    "    return(figure, stats, total_runtime_min)"
   ]
  },
  {
   "cell_type": "code",
   "execution_count": 100,
   "metadata": {},
   "outputs": [
    {
     "data": {
      "image/png": "[encoded data removed]",
      "text/plain": [
       "<Figure size 432x288 with 1 Axes>"
      ]
     },
     "metadata": {
      "needs_background": "light"
     },
     "output_type": "display_data"
    }
   ],
   "source": [
    "prec_at_3 = learning_vis_precision(train, test, item_features, k=3, epochs=30)"
   ]
  },
  {
   "cell_type": "code",
   "execution_count": 101,
   "metadata": {},
   "outputs": [
    {
     "data": {
      "image/png": "[encoded data removed]",
      "text/plain": [
       "<Figure size 432x288 with 1 Axes>"
      ]
     },
     "execution_count": 101,
     "metadata": {},
     "output_type": "execute_result"
    }
   ],
   "source": [
    "prec_at_3[0]"
   ]
  },
  {
   "cell_type": "code",
   "execution_count": 102,
   "metadata": {},
   "outputs": [
    {
     "data": {
      "text/html": [
       "<div>\n",
       "<style scoped>\n",
       "    .dataframe tbody tr th:only-of-type {\n",
       "        vertical-align: middle;\n",
       "    }\n",
       "\n",
       "    .dataframe tbody tr th {\n",
       "        vertical-align: top;\n",
       "    }\n",
       "\n",
       "    .dataframe thead th {\n",
       "        text-align: right;\n",
       "    }\n",
       "</style>\n",
       "<table border=\"1\" class=\"dataframe\">\n",
       "  <thead>\n",
       "    <tr style=\"text-align: right;\">\n",
       "      <th></th>\n",
       "      <th>epochs</th>\n",
       "      <th>train_precision</th>\n",
       "      <th>test_precision</th>\n",
       "      <th>@kruntime_min</th>\n",
       "      <th>@k</th>\n",
       "      <th>runtime_min</th>\n",
       "    </tr>\n",
       "  </thead>\n",
       "  <tbody>\n",
       "    <tr>\n",
       "      <td>0</td>\n",
       "      <td>1.0</td>\n",
       "      <td>0.004454</td>\n",
       "      <td>0.000889</td>\n",
       "      <td>NaN</td>\n",
       "      <td>3.0</td>\n",
       "      <td>0.181375</td>\n",
       "    </tr>\n",
       "    <tr>\n",
       "      <td>1</td>\n",
       "      <td>2.0</td>\n",
       "      <td>0.005481</td>\n",
       "      <td>0.004444</td>\n",
       "      <td>NaN</td>\n",
       "      <td>3.0</td>\n",
       "      <td>0.191418</td>\n",
       "    </tr>\n",
       "    <tr>\n",
       "      <td>2</td>\n",
       "      <td>3.0</td>\n",
       "      <td>0.011990</td>\n",
       "      <td>0.002667</td>\n",
       "      <td>NaN</td>\n",
       "      <td>3.0</td>\n",
       "      <td>0.202482</td>\n",
       "    </tr>\n",
       "    <tr>\n",
       "      <td>3</td>\n",
       "      <td>4.0</td>\n",
       "      <td>0.020898</td>\n",
       "      <td>0.011556</td>\n",
       "      <td>NaN</td>\n",
       "      <td>3.0</td>\n",
       "      <td>0.217944</td>\n",
       "    </tr>\n",
       "    <tr>\n",
       "      <td>4</td>\n",
       "      <td>5.0</td>\n",
       "      <td>0.030147</td>\n",
       "      <td>0.011556</td>\n",
       "      <td>NaN</td>\n",
       "      <td>3.0</td>\n",
       "      <td>0.217051</td>\n",
       "    </tr>\n",
       "    <tr>\n",
       "      <td>5</td>\n",
       "      <td>6.0</td>\n",
       "      <td>0.035286</td>\n",
       "      <td>0.013333</td>\n",
       "      <td>NaN</td>\n",
       "      <td>3.0</td>\n",
       "      <td>0.248452</td>\n",
       "    </tr>\n",
       "    <tr>\n",
       "      <td>6</td>\n",
       "      <td>7.0</td>\n",
       "      <td>0.055498</td>\n",
       "      <td>0.016000</td>\n",
       "      <td>NaN</td>\n",
       "      <td>3.0</td>\n",
       "      <td>0.247154</td>\n",
       "    </tr>\n",
       "    <tr>\n",
       "      <td>7</td>\n",
       "      <td>8.0</td>\n",
       "      <td>0.063720</td>\n",
       "      <td>0.017778</td>\n",
       "      <td>NaN</td>\n",
       "      <td>3.0</td>\n",
       "      <td>0.253425</td>\n",
       "    </tr>\n",
       "    <tr>\n",
       "      <td>8</td>\n",
       "      <td>9.0</td>\n",
       "      <td>0.081535</td>\n",
       "      <td>0.018667</td>\n",
       "      <td>NaN</td>\n",
       "      <td>3.0</td>\n",
       "      <td>0.237412</td>\n",
       "    </tr>\n",
       "    <tr>\n",
       "      <td>9</td>\n",
       "      <td>10.0</td>\n",
       "      <td>0.089414</td>\n",
       "      <td>0.017778</td>\n",
       "      <td>NaN</td>\n",
       "      <td>3.0</td>\n",
       "      <td>0.250472</td>\n",
       "    </tr>\n",
       "    <tr>\n",
       "      <td>10</td>\n",
       "      <td>11.0</td>\n",
       "      <td>0.094896</td>\n",
       "      <td>0.019556</td>\n",
       "      <td>NaN</td>\n",
       "      <td>3.0</td>\n",
       "      <td>0.248719</td>\n",
       "    </tr>\n",
       "    <tr>\n",
       "      <td>11</td>\n",
       "      <td>12.0</td>\n",
       "      <td>0.105858</td>\n",
       "      <td>0.020444</td>\n",
       "      <td>NaN</td>\n",
       "      <td>3.0</td>\n",
       "      <td>0.266101</td>\n",
       "    </tr>\n",
       "    <tr>\n",
       "      <td>12</td>\n",
       "      <td>13.0</td>\n",
       "      <td>0.109627</td>\n",
       "      <td>0.021333</td>\n",
       "      <td>NaN</td>\n",
       "      <td>3.0</td>\n",
       "      <td>0.261177</td>\n",
       "    </tr>\n",
       "    <tr>\n",
       "      <td>13</td>\n",
       "      <td>14.0</td>\n",
       "      <td>0.102775</td>\n",
       "      <td>0.020444</td>\n",
       "      <td>NaN</td>\n",
       "      <td>3.0</td>\n",
       "      <td>0.285052</td>\n",
       "    </tr>\n",
       "    <tr>\n",
       "      <td>14</td>\n",
       "      <td>15.0</td>\n",
       "      <td>0.117849</td>\n",
       "      <td>0.021333</td>\n",
       "      <td>NaN</td>\n",
       "      <td>3.0</td>\n",
       "      <td>0.280522</td>\n",
       "    </tr>\n",
       "    <tr>\n",
       "      <td>15</td>\n",
       "      <td>16.0</td>\n",
       "      <td>0.125043</td>\n",
       "      <td>0.017778</td>\n",
       "      <td>NaN</td>\n",
       "      <td>3.0</td>\n",
       "      <td>0.295803</td>\n",
       "    </tr>\n",
       "    <tr>\n",
       "      <td>16</td>\n",
       "      <td>17.0</td>\n",
       "      <td>0.138746</td>\n",
       "      <td>0.019556</td>\n",
       "      <td>NaN</td>\n",
       "      <td>3.0</td>\n",
       "      <td>0.294798</td>\n",
       "    </tr>\n",
       "    <tr>\n",
       "      <td>17</td>\n",
       "      <td>18.0</td>\n",
       "      <td>0.134978</td>\n",
       "      <td>0.019556</td>\n",
       "      <td>NaN</td>\n",
       "      <td>3.0</td>\n",
       "      <td>0.331410</td>\n",
       "    </tr>\n",
       "    <tr>\n",
       "      <td>18</td>\n",
       "      <td>19.0</td>\n",
       "      <td>0.141829</td>\n",
       "      <td>0.018667</td>\n",
       "      <td>NaN</td>\n",
       "      <td>3.0</td>\n",
       "      <td>0.314683</td>\n",
       "    </tr>\n",
       "    <tr>\n",
       "      <td>19</td>\n",
       "      <td>20.0</td>\n",
       "      <td>0.142172</td>\n",
       "      <td>0.021333</td>\n",
       "      <td>NaN</td>\n",
       "      <td>3.0</td>\n",
       "      <td>0.324545</td>\n",
       "    </tr>\n",
       "    <tr>\n",
       "      <td>20</td>\n",
       "      <td>21.0</td>\n",
       "      <td>0.154848</td>\n",
       "      <td>0.021333</td>\n",
       "      <td>NaN</td>\n",
       "      <td>3.0</td>\n",
       "      <td>0.312293</td>\n",
       "    </tr>\n",
       "    <tr>\n",
       "      <td>21</td>\n",
       "      <td>22.0</td>\n",
       "      <td>0.161014</td>\n",
       "      <td>0.017778</td>\n",
       "      <td>NaN</td>\n",
       "      <td>3.0</td>\n",
       "      <td>0.333956</td>\n",
       "    </tr>\n",
       "    <tr>\n",
       "      <td>22</td>\n",
       "      <td>23.0</td>\n",
       "      <td>0.158616</td>\n",
       "      <td>0.016000</td>\n",
       "      <td>NaN</td>\n",
       "      <td>3.0</td>\n",
       "      <td>0.323433</td>\n",
       "    </tr>\n",
       "    <tr>\n",
       "      <td>23</td>\n",
       "      <td>24.0</td>\n",
       "      <td>0.167181</td>\n",
       "      <td>0.018667</td>\n",
       "      <td>NaN</td>\n",
       "      <td>3.0</td>\n",
       "      <td>0.347232</td>\n",
       "    </tr>\n",
       "    <tr>\n",
       "      <td>24</td>\n",
       "      <td>25.0</td>\n",
       "      <td>0.182254</td>\n",
       "      <td>0.017778</td>\n",
       "      <td>NaN</td>\n",
       "      <td>3.0</td>\n",
       "      <td>0.331156</td>\n",
       "    </tr>\n",
       "    <tr>\n",
       "      <td>25</td>\n",
       "      <td>26.0</td>\n",
       "      <td>0.188421</td>\n",
       "      <td>0.021333</td>\n",
       "      <td>NaN</td>\n",
       "      <td>3.0</td>\n",
       "      <td>0.360617</td>\n",
       "    </tr>\n",
       "    <tr>\n",
       "      <td>26</td>\n",
       "      <td>27.0</td>\n",
       "      <td>0.185337</td>\n",
       "      <td>0.021333</td>\n",
       "      <td>NaN</td>\n",
       "      <td>3.0</td>\n",
       "      <td>0.342872</td>\n",
       "    </tr>\n",
       "    <tr>\n",
       "      <td>27</td>\n",
       "      <td>28.0</td>\n",
       "      <td>0.192532</td>\n",
       "      <td>0.023111</td>\n",
       "      <td>NaN</td>\n",
       "      <td>3.0</td>\n",
       "      <td>0.369119</td>\n",
       "    </tr>\n",
       "    <tr>\n",
       "      <td>28</td>\n",
       "      <td>29.0</td>\n",
       "      <td>0.204865</td>\n",
       "      <td>0.015111</td>\n",
       "      <td>NaN</td>\n",
       "      <td>3.0</td>\n",
       "      <td>0.352521</td>\n",
       "    </tr>\n",
       "    <tr>\n",
       "      <td>29</td>\n",
       "      <td>30.0</td>\n",
       "      <td>0.211374</td>\n",
       "      <td>0.015111</td>\n",
       "      <td>NaN</td>\n",
       "      <td>3.0</td>\n",
       "      <td>0.381247</td>\n",
       "    </tr>\n",
       "  </tbody>\n",
       "</table>\n",
       "</div>"
      ],
      "text/plain": [
       "    epochs  train_precision  test_precision  @kruntime_min   @k  runtime_min\n",
       "0      1.0         0.004454        0.000889            NaN  3.0     0.181375\n",
       "1      2.0         0.005481        0.004444            NaN  3.0     0.191418\n",
       "2      3.0         0.011990        0.002667            NaN  3.0     0.202482\n",
       "3      4.0         0.020898        0.011556            NaN  3.0     0.217944\n",
       "4      5.0         0.030147        0.011556            NaN  3.0     0.217051\n",
       "5      6.0         0.035286        0.013333            NaN  3.0     0.248452\n",
       "6      7.0         0.055498        0.016000            NaN  3.0     0.247154\n",
       "7      8.0         0.063720        0.017778            NaN  3.0     0.253425\n",
       "8      9.0         0.081535        0.018667            NaN  3.0     0.237412\n",
       "9     10.0         0.089414        0.017778            NaN  3.0     0.250472\n",
       "10    11.0         0.094896        0.019556            NaN  3.0     0.248719\n",
       "11    12.0         0.105858        0.020444            NaN  3.0     0.266101\n",
       "12    13.0         0.109627        0.021333            NaN  3.0     0.261177\n",
       "13    14.0         0.102775        0.020444            NaN  3.0     0.285052\n",
       "14    15.0         0.117849        0.021333            NaN  3.0     0.280522\n",
       "15    16.0         0.125043        0.017778            NaN  3.0     0.295803\n",
       "16    17.0         0.138746        0.019556            NaN  3.0     0.294798\n",
       "17    18.0         0.134978        0.019556            NaN  3.0     0.331410\n",
       "18    19.0         0.141829        0.018667            NaN  3.0     0.314683\n",
       "19    20.0         0.142172        0.021333            NaN  3.0     0.324545\n",
       "20    21.0         0.154848        0.021333            NaN  3.0     0.312293\n",
       "21    22.0         0.161014        0.017778            NaN  3.0     0.333956\n",
       "22    23.0         0.158616        0.016000            NaN  3.0     0.323433\n",
       "23    24.0         0.167181        0.018667            NaN  3.0     0.347232\n",
       "24    25.0         0.182254        0.017778            NaN  3.0     0.331156\n",
       "25    26.0         0.188421        0.021333            NaN  3.0     0.360617\n",
       "26    27.0         0.185337        0.021333            NaN  3.0     0.342872\n",
       "27    28.0         0.192532        0.023111            NaN  3.0     0.369119\n",
       "28    29.0         0.204865        0.015111            NaN  3.0     0.352521\n",
       "29    30.0         0.211374        0.015111            NaN  3.0     0.381247"
      ]
     },
     "execution_count": 102,
     "metadata": {},
     "output_type": "execute_result"
    }
   ],
   "source": [
    "prec_at_3[1]"
   ]
  },
  {
   "cell_type": "code",
   "execution_count": 103,
   "metadata": {},
   "outputs": [
    {
     "data": {
      "text/plain": [
       "8.604440999999998"
      ]
     },
     "execution_count": 103,
     "metadata": {},
     "output_type": "execute_result"
    }
   ],
   "source": [
    "prec_at_3[2]"
   ]
  },
  {
   "cell_type": "code",
   "execution_count": 104,
   "metadata": {
    "scrolled": true
   },
   "outputs": [
    {
     "data": {
      "image/png": "[encoded data removed]",
      "text/plain": [
       "<Figure size 432x288 with 1 Axes>"
      ]
     },
     "metadata": {
      "needs_background": "light"
     },
     "output_type": "display_data"
    }
   ],
   "source": [
    "prec_at_5 = learning_vis_precision(train, test, item_features, k=5, epochs=30)"
   ]
  },
  {
   "cell_type": "code",
   "execution_count": 105,
   "metadata": {},
   "outputs": [
    {
     "data": {
      "image/png": "[encoded data removed]",
      "text/plain": [
       "<Figure size 432x288 with 1 Axes>"
      ]
     },
     "execution_count": 105,
     "metadata": {},
     "output_type": "execute_result"
    }
   ],
   "source": [
    "prec_at_5[0]"
   ]
  },
  {
   "cell_type": "code",
   "execution_count": 106,
   "metadata": {},
   "outputs": [
    {
     "data": {
      "text/html": [
       "<div>\n",
       "<style scoped>\n",
       "    .dataframe tbody tr th:only-of-type {\n",
       "        vertical-align: middle;\n",
       "    }\n",
       "\n",
       "    .dataframe tbody tr th {\n",
       "        vertical-align: top;\n",
       "    }\n",
       "\n",
       "    .dataframe thead th {\n",
       "        text-align: right;\n",
       "    }\n",
       "</style>\n",
       "<table border=\"1\" class=\"dataframe\">\n",
       "  <thead>\n",
       "    <tr style=\"text-align: right;\">\n",
       "      <th></th>\n",
       "      <th>epochs</th>\n",
       "      <th>train_precision</th>\n",
       "      <th>test_precision</th>\n",
       "      <th>@kruntime_min</th>\n",
       "      <th>@k</th>\n",
       "      <th>runtime_min</th>\n",
       "    </tr>\n",
       "  </thead>\n",
       "  <tbody>\n",
       "    <tr>\n",
       "      <td>0</td>\n",
       "      <td>1.0</td>\n",
       "      <td>0.004317</td>\n",
       "      <td>0.000533</td>\n",
       "      <td>NaN</td>\n",
       "      <td>5.0</td>\n",
       "      <td>0.183750</td>\n",
       "    </tr>\n",
       "    <tr>\n",
       "      <td>1</td>\n",
       "      <td>2.0</td>\n",
       "      <td>0.004933</td>\n",
       "      <td>0.002667</td>\n",
       "      <td>NaN</td>\n",
       "      <td>5.0</td>\n",
       "      <td>0.188195</td>\n",
       "    </tr>\n",
       "    <tr>\n",
       "      <td>2</td>\n",
       "      <td>3.0</td>\n",
       "      <td>0.010277</td>\n",
       "      <td>0.001600</td>\n",
       "      <td>NaN</td>\n",
       "      <td>5.0</td>\n",
       "      <td>0.199067</td>\n",
       "    </tr>\n",
       "    <tr>\n",
       "      <td>3</td>\n",
       "      <td>4.0</td>\n",
       "      <td>0.018911</td>\n",
       "      <td>0.009600</td>\n",
       "      <td>NaN</td>\n",
       "      <td>5.0</td>\n",
       "      <td>0.205797</td>\n",
       "    </tr>\n",
       "    <tr>\n",
       "      <td>4</td>\n",
       "      <td>5.0</td>\n",
       "      <td>0.026721</td>\n",
       "      <td>0.008533</td>\n",
       "      <td>NaN</td>\n",
       "      <td>5.0</td>\n",
       "      <td>0.205593</td>\n",
       "    </tr>\n",
       "    <tr>\n",
       "      <td>5</td>\n",
       "      <td>6.0</td>\n",
       "      <td>0.036382</td>\n",
       "      <td>0.010133</td>\n",
       "      <td>NaN</td>\n",
       "      <td>5.0</td>\n",
       "      <td>0.218403</td>\n",
       "    </tr>\n",
       "    <tr>\n",
       "      <td>6</td>\n",
       "      <td>7.0</td>\n",
       "      <td>0.050360</td>\n",
       "      <td>0.012800</td>\n",
       "      <td>NaN</td>\n",
       "      <td>5.0</td>\n",
       "      <td>0.221405</td>\n",
       "    </tr>\n",
       "    <tr>\n",
       "      <td>7</td>\n",
       "      <td>8.0</td>\n",
       "      <td>0.057554</td>\n",
       "      <td>0.015467</td>\n",
       "      <td>NaN</td>\n",
       "      <td>5.0</td>\n",
       "      <td>0.234329</td>\n",
       "    </tr>\n",
       "    <tr>\n",
       "      <td>8</td>\n",
       "      <td>9.0</td>\n",
       "      <td>0.073792</td>\n",
       "      <td>0.016000</td>\n",
       "      <td>NaN</td>\n",
       "      <td>5.0</td>\n",
       "      <td>0.234013</td>\n",
       "    </tr>\n",
       "    <tr>\n",
       "      <td>9</td>\n",
       "      <td>10.0</td>\n",
       "      <td>0.080164</td>\n",
       "      <td>0.014933</td>\n",
       "      <td>NaN</td>\n",
       "      <td>5.0</td>\n",
       "      <td>0.250139</td>\n",
       "    </tr>\n",
       "    <tr>\n",
       "      <td>10</td>\n",
       "      <td>11.0</td>\n",
       "      <td>0.082425</td>\n",
       "      <td>0.018133</td>\n",
       "      <td>NaN</td>\n",
       "      <td>5.0</td>\n",
       "      <td>0.247124</td>\n",
       "    </tr>\n",
       "    <tr>\n",
       "      <td>11</td>\n",
       "      <td>12.0</td>\n",
       "      <td>0.096608</td>\n",
       "      <td>0.016000</td>\n",
       "      <td>NaN</td>\n",
       "      <td>5.0</td>\n",
       "      <td>0.266101</td>\n",
       "    </tr>\n",
       "    <tr>\n",
       "      <td>12</td>\n",
       "      <td>13.0</td>\n",
       "      <td>0.100103</td>\n",
       "      <td>0.018133</td>\n",
       "      <td>NaN</td>\n",
       "      <td>5.0</td>\n",
       "      <td>0.277605</td>\n",
       "    </tr>\n",
       "    <tr>\n",
       "      <td>13</td>\n",
       "      <td>14.0</td>\n",
       "      <td>0.095992</td>\n",
       "      <td>0.018133</td>\n",
       "      <td>NaN</td>\n",
       "      <td>5.0</td>\n",
       "      <td>0.300689</td>\n",
       "    </tr>\n",
       "    <tr>\n",
       "      <td>14</td>\n",
       "      <td>15.0</td>\n",
       "      <td>0.110586</td>\n",
       "      <td>0.019200</td>\n",
       "      <td>NaN</td>\n",
       "      <td>5.0</td>\n",
       "      <td>0.286653</td>\n",
       "    </tr>\n",
       "    <tr>\n",
       "      <td>15</td>\n",
       "      <td>16.0</td>\n",
       "      <td>0.113052</td>\n",
       "      <td>0.016000</td>\n",
       "      <td>NaN</td>\n",
       "      <td>5.0</td>\n",
       "      <td>0.315932</td>\n",
       "    </tr>\n",
       "    <tr>\n",
       "      <td>16</td>\n",
       "      <td>17.0</td>\n",
       "      <td>0.121480</td>\n",
       "      <td>0.016000</td>\n",
       "      <td>NaN</td>\n",
       "      <td>5.0</td>\n",
       "      <td>0.298677</td>\n",
       "    </tr>\n",
       "    <tr>\n",
       "      <td>17</td>\n",
       "      <td>18.0</td>\n",
       "      <td>0.121274</td>\n",
       "      <td>0.016533</td>\n",
       "      <td>NaN</td>\n",
       "      <td>5.0</td>\n",
       "      <td>0.334394</td>\n",
       "    </tr>\n",
       "    <tr>\n",
       "      <td>18</td>\n",
       "      <td>19.0</td>\n",
       "      <td>0.127852</td>\n",
       "      <td>0.014400</td>\n",
       "      <td>NaN</td>\n",
       "      <td>5.0</td>\n",
       "      <td>0.322174</td>\n",
       "    </tr>\n",
       "    <tr>\n",
       "      <td>19</td>\n",
       "      <td>20.0</td>\n",
       "      <td>0.128674</td>\n",
       "      <td>0.019200</td>\n",
       "      <td>NaN</td>\n",
       "      <td>5.0</td>\n",
       "      <td>0.342791</td>\n",
       "    </tr>\n",
       "    <tr>\n",
       "      <td>20</td>\n",
       "      <td>21.0</td>\n",
       "      <td>0.143885</td>\n",
       "      <td>0.017067</td>\n",
       "      <td>NaN</td>\n",
       "      <td>5.0</td>\n",
       "      <td>0.327851</td>\n",
       "    </tr>\n",
       "    <tr>\n",
       "      <td>21</td>\n",
       "      <td>22.0</td>\n",
       "      <td>0.146352</td>\n",
       "      <td>0.017067</td>\n",
       "      <td>NaN</td>\n",
       "      <td>5.0</td>\n",
       "      <td>0.381351</td>\n",
       "    </tr>\n",
       "    <tr>\n",
       "      <td>22</td>\n",
       "      <td>23.0</td>\n",
       "      <td>0.146146</td>\n",
       "      <td>0.016533</td>\n",
       "      <td>NaN</td>\n",
       "      <td>5.0</td>\n",
       "      <td>0.406817</td>\n",
       "    </tr>\n",
       "    <tr>\n",
       "      <td>23</td>\n",
       "      <td>24.0</td>\n",
       "      <td>0.153751</td>\n",
       "      <td>0.016000</td>\n",
       "      <td>NaN</td>\n",
       "      <td>5.0</td>\n",
       "      <td>0.413747</td>\n",
       "    </tr>\n",
       "    <tr>\n",
       "      <td>24</td>\n",
       "      <td>25.0</td>\n",
       "      <td>0.166290</td>\n",
       "      <td>0.015467</td>\n",
       "      <td>NaN</td>\n",
       "      <td>5.0</td>\n",
       "      <td>0.363429</td>\n",
       "    </tr>\n",
       "    <tr>\n",
       "      <td>25</td>\n",
       "      <td>26.0</td>\n",
       "      <td>0.174923</td>\n",
       "      <td>0.019733</td>\n",
       "      <td>NaN</td>\n",
       "      <td>5.0</td>\n",
       "      <td>0.385609</td>\n",
       "    </tr>\n",
       "    <tr>\n",
       "      <td>26</td>\n",
       "      <td>27.0</td>\n",
       "      <td>0.179239</td>\n",
       "      <td>0.018667</td>\n",
       "      <td>NaN</td>\n",
       "      <td>5.0</td>\n",
       "      <td>0.363952</td>\n",
       "    </tr>\n",
       "    <tr>\n",
       "      <td>27</td>\n",
       "      <td>28.0</td>\n",
       "      <td>0.174306</td>\n",
       "      <td>0.021333</td>\n",
       "      <td>NaN</td>\n",
       "      <td>5.0</td>\n",
       "      <td>0.390509</td>\n",
       "    </tr>\n",
       "    <tr>\n",
       "      <td>28</td>\n",
       "      <td>29.0</td>\n",
       "      <td>0.189106</td>\n",
       "      <td>0.015467</td>\n",
       "      <td>NaN</td>\n",
       "      <td>5.0</td>\n",
       "      <td>0.377162</td>\n",
       "    </tr>\n",
       "    <tr>\n",
       "      <td>29</td>\n",
       "      <td>30.0</td>\n",
       "      <td>0.187873</td>\n",
       "      <td>0.013867</td>\n",
       "      <td>NaN</td>\n",
       "      <td>5.0</td>\n",
       "      <td>0.428692</td>\n",
       "    </tr>\n",
       "  </tbody>\n",
       "</table>\n",
       "</div>"
      ],
      "text/plain": [
       "    epochs  train_precision  test_precision  @kruntime_min   @k  runtime_min\n",
       "0      1.0         0.004317        0.000533            NaN  5.0     0.183750\n",
       "1      2.0         0.004933        0.002667            NaN  5.0     0.188195\n",
       "2      3.0         0.010277        0.001600            NaN  5.0     0.199067\n",
       "3      4.0         0.018911        0.009600            NaN  5.0     0.205797\n",
       "4      5.0         0.026721        0.008533            NaN  5.0     0.205593\n",
       "5      6.0         0.036382        0.010133            NaN  5.0     0.218403\n",
       "6      7.0         0.050360        0.012800            NaN  5.0     0.221405\n",
       "7      8.0         0.057554        0.015467            NaN  5.0     0.234329\n",
       "8      9.0         0.073792        0.016000            NaN  5.0     0.234013\n",
       "9     10.0         0.080164        0.014933            NaN  5.0     0.250139\n",
       "10    11.0         0.082425        0.018133            NaN  5.0     0.247124\n",
       "11    12.0         0.096608        0.016000            NaN  5.0     0.266101\n",
       "12    13.0         0.100103        0.018133            NaN  5.0     0.277605\n",
       "13    14.0         0.095992        0.018133            NaN  5.0     0.300689\n",
       "14    15.0         0.110586        0.019200            NaN  5.0     0.286653\n",
       "15    16.0         0.113052        0.016000            NaN  5.0     0.315932\n",
       "16    17.0         0.121480        0.016000            NaN  5.0     0.298677\n",
       "17    18.0         0.121274        0.016533            NaN  5.0     0.334394\n",
       "18    19.0         0.127852        0.014400            NaN  5.0     0.322174\n",
       "19    20.0         0.128674        0.019200            NaN  5.0     0.342791\n",
       "20    21.0         0.143885        0.017067            NaN  5.0     0.327851\n",
       "21    22.0         0.146352        0.017067            NaN  5.0     0.381351\n",
       "22    23.0         0.146146        0.016533            NaN  5.0     0.406817\n",
       "23    24.0         0.153751        0.016000            NaN  5.0     0.413747\n",
       "24    25.0         0.166290        0.015467            NaN  5.0     0.363429\n",
       "25    26.0         0.174923        0.019733            NaN  5.0     0.385609\n",
       "26    27.0         0.179239        0.018667            NaN  5.0     0.363952\n",
       "27    28.0         0.174306        0.021333            NaN  5.0     0.390509\n",
       "28    29.0         0.189106        0.015467            NaN  5.0     0.377162\n",
       "29    30.0         0.187873        0.013867            NaN  5.0     0.428692"
      ]
     },
     "execution_count": 106,
     "metadata": {},
     "output_type": "execute_result"
    }
   ],
   "source": [
    "prec_at_5[1]"
   ]
  },
  {
   "cell_type": "code",
   "execution_count": 107,
   "metadata": {},
   "outputs": [
    {
     "data": {
      "text/plain": [
       "8.97195"
      ]
     },
     "execution_count": 107,
     "metadata": {},
     "output_type": "execute_result"
    }
   ],
   "source": [
    "prec_at_5[2]"
   ]
  },
  {
   "cell_type": "code",
   "execution_count": 108,
   "metadata": {},
   "outputs": [
    {
     "data": {
      "image/png": "[encoded data removed]",
      "text/plain": [
       "<Figure size 432x288 with 1 Axes>"
      ]
     },
     "metadata": {
      "needs_background": "light"
     },
     "output_type": "display_data"
    }
   ],
   "source": [
    "prec_at_10 = learning_vis_precision(train, test, item_features, k=10, epochs=30)"
   ]
  },
  {
   "cell_type": "code",
   "execution_count": 109,
   "metadata": {},
   "outputs": [
    {
     "data": {
      "image/png": "[encoded data removed]",
      "text/plain": [
       "<Figure size 432x288 with 1 Axes>"
      ]
     },
     "execution_count": 109,
     "metadata": {},
     "output_type": "execute_result"
    }
   ],
   "source": [
    "prec_at_10[0]"
   ]
  },
  {
   "cell_type": "code",
   "execution_count": 110,
   "metadata": {},
   "outputs": [
    {
     "data": {
      "text/html": [
       "<div>\n",
       "<style scoped>\n",
       "    .dataframe tbody tr th:only-of-type {\n",
       "        vertical-align: middle;\n",
       "    }\n",
       "\n",
       "    .dataframe tbody tr th {\n",
       "        vertical-align: top;\n",
       "    }\n",
       "\n",
       "    .dataframe thead th {\n",
       "        text-align: right;\n",
       "    }\n",
       "</style>\n",
       "<table border=\"1\" class=\"dataframe\">\n",
       "  <thead>\n",
       "    <tr style=\"text-align: right;\">\n",
       "      <th></th>\n",
       "      <th>epochs</th>\n",
       "      <th>train_precision</th>\n",
       "      <th>test_precision</th>\n",
       "      <th>@kruntime_min</th>\n",
       "      <th>@k</th>\n",
       "      <th>runtime_min</th>\n",
       "    </tr>\n",
       "  </thead>\n",
       "  <tbody>\n",
       "    <tr>\n",
       "      <td>0</td>\n",
       "      <td>1.0</td>\n",
       "      <td>0.003803</td>\n",
       "      <td>0.000533</td>\n",
       "      <td>NaN</td>\n",
       "      <td>10.0</td>\n",
       "      <td>0.196084</td>\n",
       "    </tr>\n",
       "    <tr>\n",
       "      <td>1</td>\n",
       "      <td>2.0</td>\n",
       "      <td>0.005550</td>\n",
       "      <td>0.001867</td>\n",
       "      <td>NaN</td>\n",
       "      <td>10.0</td>\n",
       "      <td>0.206515</td>\n",
       "    </tr>\n",
       "    <tr>\n",
       "      <td>2</td>\n",
       "      <td>3.0</td>\n",
       "      <td>0.008941</td>\n",
       "      <td>0.002133</td>\n",
       "      <td>NaN</td>\n",
       "      <td>10.0</td>\n",
       "      <td>0.205238</td>\n",
       "    </tr>\n",
       "    <tr>\n",
       "      <td>3</td>\n",
       "      <td>4.0</td>\n",
       "      <td>0.016752</td>\n",
       "      <td>0.007200</td>\n",
       "      <td>NaN</td>\n",
       "      <td>10.0</td>\n",
       "      <td>0.224898</td>\n",
       "    </tr>\n",
       "    <tr>\n",
       "      <td>4</td>\n",
       "      <td>5.0</td>\n",
       "      <td>0.021686</td>\n",
       "      <td>0.005600</td>\n",
       "      <td>NaN</td>\n",
       "      <td>10.0</td>\n",
       "      <td>0.224416</td>\n",
       "    </tr>\n",
       "    <tr>\n",
       "      <td>5</td>\n",
       "      <td>6.0</td>\n",
       "      <td>0.033299</td>\n",
       "      <td>0.008000</td>\n",
       "      <td>NaN</td>\n",
       "      <td>10.0</td>\n",
       "      <td>0.237913</td>\n",
       "    </tr>\n",
       "    <tr>\n",
       "      <td>6</td>\n",
       "      <td>7.0</td>\n",
       "      <td>0.042240</td>\n",
       "      <td>0.010933</td>\n",
       "      <td>NaN</td>\n",
       "      <td>10.0</td>\n",
       "      <td>0.238536</td>\n",
       "    </tr>\n",
       "    <tr>\n",
       "      <td>7</td>\n",
       "      <td>8.0</td>\n",
       "      <td>0.051799</td>\n",
       "      <td>0.012533</td>\n",
       "      <td>NaN</td>\n",
       "      <td>10.0</td>\n",
       "      <td>0.255888</td>\n",
       "    </tr>\n",
       "    <tr>\n",
       "      <td>8</td>\n",
       "      <td>9.0</td>\n",
       "      <td>0.060021</td>\n",
       "      <td>0.013067</td>\n",
       "      <td>NaN</td>\n",
       "      <td>10.0</td>\n",
       "      <td>0.252465</td>\n",
       "    </tr>\n",
       "    <tr>\n",
       "      <td>9</td>\n",
       "      <td>10.0</td>\n",
       "      <td>0.065262</td>\n",
       "      <td>0.011733</td>\n",
       "      <td>NaN</td>\n",
       "      <td>10.0</td>\n",
       "      <td>0.273048</td>\n",
       "    </tr>\n",
       "    <tr>\n",
       "      <td>10</td>\n",
       "      <td>11.0</td>\n",
       "      <td>0.069887</td>\n",
       "      <td>0.014933</td>\n",
       "      <td>NaN</td>\n",
       "      <td>10.0</td>\n",
       "      <td>0.267054</td>\n",
       "    </tr>\n",
       "    <tr>\n",
       "      <td>11</td>\n",
       "      <td>12.0</td>\n",
       "      <td>0.081295</td>\n",
       "      <td>0.013600</td>\n",
       "      <td>NaN</td>\n",
       "      <td>10.0</td>\n",
       "      <td>0.283934</td>\n",
       "    </tr>\n",
       "    <tr>\n",
       "      <td>12</td>\n",
       "      <td>13.0</td>\n",
       "      <td>0.083864</td>\n",
       "      <td>0.013333</td>\n",
       "      <td>NaN</td>\n",
       "      <td>10.0</td>\n",
       "      <td>0.273780</td>\n",
       "    </tr>\n",
       "    <tr>\n",
       "      <td>13</td>\n",
       "      <td>14.0</td>\n",
       "      <td>0.085509</td>\n",
       "      <td>0.014667</td>\n",
       "      <td>NaN</td>\n",
       "      <td>10.0</td>\n",
       "      <td>0.291415</td>\n",
       "    </tr>\n",
       "    <tr>\n",
       "      <td>14</td>\n",
       "      <td>15.0</td>\n",
       "      <td>0.094861</td>\n",
       "      <td>0.014933</td>\n",
       "      <td>NaN</td>\n",
       "      <td>10.0</td>\n",
       "      <td>0.286285</td>\n",
       "    </tr>\n",
       "    <tr>\n",
       "      <td>15</td>\n",
       "      <td>16.0</td>\n",
       "      <td>0.096814</td>\n",
       "      <td>0.015733</td>\n",
       "      <td>NaN</td>\n",
       "      <td>10.0</td>\n",
       "      <td>0.306212</td>\n",
       "    </tr>\n",
       "    <tr>\n",
       "      <td>16</td>\n",
       "      <td>17.0</td>\n",
       "      <td>0.102878</td>\n",
       "      <td>0.018133</td>\n",
       "      <td>NaN</td>\n",
       "      <td>10.0</td>\n",
       "      <td>0.298116</td>\n",
       "    </tr>\n",
       "    <tr>\n",
       "      <td>17</td>\n",
       "      <td>18.0</td>\n",
       "      <td>0.103700</td>\n",
       "      <td>0.014133</td>\n",
       "      <td>NaN</td>\n",
       "      <td>10.0</td>\n",
       "      <td>0.321705</td>\n",
       "    </tr>\n",
       "    <tr>\n",
       "      <td>18</td>\n",
       "      <td>19.0</td>\n",
       "      <td>0.110380</td>\n",
       "      <td>0.014400</td>\n",
       "      <td>NaN</td>\n",
       "      <td>10.0</td>\n",
       "      <td>0.310270</td>\n",
       "    </tr>\n",
       "    <tr>\n",
       "      <td>19</td>\n",
       "      <td>20.0</td>\n",
       "      <td>0.112847</td>\n",
       "      <td>0.017333</td>\n",
       "      <td>NaN</td>\n",
       "      <td>10.0</td>\n",
       "      <td>0.335424</td>\n",
       "    </tr>\n",
       "    <tr>\n",
       "      <td>20</td>\n",
       "      <td>21.0</td>\n",
       "      <td>0.121172</td>\n",
       "      <td>0.016000</td>\n",
       "      <td>NaN</td>\n",
       "      <td>10.0</td>\n",
       "      <td>0.324114</td>\n",
       "    </tr>\n",
       "    <tr>\n",
       "      <td>21</td>\n",
       "      <td>22.0</td>\n",
       "      <td>0.124872</td>\n",
       "      <td>0.013067</td>\n",
       "      <td>NaN</td>\n",
       "      <td>10.0</td>\n",
       "      <td>0.349575</td>\n",
       "    </tr>\n",
       "    <tr>\n",
       "      <td>22</td>\n",
       "      <td>23.0</td>\n",
       "      <td>0.128777</td>\n",
       "      <td>0.015200</td>\n",
       "      <td>NaN</td>\n",
       "      <td>10.0</td>\n",
       "      <td>0.336159</td>\n",
       "    </tr>\n",
       "    <tr>\n",
       "      <td>23</td>\n",
       "      <td>24.0</td>\n",
       "      <td>0.133607</td>\n",
       "      <td>0.014667</td>\n",
       "      <td>NaN</td>\n",
       "      <td>10.0</td>\n",
       "      <td>0.362543</td>\n",
       "    </tr>\n",
       "    <tr>\n",
       "      <td>24</td>\n",
       "      <td>25.0</td>\n",
       "      <td>0.142035</td>\n",
       "      <td>0.014400</td>\n",
       "      <td>NaN</td>\n",
       "      <td>10.0</td>\n",
       "      <td>0.345358</td>\n",
       "    </tr>\n",
       "    <tr>\n",
       "      <td>25</td>\n",
       "      <td>26.0</td>\n",
       "      <td>0.153135</td>\n",
       "      <td>0.017333</td>\n",
       "      <td>NaN</td>\n",
       "      <td>10.0</td>\n",
       "      <td>0.384507</td>\n",
       "    </tr>\n",
       "    <tr>\n",
       "      <td>26</td>\n",
       "      <td>27.0</td>\n",
       "      <td>0.150976</td>\n",
       "      <td>0.014400</td>\n",
       "      <td>NaN</td>\n",
       "      <td>10.0</td>\n",
       "      <td>0.378494</td>\n",
       "    </tr>\n",
       "    <tr>\n",
       "      <td>27</td>\n",
       "      <td>28.0</td>\n",
       "      <td>0.154882</td>\n",
       "      <td>0.015733</td>\n",
       "      <td>NaN</td>\n",
       "      <td>10.0</td>\n",
       "      <td>0.389894</td>\n",
       "    </tr>\n",
       "    <tr>\n",
       "      <td>28</td>\n",
       "      <td>29.0</td>\n",
       "      <td>0.166393</td>\n",
       "      <td>0.013067</td>\n",
       "      <td>NaN</td>\n",
       "      <td>10.0</td>\n",
       "      <td>0.369682</td>\n",
       "    </tr>\n",
       "    <tr>\n",
       "      <td>29</td>\n",
       "      <td>30.0</td>\n",
       "      <td>0.167523</td>\n",
       "      <td>0.014400</td>\n",
       "      <td>NaN</td>\n",
       "      <td>10.0</td>\n",
       "      <td>0.426623</td>\n",
       "    </tr>\n",
       "  </tbody>\n",
       "</table>\n",
       "</div>"
      ],
      "text/plain": [
       "    epochs  train_precision  test_precision  @kruntime_min    @k  runtime_min\n",
       "0      1.0         0.003803        0.000533            NaN  10.0     0.196084\n",
       "1      2.0         0.005550        0.001867            NaN  10.0     0.206515\n",
       "2      3.0         0.008941        0.002133            NaN  10.0     0.205238\n",
       "3      4.0         0.016752        0.007200            NaN  10.0     0.224898\n",
       "4      5.0         0.021686        0.005600            NaN  10.0     0.224416\n",
       "5      6.0         0.033299        0.008000            NaN  10.0     0.237913\n",
       "6      7.0         0.042240        0.010933            NaN  10.0     0.238536\n",
       "7      8.0         0.051799        0.012533            NaN  10.0     0.255888\n",
       "8      9.0         0.060021        0.013067            NaN  10.0     0.252465\n",
       "9     10.0         0.065262        0.011733            NaN  10.0     0.273048\n",
       "10    11.0         0.069887        0.014933            NaN  10.0     0.267054\n",
       "11    12.0         0.081295        0.013600            NaN  10.0     0.283934\n",
       "12    13.0         0.083864        0.013333            NaN  10.0     0.273780\n",
       "13    14.0         0.085509        0.014667            NaN  10.0     0.291415\n",
       "14    15.0         0.094861        0.014933            NaN  10.0     0.286285\n",
       "15    16.0         0.096814        0.015733            NaN  10.0     0.306212\n",
       "16    17.0         0.102878        0.018133            NaN  10.0     0.298116\n",
       "17    18.0         0.103700        0.014133            NaN  10.0     0.321705\n",
       "18    19.0         0.110380        0.014400            NaN  10.0     0.310270\n",
       "19    20.0         0.112847        0.017333            NaN  10.0     0.335424\n",
       "20    21.0         0.121172        0.016000            NaN  10.0     0.324114\n",
       "21    22.0         0.124872        0.013067            NaN  10.0     0.349575\n",
       "22    23.0         0.128777        0.015200            NaN  10.0     0.336159\n",
       "23    24.0         0.133607        0.014667            NaN  10.0     0.362543\n",
       "24    25.0         0.142035        0.014400            NaN  10.0     0.345358\n",
       "25    26.0         0.153135        0.017333            NaN  10.0     0.384507\n",
       "26    27.0         0.150976        0.014400            NaN  10.0     0.378494\n",
       "27    28.0         0.154882        0.015733            NaN  10.0     0.389894\n",
       "28    29.0         0.166393        0.013067            NaN  10.0     0.369682\n",
       "29    30.0         0.167523        0.014400            NaN  10.0     0.426623"
      ]
     },
     "execution_count": 110,
     "metadata": {},
     "output_type": "execute_result"
    }
   ],
   "source": [
    "prec_at_10[1]"
   ]
  },
  {
   "cell_type": "code",
   "execution_count": 111,
   "metadata": {},
   "outputs": [
    {
     "data": {
      "text/plain": [
       "8.956144999999998"
      ]
     },
     "execution_count": 111,
     "metadata": {},
     "output_type": "execute_result"
    }
   ],
   "source": [
    "prec_at_10[2]"
   ]
  },
  {
   "cell_type": "markdown",
   "metadata": {},
   "source": [
    "# Hyperparameter tuning"
   ]
  },
  {
   "cell_type": "code",
   "execution_count": 64,
   "metadata": {},
   "outputs": [],
   "source": [
    "# Attempting to regularize mnodel and achieve better results on test set by hyperparameter tuning.\n",
    "\n",
    "# The author of the LightFM package Maciej Kula has also developed the algorythm for hyperparameter tuning.\n",
    "# Original algorythm was posted on GitHub 23 Apr 2018.\n",
    "# Code is available via url https://gist.github.com/maciejkula/29aaf2db2efee5775a7f14dc387f0c0f\n",
    "\n",
    "# For the purposes of this project the original code was modified to meet the needs."
   ]
  },
  {
   "cell_type": "code",
   "execution_count": 65,
   "metadata": {},
   "outputs": [],
   "source": [
    "# Split train set into train_train and validate subsets.\n",
    "\n",
    "(train_train, validate) = random_train_test_split(train, \n",
    "                                                  test_percentage=0.2, \n",
    "                                                  random_state=np.random.RandomState(2020))"
   ]
  },
  {
   "cell_type": "code",
   "execution_count": null,
   "metadata": {},
   "outputs": [],
   "source": [
    "'''\n",
    "{'loss': 'warp',\n",
    " 'learning_schedule': 'adagrad',\n",
    " 'no_components': 100,\n",
    " 'learning_rate': 0.05,\n",
    " 'k': 5,\n",
    " 'n': 10,\n",
    " 'rho': 0.95,\n",
    " 'epsilon': 1e-06,\n",
    " 'max_sampled': 10,\n",
    " 'item_alpha': 0.0,\n",
    " 'user_alpha': 0.0,}\n",
    "'''\n",
    "\n",
    "'''\n",
    "            'no_components': np.random.randint(10, 200),\n",
    "            'learning_schedule': np.random.choice([\"adagrad\", \"adadelta\"]),\n",
    "            'loss': np.random.choice(['warp', 'warp-kos']),\n",
    "            'learning_rate': np.random.exponential(0.05),\n",
    "            'item_alpha': np.random.exponential(1e-10),\n",
    "            'max_sampled': np.random.randint(5, 15),\n",
    "            'num_epochs': np.random.randint(10, 100),\n",
    "            'random_state': 2020\n",
    "'''"
   ]
  },
  {
   "cell_type": "raw",
   "metadata": {},
   "source": [
    "# Improving precision_at_k metric.\n",
    "\n",
    "\n",
    "def sample_hyperparameters():\n",
    "    \n",
    "    # Choose the hyperparameters to tune and the range of values.\n",
    "\n",
    "    while True:\n",
    "        yield {\n",
    "            'no_components': np.random.randint(10, 200),\n",
    "            'learning_schedule': np.random.choice([\"adagrad\", \"adadelta\"]),\n",
    "            'loss': np.random.choice(['warp', 'warp-kos']),\n",
    "            'learning_rate': np.random.exponential(0.05),\n",
    "            'item_alpha': np.random.exponential(1e-10),\n",
    "            'max_sampled': np.random.randint(5, 15),\n",
    "            'num_epochs': np.random.randint(10, 100),\n",
    "            'random_state': 2020\n",
    "        }\n",
    "\n",
    "\n",
    "def random_search(train_train, validate, num_samples=10, k=k, num_threads=4):\n",
    "    \n",
    "    # Randomly search for various combinations of hyperparameters.\n",
    "\n",
    "\n",
    "    for hyperparams in islice(sample_hyperparameters(), num_samples):\n",
    "        num_epochs = hyperparams.pop('num_epochs')\n",
    "\n",
    "        model_tuned = LightFM(**hyperparams)\n",
    "        model_tuned.fit(train_train, epochs=num_epochs, num_threads=num_threads)\n",
    "\n",
    "        ranking_score = precision_at_k(model_tuned, validate, train_interactions=train_train, \n",
    "                                       num_threads=num_threads, \n",
    "                                       k=k).mean()\n",
    "\n",
    "        hyperparams['num_epochs'] = num_epochs\n",
    "        \n",
    "        yield (ranking_score, hyperparams, model_tuned)\n",
    "        # Returns: generator of (precision_at_k, hyperparameter dict, fitted model)\n",
    "\n",
    "\n",
    "\n",
    "\n",
    "\n",
    "start_time = time.time()\n",
    "\n",
    "if __name__ == '__main__':\n",
    "    \n",
    "    (ranking_score, hyperparams, model_tuned) = max(random_search(train_train, validate), \n",
    "                                                    key=lambda x: x[0])\n",
    "\n",
    "    print('Best presicion ranking score {} at {}'.format(ranking_score, hyperparams))\n",
    "    print('Calculated in: ', round((time.time()-start_time)/60, 2), \" minutes\")"
   ]
  },
  {
   "cell_type": "code",
   "execution_count": 66,
   "metadata": {},
   "outputs": [
    {
     "name": "stdout",
     "output_type": "stream",
     "text": [
      "Best ranking score 0.5342968106269836 at {'no_components': 16, 'learning_schedule': 'adagrad', 'loss': 'bpr', 'learning_rate': 0.11558213963954614, 'item_alpha': 8.366479809964074e-11, 'max_sampled': 7, 'num_epochs': 74}\n",
      "Calculated in:  0.22  minutes\n"
     ]
    }
   ],
   "source": [
    "# Improving AUC metric.\n",
    "\n",
    "\n",
    "def sample_hyperparameters():\n",
    "    \n",
    "    # Choose the hyperparameters to tune and the range of values.\n",
    "\n",
    "    while True:\n",
    "        yield {\n",
    "            'no_components': np.random.randint(10, 200),\n",
    "            'learning_schedule': np.random.choice([\"adagrad\", \"adadelta\"]),\n",
    "            'loss': np.random.choice(['bpr', 'warp', 'warp-kos']),\n",
    "            'learning_rate': np.random.exponential(0.05),\n",
    "            'item_alpha': np.random.exponential(1e-10),\n",
    "            'max_sampled': np.random.randint(5, 15),\n",
    "            'num_epochs': np.random.randint(10, 100),\n",
    "#            'random_state': 2020\n",
    "        }\n",
    "\n",
    "\n",
    "def random_search(train_train, validate, num_samples=10, num_threads=4):\n",
    "    \n",
    "    # Randomly search for various combinations of hyperparameters.\n",
    "\n",
    "\n",
    "    for hyperparams in islice(sample_hyperparameters(), num_samples):\n",
    "        num_epochs = hyperparams.pop('num_epochs')\n",
    "\n",
    "        model_tuned = LightFM(**hyperparams)\n",
    "        model_tuned.fit(train_train, epochs=num_epochs, num_threads=num_threads)\n",
    "\n",
    "        ranking_score = auc_score(model_tuned, validate, train_interactions=train_train, \n",
    "                                  num_threads=num_threads).mean()\n",
    "\n",
    "        hyperparams['num_epochs'] = num_epochs\n",
    "        \n",
    "        yield (ranking_score, hyperparams, model_tuned)\n",
    "        # Returns: generator of (auc, hyperparameter dict, fitted model)\n",
    "\n",
    "\n",
    "\n",
    "\n",
    "\n",
    "start_time = time.time()\n",
    "\n",
    "if __name__ == '__main__':\n",
    "    \n",
    "    (ranking_score, hyperparams, model_tuned) = max(random_search(train_train, validate), \n",
    "                                                    key=lambda x: x[0])\n",
    "\n",
    "    print('Best ranking score {} at {}'.format(ranking_score, hyperparams))\n",
    "    print('Calculated in: ', round((time.time()-start_time)/60, 2), \" minutes\")"
   ]
  },
  {
   "cell_type": "markdown",
   "metadata": {},
   "source": [
    "# Tuned LightFM model training (with item features)"
   ]
  },
  {
   "cell_type": "code",
   "execution_count": 67,
   "metadata": {},
   "outputs": [
    {
     "name": "stdout",
     "output_type": "stream",
     "text": [
      "Model trained in:  0.1  minutes\n"
     ]
    }
   ],
   "source": [
    "# Use the tuned model.\n",
    "\n",
    "start_time = time.time()\n",
    "\n",
    "model_hybrid = model_tuned\n",
    "\n",
    "model_hybrid.fit(train, \n",
    "                 item_features=item_features, \n",
    "                 epochs=hyperparams['num_epochs'], \n",
    "                 num_threads=4)\n",
    "\n",
    "print('Model trained in: ', round((time.time()-start_time)/60, 2), \" minutes\")"
   ]
  },
  {
   "cell_type": "code",
   "execution_count": 68,
   "metadata": {},
   "outputs": [],
   "source": [
    "# Tuned model evaluation (auc_score, precision_at_k)"
   ]
  },
  {
   "cell_type": "code",
   "execution_count": 69,
   "metadata": {
    "scrolled": true
   },
   "outputs": [
    {
     "name": "stdout",
     "output_type": "stream",
     "text": [
      "Train AUC score:  0.9478746\n",
      "Calculated in:  0.05  minutes\n"
     ]
    }
   ],
   "source": [
    "start_time = time.time()\n",
    "\n",
    "train_auc = auc_score(model_hybrid, \n",
    "                      train, \n",
    "                      item_features=item_features, \n",
    "                      num_threads=4).mean()\n",
    "\n",
    "print('Train AUC score: ', train_auc)\n",
    "print('Calculated in: ', round((time.time()-start_time)/60, 2), \" minutes\")"
   ]
  },
  {
   "cell_type": "code",
   "execution_count": 70,
   "metadata": {},
   "outputs": [
    {
     "name": "stdout",
     "output_type": "stream",
     "text": [
      "Test AUC score:  0.80964565\n",
      "Calculated in:  0.02  minutes\n"
     ]
    }
   ],
   "source": [
    "start_time = time.time()\n",
    "\n",
    "# Train interactions fill be also passed to avoid model re-recommending items to users.\n",
    "test_auc = auc_score(model_hybrid,\n",
    "                     test, \n",
    "                     item_features=item_features, \n",
    "                     train_interactions = train, \n",
    "                     num_threads=4).mean()\n",
    "\n",
    "print('Test AUC score: ', test_auc)\n",
    "print('Calculated in: ', round((time.time()-start_time)/60, 2), \" minutes\")"
   ]
  },
  {
   "cell_type": "code",
   "execution_count": 71,
   "metadata": {
    "scrolled": false
   },
   "outputs": [
    {
     "name": "stdout",
     "output_type": "stream",
     "text": [
      "Train precision at k:  0.10174717\n",
      "Calculated in:  0.05  minutes\n"
     ]
    }
   ],
   "source": [
    "start_time = time.time()\n",
    "\n",
    "train_precision = precision_at_k(model_hybrid, \n",
    "                                 train,\n",
    "                                 item_features=item_features, \n",
    "                                 num_threads=4, \n",
    "                                 k=k).mean()\n",
    "\n",
    "print('Train precision at k: ', train_precision)\n",
    "print('Calculated in: ', round((time.time()-start_time)/60, 2), \" minutes\")"
   ]
  },
  {
   "cell_type": "code",
   "execution_count": 72,
   "metadata": {
    "scrolled": true
   },
   "outputs": [
    {
     "name": "stdout",
     "output_type": "stream",
     "text": [
      "Test precision at k:  0.009777778\n",
      "Calculated in:  0.02  minutes\n"
     ]
    }
   ],
   "source": [
    "start_time = time.time()\n",
    "\n",
    "test_precision = precision_at_k(model_hybrid, \n",
    "                                test, \n",
    "                                item_features=item_features, \n",
    "                                train_interactions = train, \n",
    "                                num_threads=4, \n",
    "                                k=k).mean()\n",
    "\n",
    "print('Test precision at k: ', test_precision)\n",
    "print('Calculated in: ', round((time.time()-start_time)/60, 2), \" minutes\")"
   ]
  },
  {
   "cell_type": "markdown",
   "metadata": {},
   "source": [
    "# Recommendations"
   ]
  },
  {
   "cell_type": "raw",
   "metadata": {},
   "source": [
    "https://making.lyst.com/lightfm/docs/quickstart.html?highlight=precision_at_k"
   ]
  },
  {
   "cell_type": "raw",
   "metadata": {},
   "source": [
    "# Recommedations algorythm was developed by the author of LightFM package, it is modified for current project.\n",
    "# https://making.lyst.com/lightfm/docs/quickstart.html?highlight=precision_at_k\n",
    "\n",
    "def recommend(model, data, users):\n",
    "    \n",
    "    '''\n",
    "    model - the model to be used for recommendations.\n",
    "    data - coo matrix of known positive interactions. For academic purposes it is train set. For production - total.\n",
    "    users - list of users for recommendations\n",
    "    '''\n",
    "\n",
    "    n_users, n_items = data.shape\n",
    "\n",
    "    for user in users:\n",
    "        \n",
    "        positive_interactions = ?????????\n",
    "        \n",
    "        # model.predict(user_ids, item_ids, item_features=None, user_features=None, num_threads=1)\n",
    "        scores = model.predict(user, np.arange(n_items))\n",
    "        \n",
    "        recommeded_items = data['item_labels'][np.argsort(-scores)]\n",
    "\n",
    "        print('   User %s' % user)\n",
    "        print('   Positive interactions:')\n",
    "\n",
    "        for interaction in positive_interactions[:3]:\n",
    "            print('%s' % interaction)\n",
    "\n",
    "        print('   Recommended:')\n",
    "\n",
    "        for item in recommeded_items[:3]:\n",
    "            print('%s' % item)"
   ]
  },
  {
   "cell_type": "code",
   "execution_count": null,
   "metadata": {},
   "outputs": [],
   "source": []
  },
  {
   "cell_type": "markdown",
   "metadata": {},
   "source": [
    "# Future work"
   ]
  },
  {
   "cell_type": "markdown",
   "metadata": {},
   "source": [
    "Section 6. https://www.kdd.org/exploration_files/19-1-Article3.pdf\n",
    "\n",
    "How to test in production https://ieeexplore.ieee.org/abstract/document/1611624"
   ]
  },
  {
   "cell_type": "code",
   "execution_count": null,
   "metadata": {},
   "outputs": [],
   "source": []
  }
 ],
 "metadata": {
  "kernelspec": {
   "display_name": "Python 3",
   "language": "python",
   "name": "python3"
  },
  "language_info": {
   "codemirror_mode": {
    "name": "ipython",
    "version": 3
   },
   "file_extension": ".py",
   "mimetype": "text/x-python",
   "name": "python",
   "nbconvert_exporter": "python",
   "pygments_lexer": "ipython3",
   "version": "3.7.4"
  }
 },
 "nbformat": 4,
 "nbformat_minor": 2
}
